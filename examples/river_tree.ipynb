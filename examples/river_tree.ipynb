{
 "cells": [
  {
   "cell_type": "markdown",
   "metadata": {},
   "source": [
    "# River Tree\n",
    "\n",
    "An example workflow for gathering NHD Plus data and generating a tree.  This tree can then be iterated over to accumulate data.  Braided systems are merged into a single reach, and the system is simplified relative to NHD Plus's raw format.\n",
    "\n",
    "This type of workflow is useful for setting up stream network models."
   ]
  },
  {
   "cell_type": "code",
   "execution_count": 1,
   "metadata": {},
   "outputs": [],
   "source": [
    "%load_ext autoreload\n",
    "%autoreload 2"
   ]
  },
  {
   "cell_type": "code",
   "execution_count": 2,
   "metadata": {},
   "outputs": [],
   "source": [
    "import os,sys\n",
    "import numpy as np\n",
    "from matplotlib import pyplot as plt\n",
    "import shapely\n",
    "import logging\n",
    "\n",
    "import watershed_workflow\n",
    "import watershed_workflow.source_list\n",
    "import watershed_workflow.config\n",
    "import watershed_workflow.ui\n",
    "import watershed_workflow.utils\n",
    "import watershed_workflow.plot\n",
    "\n",
    "watershed_workflow.ui.setup_logging(1,None)"
   ]
  },
  {
   "cell_type": "code",
   "execution_count": 3,
   "metadata": {},
   "outputs": [
    {
     "name": "stderr",
     "output_type": "stream",
     "text": [
      "2021-11-19 11:44:03,668 - root - INFO: \n",
      "2021-11-19 11:44:03,669 - root - INFO: Loading shapes\n",
      "2021-11-19 11:44:03,670 - root - INFO: ------------------------------\n",
      "2021-11-19 11:44:03,671 - root - INFO: Loading file: 'Coweeta/input_data/coweeta_basin.shp'\n",
      "2021-11-19 11:44:03,686 - root - INFO: ... found 1 shapes\n",
      "2021-11-19 11:44:03,687 - root - INFO: Converting to shapely\n"
     ]
    }
   ],
   "source": [
    "# open a shapefile for use here\n",
    "shpfile = os.path.join('Coweeta', 'input_data', 'coweeta_basin.shp')\n",
    "crs, shply = watershed_workflow.get_shapes(shpfile)\n",
    "shply = shply[0]"
   ]
  },
  {
   "cell_type": "code",
   "execution_count": 4,
   "metadata": {},
   "outputs": [
    {
     "name": "stderr",
     "output_type": "stream",
     "text": [
      "2021-11-19 11:44:03,727 - root - INFO: \n",
      "2021-11-19 11:44:03,728 - root - INFO: Loading Hydrography\n",
      "2021-11-19 11:44:03,729 - root - INFO: ------------------------------\n",
      "2021-11-19 11:44:03,730 - root - INFO: Loading streams in HUC 0601\n",
      "2021-11-19 11:44:03,730 - root - INFO:          and/or bounds (273971.0911428096, 3878839.6361173145, 279140.9150949494, 3883953.7853134344)\n",
      "2021-11-19 11:44:03,734 - root - INFO:   Using Hydrography file \"/Users/uec/code/watershed_workflow/data-library/hydrography/NHDPlus_H_0601_GDB/NHDPlus_H_0601.gdb\"\n",
      "2021-11-19 11:44:03,735 - root - INFO:   National Hydrography Dataset Plus High Resolution (NHDPlus HR): opening '/Users/uec/code/watershed_workflow/data-library/hydrography/NHDPlus_H_0601_GDB/NHDPlus_H_0601.gdb' layer 'NHDFlowline' for streams in '(273971.0911428096, 3878839.6361173145, 279140.9150949494, 3883953.7853134344)'\n",
      "2021-11-19 11:44:08,180 - root - INFO:   Filtering reaches not in-network\n",
      "2021-11-19 11:44:08,180 - root - INFO: ... found 36 reaches\n",
      "2021-11-19 11:44:08,181 - root - INFO: Converting to shapely\n",
      "2021-11-19 11:44:08,193 - root - INFO: Converting to out_crs\n",
      "2021-11-19 11:44:08,203 - root - INFO:   ...filtering\n"
     ]
    }
   ],
   "source": [
    "# find the rivers in this shape\n",
    "_, reaches = watershed_workflow.get_reaches(watershed_workflow.source_list.hydrography_sources['NHD Plus'],\n",
    "                                            '0601', shply.bounds, crs, crs, merge=False)\n",
    "\n",
    "# filter the list to only those that intersect the shape\n",
    "reaches = watershed_workflow.hydrography.filter_rivers_to_shape(shply, reaches, 10)\n",
    "\n",
    "# make the global tree\n",
    "rivers = watershed_workflow.hydrography.make_global_tree(reaches)\n",
    "\n",
    "# check that only one tree was formed\n",
    "assert(len(rivers) == 1)\n",
    "river = rivers[0]"
   ]
  },
  {
   "cell_type": "code",
   "execution_count": 5,
   "metadata": {},
   "outputs": [
    {
     "name": "stdout",
     "output_type": "stream",
     "text": [
      "found a zone: it is 17 of type <class 'int'>\n",
      "{'zone': 17}\n",
      "found a zone: it is 17 of type <class 'int'>\n",
      "{'zone': 17}\n"
     ]
    },
    {
     "name": "stderr",
     "output_type": "stream",
     "text": [
      "/Users/Shared/ornldev/code/miniconda3/envs/watershed_workflow_DEV-2021-11-10/lib/python3.9/site-packages/pyproj/crs/crs.py:1256: UserWarning: You will likely lose important projection information when converting to a PROJ string from another format. See: https://proj.org/faq.html#what-is-the-best-format-for-describing-coordinate-reference-systems\n",
      "  return self._crs.to_proj4(version=version)\n"
     ]
    },
    {
     "data": {
      "image/png": "[encoded data removed]",
      "text/plain": [
       "<Figure size 432x288 with 1 Axes>"
      ]
     },
     "metadata": {
      "needs_background": "light"
     },
     "output_type": "display_data"
    }
   ],
   "source": [
    "watershed_workflow.plot.rivers([river,], crs)"
   ]
  },
  {
   "cell_type": "code",
   "execution_count": 6,
   "metadata": {},
   "outputs": [
    {
     "name": "stdout",
     "output_type": "stream",
     "text": [
      "NAME: length\n",
      "-------------\n",
      "Coweeta Creek: 0.02933313696587409\n",
      "Ball Creek: 0.006007203236050549\n",
      "Ball Creek: 0.0028292168551516204\n",
      "Ball Creek: 0.020068080745982632\n",
      "None: 0.007426501094440895\n",
      "Ball Creek: 0.016249967638654387\n",
      "Henson Creek: 0.03030158464830459\n",
      "Henson Creek: 0.011012279803125276\n",
      "None: 0.008785810565916707\n",
      "Shope Fork: 0.011570165507744527\n",
      "None: 0.009894541322192156\n",
      "Shope Fork: 0.004264916720386313\n",
      "Shope Fork: 0.0018043963180130245\n",
      "Camprock Branch: 0.01301040698009797\n",
      "Shope Fork: 0.010667588570320843\n",
      "Shope Fork: 0.008081500797913782\n",
      "Pinnacle Branch: 0.011390885255323774\n",
      "Shope Fork: 0.01090783980118138\n",
      "None: 0.007663308365762772\n",
      "Cunningham Creek: 0.00785105614440285\n",
      "Mill Branch: 0.00949783326393551\n",
      "Cunningham Creek: 0.013625581127194461\n"
     ]
    }
   ],
   "source": [
    "print('NAME: length')\n",
    "print('-------------')\n",
    "for r in river:\n",
    "    print(f\"{r.properties['GNIS_Name']}: {r.properties['Shape_Length']}\")"
   ]
  },
  {
   "cell_type": "code",
   "execution_count": 7,
   "metadata": {},
   "outputs": [
    {
     "data": {
      "text/plain": [
       "['ExternalCrosswalk',\n",
       " 'FeatureToMetadata',\n",
       " 'HUMod',\n",
       " 'NHDFCode',\n",
       " 'NHDFeatureToMetadata',\n",
       " 'NHDMetadata',\n",
       " 'NHDPlusDivFracMP',\n",
       " 'NHDPlusEROMMA',\n",
       " 'NHDPlusEROMQAMA',\n",
       " 'NHDPlusEROMQARPT',\n",
       " 'NHDPlusFlow',\n",
       " 'NHDPlusFlowlineVAA',\n",
       " 'NHDPlusIncrLat',\n",
       " 'NHDPlusIncrPrecipMA',\n",
       " 'NHDPlusIncrPrecipMM01',\n",
       " 'NHDPlusIncrPrecipMM02',\n",
       " 'NHDPlusIncrPrecipMM03',\n",
       " 'NHDPlusIncrPrecipMM04',\n",
       " 'NHDPlusIncrPrecipMM05',\n",
       " 'NHDPlusIncrPrecipMM06',\n",
       " 'NHDPlusIncrPrecipMM07',\n",
       " 'NHDPlusIncrPrecipMM08',\n",
       " 'NHDPlusIncrPrecipMM09',\n",
       " 'NHDPlusIncrPrecipMM10',\n",
       " 'NHDPlusIncrPrecipMM11',\n",
       " 'NHDPlusIncrPrecipMM12',\n",
       " 'NHDPlusIncrROMA',\n",
       " 'NHDPlusIncrTempMA',\n",
       " 'NHDPlusIncrTempMM01',\n",
       " 'NHDPlusIncrTempMM02',\n",
       " 'NHDPlusIncrTempMM03',\n",
       " 'NHDPlusIncrTempMM04',\n",
       " 'NHDPlusIncrTempMM05',\n",
       " 'NHDPlusIncrTempMM06',\n",
       " 'NHDPlusIncrTempMM07',\n",
       " 'NHDPlusIncrTempMM08',\n",
       " 'NHDPlusIncrTempMM09',\n",
       " 'NHDPlusIncrTempMM10',\n",
       " 'NHDPlusIncrTempMM11',\n",
       " 'NHDPlusIncrTempMM12',\n",
       " 'NHDPlusMegaDiv',\n",
       " 'NHDPlusNHDPlusIDGridCode',\n",
       " 'NHDProcessingParameters',\n",
       " 'NHDReachCodeMaintenance',\n",
       " 'NHDReachCrossReference',\n",
       " 'NHDSourceCitation',\n",
       " 'NHDVerticalRelationship',\n",
       " 'ProcessingParameters',\n",
       " 'NHDPlusBurnLineEvent',\n",
       " 'NHDPlusBurnWaterbody',\n",
       " 'NHDPlusCatchment',\n",
       " 'NHDPlusLandSea',\n",
       " 'NHDPlusSink',\n",
       " 'NHDPlusWall',\n",
       " 'NHDArea',\n",
       " 'NHDFlowline',\n",
       " 'NHDLine',\n",
       " 'NHDPoint',\n",
       " 'NHDWaterbody',\n",
       " 'MetaProcessDetail',\n",
       " 'MetaSourceDetail',\n",
       " 'NonContributingDrainageArea',\n",
       " 'NonContributingDrainageLine',\n",
       " 'NWISDrainageArea',\n",
       " 'NWISDrainageLine',\n",
       " 'WBDHU10',\n",
       " 'WBDHU12',\n",
       " 'WBDHU14',\n",
       " 'WBDHU16',\n",
       " 'WBDHU2',\n",
       " 'WBDHU4',\n",
       " 'WBDHU6',\n",
       " 'WBDHU8',\n",
       " 'WBDLine',\n",
       " 'HYDRO_NET_Junctions']"
      ]
     },
     "execution_count": 7,
     "metadata": {},
     "output_type": "execute_result"
    }
   ],
   "source": [
    "import fiona\n",
    "gdb = watershed_workflow.source_list.hydrography_sources['NHD Plus'].name_manager.file_name('0601')\n",
    "fiona.listlayers(gdb)\n"
   ]
  },
  {
   "cell_type": "code",
   "execution_count": 8,
   "metadata": {},
   "outputs": [
    {
     "data": {
      "text/plain": [
       "{'type': 'Feature',\n",
       " 'id': '10',\n",
       " 'properties': OrderedDict([('NHDPlusID', 25000400223214.0),\n",
       "              ('StreamLeve', 7),\n",
       "              ('StreamOrde', 1),\n",
       "              ('StreamCalc', 1),\n",
       "              ('FromNode', 25000400248803.0),\n",
       "              ('ToNode', 25000400030593.0),\n",
       "              ('HydroSeq', 25000400171446.0),\n",
       "              ('LevelPathI', 25000400171446.0),\n",
       "              ('PathLength', 1305.44034759),\n",
       "              ('TerminalPa', 25000100000172.0),\n",
       "              ('ArbolateSu', 0.28200000000000003),\n",
       "              ('Divergence', 0),\n",
       "              ('StartFlag', 1),\n",
       "              ('TerminalFl', 0),\n",
       "              ('UpLevelPat', 0.0),\n",
       "              ('UpHydroSeq', 0.0),\n",
       "              ('DnLevel', 6),\n",
       "              ('DnLevelPat', 25000400058046.0),\n",
       "              ('DnHydroSeq', 25000400108304.0),\n",
       "              ('DnMinorHyd', 0.0),\n",
       "              ('DnDrainCou', 1),\n",
       "              ('FromMeas', 0.0),\n",
       "              ('ToMeas', 100.0),\n",
       "              ('ReachCode', '06010102005302'),\n",
       "              ('RtnDiv', 0),\n",
       "              ('Thinner', 6),\n",
       "              ('VPUIn', 0),\n",
       "              ('VPUOut', 0),\n",
       "              ('AreaSqKm', 0.0456),\n",
       "              ('TotDASqKm', 0.0456),\n",
       "              ('DivDASqKm', 0.0456),\n",
       "              ('MaxElevRaw', 47452.0),\n",
       "              ('MinElevRaw', 44456.0),\n",
       "              ('MaxElevSmo', 47452.0),\n",
       "              ('MinElevSmo', 44456.0),\n",
       "              ('Slope', 0.16461538),\n",
       "              ('SlopeLenKm', 0.182),\n",
       "              ('ElevFixed', 1),\n",
       "              ('HWType', 0),\n",
       "              ('HWNodeSqKm', 0.0252),\n",
       "              ('StatusFlag', 'A'),\n",
       "              ('VPUID', '0601')]),\n",
       " 'geometry': None}"
      ]
     },
     "execution_count": 8,
     "metadata": {},
     "output_type": "execute_result"
    }
   ],
   "source": [
    "with fiona.open(gdb, 'r', layer='NHDPlusFlowlineVAA') as fid:\n",
    "    flowline = fid[10]\n",
    "flowline"
   ]
  }
 ],
 "metadata": {
  "kernelspec": {
   "display_name": "Python [conda env:watershed_workflow_DEV-2021-11-10]",
   "language": "python",
   "name": "conda-env-watershed_workflow_DEV-2021-11-10-py"
  },
  "language_info": {
   "codemirror_mode": {
    "name": "ipython",
    "version": 3
   },
   "file_extension": ".py",
   "mimetype": "text/x-python",
   "name": "python",
   "nbconvert_exporter": "python",
   "pygments_lexer": "ipython3",
   "version": "3.9.7"
  }
 },
 "nbformat": 4,
 "nbformat_minor": 4
}
