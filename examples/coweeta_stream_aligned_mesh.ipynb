{
 "cells": [
  {
   "cell_type": "markdown",
   "id": "68c4f8ea",
   "metadata": {
    "papermill": {
     "duration": 0.155249,
     "end_time": "2022-03-07T15:48:59.904477",
     "exception": false,
     "start_time": "2022-03-07T15:48:59.749228",
     "status": "completed"
    },
    "tags": []
   },
   "source": [
    "# Mixed-Element Mesh for the Coweeta Watershed\n",
    "\n",
    "This workflow provides a complete working example to develop an streamaligned mixed-element mesh for Coweeta watershed. Long quad elements with pentagons at junctions are placed along NHDPlus flowlines to represent rivers/streams. Rest of the domain is meshed with standard TIN.\n",
    "\n",
    "It uses the following datasets:\n",
    "\n",
    "* `NHD Plus` for the watershed boundary and hydrography.\n",
    "* `NED` for elevation\n",
    "* `NLCD` for land cover/transpiration/rooting depths\n",
    "* `GLYHMPS` geology data for structural formations\n",
    "* `SoilGrids 2017` for depth to bedrock and soil texture information\n",
    "* `SSURGO` for soil data, where available, in the top 2m.\n",
    "\n",
    "This workflow creates the following files:\n",
    "\n",
    "* Mesh file: `Coweeta.exo`, includes all labeled sets"
   ]
  },
  {
   "cell_type": "code",
   "execution_count": null,
   "id": "13880ecd-7fba-4d49-ac3a-dfd1d563c47a",
   "metadata": {
    "papermill": {
     "duration": 0.162792,
     "end_time": "2022-03-07T15:49:00.201712",
     "exception": false,
     "start_time": "2022-03-07T15:49:00.038920",
     "status": "completed"
    },
    "tags": []
   },
   "outputs": [],
   "source": [
    "# these can be turned on for development work\n",
    "%load_ext autoreload\n",
    "%autoreload 2"
   ]
  },
  {
   "cell_type": "code",
   "execution_count": null,
   "id": "4987b1f6-a1bc-4bf4-a97d-db0b3eff0c2b",
   "metadata": {},
   "outputs": [],
   "source": [
    "## FIX ME -- why is this broken without importing netcdf first?\n",
    "import netCDF4"
   ]
  },
  {
   "cell_type": "code",
   "execution_count": null,
   "id": "dc581b68-0592-42aa-8bee-71a913ca7fa0",
   "metadata": {},
   "outputs": [],
   "source": [
    "# setting up logging first or else it gets preempted by another package\n",
    "import watershed_workflow.ui\n",
    "watershed_workflow.ui.setup_logging(1)"
   ]
  },
  {
   "cell_type": "code",
   "execution_count": null,
   "id": "c1705a07",
   "metadata": {},
   "outputs": [],
   "source": [
    "import os,sys\n",
    "import logging\n",
    "import numpy as np\n",
    "from matplotlib import pyplot as plt\n",
    "from matplotlib import cm as pcm\n",
    "import shapely\n",
    "import pandas as pd\n",
    "import geopandas as gpd\n",
    "import cftime, datetime\n",
    "pd.options.display.max_columns = None\n",
    "\n",
    "import watershed_workflow \n",
    "import watershed_workflow.config\n",
    "import watershed_workflow.sources\n",
    "import watershed_workflow.utils\n",
    "import watershed_workflow.plot\n",
    "import watershed_workflow.mesh\n",
    "import watershed_workflow.regions\n",
    "import watershed_workflow.meteorology\n",
    "import watershed_workflow.land_cover_properties\n",
    "import watershed_workflow.resampling\n",
    "import watershed_workflow.condition\n",
    "import watershed_workflow.io\n",
    "import watershed_workflow.sources.standard_names as names\n",
    "\n",
    "# set the default figure size for notebooks\n",
    "plt.rcParams[\"figure.figsize\"] = (8, 6)\n"
   ]
  },
  {
   "cell_type": "markdown",
   "id": "32f9c839-7706-4428-8976-d90c9064afd0",
   "metadata": {},
   "source": [
    "## Input: Parameters and other source data\n",
    "\n",
    "Note, this section will need to be modified for other runs of this workflow in other regions."
   ]
  },
  {
   "cell_type": "code",
   "execution_count": null,
   "id": "742c884a-be3a-4f34-bd1c-ec5c605bcd51",
   "metadata": {},
   "outputs": [],
   "source": [
    "# Force Watershed Workflow to pull data from this directory rather than a shared data directory.\n",
    "# This picks up the Coweeta-specific datasets set up here to avoid large file downloads for \n",
    "# demonstration purposes.\n",
    "#\n",
    "def splitPathFull(path):\n",
    "    \"\"\"\n",
    "    Splits an absolute path into a list of components such that\n",
    "    os.path.join(*splitPathFull(path)) == path\n",
    "    \"\"\"\n",
    "    parts = []\n",
    "    while True:\n",
    "        head, tail = os.path.split(path)\n",
    "        if head == path:  # root on Unix or drive letter with backslash on Windows (e.g., C:\\)\n",
    "            parts.insert(0, head)\n",
    "            break\n",
    "        elif tail == path:  # just a single file or directory\n",
    "            parts.insert(0, tail)\n",
    "            break\n",
    "        else:\n",
    "            parts.insert(0, tail)\n",
    "            path = head\n",
    "    return parts\n",
    "\n",
    "cwd = splitPathFull(os.getcwd())\n",
    "\n",
    "# REMOVE THIS PORTION OF THE CELL for general use outside of Coweeta -- this is just locating \n",
    "# the working directory within the WW directory structure\n",
    "if cwd[-1] == 'Coweeta':\n",
    "    pass\n",
    "elif cwd[-1] == 'examples':\n",
    "    cwd.append('Coweeta')\n",
    "else:\n",
    "    cwd.extend(['examples','Coweeta'])\n",
    "# END REMOVE THIS PORTION\n",
    "\n",
    "# Note, this directory is where downloaded data will be put as well\n",
    "data_dir = os.path.join(*(cwd + ['input_data',]))\n",
    "def toInput(filename):\n",
    "    return os.path.join(data_dir, filename)\n",
    "\n",
    "output_dir = os.path.join(*(cwd + ['output_data',]))\n",
    "def toOutput(filename):\n",
    "    return os.path.join(output_dir, filename)\n",
    "\n",
    "work_dir = os.path.join(*cwd)\n",
    "def toWorkingDir(filename):\n",
    "    return os.path.join(work_dir, filename)\n",
    "       "
   ]
  },
  {
   "cell_type": "code",
   "execution_count": null,
   "id": "a87aad6a-b0cb-4a23-8f3c-625191b2a057",
   "metadata": {},
   "outputs": [],
   "source": [
    "# Set the data directory to the local space to get the locally downloaded files\n",
    "# REMOVE THIS CELL for general use outside fo Coweeta\n",
    "watershed_workflow.config.setDataDirectory(data_dir)\n"
   ]
  },
  {
   "cell_type": "code",
   "execution_count": null,
   "id": "403772e8",
   "metadata": {},
   "outputs": [],
   "source": [
    "## Parameters cell -- this provides all parameters that can be changed via pipelining to generate a new watershed. \n",
    "name = 'Coweeta'\n",
    "coweeta_shapefile = './Coweeta/input_data/coweeta_basin.shp'\n",
    "\n",
    "# Geometric parameters\n",
    "# -- parameters to clean and reduce the river network prior to meshing\n",
    "simplify = 60                   # length scale to target average edge \n",
    "ignore_small_rivers = 2         # remove rivers with fewer than this number of reaches -- important for NHDPlus HR \n",
    "prune_by_area_fraction = 0.01   # prune any reaches whose contributing area is less than this fraction of the domain\n",
    "\n",
    "# -- mesh triangle refinement control\n",
    "refine_d0 = 200\n",
    "refine_d1 = 600\n",
    "\n",
    "#refine_L0 = 75\n",
    "#refine_L1 = 200\n",
    "\n",
    "refine_L0 = 125\n",
    "refine_L1 = 300\n",
    "\n",
    "refine_A0 = refine_L0**2 / 2\n",
    "refine_A1 = refine_L1**2 / 2\n",
    "\n",
    "min_angle = 32 # degrees\n",
    "\n",
    "\n",
    "# Simulation control\n",
    "# - note that we use the NoLeap calendar, same as DayMet.  Simulations are typically run over the \"water year\"\n",
    "#   which starts August 1.\n",
    "start = cftime.DatetimeNoLeap(2010,8,1)\n",
    "end = cftime.DatetimeNoLeap(2011,8,1)\n",
    "\n",
    "\n",
    "# Global Soil Properties\n",
    "min_porosity = 0.05 # minimum porosity considered \"too small\"\n",
    "max_permeability = 1.e-10 # max value considered \"too permeable\"\n",
    "max_vg_alpha = 1.e-3 # max value of van Genuchten's alpha -- our correlation is not valid for some soils\n",
    "\n"
   ]
  },
  {
   "cell_type": "code",
   "execution_count": null,
   "id": "9695d127",
   "metadata": {
    "papermill": {
     "duration": 0.152343,
     "end_time": "2022-03-07T15:49:01.391199",
     "exception": false,
     "start_time": "2022-03-07T15:49:01.238856",
     "status": "completed"
    },
    "tags": []
   },
   "outputs": [],
   "source": [
    "# a dictionary of output_filenames -- will include all filenames generated\n",
    "output_filenames = {}"
   ]
  },
  {
   "cell_type": "code",
   "execution_count": null,
   "id": "93821426",
   "metadata": {
    "papermill": {
     "duration": 0.169238,
     "end_time": "2022-03-07T15:49:05.337830",
     "exception": false,
     "start_time": "2022-03-07T15:49:05.168592",
     "status": "completed"
    },
    "tags": []
   },
   "outputs": [],
   "source": [
    "# Note that, by default, we tend to work in the DayMet CRS because this allows us to avoid\n",
    "# reprojecting meteorological forcing datasets.\n",
    "crs = watershed_workflow.crs.daymet_crs"
   ]
  },
  {
   "cell_type": "code",
   "execution_count": null,
   "id": "05763672",
   "metadata": {},
   "outputs": [],
   "source": [
    "# get the shape and crs of the shape\n",
    "coweeta_source = watershed_workflow.sources.ManagerShapefile(coweeta_shapefile, id_name='BASIN_CODE')\n",
    "coweeta = coweeta_source.getShapes(out_crs=crs)\n"
   ]
  },
  {
   "cell_type": "code",
   "execution_count": null,
   "id": "17feb6e0",
   "metadata": {
    "papermill": {
     "duration": 0.181137,
     "end_time": "2022-03-07T15:49:06.850648",
     "exception": false,
     "start_time": "2022-03-07T15:49:06.669511",
     "status": "completed"
    },
    "scrolled": true,
    "tags": []
   },
   "outputs": [],
   "source": [
    "# set up a dictionary of source objects\n",
    "#\n",
    "# Data sources, also called managers, deal with downloading and parsing data files from a variety of online APIs.\n",
    "sources = watershed_workflow.sources.getDefaultSources()\n",
    "sources['hydrography'] = watershed_workflow.sources.hydrography_sources['NHDPlus HR']\n",
    "\n",
    "#\n",
    "# This demo uses a few datasets that have been clipped out of larger, national\n",
    "# datasets and are distributed with the code.  This is simply to save download\n",
    "# time for this simple problem and to lower the barrier for trying out\n",
    "# Watershed Workflow.  A more typical workflow would delete these lines (as \n",
    "# these files would not exist for other watersheds).\n",
    "#\n",
    "# The default versions of these download large raster and shapefile files that\n",
    "# are defined over a very large region (globally or the entire US).\n",
    "#\n",
    "# DELETE THIS SECTION for non-Coweeta runs\n",
    "dtb_file = os.path.join(data_dir, 'soil_structure', 'DTB', 'DTB.tif')\n",
    "geo_file = os.path.join(data_dir, 'soil_structure', 'GLHYMPS', 'GLHYMPS.shp')\n",
    "\n",
    "# GLHYMPs is a several-GB download, so we have sliced it and included the slice here\n",
    "sources['geologic structure'] = watershed_workflow.sources.ManagerGLHYMPS(geo_file)\n",
    "\n",
    "# The Pelletier DTB map is not particularly accurate at Coweeta -- the SoilGrids map seems to be better.\n",
    "# Here we will use a clipped version of that map.\n",
    "sources['depth to bedrock'] = watershed_workflow.sources.ManagerRaster(dtb_file)\n",
    "\n",
    "# END DELETE THIS SECTION\n",
    "\n",
    "# log the sources that will be used here\n",
    "watershed_workflow.sources.logSources(sources)\n"
   ]
  },
  {
   "cell_type": "markdown",
   "id": "5457ce61",
   "metadata": {},
   "source": [
    "## Basin Geometry\n",
    "\n",
    "In this section, we choose the basin, the streams to be included in the stream-aligned mesh, and make sure that all are resolved discretely at appropriate length scales for this work."
   ]
  },
  {
   "cell_type": "markdown",
   "id": "f208035c-0731-4537-ad22-a7119e1c3a77",
   "metadata": {},
   "source": [
    "### the Watershed"
   ]
  },
  {
   "cell_type": "code",
   "execution_count": null,
   "id": "e59a38c1-80fa-4d0d-821e-2b54577d17f9",
   "metadata": {},
   "outputs": [],
   "source": [
    "coweeta"
   ]
  },
  {
   "cell_type": "code",
   "execution_count": null,
   "id": "ed7e2c56",
   "metadata": {},
   "outputs": [],
   "source": [
    "# Construct and plot the WW object used for storing watersheds\n",
    "watershed = watershed_workflow.split_hucs.SplitHUCs(coweeta)\n",
    "watershed.plot()"
   ]
  },
  {
   "cell_type": "markdown",
   "id": "799a65bd",
   "metadata": {},
   "source": [
    "### the Rivers "
   ]
  },
  {
   "cell_type": "code",
   "execution_count": null,
   "id": "e5828ecf",
   "metadata": {},
   "outputs": [],
   "source": [
    "# download/collect the river network within that shape's bounds\n",
    "reaches = sources['hydrography'].getShapesByGeometry(watershed.exterior, crs, out_crs=crs)\n",
    "rivers = watershed_workflow.river_tree.createRivers(reaches, method='hydroseq')\n",
    "\n",
    "watershed_orig, rivers_orig = watershed, rivers\n",
    "sources['hydrography'].name, sources['hydrography'].source"
   ]
  },
  {
   "cell_type": "code",
   "execution_count": null,
   "id": "517566da",
   "metadata": {},
   "outputs": [],
   "source": [
    "# plot the rivers and watershed\n",
    "def plot(ws, rivs, ax=None):\n",
    "    if ax is None:\n",
    "        fig, ax = plt.subplots(1, 1)\n",
    "    ws.plot(color='k', marker='+', markersize=10, ax=ax)\n",
    "    for river in rivs:\n",
    "        river.plot(marker='x', markersize=10, ax=ax)\n",
    "\n",
    "plot(watershed, rivers)"
   ]
  },
  {
   "cell_type": "code",
   "execution_count": null,
   "id": "9f525e76",
   "metadata": {},
   "outputs": [],
   "source": [
    "# keeping the originals for plotting comparisons\n",
    "def createCopy(watershed, rivers):\n",
    "    \"\"\"To compare before/after, we often want to create copies.  Note in real workflows most things are done in-place without copies.\"\"\"\n",
    "    return watershed.deepcopy(), [r.deepcopy() for r in rivers]\n",
    "    "
   ]
  },
  {
   "cell_type": "code",
   "execution_count": null,
   "id": "64bca4b3-9265-41b9-bf67-44fcd247c4ac",
   "metadata": {},
   "outputs": [],
   "source": [
    "watershed, rivers = createCopy(watershed_orig, rivers_orig)\n",
    "\n",
    "# simplifying -- this sets the discrete length scale of both the watershed boundary and the rivers\n",
    "watershed_workflow.simplify(watershed, rivers, refine_L0, refine_L1, refine_d0, refine_d1)\n",
    "\n",
    "# simplify may remove reaches from the rivers object\n",
    "# -- this call removes any reaches from the dataframe as well, signaling we are all done removing reaches\n",
    "#\n",
    "# ETC: NOTE -- can this be moved into the simplify call?\n",
    "for river in rivers:\n",
    "    river.resetDataFrame()\n",
    "\n",
    "# Now that the river network is set, find the watershed boundary outlets\n",
    "for river in rivers:\n",
    "    watershed_workflow.hydrography.findOutletsByCrossings(watershed, river)"
   ]
  },
  {
   "cell_type": "code",
   "execution_count": null,
   "id": "f97dcf2f",
   "metadata": {},
   "outputs": [],
   "source": [
    "plot(watershed, rivers)"
   ]
  },
  {
   "cell_type": "code",
   "execution_count": null,
   "id": "42f7d603-4a83-494c-9932-7eb58204d6a8",
   "metadata": {},
   "outputs": [],
   "source": [
    "watershed.df.columns"
   ]
  },
  {
   "cell_type": "code",
   "execution_count": null,
   "id": "2dc15fc1",
   "metadata": {},
   "outputs": [],
   "source": [
    "# this generates a zoomable map, showing different reaches and watersheds, \n",
    "# with discrete points.  Problem areas are clickable to get IDs for manual\n",
    "# modifications.\n",
    "m = watershed.explore(marker=False)\n",
    "for river in rivers_orig:\n",
    "    m = river.explore(m=m, column=None, color='black', name=river['name']+' raw', marker=False)\n",
    "for river in rivers:\n",
    "    m = river.explore(m=m)\n",
    "    \n",
    "m = watershed_workflow.makeMap(m)\n",
    "m"
   ]
  },
  {
   "cell_type": "markdown",
   "id": "216a36d4-17d6-4d3d-af0b-e10beb87f7c7",
   "metadata": {},
   "source": [
    "### Mesh Geometry\n",
    "\n",
    "Discretely create the stream-aligned mesh.  Download elevation data, and condition the mesh discretely to make for better topography."
   ]
  },
  {
   "cell_type": "code",
   "execution_count": null,
   "id": "730d80f2",
   "metadata": {},
   "outputs": [],
   "source": [
    "# Refine triangles if they get too acute\n",
    "\n",
    "# width of reach by stream order (order:width)\n",
    "widths = dict({1:8,2:12,3:16})\n",
    "\n",
    "# create the mesh\n",
    "m2, areas, dists = watershed_workflow.tessalateRiverAligned(watershed, rivers, \n",
    "                                                            river_width=widths,\n",
    "                                                            refine_min_angle=min_angle,\n",
    "                                                            refine_distance=[refine_d0, refine_A0, refine_d1, refine_A1],\n",
    "                                                            handle_stream_triangles= 'enforce', # this flag will double the time of triangulation. Read documentation.\n",
    "                                                            diagnostics=True)"
   ]
  },
  {
   "cell_type": "code",
   "execution_count": null,
   "id": "59e8e73c",
   "metadata": {
    "scrolled": true
   },
   "outputs": [],
   "source": [
    "# get a raster for the elevation map, based on 3DEP\n",
    "dem = sources['DEM'].getDataset(watershed.exterior, watershed.crs)['dem']\n",
    "\n",
    "# provide surface mesh elevations\n",
    "watershed_workflow.elevate(m2, dem, method='linear')"
   ]
  },
  {
   "cell_type": "code",
   "execution_count": null,
   "id": "aa06a646",
   "metadata": {},
   "outputs": [],
   "source": [
    "# Plot the DEM raster\n",
    "fig, ax = plt.subplots()\n",
    "\n",
    "# Plot the DEM data\n",
    "im = dem.plot(ax=ax, cmap='terrain', add_colorbar=False)\n",
    "\n",
    "# Add colorbar\n",
    "cbar = plt.colorbar(im, ax=ax, shrink=0.8)\n",
    "cbar.set_label('Elevation (m)', rotation=270, labelpad=15)\n",
    "\n",
    "# Add title and labels\n",
    "ax.set_title('Digital Elevation Model (DEM)', fontsize=14, fontweight='bold')\n",
    "ax.set_xlabel('X Coordinate')\n",
    "ax.set_ylabel('Y Coordinate')\n",
    "\n",
    "# Set equal aspect ratio\n",
    "ax.set_aspect('equal')\n",
    "\n",
    "plt.tight_layout()\n",
    "plt.show()"
   ]
  },
  {
   "cell_type": "markdown",
   "id": "0756b890",
   "metadata": {},
   "source": [
    "In the pit-filling algorithm, we want to make sure that river corridor is not filled up. Hence we exclude river corridor cells from the pit-filling algorithm."
   ]
  },
  {
   "cell_type": "code",
   "execution_count": null,
   "id": "9f56f232",
   "metadata": {},
   "outputs": [],
   "source": [
    "# hydrologically condition the mesh, removing pits\n",
    "river_mask=np.zeros((len(m2.conn)))\n",
    "for i, elem in enumerate(m2.conn):\n",
    "    if not len(elem)==3:\n",
    "        river_mask[i]=1     \n",
    "watershed_workflow.condition.fillPitsDual(m2, is_waterbody=river_mask)"
   ]
  },
  {
   "cell_type": "markdown",
   "id": "681cc9d6",
   "metadata": {},
   "source": [
    "There are a range of options to condition river corridor mesh. We hydrologically condition the river mesh, ensuring unimpeded water flow in river corridors by globally adjusting flowlines to rectify artificial obstructions from inconsistent DEM elevations or misalignments. Please read the documentation for more information\n"
   ]
  },
  {
   "cell_type": "code",
   "execution_count": null,
   "id": "9e1f3e7a",
   "metadata": {},
   "outputs": [],
   "source": [
    "# conditioning river mesh\n",
    "#\n",
    "# adding elevations to the river tree for stream bed conditioning\n",
    "watershed_workflow.condition.setProfileByDEM(rivers, dem)\n",
    "\n",
    "# conditioning the river mesh using NHD elevations\n",
    "watershed_workflow.condition.conditionRiverMesh(m2, rivers[0])"
   ]
  },
  {
   "cell_type": "code",
   "execution_count": null,
   "id": "cdf32e9e",
   "metadata": {},
   "outputs": [],
   "source": [
    "# plotting surface mesh with elevations\n",
    "fig, ax = plt.subplots()\n",
    "ax2 = ax.inset_axes([0.65,0.05,0.3,0.5])\n",
    "cbax = fig.add_axes([0.05,0.05,0.9,0.05])\n",
    "\n",
    "mp = m2.plot(facecolors='elevation', edgecolors=None, ax=ax, linewidth=0.5, colorbar=False)\n",
    "cbar = fig.colorbar(mp, orientation=\"horizontal\", cax=cbax)\n",
    "ax.set_title('surface mesh with elevations')\n",
    "ax.set_aspect('equal', 'datalim')\n",
    "\n",
    "mp2 = m2.plot(facecolors='elevation', edgecolors='white', ax=ax2, colorbar=False)\n",
    "ax2.set_aspect('equal', 'datalim')\n",
    "\n",
    "xlim = (1.4433e6, 1.4438e6)\n",
    "ylim = (-647000, -647500)\n",
    "\n",
    "ax2.set_xlim(xlim)\n",
    "ax2.set_ylim(ylim)\n",
    "ax2.set_xticks([])\n",
    "ax2.set_yticks([])\n",
    "\n",
    "ax.indicate_inset_zoom(ax2, edgecolor='k')\n",
    "\n",
    "cbar.ax.set_title('elevation [m]')\n",
    "\n",
    "plt.show()\n"
   ]
  },
  {
   "cell_type": "code",
   "execution_count": null,
   "id": "dd54cb56",
   "metadata": {},
   "outputs": [],
   "source": [
    "# add labeled sets for subcatchments and outlets\n",
    "watershed_workflow.regions.addWatershedAndOutletRegions(m2, watershed, outlet_width=250, exterior_outlet=True)\n",
    "\n",
    "# add labeled sets for river corridor cells\n",
    "watershed_workflow.regions.addRiverCorridorRegions(m2, rivers)\n",
    "\n",
    "# add labeled sets for river corridor cells by order\n",
    "watershed_workflow.regions.addStreamOrderRegions(m2, rivers)"
   ]
  },
  {
   "cell_type": "code",
   "execution_count": null,
   "id": "92519786",
   "metadata": {},
   "outputs": [],
   "source": [
    "for ls in m2.labeled_sets:\n",
    "    print(f'{ls.setid} : {ls.entity} : {len(ls.ent_ids)} : \"{ls.name}\"')"
   ]
  },
  {
   "cell_type": "markdown",
   "id": "2c4201fb",
   "metadata": {},
   "source": [
    "## Surface properties\n",
    "\n",
    "Meshes interact with data to provide forcing, parameters, and more in the actual simulation.  Specifically, we need vegetation type on the surface to provide information about transpiration and subsurface structure to provide information about water retention curves, etc."
   ]
  },
  {
   "cell_type": "markdown",
   "id": "67170691-ceb9-4344-8552-f69bc2fe7a96",
   "metadata": {},
   "source": [
    "### NLCD for LULC\n",
    "\n",
    "We'll start by downloading and collecting land cover from the NLCD dataset, and generate sets for each land cover type that cover the surface.  Likely these will be some combination of grass, deciduous forest, coniferous forest, and mixed."
   ]
  },
  {
   "cell_type": "code",
   "execution_count": null,
   "id": "4f9dfd21",
   "metadata": {},
   "outputs": [],
   "source": [
    "# download the NLCD raster\n",
    "nlcd = sources['land cover'].getDataset(watershed.exterior.buffer(100), watershed.crs)['cover']\n",
    "\n",
    "# what land cover types did we get?\n",
    "logging.info('Found land cover dtypes: {}'.format(nlcd.dtype))\n",
    "logging.info('Found land cover types: {}'.format(set(list(nlcd.values.ravel()))))"
   ]
  },
  {
   "cell_type": "code",
   "execution_count": null,
   "id": "0034ad51",
   "metadata": {},
   "outputs": [],
   "source": [
    "# create a colormap for the data\n",
    "nlcd_indices, nlcd_cmap, nlcd_norm, nlcd_ticks, nlcd_labels = \\\n",
    "      watershed_workflow.colors.createNLCDColormap(np.unique(nlcd))\n",
    "nlcd_cmap"
   ]
  },
  {
   "cell_type": "code",
   "execution_count": null,
   "id": "1e9f4477",
   "metadata": {},
   "outputs": [],
   "source": [
    "fig, ax = plt.subplots(1,1)\n",
    "nlcd.plot.imshow(ax=ax, cmap=nlcd_cmap, norm=nlcd_norm, add_colorbar=False)\n",
    "watershed_workflow.colors.createIndexedColorbar(ncolors=len(nlcd_indices), \n",
    "                               cmap=nlcd_cmap, labels=nlcd_labels, ax=ax) \n",
    "ax.set_title('Land Cover')\n",
    "plt.show()"
   ]
  },
  {
   "cell_type": "code",
   "execution_count": null,
   "id": "42b3e895",
   "metadata": {},
   "outputs": [],
   "source": [
    "# map nlcd onto the mesh\n",
    "m2_nlcd = watershed_workflow.getDatasetOnMesh(m2, nlcd, method='nearest')\n",
    "m2.cell_data['land_cover'] = m2_nlcd\n",
    "\n"
   ]
  },
  {
   "cell_type": "code",
   "execution_count": null,
   "id": "8489c06f-cc2f-4388-ad28-c1194801fa22",
   "metadata": {},
   "outputs": [],
   "source": [
    "# double-check that nan not in the values\n",
    "assert 127 not in m2_nlcd\n",
    "\n",
    "# create a new set of labels and indices with only those that actually appear on the mesh\n",
    "nlcd_indices, nlcd_cmap, nlcd_norm, nlcd_ticks, nlcd_labels = \\\n",
    "      watershed_workflow.colors.createNLCDColormap(np.unique(m2_nlcd))\n"
   ]
  },
  {
   "cell_type": "code",
   "execution_count": null,
   "id": "f1e3251f",
   "metadata": {},
   "outputs": [],
   "source": [
    "mp = m2.plot(facecolors=m2_nlcd, cmap=nlcd_cmap, norm=nlcd_norm, edgecolors=None, colorbar=False)\n",
    "watershed_workflow.colors.createIndexedColorbar(ncolors=len(nlcd_indices), \n",
    "                               cmap=nlcd_cmap, labels=nlcd_labels, ax=plt.gca()) \n",
    "plt.show()"
   ]
  },
  {
   "cell_type": "code",
   "execution_count": null,
   "id": "7b9d83a7",
   "metadata": {},
   "outputs": [],
   "source": [
    "# add labeled sets to the mesh for NLCD\n",
    "nlcd_labels_dict = dict(zip(nlcd_indices, nlcd_labels))\n",
    "watershed_workflow.regions.addSurfaceRegions(m2, names=nlcd_labels_dict)"
   ]
  },
  {
   "cell_type": "code",
   "execution_count": null,
   "id": "cbdd947f-1ad5-4570-9fd7-1b8a5d165f60",
   "metadata": {},
   "outputs": [],
   "source": [
    "nlcd_labels_dict"
   ]
  },
  {
   "cell_type": "code",
   "execution_count": null,
   "id": "44450387",
   "metadata": {},
   "outputs": [],
   "source": [
    "for ls in m2.labeled_sets:\n",
    "    print(f'{ls.setid} : {ls.entity} : {len(ls.ent_ids)} : \"{ls.name}\"')"
   ]
  },
  {
   "cell_type": "markdown",
   "id": "65808d49",
   "metadata": {},
   "source": [
    "### MODIS LAI\n",
    "\n",
    "Leaf area index is needed on each land cover type -- this is used in the Evapotranspiration calculation."
   ]
  },
  {
   "cell_type": "code",
   "execution_count": null,
   "id": "82ade3ad",
   "metadata": {},
   "outputs": [],
   "source": [
    "# download LAI and corresponding LULC datasets -- these are actually already downloaded, \n",
    "# as the MODIS AppEEARS API is quite slow\n",
    "#\n",
    "# Note that MODIS does NOT work with the noleap calendar, so we have to convert to actual dates first\n",
    "start_leap = cftime.DatetimeGregorian(start.year, start.month, start.day)\n",
    "end_leap = cftime.DatetimeGregorian(end.year, end.month, end.day)\n",
    "modis_data = sources['LAI'].getDataset(watershed.exterior, crs, start_leap, end_leap)\n"
   ]
  },
  {
   "cell_type": "code",
   "execution_count": null,
   "id": "be1fd496",
   "metadata": {},
   "outputs": [],
   "source": [
    "assert modis_data['LAI'].rio.crs is not None\n",
    "print(modis_data['LULC'].rio.crs, modis_data['LULC'].dtype)\n"
   ]
  },
  {
   "cell_type": "code",
   "execution_count": null,
   "id": "55704322",
   "metadata": {},
   "outputs": [],
   "source": [
    "# MODIS data comes with time-dependent LAI AND time-dependent LULC -- just take the mode to find the most common LULC\n",
    "modis_data['LULC'] = watershed_workflow.data.computeMode(modis_data['LULC'], 'time_LULC')\n",
    "\n",
    "# now it is safe to have only one time\n",
    "modis_data = modis_data.rename({'time_LAI':'time'})\n",
    "\n",
    "# remove leap day (366th day of any leap year) to match our Noleap Calendar\n",
    "modis_data = watershed_workflow.data.filterLeapDay(modis_data)"
   ]
  },
  {
   "cell_type": "code",
   "execution_count": null,
   "id": "74288471-932d-46ed-9bdc-60ced1eb1f90",
   "metadata": {},
   "outputs": [],
   "source": [
    "# plot the MODIS data -- note the entire domain is covered with one type for Coweeta (it is small!)\n",
    "fig, axs = plt.subplots(1,2, figsize=(12,6))\n",
    "modis_data['LULC'].plot.imshow(ax=axs[0])\n",
    "modis_data['LAI'][0].plot.imshow(ax=axs[1])"
   ]
  },
  {
   "cell_type": "code",
   "execution_count": null,
   "id": "690701e2",
   "metadata": {},
   "outputs": [],
   "source": [
    "# compute the transient time series\n",
    "modis_lai = watershed_workflow.land_cover_properties.computeTimeSeries(modis_data['LAI'], modis_data['LULC'], \n",
    "                                                                      polygon=watershed.exterior, polygon_crs=watershed.crs)"
   ]
  },
  {
   "cell_type": "code",
   "execution_count": null,
   "id": "ab1c647d-5582-4448-9ad4-53c68de2620c",
   "metadata": {},
   "outputs": [],
   "source": [
    "modis_lai"
   ]
  },
  {
   "cell_type": "code",
   "execution_count": null,
   "id": "383a6bc1",
   "metadata": {},
   "outputs": [],
   "source": [
    "# smooth the data in time\n",
    "modis_lai_smoothed = watershed_workflow.data.smoothTimeSeries(modis_lai, 'time')\n",
    "\n",
    "# save the MODIS time series to disk\n",
    "output_filenames['modis_lai_transient'] = toOutput(f'{name}_LAI_MODIS_transient.h5')\n",
    "watershed_workflow.io.writeTimeseriesToHDF5(output_filenames['modis_lai_transient'], modis_lai_smoothed)\n",
    "watershed_workflow.land_cover_properties.plotLAI(modis_lai_smoothed, indices='MODIS')"
   ]
  },
  {
   "cell_type": "code",
   "execution_count": null,
   "id": "3fb7b059",
   "metadata": {},
   "outputs": [],
   "source": [
    "# compute a typical year\n",
    "td = datetime.timedelta(days=365 * 10)\n",
    "modis_lai_typical = watershed_workflow.data.computeAverageYear(modis_lai_smoothed, \n",
    "                                                               start_date=(start - td), \n",
    "                                                               output_nyears=10)\n",
    "\n",
    "output_filenames['modis_lai_cyclic_steadystate'] = toOutput(f'{name}_LAI_MODIS_CyclicSteadystate.h5')\n",
    "watershed_workflow.io.writeTimeseriesToHDF5(output_filenames['modis_lai_cyclic_steadystate'], modis_lai_typical)\n",
    "watershed_workflow.land_cover_properties.plotLAI(modis_lai_typical, indices='MODIS')"
   ]
  },
  {
   "cell_type": "markdown",
   "id": "e64d0193",
   "metadata": {},
   "source": [
    "### Crosswalk of LAI to NLCD LC"
   ]
  },
  {
   "cell_type": "code",
   "execution_count": null,
   "id": "370c68c7",
   "metadata": {},
   "outputs": [],
   "source": [
    "crosswalk = watershed_workflow.land_cover_properties.computeCrosswalk(modis_data['LULC'], nlcd, method='fractional area')"
   ]
  },
  {
   "cell_type": "code",
   "execution_count": null,
   "id": "34c5733e",
   "metadata": {},
   "outputs": [],
   "source": [
    "# Compute the NLCD-based time series\n",
    "nlcd_lai_cyclic_steadystate = watershed_workflow.land_cover_properties.applyCrosswalk(crosswalk, modis_lai_typical)\n",
    "nlcd_lai_transient = watershed_workflow.land_cover_properties.applyCrosswalk(crosswalk, modis_lai_smoothed)\n",
    "\n",
    "watershed_workflow.land_cover_properties.removeNullLAI(nlcd_lai_cyclic_steadystate)\n",
    "watershed_workflow.land_cover_properties.removeNullLAI(nlcd_lai_transient)\n",
    "nlcd_lai_transient"
   ]
  },
  {
   "cell_type": "code",
   "execution_count": null,
   "id": "0d2d48c6-2172-4fb8-83d8-78de1ff7db73",
   "metadata": {},
   "outputs": [],
   "source": [
    "# write the NLCD-based time series to disk\n",
    "output_filenames['nlcd_lai_cyclic_steadystate'] = toOutput(f'{name}_LAI_NLCD_CyclicSteadystate.h5')\n",
    "watershed_workflow.io.writeTimeseriesToHDF5(output_filenames['nlcd_lai_cyclic_steadystate'], nlcd_lai_cyclic_steadystate)\n",
    "\n",
    "output_filenames['nlcd_lai_transient'] = toOutput(f'{name}_LAI_NLCD_{start.year}_{end.year}.h5')\n",
    "watershed_workflow.io.writeTimeseriesToHDF5(output_filenames['nlcd_lai_transient'], nlcd_lai_transient)"
   ]
  },
  {
   "cell_type": "markdown",
   "id": "1f84cce1",
   "metadata": {},
   "source": [
    "## Subsurface Soil, Geologic Structure"
   ]
  },
  {
   "cell_type": "markdown",
   "id": "84c14b57",
   "metadata": {},
   "source": [
    "### NRCS Soils"
   ]
  },
  {
   "cell_type": "code",
   "execution_count": null,
   "id": "3138f3c0",
   "metadata": {},
   "outputs": [],
   "source": [
    "# get NRCS shapes, on a reasonable crs\n",
    "nrcs = sources['soil structure'].getShapesByGeometry(watershed.exterior, watershed.crs, out_crs=crs)\n"
   ]
  },
  {
   "cell_type": "code",
   "execution_count": null,
   "id": "9e7edb77",
   "metadata": {},
   "outputs": [],
   "source": [
    "nrcs"
   ]
  },
  {
   "cell_type": "code",
   "execution_count": null,
   "id": "78c16985",
   "metadata": {},
   "outputs": [],
   "source": [
    "# create a clean dataframe with just the data we will need for ATS\n",
    "def replace_column_nans(df, col_nan, col_replacement):\n",
    "    \"\"\"In a df, replace col_nan entries by col_replacement if is nan.  In Place!\"\"\"\n",
    "    row_indexer = df[col_nan].isna()\n",
    "    df.loc[row_indexer, col_nan] = df.loc[row_indexer, col_replacement]\n",
    "    return\n",
    "\n",
    "# where poro or perm is nan, put Rosetta poro\n",
    "replace_column_nans(nrcs, 'porosity [-]', 'Rosetta porosity [-]')\n",
    "replace_column_nans(nrcs, 'permeability [m^2]', 'Rosetta permeability [m^2]')\n",
    "\n",
    "# drop unnecessary columns\n",
    "for col in ['Rosetta porosity [-]', 'Rosetta permeability [m^2]', 'bulk density [g/cm^3]', 'total sand pct [%]',\n",
    "            'total silt pct [%]', 'total clay pct [%]']:\n",
    "    nrcs.pop(col)\n",
    "    \n",
    "# drop nans\n",
    "nan_mask = nrcs.isna().any(axis=1)\n",
    "dropped_mukeys = nrcs.index[nan_mask]\n",
    "\n",
    "# Drop those rows\n",
    "nrcs = nrcs[~nan_mask]\n",
    "\n",
    "assert nrcs['porosity [-]'][:].min() >= min_porosity\n",
    "assert nrcs['permeability [m^2]'][:].max() <= max_permeability\n",
    "nrcs\n",
    "\n",
    "# check for nans\n",
    "nrcs.isna().any()"
   ]
  },
  {
   "cell_type": "code",
   "execution_count": null,
   "id": "0c749240",
   "metadata": {},
   "outputs": [],
   "source": [
    "# Compute the soil color of each cell of the mesh\n",
    "# Note, we use mukey here because it is an int, while ID is a string\n",
    "soil_color_mukey = watershed_workflow.getShapePropertiesOnMesh(m2, nrcs, 'mukey', \n",
    "                                                         resolution=50, nodata=-999)\n",
    "\n",
    "nrcs.set_index('mukey', drop=False, inplace=True)\n",
    "\n",
    "unique_soil_colors = list(np.unique(soil_color_mukey))\n",
    "if -999 in unique_soil_colors:\n",
    "    unique_soil_colors.remove(-999)\n",
    "\n",
    "# retain only the unique values of soil_color\n",
    "nrcs = nrcs.loc[unique_soil_colors]\n",
    "\n",
    "# renumber the ones we know will appear with an ATS ID using ATS conventions\n",
    "nrcs['ATS ID'] = range(1000, 1000+len(unique_soil_colors))\n",
    "nrcs.set_index('ATS ID', drop=True, inplace=True)\n",
    "\n",
    "# create a new soil color and a soil thickness map using the ATS IDs\n",
    "soil_color = -np.ones_like(soil_color_mukey)\n",
    "soil_thickness = np.nan * np.ones(soil_color.shape, 'd')\n",
    "\n",
    "for ats_ID, ID, thickness in zip(nrcs.index, nrcs.mukey, nrcs['thickness [m]']):\n",
    "    mask = np.where(soil_color_mukey == ID)\n",
    "    soil_thickness[mask] = thickness\n",
    "    soil_color[mask] = ats_ID\n",
    "\n",
    "m2.cell_data['soil_color'] = soil_color\n",
    "m2.cell_data['soil thickness'] = soil_thickness\n"
   ]
  },
  {
   "cell_type": "code",
   "execution_count": null,
   "id": "41fc754a",
   "metadata": {},
   "outputs": [],
   "source": [
    "# plot the soil color\n",
    "# -- get a cmap for soil color\n",
    "sc_indices, sc_cmap, sc_norm, sc_ticks, sc_labels = \\\n",
    "      watershed_workflow.colors.createIndexedColormap(nrcs.index)\n",
    "\n",
    "mp = m2.plot(facecolors=m2.cell_data['soil_color'], cmap=sc_cmap, norm=sc_norm, edgecolors=None, colorbar=False)\n",
    "watershed_workflow.colors.createIndexedColorbar(ncolors=len(nrcs), \n",
    "                               cmap=sc_cmap, labels=sc_labels, ax=plt.gca()) \n",
    "plt.show()"
   ]
  },
  {
   "cell_type": "markdown",
   "id": "1e407cec",
   "metadata": {},
   "source": [
    "### Depth to Bedrock from SoilGrids"
   ]
  },
  {
   "cell_type": "code",
   "execution_count": null,
   "id": "cee52368",
   "metadata": {},
   "outputs": [],
   "source": [
    "dtb = sources['depth to bedrock'].getDataset(watershed.exterior, watershed.crs)['band_1']\n",
    "\n",
    "# the SoilGrids dataset is in cm --> convert to meters\n",
    "dtb.values = dtb.values/100."
   ]
  },
  {
   "cell_type": "code",
   "execution_count": null,
   "id": "3453746f",
   "metadata": {},
   "outputs": [],
   "source": [
    "# map to the mesh\n",
    "m2.cell_data['dtb'] = watershed_workflow.getDatasetOnMesh(m2, dtb, method='linear')\n"
   ]
  },
  {
   "cell_type": "code",
   "execution_count": null,
   "id": "b37a8fc0",
   "metadata": {},
   "outputs": [],
   "source": [
    "gons = m2.plot(facecolors=m2.cell_data['dtb'], cmap='RdBu', edgecolors=None)\n",
    "plt.show()"
   ]
  },
  {
   "cell_type": "markdown",
   "id": "6710933c",
   "metadata": {},
   "source": [
    "### GLHYMPs Geology"
   ]
  },
  {
   "cell_type": "code",
   "execution_count": null,
   "id": "a6d64c35",
   "metadata": {},
   "outputs": [],
   "source": [
    "glhymps = sources['geologic structure'].getShapesByGeometry(watershed.exterior.buffer(1000), watershed.crs, out_crs=crs)\n",
    "glhymps = watershed_workflow.soil_properties.mangleGLHYMPSProperties(glhymps,\n",
    "                                              min_porosity=min_porosity, \n",
    "                                              max_permeability=max_permeability, \n",
    "                                              max_vg_alpha=max_vg_alpha)\n",
    "\n",
    "# intersect with the buffered geometry -- don't keep extras\n",
    "glhymps = glhymps[glhymps.intersects(watershed.exterior.buffer(10))]\n",
    "glhymps"
   ]
  },
  {
   "cell_type": "code",
   "execution_count": null,
   "id": "e1942f5e",
   "metadata": {},
   "outputs": [],
   "source": [
    "# quality check -- make sure glymps shapes cover the watershed\n",
    "print(glhymps.union_all().contains(watershed.exterior))\n",
    "glhymps"
   ]
  },
  {
   "cell_type": "code",
   "execution_count": null,
   "id": "220ad78c",
   "metadata": {},
   "outputs": [],
   "source": [
    "# clean the data\n",
    "glhymps.pop('logk_stdev [-]')\n",
    "\n",
    "assert glhymps['porosity [-]'][:].min() >= min_porosity\n",
    "assert glhymps['permeability [m^2]'][:].max() <= max_permeability\n",
    "assert glhymps['van Genuchten alpha [Pa^-1]'][:].max() <= max_vg_alpha\n",
    "\n",
    "glhymps.isna().any()"
   ]
  },
  {
   "cell_type": "code",
   "execution_count": null,
   "id": "ec85e7d2",
   "metadata": {},
   "outputs": [],
   "source": [
    "# note that for larger areas there are often common regions -- two labels with the same properties -- no need to duplicate those with identical values.\n",
    "def reindex_remove_duplicates(df, index):\n",
    "    \"\"\"Removes duplicates, creating a new index and saving the old index as tuples of duplicate values. In place!\"\"\"\n",
    "    if index is not None:\n",
    "        if index in df:\n",
    "            df.set_index(index, drop=True, inplace=True)\n",
    "    \n",
    "    index_name = df.index.name\n",
    "\n",
    "    # identify duplicate rows\n",
    "    duplicates = list(df.groupby(list(df)).apply(lambda x: tuple(x.index)))\n",
    "\n",
    "    # order is preserved\n",
    "    df.drop_duplicates(inplace=True)\n",
    "    df.reset_index(inplace=True)\n",
    "    df[index_name] = duplicates\n",
    "    return\n",
    "\n",
    "reindex_remove_duplicates(glhymps, 'ID')\n",
    "glhymps"
   ]
  },
  {
   "cell_type": "code",
   "execution_count": null,
   "id": "f158a618",
   "metadata": {},
   "outputs": [],
   "source": [
    "# Compute the geo color of each cell of the mesh\n",
    "geology_color_glhymps = watershed_workflow.getShapePropertiesOnMesh(m2, glhymps, 'index', \n",
    "                                                         resolution=50, nodata=-999)\n",
    "\n",
    "# retain only the unique values of geology that actually appear in our cell mesh\n",
    "unique_geology_colors = list(np.unique(geology_color_glhymps))\n",
    "if -999 in unique_geology_colors:\n",
    "    unique_geology_colors.remove(-999)\n",
    "\n",
    "# retain only the unique values of geology_color\n",
    "glhymps = glhymps.loc[unique_geology_colors]\n",
    "\n",
    "# renumber the ones we know will appear with an ATS ID using ATS conventions\n",
    "glhymps['ATS ID'] = range(100, 100+len(unique_geology_colors))\n",
    "glhymps['TMP_ID'] = glhymps.index\n",
    "glhymps.reset_index(drop=True, inplace=True)\n",
    "glhymps.set_index('ATS ID', drop=True, inplace=True)\n",
    "\n",
    "# create a new geology color using the ATS IDs\n",
    "geology_color = -np.ones_like(geology_color_glhymps)\n",
    "for ats_ID, tmp_ID in zip(glhymps.index, glhymps.TMP_ID):\n",
    "    geology_color[np.where(geology_color_glhymps == tmp_ID)] = ats_ID\n",
    "\n",
    "glhymps.pop('TMP_ID')\n",
    "\n",
    "m2.cell_data['geology_color'] = geology_color\n",
    "                            "
   ]
  },
  {
   "cell_type": "code",
   "execution_count": null,
   "id": "bd4fddd6",
   "metadata": {},
   "outputs": [],
   "source": [
    "geology_color_glhymps.min()"
   ]
  },
  {
   "cell_type": "markdown",
   "id": "b280a14a",
   "metadata": {},
   "source": [
    "### Combine to form a complete subsurface dataset"
   ]
  },
  {
   "cell_type": "code",
   "execution_count": null,
   "id": "992d670c",
   "metadata": {},
   "outputs": [],
   "source": [
    "bedrock = watershed_workflow.soil_properties.getDefaultBedrockProperties()\n",
    "\n",
    "# merge the properties databases\n",
    "subsurface_props = pd.concat([glhymps, nrcs, bedrock])\n",
    "\n",
    "# save the properties to disk for use in generating input file\n",
    "output_filenames['subsurface_properties'] = toOutput(f'{name}_subsurface_properties.csv')\n",
    "subsurface_props.to_csv(output_filenames['subsurface_properties'])\n",
    "subsurface_props\n"
   ]
  },
  {
   "cell_type": "markdown",
   "id": "b80ca244",
   "metadata": {},
   "source": [
    "## Extrude the 2D Mesh to make a 3D mesh"
   ]
  },
  {
   "cell_type": "code",
   "execution_count": null,
   "id": "b7cc25c7",
   "metadata": {},
   "outputs": [],
   "source": [
    "# set the floor of the domain as max DTB\n",
    "dtb_max = np.nanmax(m2.cell_data['dtb'].values)\n",
    "m2.cell_data['dtb'] = m2.cell_data['dtb'].fillna(dtb_max)\n",
    "\n",
    "print(f'total thickness: {dtb_max} m')\n",
    "total_thickness = 50.\n"
   ]
  },
  {
   "cell_type": "code",
   "execution_count": null,
   "id": "49322734",
   "metadata": {},
   "outputs": [],
   "source": [
    "# Generate a dz structure for the top 2m of soil\n",
    "#\n",
    "# here we try for 10 cells, starting at 5cm at the top and going to 50cm at the bottom of the 2m thick soil\n",
    "dzs, res = watershed_workflow.mesh.optimizeDzs(0.05, 0.5, 2, 10)\n",
    "print(dzs)\n",
    "print(sum(dzs))"
   ]
  },
  {
   "cell_type": "code",
   "execution_count": null,
   "id": "2da4d2ea",
   "metadata": {},
   "outputs": [],
   "source": [
    "# this looks like it would work out, with rounder numbers:\n",
    "dzs_soil = [0.05, 0.05, 0.05, 0.12, 0.23, 0.5, 0.5, 0.5]\n",
    "print(sum(dzs_soil))"
   ]
  },
  {
   "cell_type": "code",
   "execution_count": null,
   "id": "5c3fd588",
   "metadata": {},
   "outputs": [],
   "source": [
    "# 50m total thickness, minus 2m soil thickness, leaves us with 48 meters to make up.\n",
    "# optimize again...\n",
    "dzs2, res2 = watershed_workflow.mesh.optimizeDzs(1, 10, 48, 8)\n",
    "print(dzs2)\n",
    "print(sum(dzs2))\n",
    "\n",
    "# how about...\n",
    "dzs_geo = [1.0, 2.0, 4.0, 8.0, 11, 11, 11]\n",
    "print(dzs_geo)\n",
    "print(sum(dzs_geo))"
   ]
  },
  {
   "cell_type": "code",
   "execution_count": null,
   "id": "3384ef65",
   "metadata": {},
   "outputs": [],
   "source": [
    "# layer extrusion\n",
    "DTB = m2.cell_data['dtb'].values\n",
    "soil_color = m2.cell_data['soil_color'].values\n",
    "geo_color = m2.cell_data['geology_color'].values\n",
    "soil_thickness = m2.cell_data['soil thickness'].values\n",
    "\n",
    "\n",
    "# -- data structures needed for extrusion\n",
    "layer_types = []\n",
    "layer_data = []\n",
    "layer_ncells = []\n",
    "layer_mat_ids = []\n",
    "\n",
    "# -- soil layer --\n",
    "depth = 0\n",
    "for dz in dzs_soil:\n",
    "    depth += 0.5 * dz\n",
    "    layer_types.append('constant')\n",
    "    layer_data.append(dz)\n",
    "    layer_ncells.append(1)\n",
    "    \n",
    "    # use glhymps params\n",
    "    br_or_geo = np.where(depth < DTB, geo_color, 999)\n",
    "    soil_or_br_or_geo = np.where(np.bitwise_and(soil_color > 0, depth < soil_thickness),\n",
    "                                 soil_color,\n",
    "                                 br_or_geo)\n",
    "\n",
    "    layer_mat_ids.append(soil_or_br_or_geo)\n",
    "    depth += 0.5 * dz\n",
    "    \n",
    "# -- geologic layer --\n",
    "for dz in dzs_geo:\n",
    "    depth += 0.5 * dz\n",
    "    layer_types.append('constant')\n",
    "    layer_data.append(dz)\n",
    "    layer_ncells.append(1)\n",
    "    \n",
    "    geo_or_br = np.where(depth < DTB, geo_color, 999)\n",
    "\n",
    "    layer_mat_ids.append(geo_or_br)\n",
    "    depth += 0.5 * dz\n",
    "\n",
    "# print the summary\n",
    "watershed_workflow.mesh.Mesh3D.summarizeExtrusion(layer_types, layer_data, \n",
    "                                            layer_ncells, layer_mat_ids)\n",
    "\n",
    "# downselect subsurface properties to only those that are used\n",
    "layer_mat_id_used = list(np.unique(np.array(layer_mat_ids)))\n",
    "subsurface_props_used = subsurface_props.loc[layer_mat_id_used]\n",
    "subsurface_props_used\n"
   ]
  },
  {
   "cell_type": "code",
   "execution_count": null,
   "id": "a470250e",
   "metadata": {},
   "outputs": [],
   "source": [
    "# extrude\n",
    "m3 = watershed_workflow.mesh.Mesh3D.extruded_Mesh2D(m2, layer_types, layer_data, \n",
    "                                             layer_ncells, layer_mat_ids)"
   ]
  },
  {
   "cell_type": "code",
   "execution_count": null,
   "id": "45294ae8",
   "metadata": {},
   "outputs": [],
   "source": [
    "print('2D labeled sets')\n",
    "print('---------------')\n",
    "for ls in m2.labeled_sets:\n",
    "    print(f'{ls.setid} : {ls.entity} : {len(ls.ent_ids)} : \"{ls.name}\"')\n",
    "\n",
    "print('')\n",
    "print('Extruded 3D labeled sets')\n",
    "print('------------------------')\n",
    "for ls in m3.labeled_sets:\n",
    "    print(f'{ls.setid} : {ls.entity} : {len(ls.ent_ids)} : \"{ls.name}\"')\n",
    "\n",
    "print('')\n",
    "print('Extruded 3D side sets')\n",
    "print('---------------------')\n",
    "for ls in m3.side_sets:\n",
    "    print(f'{ls.setid} : FACE : {len(ls.cell_list)} : \"{ls.name}\"')\n",
    "    "
   ]
  },
  {
   "cell_type": "code",
   "execution_count": null,
   "id": "a612f55e",
   "metadata": {},
   "outputs": [],
   "source": [
    "# save the mesh to disk\n",
    "output_filenames['mesh'] = toOutput(f'{name}.exo')\n",
    "try:\n",
    "    os.remove(output_filenames['mesh'])\n",
    "except FileNotFoundError:\n",
    "    pass\n",
    "m3.writeExodus(output_filenames['mesh'])"
   ]
  },
  {
   "cell_type": "code",
   "execution_count": null,
   "id": "08fd90a2-76ba-4d71-99c0-1c7e3f89a840",
   "metadata": {},
   "outputs": [],
   "source": []
  }
 ],
 "metadata": {
  "celltoolbar": "Tags",
  "kernelspec": {
   "display_name": "Python [conda env:watershed-workflow-geopandas-20250430]",
   "language": "python",
   "name": "conda-env-watershed-workflow-geopandas-20250430-py"
  },
  "language_info": {
   "codemirror_mode": {
    "name": "ipython",
    "version": 3
   },
   "file_extension": ".py",
   "mimetype": "text/x-python",
   "name": "python",
   "nbconvert_exporter": "python",
   "pygments_lexer": "ipython3",
   "version": "3.11.12"
  },
  "papermill": {
   "default_parameters": {},
   "duration": 685.28134,
   "end_time": "2022-03-07T16:00:23.770205",
   "environment_variables": {},
   "exception": true,
   "input_path": "full_workflow_master.ipynb",
   "output_path": "full_workflow_EastTaylor.ipynb",
   "parameters": {
    "hucs": "[14020001,]",
    "name": "EastTaylor",
    "prune_by_area_fraction": 0.005
   },
   "start_time": "2022-03-07T15:48:58.488865",
   "version": "2.3.3"
  }
 },
 "nbformat": 4,
 "nbformat_minor": 5
}
