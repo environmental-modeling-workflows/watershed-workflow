{
 "cells": [
  {
   "cell_type": "code",
   "execution_count": 1,
   "metadata": {},
   "outputs": [],
   "source": [
    "import numpy as np\n",
    "import matplotlib.pyplot as plt\n",
    "import os\n",
    "import pandas as pd\n",
    "from sklearn.metrics import mean_squared_error\n",
    "\n",
    "\n",
    "path_data_test = './data_test_streamlight/'\n",
    "\n",
    "# Files with the drivers and results\n",
    "input_data_test_streamlight_df = pd.read_csv(os.path.join(path_data_test,'input_data_test_streamlight.csv'))\n",
    "# input_data_test_streamlight_df.head()\n",
    "results_test_streamlight_df = pd.read_csv(os.path.join(path_data_test,'results_test_streamlight.csv'))\n",
    "# results_test_streamlight_df.head()\n",
    "test_solar_geo_calc_df = pd.read_csv(os.path.join(path_data_test,'input_data_test_solar_geo_calc.csv'))\n",
    "# test_solar_geo_calc_df.head()\n",
    "test_rt_cn_1998_df = pd.read_csv(os.path.join(path_data_test,'input_data_test_RT_CN_1998.csv'))\n",
    "# test_rt_cn_1998_df.head()\n",
    "test_shade2_df = pd.read_csv(os.path.join(path_data_test,'input_data_test_SHADE2.csv'))\n",
    "# test_shade2_df.head()\n",
    "test_stream_light_df = pd.read_csv(os.path.join(path_data_test,'input_data_test_stream_light.csv'))\n",
    "# test_stream_light_df.head()\n",
    "\n",
    "\n",
    "# Extract information from drivers\n",
    "doy = input_data_test_streamlight_df['DOY'].values\n",
    "hour = input_data_test_streamlight_df['Hour'].values\n",
    "tz_offset = input_data_test_streamlight_df['offset'].values\n",
    "sw_inc = input_data_test_streamlight_df['SW_inc'].values\n",
    "lai = input_data_test_streamlight_df['LAI'].values"
   ]
  },
  {
   "cell_type": "code",
   "execution_count": 2,
   "metadata": {},
   "outputs": [],
   "source": [
    "import stream_light\n",
    "\n",
    "sl = stream_light.StreamLight()"
   ]
  },
  {
   "cell_type": "code",
   "execution_count": 8,
   "metadata": {},
   "outputs": [
    {
     "data": {
      "text/plain": [
       "{'solar_dec_ini': array([-0.40248896, -0.40243564, -0.40238211, ..., -0.30458557,\n",
       "        -0.30478144, -0.30497716]),\n",
       " 'solar_altitude_ini': array([-0.36735674, -0.57572354, -0.78714071, ...,  0.21217116,\n",
       "         0.02442878, -0.17629844]),\n",
       " 'sza_ini': array([1.93815307, 2.14651986, 2.35793704, ..., 1.35862517, 1.54636755,\n",
       "        1.74709476]),\n",
       " 'solar_azimuth_ini': array([2.90002063, 3.03574189, 3.09839333, ..., 2.57634493, 2.74232066,\n",
       "        2.89142418])}"
      ]
     },
     "execution_count": 8,
     "metadata": {},
     "output_type": "execute_result"
    }
   ],
   "source": [
    "# Channel characteristics \n",
    "sl.set_channel_properties(lat = 35.9925,lon = -79.0460,channel_azimuth = 330,bottom_width = 18.9,\n",
    "bank_height = 0.1,bank_slope = 100, water_depth = 0.05,\n",
    "tree_height = 23, overhang = 2.3, overhang_height = 0.1*23, x_LAD = 1)\n",
    "\n",
    "sl.set_energy_drivers(doy = doy, hour = hour, tz_offset = tz_offset, sw_inc = sw_inc, lai = lai)\n",
    "\n",
    "sl.get_salar_angles()\n",
    "sl.solar_angles"
   ]
  },
  {
   "cell_type": "code",
   "execution_count": 14,
   "metadata": {},
   "outputs": [
    {
     "data": {
      "text/plain": [
       "0.4092796833089385"
      ]
     },
     "execution_count": 14,
     "metadata": {},
     "output_type": "execute_result"
    }
   ],
   "source": [
    "np.max(sl.solar_angles['solar_dec_ini'])"
   ]
  },
  {
   "cell_type": "code",
   "execution_count": null,
   "metadata": {},
   "outputs": [],
   "source": []
  }
 ],
 "metadata": {
  "kernelspec": {
   "display_name": "watershed_workflow-2022-08-29",
   "language": "python",
   "name": "python3"
  },
  "language_info": {
   "codemirror_mode": {
    "name": "ipython",
    "version": 3
   },
   "file_extension": ".py",
   "mimetype": "text/x-python",
   "name": "python",
   "nbconvert_exporter": "python",
   "pygments_lexer": "ipython3",
   "version": "3.10.6"
  },
  "orig_nbformat": 4,
  "vscode": {
   "interpreter": {
    "hash": "bed1c78fe7f5174cb22e4eae5e628ca655f9f6b0dbb3538b658cfa7d94c58516"
   }
  }
 },
 "nbformat": 4,
 "nbformat_minor": 2
}
