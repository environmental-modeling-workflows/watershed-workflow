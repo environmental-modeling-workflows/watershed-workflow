{
 "cells": [
  {
   "cell_type": "code",
   "execution_count": 1,
   "metadata": {},
   "outputs": [],
   "source": [
    "import numpy as np\n",
    "import matplotlib.pyplot as plt\n",
    "import os\n",
    "import pandas as pd\n",
    "from sklearn.metrics import mean_squared_error\n",
    "\n",
    "\n",
    "path_data_test = './data_test_streamlight/'\n",
    "\n",
    "# Files with the drivers and results\n",
    "input_data_test_streamlight_df = pd.read_csv(os.path.join(path_data_test,'input_data_test_streamlight.csv'))\n",
    "# input_data_test_streamlight_df.head()\n",
    "results_test_streamlight_df = pd.read_csv(os.path.join(path_data_test,'results_test_streamlight.csv'))\n",
    "# results_test_streamlight_df.head()\n",
    "test_solar_geo_calc_df = pd.read_csv(os.path.join(path_data_test,'input_data_test_solar_geo_calc.csv'))\n",
    "# test_solar_geo_calc_df.head()\n",
    "test_rt_cn_1998_df = pd.read_csv(os.path.join(path_data_test,'input_data_test_RT_CN_1998.csv'))\n",
    "# test_rt_cn_1998_df.head()\n",
    "test_shade2_df = pd.read_csv(os.path.join(path_data_test,'input_data_test_SHADE2.csv'))\n",
    "# test_shade2_df.head()\n",
    "test_stream_light_df = pd.read_csv(os.path.join(path_data_test,'input_data_test_stream_light.csv'))\n",
    "# test_stream_light_df.head()\n",
    "\n",
    "\n",
    "# Extract information from drivers\n",
    "doy = input_data_test_streamlight_df['DOY'].values\n",
    "hour = input_data_test_streamlight_df['Hour'].values\n",
    "tz_offset = input_data_test_streamlight_df['offset'].values\n",
    "sw_inc = input_data_test_streamlight_df['SW_inc'].values\n",
    "lai = input_data_test_streamlight_df['LAI'].values"
   ]
  },
  {
   "cell_type": "code",
   "execution_count": 2,
   "metadata": {},
   "outputs": [],
   "source": [
    "import stream_light\n",
    "\n",
    "sl = stream_light.StreamLight()"
   ]
  },
  {
   "cell_type": "code",
   "execution_count": 3,
   "metadata": {},
   "outputs": [
    {
     "data": {
      "text/plain": [
       "{'solar_dec': array([-0.40248896, -0.40243564, -0.40238211, ..., -0.30458557,\n",
       "        -0.30478144, -0.30497716]),\n",
       " 'solar_altitude': array([-0.36735674, -0.57572354, -0.78714071, ...,  0.21217116,\n",
       "         0.02442878, -0.17629844]),\n",
       " 'sza': array([1.93815307, 2.14651986, 2.35793704, ..., 1.35862517, 1.54636755,\n",
       "        1.74709476]),\n",
       " 'solar_azimuth': array([2.90002063, 3.03574189, 3.09839333, ..., 2.57634493, 2.74232066,\n",
       "        2.89142418])}"
      ]
     },
     "execution_count": 3,
     "metadata": {},
     "output_type": "execute_result"
    }
   ],
   "source": [
    "# Channel characteristics \n",
    "sl.set_channel_properties(lat = 35.9925,lon = -79.0460,channel_azimuth = 330,bottom_width = 18.9,\n",
    "bank_height = 0.1,bank_slope = 100, water_depth = 0.05,\n",
    "tree_height = 23, overhang = 2.3, overhang_height = 0.1*23, x_LAD = 1)\n",
    "\n",
    "sl.set_energy_drivers(doy = doy, hour = hour, tz_offset = tz_offset, sw_inc = sw_inc, lai = lai)\n",
    "\n",
    "sl.get_solar_angles()\n",
    "sl.solar_angles"
   ]
  },
  {
   "cell_type": "code",
   "execution_count": 4,
   "metadata": {},
   "outputs": [
    {
     "ename": "NameError",
     "evalue": "name '_diffuse_calc' is not defined",
     "output_type": "error",
     "traceback": [
      "\u001b[0;31m---------------------------------------------------------------------------\u001b[0m",
      "\u001b[0;31mNameError\u001b[0m                                 Traceback (most recent call last)",
      "\u001b[1;32m/Users/8n8/Documents/myRepos/watershed-workflow/examples/thermal_model/test_streamlight_class.ipynb Cell 4\u001b[0m in \u001b[0;36m<cell line: 1>\u001b[0;34m()\u001b[0m\n\u001b[0;32m----> <a href='vscode-notebook-cell:/Users/8n8/Documents/myRepos/watershed-workflow/examples/thermal_model/test_streamlight_class.ipynb#W3sZmlsZQ%3D%3D?line=0'>1</a>\u001b[0m sl\u001b[39m.\u001b[39;49mrt_cn_1998()\n",
      "File \u001b[0;32m~/Documents/myRepos/watershed-workflow/examples/thermal_model/stream_light.py:224\u001b[0m, in \u001b[0;36mStreamLight.rt_cn_1998\u001b[0;34m(self)\u001b[0m\n\u001b[1;32m    221\u001b[0m R \u001b[39m=\u001b[39m \u001b[39m0.847\u001b[39m \u001b[39m-\u001b[39m (\u001b[39m1.61\u001b[39m \u001b[39m*\u001b[39m np\u001b[39m.\u001b[39msin(\u001b[39mself\u001b[39m\u001b[39m.\u001b[39msolar_angles[\u001b[39m'\u001b[39m\u001b[39msolar_altitude\u001b[39m\u001b[39m'\u001b[39m])) \u001b[39m+\u001b[39m (\u001b[39m1.04\u001b[39m \u001b[39m*\u001b[39m np\u001b[39m.\u001b[39msin(\u001b[39mself\u001b[39m\u001b[39m.\u001b[39msolar_angles[\u001b[39m'\u001b[39m\u001b[39msolar_altitude\u001b[39m\u001b[39m'\u001b[39m]) \u001b[39m*\u001b[39m np\u001b[39m.\u001b[39msin(\u001b[39mself\u001b[39m\u001b[39m.\u001b[39msolar_angles[\u001b[39m'\u001b[39m\u001b[39msolar_altitude\u001b[39m\u001b[39m'\u001b[39m]))\n\u001b[1;32m    222\u001b[0m K \u001b[39m=\u001b[39m (\u001b[39m1.47\u001b[39m \u001b[39m-\u001b[39m R) \u001b[39m/\u001b[39m \u001b[39m1.66\u001b[39m\n\u001b[0;32m--> 224\u001b[0m frac_diff \u001b[39m=\u001b[39m np\u001b[39m.\u001b[39marray([_diffuse_calc(at, rr, kk) \u001b[39mfor\u001b[39;00m at, rr, kk \u001b[39min\u001b[39;00m \u001b[39mzip\u001b[39m(atm_trns, R, K)])\n\u001b[1;32m    226\u001b[0m \u001b[39m## Partition into diffuse and beam radiation\u001b[39;00m\n\u001b[1;32m    227\u001b[0m rad_diff \u001b[39m=\u001b[39m frac_diff \u001b[39m*\u001b[39m \u001b[39mself\u001b[39m\u001b[39m.\u001b[39menergy_drivers[\u001b[39m'\u001b[39m\u001b[39msw_inc\u001b[39m\u001b[39m'\u001b[39m] \u001b[39m# Diffuse radiation [W m-2]\u001b[39;00m\n",
      "File \u001b[0;32m~/Documents/myRepos/watershed-workflow/examples/thermal_model/stream_light.py:224\u001b[0m, in \u001b[0;36m<listcomp>\u001b[0;34m(.0)\u001b[0m\n\u001b[1;32m    221\u001b[0m R \u001b[39m=\u001b[39m \u001b[39m0.847\u001b[39m \u001b[39m-\u001b[39m (\u001b[39m1.61\u001b[39m \u001b[39m*\u001b[39m np\u001b[39m.\u001b[39msin(\u001b[39mself\u001b[39m\u001b[39m.\u001b[39msolar_angles[\u001b[39m'\u001b[39m\u001b[39msolar_altitude\u001b[39m\u001b[39m'\u001b[39m])) \u001b[39m+\u001b[39m (\u001b[39m1.04\u001b[39m \u001b[39m*\u001b[39m np\u001b[39m.\u001b[39msin(\u001b[39mself\u001b[39m\u001b[39m.\u001b[39msolar_angles[\u001b[39m'\u001b[39m\u001b[39msolar_altitude\u001b[39m\u001b[39m'\u001b[39m]) \u001b[39m*\u001b[39m np\u001b[39m.\u001b[39msin(\u001b[39mself\u001b[39m\u001b[39m.\u001b[39msolar_angles[\u001b[39m'\u001b[39m\u001b[39msolar_altitude\u001b[39m\u001b[39m'\u001b[39m]))\n\u001b[1;32m    222\u001b[0m K \u001b[39m=\u001b[39m (\u001b[39m1.47\u001b[39m \u001b[39m-\u001b[39m R) \u001b[39m/\u001b[39m \u001b[39m1.66\u001b[39m\n\u001b[0;32m--> 224\u001b[0m frac_diff \u001b[39m=\u001b[39m np\u001b[39m.\u001b[39marray([_diffuse_calc(at, rr, kk) \u001b[39mfor\u001b[39;00m at, rr, kk \u001b[39min\u001b[39;00m \u001b[39mzip\u001b[39m(atm_trns, R, K)])\n\u001b[1;32m    226\u001b[0m \u001b[39m## Partition into diffuse and beam radiation\u001b[39;00m\n\u001b[1;32m    227\u001b[0m rad_diff \u001b[39m=\u001b[39m frac_diff \u001b[39m*\u001b[39m \u001b[39mself\u001b[39m\u001b[39m.\u001b[39menergy_drivers[\u001b[39m'\u001b[39m\u001b[39msw_inc\u001b[39m\u001b[39m'\u001b[39m] \u001b[39m# Diffuse radiation [W m-2]\u001b[39;00m\n",
      "\u001b[0;31mNameError\u001b[0m: name '_diffuse_calc' is not defined"
     ]
    }
   ],
   "source": [
    "sl.rt_cn_1998()"
   ]
  },
  {
   "cell_type": "code",
   "execution_count": null,
   "metadata": {},
   "outputs": [],
   "source": []
  }
 ],
 "metadata": {
  "kernelspec": {
   "display_name": "ww_geo",
   "language": "python",
   "name": "python3"
  },
  "language_info": {
   "codemirror_mode": {
    "name": "ipython",
    "version": 3
   },
   "file_extension": ".py",
   "mimetype": "text/x-python",
   "name": "python",
   "nbconvert_exporter": "python",
   "pygments_lexer": "ipython3",
   "version": "3.10.6"
  },
  "orig_nbformat": 4,
  "vscode": {
   "interpreter": {
    "hash": "5cce98fd5c43195bea27435077faca32bb7dfa1174b2158e58831381c0d5b355"
   }
  }
 },
 "nbformat": 4,
 "nbformat_minor": 2
}
