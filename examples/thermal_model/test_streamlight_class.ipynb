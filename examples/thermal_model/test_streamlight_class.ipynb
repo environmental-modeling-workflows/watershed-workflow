{
 "cells": [
  {
   "cell_type": "code",
   "execution_count": 6,
   "metadata": {},
   "outputs": [
    {
     "name": "stdout",
     "output_type": "stream",
     "text": [
      "PASSED solar_dec\n",
      "PASSED solar_altitude\n",
      "PASSED sza\n",
      "PASSED solar_azimuth\n",
      "PASSED ppfd\n",
      "PASSED fraction_shade_veg\n",
      "PASSED fraction_shade_bank\n",
      "PASSED energy_total_surface_PAR_ppfd\n"
     ]
    }
   ],
   "source": [
    "import watershed_workflow.stream_light\n",
    "\n",
    "sl = watershed_workflow.stream_light.StreamLight()\n",
    "path_data_test = '../../watershed_workflow/test/data_test_streamlight/'\n",
    "plot_scatter = False\n",
    "sl.test_streamlight(path_data_test,plot_scatter)"
   ]
  },
  {
   "cell_type": "code",
   "execution_count": 1,
   "metadata": {},
   "outputs": [
    {
     "data": {
      "text/html": [
       "<div>\n",
       "<style scoped>\n",
       "    .dataframe tbody tr th:only-of-type {\n",
       "        vertical-align: middle;\n",
       "    }\n",
       "\n",
       "    .dataframe tbody tr th {\n",
       "        vertical-align: top;\n",
       "    }\n",
       "\n",
       "    .dataframe thead th {\n",
       "        text-align: right;\n",
       "    }\n",
       "</style>\n",
       "<table border=\"1\" class=\"dataframe\">\n",
       "  <thead>\n",
       "    <tr style=\"text-align: right;\">\n",
       "      <th></th>\n",
       "      <th>local_time</th>\n",
       "      <th>offset</th>\n",
       "      <th>jday</th>\n",
       "      <th>Year</th>\n",
       "      <th>DOY</th>\n",
       "      <th>Hour</th>\n",
       "      <th>SW_inc</th>\n",
       "      <th>LAI</th>\n",
       "      <th>solar_dec</th>\n",
       "      <th>solar_altitude</th>\n",
       "      <th>SZA</th>\n",
       "      <th>solar_azimuth2</th>\n",
       "      <th>PAR_bc</th>\n",
       "      <th>veg_shade</th>\n",
       "      <th>bank_shade</th>\n",
       "      <th>PAR_inc</th>\n",
       "      <th>PAR_surface</th>\n",
       "    </tr>\n",
       "  </thead>\n",
       "  <tbody>\n",
       "    <tr>\n",
       "      <th>16267</th>\n",
       "      <td>2018-11-09 14:00:00</td>\n",
       "      <td>-5</td>\n",
       "      <td>2018313</td>\n",
       "      <td>2018</td>\n",
       "      <td>313</td>\n",
       "      <td>14</td>\n",
       "      <td>134.850</td>\n",
       "      <td>1.247916</td>\n",
       "      <td>-0.304193</td>\n",
       "      <td>0.515539</td>\n",
       "      <td>1.055258</td>\n",
       "      <td>2.149661</td>\n",
       "      <td>117.997375</td>\n",
       "      <td>0.995861</td>\n",
       "      <td>0.004139</td>\n",
       "      <td>285.072900</td>\n",
       "      <td>117.508953</td>\n",
       "    </tr>\n",
       "    <tr>\n",
       "      <th>16268</th>\n",
       "      <td>2018-11-09 15:00:00</td>\n",
       "      <td>-5</td>\n",
       "      <td>2018313</td>\n",
       "      <td>2018</td>\n",
       "      <td>313</td>\n",
       "      <td>15</td>\n",
       "      <td>102.630</td>\n",
       "      <td>1.247916</td>\n",
       "      <td>-0.304390</td>\n",
       "      <td>0.379444</td>\n",
       "      <td>1.191352</td>\n",
       "      <td>2.382262</td>\n",
       "      <td>89.804009</td>\n",
       "      <td>0.993576</td>\n",
       "      <td>0.006424</td>\n",
       "      <td>216.959820</td>\n",
       "      <td>89.227115</td>\n",
       "    </tr>\n",
       "    <tr>\n",
       "      <th>16269</th>\n",
       "      <td>2018-11-09 16:00:00</td>\n",
       "      <td>-5</td>\n",
       "      <td>2018313</td>\n",
       "      <td>2018</td>\n",
       "      <td>313</td>\n",
       "      <td>16</td>\n",
       "      <td>43.920</td>\n",
       "      <td>1.247916</td>\n",
       "      <td>-0.304586</td>\n",
       "      <td>0.212171</td>\n",
       "      <td>1.358625</td>\n",
       "      <td>2.576345</td>\n",
       "      <td>38.431181</td>\n",
       "      <td>0.987757</td>\n",
       "      <td>0.012243</td>\n",
       "      <td>92.846880</td>\n",
       "      <td>37.960656</td>\n",
       "    </tr>\n",
       "    <tr>\n",
       "      <th>16270</th>\n",
       "      <td>2018-11-09 17:00:00</td>\n",
       "      <td>-5</td>\n",
       "      <td>2018313</td>\n",
       "      <td>2018</td>\n",
       "      <td>313</td>\n",
       "      <td>17</td>\n",
       "      <td>6.656</td>\n",
       "      <td>1.247916</td>\n",
       "      <td>-0.304781</td>\n",
       "      <td>0.024429</td>\n",
       "      <td>1.546368</td>\n",
       "      <td>2.742321</td>\n",
       "      <td>5.824179</td>\n",
       "      <td>0.892595</td>\n",
       "      <td>0.107405</td>\n",
       "      <td>14.070784</td>\n",
       "      <td>5.198632</td>\n",
       "    </tr>\n",
       "    <tr>\n",
       "      <th>16271</th>\n",
       "      <td>2018-11-09 18:00:00</td>\n",
       "      <td>-5</td>\n",
       "      <td>2018313</td>\n",
       "      <td>2018</td>\n",
       "      <td>313</td>\n",
       "      <td>18</td>\n",
       "      <td>0.000</td>\n",
       "      <td>1.247916</td>\n",
       "      <td>-0.304977</td>\n",
       "      <td>-0.176298</td>\n",
       "      <td>1.747095</td>\n",
       "      <td>2.891424</td>\n",
       "      <td>0.000000</td>\n",
       "      <td>0.985729</td>\n",
       "      <td>0.014271</td>\n",
       "      <td>0.000000</td>\n",
       "      <td>0.000000</td>\n",
       "    </tr>\n",
       "  </tbody>\n",
       "</table>\n",
       "</div>"
      ],
      "text/plain": [
       "                local_time  offset     jday  Year  DOY  Hour   SW_inc  \\\n",
       "16267  2018-11-09 14:00:00      -5  2018313  2018  313    14  134.850   \n",
       "16268  2018-11-09 15:00:00      -5  2018313  2018  313    15  102.630   \n",
       "16269  2018-11-09 16:00:00      -5  2018313  2018  313    16   43.920   \n",
       "16270  2018-11-09 17:00:00      -5  2018313  2018  313    17    6.656   \n",
       "16271  2018-11-09 18:00:00      -5  2018313  2018  313    18    0.000   \n",
       "\n",
       "            LAI  solar_dec  solar_altitude       SZA  solar_azimuth2  \\\n",
       "16267  1.247916  -0.304193        0.515539  1.055258        2.149661   \n",
       "16268  1.247916  -0.304390        0.379444  1.191352        2.382262   \n",
       "16269  1.247916  -0.304586        0.212171  1.358625        2.576345   \n",
       "16270  1.247916  -0.304781        0.024429  1.546368        2.742321   \n",
       "16271  1.247916  -0.304977       -0.176298  1.747095        2.891424   \n",
       "\n",
       "           PAR_bc  veg_shade  bank_shade     PAR_inc  PAR_surface  \n",
       "16267  117.997375   0.995861    0.004139  285.072900   117.508953  \n",
       "16268   89.804009   0.993576    0.006424  216.959820    89.227115  \n",
       "16269   38.431181   0.987757    0.012243   92.846880    37.960656  \n",
       "16270    5.824179   0.892595    0.107405   14.070784     5.198632  \n",
       "16271    0.000000   0.985729    0.014271    0.000000     0.000000  "
      ]
     },
     "execution_count": 1,
     "metadata": {},
     "output_type": "execute_result"
    }
   ],
   "source": [
    "import pandas as pd \n",
    "import numpy as np\n",
    "import matplotlib.pyplot as plt\n",
    "import os\n",
    "from sklearn.metrics import mean_squared_error\n",
    "\n",
    "path_data_test = '../../watershed_workflow/test/data_test_streamlight/'\n",
    "\n",
    "data_ts = input_data_test_streamlight_df = pd.read_csv(os.path.join(path_data_test,'data_test_streamlight_time_series.csv'))\n",
    "\n",
    "data_params = input_data_test_streamlight_df = pd.read_csv(os.path.join(path_data_test,'data_test_streamlight_parameters.csv'))\n",
    "\n",
    "data_ts.tail()\n",
    "\n",
    "\n",
    "# ## Files with the drivers and results\n",
    "# input_data_test_streamlight_df = pd.read_csv(os.path.join(path_data_test,'input_data_test_streamlight.csv'))\n",
    "\n",
    "# results_test_streamlight_df = pd.read_csv(os.path.join(path_data_test,'results_test_streamlight.csv'))\n",
    "\n",
    "# test_solar_geo_calc_df = pd.read_csv(os.path.join(path_data_test,'input_data_test_solar_geo_calc.csv'))\n",
    "\n",
    "# data_comparison = pd.concat([input_data_test_streamlight_df, results_test_streamlight_df, test_solar_geo_calc_df],axis =1)\n",
    "\n",
    "# data_comparison.tail()\n",
    "# #input_data_test_streamlight_df.tail()\n"
   ]
  },
  {
   "cell_type": "code",
   "execution_count": 4,
   "metadata": {},
   "outputs": [
    {
     "data": {
      "text/plain": [
       "Index(['local_time', 'offset', 'jday', 'Year', 'DOY', 'Hour', 'SW_inc', 'LAI',\n",
       "       'solar_dec', 'solar_altitude', 'SZA', 'solar_azimuth2', 'PAR_bc',\n",
       "       'veg_shade', 'bank_shade', 'PAR_inc', 'PAR_surface'],\n",
       "      dtype='object')"
      ]
     },
     "execution_count": 4,
     "metadata": {},
     "output_type": "execute_result"
    }
   ],
   "source": [
    "data_ts.keys()"
   ]
  },
  {
   "cell_type": "code",
   "execution_count": 1,
   "metadata": {},
   "outputs": [
    {
     "ename": "TypeError",
     "evalue": "test_solar_dec() missing 1 required positional argument: 'sl_data'",
     "output_type": "error",
     "traceback": [
      "\u001b[0;31m---------------------------------------------------------------------------\u001b[0m",
      "\u001b[0;31mTypeError\u001b[0m                                 Traceback (most recent call last)",
      "\u001b[1;32m/Users/8n8/Documents/myRepos/watershed-workflow/examples/thermal_model/test_streamlight_class.ipynb Cell 3\u001b[0m in \u001b[0;36m<cell line: 3>\u001b[0;34m()\u001b[0m\n\u001b[1;32m      <a href='vscode-notebook-cell:/Users/8n8/Documents/myRepos/watershed-workflow/examples/thermal_model/test_streamlight_class.ipynb#X16sZmlsZQ%3D%3D?line=0'>1</a>\u001b[0m \u001b[39mimport\u001b[39;00m \u001b[39mwatershed_workflow\u001b[39;00m\u001b[39m.\u001b[39;00m\u001b[39mtest\u001b[39;00m\u001b[39m.\u001b[39;00m\u001b[39mtest_streamlight\u001b[39;00m\n\u001b[0;32m----> <a href='vscode-notebook-cell:/Users/8n8/Documents/myRepos/watershed-workflow/examples/thermal_model/test_streamlight_class.ipynb#X16sZmlsZQ%3D%3D?line=2'>3</a>\u001b[0m watershed_workflow\u001b[39m.\u001b[39;49mtest\u001b[39m.\u001b[39;49mtest_streamlight\u001b[39m.\u001b[39;49mtest_solar_dec()\n",
      "\u001b[0;31mTypeError\u001b[0m: test_solar_dec() missing 1 required positional argument: 'sl_data'"
     ]
    }
   ],
   "source": [
    "import watershed_workflow.test.test_streamlight\n",
    "\n",
    "watershed_workflow.test.test_streamlight.test_solar_dec()"
   ]
  },
  {
   "cell_type": "code",
   "execution_count": 1,
   "metadata": {},
   "outputs": [],
   "source": [
    "import numpy as np\n",
    "import matplotlib.pyplot as plt\n",
    "import os\n",
    "import pandas as pd\n",
    "from sklearn.metrics import mean_squared_error\n",
    "\n",
    "\n",
    "path_data_test = './data_test_streamlight/'\n",
    "\n",
    "# Files with the drivers and results\n",
    "input_data_test_streamlight_df = pd.read_csv(os.path.join(path_data_test,'input_data_test_streamlight.csv'))\n",
    "# input_data_test_streamlight_df.head()\n",
    "results_test_streamlight_df = pd.read_csv(os.path.join(path_data_test,'results_test_streamlight.csv'))\n",
    "# results_test_streamlight_df.head()\n",
    "test_solar_geo_calc_df = pd.read_csv(os.path.join(path_data_test,'input_data_test_solar_geo_calc.csv'))\n",
    "# test_solar_geo_calc_df.head()\n",
    "test_rt_cn_1998_df = pd.read_csv(os.path.join(path_data_test,'input_data_test_RT_CN_1998.csv'))\n",
    "# test_rt_cn_1998_df.head()\n",
    "test_shade2_df = pd.read_csv(os.path.join(path_data_test,'input_data_test_SHADE2.csv'))\n",
    "# test_shade2_df.head()\n",
    "test_stream_light_df = pd.read_csv(os.path.join(path_data_test,'input_data_test_stream_light.csv'))\n",
    "# test_stream_light_df.head()\n",
    "\n",
    "\n",
    "# Extract information from drivers\n",
    "doy = input_data_test_streamlight_df['DOY'].values\n",
    "hour = input_data_test_streamlight_df['Hour'].values\n",
    "tz_offset = input_data_test_streamlight_df['offset'].values\n",
    "sw_inc = input_data_test_streamlight_df['SW_inc'].values\n",
    "lai = input_data_test_streamlight_df['LAI'].values"
   ]
  },
  {
   "cell_type": "code",
   "execution_count": 5,
   "metadata": {},
   "outputs": [
    {
     "name": "stdout",
     "output_type": "stream",
     "text": [
      "True\n"
     ]
    }
   ],
   "source": [
    "path_data_test = None\n",
    "print(path_data_test is None)"
   ]
  },
  {
   "cell_type": "code",
   "execution_count": 2,
   "metadata": {},
   "outputs": [],
   "source": [
    "import stream_light\n",
    "\n",
    "sl = stream_light.StreamLight()\n",
    "\n",
    "# Channel characteristics \n",
    "sl.set_channel_properties(lat = 35.9925,lon = -79.0460,channel_azimuth = 330,bottom_width = 18.9,\n",
    "bank_height = 0.1,bank_slope = 100, water_depth = 0.05,\n",
    "tree_height = 23, overhang = 2.3, overhang_height = 0.1*23, x_LAD = 1)\n",
    "\n",
    "# Energy drivers\n",
    "sl.set_energy_drivers(doy = doy, hour = hour, tz_offset = tz_offset, sw_inc = sw_inc, lai = lai)\n",
    "\n",
    "# Run StreamLight\n",
    "sl.run_streamlight()\n"
   ]
  },
  {
   "cell_type": "code",
   "execution_count": 3,
   "metadata": {},
   "outputs": [
    {
     "data": {
      "text/plain": [
       "{'solar_dec': array([-0.40248896, -0.40243564, -0.40238211, ..., -0.30458557,\n",
       "        -0.30478144, -0.30497716]),\n",
       " 'solar_altitude': array([-0.36735674, -0.57572354, -0.78714071, ...,  0.21217116,\n",
       "         0.02442878, -0.17629844]),\n",
       " 'sza': array([1.93815307, 2.14651986, 2.35793704, ..., 1.35862517, 1.54636755,\n",
       "        1.74709476]),\n",
       " 'solar_azimuth': array([ 4.47081696,  4.60653821, -1.527597  , ...,  4.14714126,\n",
       "         4.31311699,  4.46222051])}"
      ]
     },
     "execution_count": 3,
     "metadata": {},
     "output_type": "execute_result"
    }
   ],
   "source": [
    "\n",
    "\n"
   ]
  },
  {
   "cell_type": "code",
   "execution_count": null,
   "metadata": {},
   "outputs": [],
   "source": [
    "sl.get_solar_angles()\n",
    "sl.solar_angles"
   ]
  },
  {
   "cell_type": "code",
   "execution_count": 4,
   "metadata": {},
   "outputs": [
    {
     "data": {
      "text/plain": [
       "{'diff_trans_PAR': array([0.        , 0.        , 0.        , ..., 9.03132743, 1.36868204,\n",
       "        0.        ]),\n",
       " 'beam_trans_PAR': array([0., 0., 0., ..., 0., 0., 0.]),\n",
       " 'total_trans_PAR': array([0.        , 0.        , 0.        , ..., 9.03132743, 1.36868204,\n",
       "        0.        ]),\n",
       " 'diff_trans': array([ 0.        ,  0.        ,  0.        , ..., 18.06265487,\n",
       "         2.73736409,  0.        ]),\n",
       " 'beam_trans': array([0., 0., 0., ..., 0., 0., 0.]),\n",
       " 'total_trans': array([ 0.        ,  0.        ,  0.        , ..., 18.06265487,\n",
       "         2.73736409,  0.        ]),\n",
       " 'ppfd': array([ 0.        ,  0.        ,  0.        , ..., 38.43118056,\n",
       "         5.82417891,  0.        ]),\n",
       " 'par_surface_original': None,\n",
       " 'energy_diff_surface_PAR': None,\n",
       " 'energy_beam_surface_PAR': None,\n",
       " 'energy_total_surface_PAR': None,\n",
       " 'energy_diff_surface': None,\n",
       " 'energy_beam_surface': None,\n",
       " 'energy_total_surface': None,\n",
       " 'energy_total_surface_PAR_ppfd': None}"
      ]
     },
     "execution_count": 4,
     "metadata": {},
     "output_type": "execute_result"
    }
   ],
   "source": [
    "sl.get_radiative_transfer_estimates_cn_1998()\n",
    "sl.energy_response"
   ]
  },
  {
   "cell_type": "code",
   "execution_count": 5,
   "metadata": {},
   "outputs": [
    {
     "data": {
      "text/plain": [
       "{'perc_shade_veg': array([0.99342384, 0.99630134, 0.99780252, ..., 0.9877567 , 0.89259488,\n",
       "        0.98572885]),\n",
       " 'perc_shade_bank': array([0.00657616, 0.00369866, 0.00219748, ..., 0.0122433 , 0.10740512,\n",
       "        0.01427115])}"
      ]
     },
     "execution_count": 5,
     "metadata": {},
     "output_type": "execute_result"
    }
   ],
   "source": [
    "sl.get_riparian_stream_shading()\n",
    "sl.shading_response"
   ]
  },
  {
   "cell_type": "code",
   "execution_count": 7,
   "metadata": {},
   "outputs": [
    {
     "data": {
      "text/plain": [
       "{'diff_trans_PAR': array([0.        , 0.        , 0.        , ..., 9.03132743, 1.36868204,\n",
       "        0.        ]),\n",
       " 'beam_trans_PAR': array([0., 0., 0., ..., 0., 0., 0.]),\n",
       " 'total_trans_PAR': array([0.        , 0.        , 0.        , ..., 9.03132743, 1.36868204,\n",
       "        0.        ]),\n",
       " 'diff_trans': array([ 0.        ,  0.        ,  0.        , ..., 18.06265487,\n",
       "         2.73736409,  0.        ]),\n",
       " 'beam_trans': array([0., 0., 0., ..., 0., 0., 0.]),\n",
       " 'total_trans': array([ 0.        ,  0.        ,  0.        , ..., 18.06265487,\n",
       "         2.73736409,  0.        ]),\n",
       " 'ppfd': array([ 0.        ,  0.        ,  0.        , ..., 38.43118056,\n",
       "         5.82417891,  0.        ]),\n",
       " 'par_surface_original': array([ 0.        ,  0.        ,  0.        , ..., 37.96065598,\n",
       "         5.19863225,  0.        ]),\n",
       " 'energy_diff_surface_PAR': array([0.        , 0.        , 0.        , ..., 8.92075416, 1.22167858,\n",
       "        0.        ]),\n",
       " 'energy_beam_surface_PAR': array([0., 0., 0., ..., 0., 0., 0.]),\n",
       " 'energy_total_surface_PAR': array([0.        , 0.        , 0.        , ..., 8.92075416, 1.22167858,\n",
       "        0.        ]),\n",
       " 'energy_diff_surface': array([ 0.        ,  0.        ,  0.        , ..., 17.84150831,\n",
       "         2.44335716,  0.        ]),\n",
       " 'energy_beam_surface': array([0., 0., 0., ..., 0., 0., 0.]),\n",
       " 'energy_total_surface': array([0.        , 0.        , 0.        , ..., 8.92075416, 1.22167858,\n",
       "        0.        ]),\n",
       " 'energy_total_surface_PAR_ppfd': array([ 0.        ,  0.        ,  0.        , ..., 37.96065598,\n",
       "         5.19863225,  0.        ])}"
      ]
     },
     "execution_count": 7,
     "metadata": {},
     "output_type": "execute_result"
    }
   ],
   "source": [
    "sl.get_energy_stream()\n",
    "sl.energy_response"
   ]
  },
  {
   "cell_type": "code",
   "execution_count": 9,
   "metadata": {},
   "outputs": [
    {
     "data": {
      "text/plain": [
       "<matplotlib.collections.PathCollection at 0x15893bb50>"
      ]
     },
     "execution_count": 9,
     "metadata": {},
     "output_type": "execute_result"
    },
    {
     "data": {
      "image/png": "[encoded data removed]",
      "text/plain": [
       "<Figure size 640x480 with 1 Axes>"
      ]
     },
     "metadata": {},
     "output_type": "display_data"
    }
   ],
   "source": [
    "fig, ax = plt.subplots(1)\n",
    "ax.scatter(sl.energy_response['par_surface_original'],sl.energy_response['energy_total_surface_PAR_ppfd'])\n"
   ]
  },
  {
   "cell_type": "code",
   "execution_count": null,
   "metadata": {},
   "outputs": [],
   "source": []
  }
 ],
 "metadata": {
  "kernelspec": {
   "display_name": "ww_geo",
   "language": "python",
   "name": "python3"
  },
  "language_info": {
   "codemirror_mode": {
    "name": "ipython",
    "version": 3
   },
   "file_extension": ".py",
   "mimetype": "text/x-python",
   "name": "python",
   "nbconvert_exporter": "python",
   "pygments_lexer": "ipython3",
   "version": "3.10.6"
  },
  "orig_nbformat": 4,
  "vscode": {
   "interpreter": {
    "hash": "5cce98fd5c43195bea27435077faca32bb7dfa1174b2158e58831381c0d5b355"
   }
  }
 },
 "nbformat": 4,
 "nbformat_minor": 2
}
