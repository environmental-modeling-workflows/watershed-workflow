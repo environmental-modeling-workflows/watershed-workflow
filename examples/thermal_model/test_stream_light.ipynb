{
 "cells": [
  {
   "cell_type": "code",
   "execution_count": 17,
   "metadata": {},
   "outputs": [],
   "source": [
    "import numpy as np\n",
    "import matplotlib.pyplot as plt\n",
    "import os\n",
    "import pandas as pd\n",
    "from sklearn.metrics import mean_squared_error\n",
    "\n",
    "from streamlight_functions import *\n",
    "\n",
    "path_data_test = './data_test_streamlight/'"
   ]
  },
  {
   "cell_type": "code",
   "execution_count": 2,
   "metadata": {},
   "outputs": [
    {
     "data": {
      "text/html": [
       "<div>\n",
       "<style scoped>\n",
       "    .dataframe tbody tr th:only-of-type {\n",
       "        vertical-align: middle;\n",
       "    }\n",
       "\n",
       "    .dataframe tbody tr th {\n",
       "        vertical-align: top;\n",
       "    }\n",
       "\n",
       "    .dataframe thead th {\n",
       "        text-align: right;\n",
       "    }\n",
       "</style>\n",
       "<table border=\"1\" class=\"dataframe\">\n",
       "  <thead>\n",
       "    <tr style=\"text-align: right;\">\n",
       "      <th></th>\n",
       "      <th>solar_dec</th>\n",
       "      <th>solar_altitude</th>\n",
       "      <th>SZA</th>\n",
       "      <th>solar_azimuth2</th>\n",
       "    </tr>\n",
       "  </thead>\n",
       "  <tbody>\n",
       "    <tr>\n",
       "      <th>0</th>\n",
       "      <td>-0.402489</td>\n",
       "      <td>-0.367357</td>\n",
       "      <td>1.938153</td>\n",
       "      <td>2.900021</td>\n",
       "    </tr>\n",
       "    <tr>\n",
       "      <th>1</th>\n",
       "      <td>-0.402436</td>\n",
       "      <td>-0.575724</td>\n",
       "      <td>2.146520</td>\n",
       "      <td>3.035742</td>\n",
       "    </tr>\n",
       "    <tr>\n",
       "      <th>2</th>\n",
       "      <td>-0.402382</td>\n",
       "      <td>-0.787141</td>\n",
       "      <td>2.357937</td>\n",
       "      <td>3.098393</td>\n",
       "    </tr>\n",
       "    <tr>\n",
       "      <th>3</th>\n",
       "      <td>-0.402328</td>\n",
       "      <td>-0.996680</td>\n",
       "      <td>2.567476</td>\n",
       "      <td>2.907571</td>\n",
       "    </tr>\n",
       "    <tr>\n",
       "      <th>4</th>\n",
       "      <td>-0.402274</td>\n",
       "      <td>-1.193046</td>\n",
       "      <td>2.763843</td>\n",
       "      <td>2.596481</td>\n",
       "    </tr>\n",
       "  </tbody>\n",
       "</table>\n",
       "</div>"
      ],
      "text/plain": [
       "   solar_dec  solar_altitude       SZA  solar_azimuth2\n",
       "0  -0.402489       -0.367357  1.938153        2.900021\n",
       "1  -0.402436       -0.575724  2.146520        3.035742\n",
       "2  -0.402382       -0.787141  2.357937        3.098393\n",
       "3  -0.402328       -0.996680  2.567476        2.907571\n",
       "4  -0.402274       -1.193046  2.763843        2.596481"
      ]
     },
     "execution_count": 2,
     "metadata": {},
     "output_type": "execute_result"
    }
   ],
   "source": [
    "input_data_test_streamlight_df = pd.read_csv(os.path.join(path_data_test,'input_data_test_streamlight.csv'))\n",
    "input_data_test_streamlight_df.head()\n",
    "\n",
    "results_test_streamlight_df = pd.read_csv(os.path.join(path_data_test,'results_test_streamlight.csv'))\n",
    "results_test_streamlight_df.head()\n",
    "\n",
    "test_solar_geo_calc_df = pd.read_csv(os.path.join(path_data_test,'input_data_test_solar_geo_calc.csv'))\n",
    "test_solar_geo_calc_df.head()\n"
   ]
  },
  {
   "cell_type": "markdown",
   "metadata": {},
   "source": [
    "# Input variables used for the test"
   ]
  },
  {
   "cell_type": "code",
   "execution_count": 3,
   "metadata": {},
   "outputs": [],
   "source": [
    "lat = 35.9925\n",
    "lon = -79.0460\n",
    "channel_azimuth = 330\n",
    "bottom_width = 18.9\n",
    "bh = 0.1\n",
    "bs = 100\n",
    "wl = 0.1\n",
    "th = 23\n",
    "overhang = 2.3\n",
    "overhang_height = np.nan\n",
    "x_LAD = 1\n",
    "\n",
    "doy = input_data_test_streamlight_df['DOY'].values\n",
    "hour = input_data_test_streamlight_df['Hour'].values\n",
    "tz_offset = input_data_test_streamlight_df['offset'].values"
   ]
  },
  {
   "cell_type": "markdown",
   "metadata": {},
   "source": [
    "# Test streamlight functions"
   ]
  },
  {
   "cell_type": "code",
   "execution_count": 18,
   "metadata": {},
   "outputs": [
    {
     "data": {
      "image/png": "[encoded data removed]",
      "text/plain": [
       "<Figure size 700x700 with 4 Axes>"
      ]
     },
     "metadata": {},
     "output_type": "display_data"
    }
   ],
   "source": [
    "solar_dec, solar_altitude, sza, solar_azimuth_ini = solar_geo_calc(doy, hour, tz_offset, lat, lon)\n",
    "\n",
    "solar_dec_true = test_solar_geo_calc_df['solar_dec'].values\n",
    "solar_altitude_true = test_solar_geo_calc_df['solar_altitude'].values\n",
    "sza_true = test_solar_geo_calc_df['SZA'].values\n",
    "solar_azimuth_ini_true = test_solar_geo_calc_df['solar_azimuth2'].values\n",
    "\n",
    "rmse_solar_dec = mean_squared_error(solar_dec_true,solar_dec, squared=False)\n",
    "\n",
    "fig, ax = plt.subplots(2,2, figsize=(7,7))\n",
    "ax = ax.flatten()\n",
    "ax[0].plot(solar_dec_true,solar_dec_true,'-k')\n",
    "ax[0].scatter(solar_dec_true,solar_dec, c = 'red', alpha=.1, s=1)\n",
    "ax[0].set_aspect('equal')\n",
    "\n",
    "plt.tight_layout(pad=0.4, w_pad=0.5, h_pad=1.0)"
   ]
  },
  {
   "cell_type": "code",
   "execution_count": 19,
   "metadata": {},
   "outputs": [
    {
     "data": {
      "text/plain": [
       "2.6307408432687047e-16"
      ]
     },
     "execution_count": 19,
     "metadata": {},
     "output_type": "execute_result"
    }
   ],
   "source": [
    "rmse_solar_dec"
   ]
  },
  {
   "cell_type": "code",
   "execution_count": null,
   "metadata": {},
   "outputs": [],
   "source": []
  }
 ],
 "metadata": {
  "kernelspec": {
   "display_name": "Python 3.10.6 ('ww_geo')",
   "language": "python",
   "name": "python3"
  },
  "language_info": {
   "codemirror_mode": {
    "name": "ipython",
    "version": 3
   },
   "file_extension": ".py",
   "mimetype": "text/x-python",
   "name": "python",
   "nbconvert_exporter": "python",
   "pygments_lexer": "ipython3",
   "version": "3.10.6"
  },
  "orig_nbformat": 4,
  "vscode": {
   "interpreter": {
    "hash": "5cce98fd5c43195bea27435077faca32bb7dfa1174b2158e58831381c0d5b355"
   }
  }
 },
 "nbformat": 4,
 "nbformat_minor": 2
}
