{
 "cells": [
  {
   "cell_type": "markdown",
   "id": "68c4f8ea",
   "metadata": {
    "papermill": {
     "duration": 0.155249,
     "end_time": "2022-03-07T15:48:59.904477",
     "exception": false,
     "start_time": "2022-03-07T15:48:59.749228",
     "status": "completed"
    },
    "tags": []
   },
   "source": [
    "# Complete Workflow for generating ATS input for Coweeta\n",
    "\n",
    "This workflow provides a complete working example to develop an unstructured mesh for an integrated hydrologic model based on HUCs.  It is the default workflow for integrated hydrology simulations for Exasheds Simulation Campaign 2.\n",
    "\n",
    "It uses the following datasets:\n",
    "\n",
    "* `NHD Plus` for the watershed boundary and hydrography.\n",
    "* `NED` for elevation\n",
    "* `NLCD` for land cover/transpiration/rooting depths\n",
    "* `GLYHMPS` geology data for structural formations\n",
    "* `SoilGrids 2017` for depth to bedrock and soil texture information\n",
    "* `SSURGO` for soil data, where available, in the top 2m.\n",
    "\n",
    "Given some basic inputs (in the next cell) including a NAME, this workflow creates the following files (noting that some suffixes may be appended to the user-provided NAME in homogeneous cases):\n",
    "\n",
    "* Mesh file: `{NAME}.exo`, includes all labeled sets\n",
    "* Forcing: DayMet data -- daily raster of precip, RH, incoming radiation, etc.\n",
    "  - `{NAME}_DayMet_1910_2020.h5`, the DayMet data on this watershed\n",
    "  - `{NAME}_DayMet_typical_1910_2020.h5`, a \"typical year\" of DayMet, smoothed for spinup purposes, then looped 40 years\n",
    "* Forcing: LAI data -- every 4 days, time series by land cover type of LAI.  Note, the raw inputs to this are not done by NAME, but by an (optional, defaults to NAME) MODIS_NAME variable.  Since WW does not currently download MODIS, one might want to use a file of a different name to provide MODIS data.  The times of this MODIS data are hard-coded too -- this is all a bit wonky and will remain so until we get around to adding a file manager for MODIS data.\n",
    "  - `{NAME}_MODIS_LAI_smoothed_2010_2020.h5`, the LAI, interpolated and smoothed from the raw MODIS data\n",
    "  - `{NAME}_MODIS_LAI_typical_2010_2020.h5`, a \"typical year\" of LAI, smoothed for spinup purposes then looped 10 years\n",
    "* Input files: ATS xml files\n",
    "  - `spinup-steadystate-{NAME}.xml` the steady-state solution based on uniform application of mean rainfall rate\n",
    "  - `spinup-cyclic_steadystate-{NAME}.xml` the cyclic steady state based on typical years\n",
    "  - `transient-{NAME}.xml` the forward model\n"
   ]
  },
  {
   "cell_type": "code",
   "execution_count": 1,
   "id": "13880ecd-7fba-4d49-ac3a-dfd1d563c47a",
   "metadata": {
    "papermill": {
     "duration": 0.162792,
     "end_time": "2022-03-07T15:49:00.201712",
     "exception": false,
     "start_time": "2022-03-07T15:49:00.038920",
     "status": "completed"
    },
    "tags": []
   },
   "outputs": [],
   "source": [
    "# these can be turned on for development work\n",
    "%load_ext autoreload\n",
    "%autoreload 2"
   ]
  },
  {
   "cell_type": "markdown",
   "id": "32f9c839-7706-4428-8976-d90c9064afd0",
   "metadata": {},
   "source": [
    "## Parameters and data sources"
   ]
  },
  {
   "cell_type": "code",
   "execution_count": 2,
   "id": "bd98b139",
   "metadata": {
    "papermill": {
     "duration": 0.151179,
     "end_time": "2022-03-07T15:49:00.483343",
     "exception": false,
     "start_time": "2022-03-07T15:49:00.332164",
     "status": "completed"
    },
    "tags": [
     "parameters"
    ]
   },
   "outputs": [],
   "source": [
    "# Parameters cell -- this provides all parameters that can be changed via pipelining to generate a new watershed.\n",
    "name = 'Coweeta' # name the domain, used in filenames, etc\n",
    "hint = '0601'\n",
    "\n",
    "# geometric parameters\n",
    "simplify = 60 # length scale to target average edge\n",
    "stream_outlet_width = 500 # half-width to track a labeled set on which to get discharge\n",
    "ignore_small_rivers = 2 # ignore rivers which have this or fewer reaches.  likely they are irrigation ditches\n",
    "                        # or other small features which make things complicated but likely don't add much value\n",
    "prune_by_area_fraction = 0.01 # ignore reaches whose accumulated catchment area is less than this fraction of the\n",
    "                              # full domain's area\n",
    "num_smoothing_sweeps = 5 # number of times to smooth the DEM prior to elevating\n",
    "\n",
    "# simulation control\n",
    "start_year = 2010  # year to start and end simulation simulation -- note the run itself will actually start and end Oct 1 of the year\n",
    "end_year = 2020\n",
    "nyears_cyclic_steadystate = 4\n",
    "\n",
    "# soil property control\n",
    "min_porosity = 0.05 # minimum porosity considered too small\n",
    "max_permeability = 1.e-10 # max value allowed for permeability\n",
    "max_vg_alpha = 1.e-3 # max value of van Genuchten's alpha -- our correlation is not valid for some soils\n",
    "\n",
    "# triangle refinement control\n",
    "include_rivers = True\n",
    "# huc boundary refinement control\n",
    "refine_d0 = 20\n",
    "refine_d1 = 100\n",
    "refine_L0 = 70\n",
    "refine_L1 = 200\n",
    "refine_A0 = refine_L0**2 / 2\n",
    "refine_A1 = refine_L1**2 / 2\n",
    "\n",
    "# soil structure\n",
    "use_geologic_layer = True\n",
    "\n",
    "# logistics\n",
    "generate_plots = True # plots take time to make and aren't always needed\n",
    "generate_daymet = True # potentially don't do Met data forcing\n",
    "generate_modis = True\n",
    "\n",
    "log_to_file = False  # if true, write to file instead of in the notebook output"
   ]
  },
  {
   "cell_type": "code",
   "execution_count": 3,
   "id": "4c39048e",
   "metadata": {
    "papermill": {
     "duration": 0.162783,
     "end_time": "2022-03-07T15:49:01.109301",
     "exception": false,
     "start_time": "2022-03-07T15:49:00.946518",
     "status": "completed"
    },
    "tags": []
   },
   "outputs": [],
   "source": [
    "# parameter checking\n",
    "assert(simplify > 0 and simplify < 300)\n",
    "assert(ignore_small_rivers == None or (ignore_small_rivers >= 0 and ignore_small_rivers <= 100))\n",
    "assert(prune_by_area_fraction == None or (prune_by_area_fraction >= 0 and prune_by_area_fraction < 1))\n",
    "assert(start_year >= 1980 and start_year < 2020)"
   ]
  },
  {
   "cell_type": "code",
   "execution_count": 4,
   "id": "9695d127",
   "metadata": {
    "papermill": {
     "duration": 0.152343,
     "end_time": "2022-03-07T15:49:01.391199",
     "exception": false,
     "start_time": "2022-03-07T15:49:01.238856",
     "status": "completed"
    },
    "tags": []
   },
   "outputs": [],
   "source": [
    "# a dictionary of outputs -- will include all filenames generated\n",
    "outputs = {}"
   ]
  },
  {
   "cell_type": "code",
   "execution_count": 5,
   "id": "a6e74e65",
   "metadata": {
    "papermill": {
     "duration": 3.514941,
     "end_time": "2022-03-07T15:49:05.037105",
     "exception": false,
     "start_time": "2022-03-07T15:49:01.522164",
     "status": "completed"
    },
    "tags": []
   },
   "outputs": [],
   "source": [
    "# conda package imports\n",
    "import os,sys\n",
    "import numpy as np\n",
    "import shapely\n",
    "import copy\n",
    "import logging\n",
    "from matplotlib import pyplot as plt\n",
    "plt.rcParams['figure.figsize'] = (15,10)\n",
    "import cftime, datetime\n",
    "import pandas\n",
    "pandas.options.display.max_columns = None\n",
    "pandas.options.display.max_rows = None\n",
    "\n",
    "# Watershed Workflow\n",
    "import watershed_workflow\n",
    "import watershed_workflow.source_list\n",
    "import watershed_workflow.ui\n",
    "import watershed_workflow.colors\n",
    "import watershed_workflow.condition\n",
    "import watershed_workflow.mesh\n",
    "import watershed_workflow.regions\n",
    "import watershed_workflow.split_hucs\n",
    "import watershed_workflow.soil_properties\n",
    "import watershed_workflow.daymet\n",
    "import watershed_workflow.land_cover_properties\n",
    "import watershed_workflow.timeseries\n",
    "import watershed_workflow.datasets\n",
    "\n",
    "\n",
    "if log_to_file:\n",
    "    outputs['logfile'] = f'{name}.log'\n",
    "    # is this right?  the file handle will become stale... test once this is pipelined.\n",
    "    with open(outputs['logfile'], 'w') as fid:\n",
    "        watershed_workflow.ui.setup_logging(1,fid)\n",
    "else:\n",
    "    watershed_workflow.ui.setup_logging(1,None)\n",
    "\n",
    "# ats_input_spec library, to be moved to amanzi_xml\n",
    "import ats_input_spec\n",
    "import ats_input_spec.public\n",
    "import ats_input_spec.io\n",
    "\n",
    "# amanzi_xml, included in AMANZI_SRC_DIR/tools/amanzi_xml\n",
    "import amanzi_xml.utils.io as aio\n",
    "import amanzi_xml.utils.search as asearch\n",
    "import amanzi_xml.utils.errors as aerrors\n"
   ]
  },
  {
   "cell_type": "code",
   "execution_count": 6,
   "id": "93821426",
   "metadata": {
    "papermill": {
     "duration": 0.169238,
     "end_time": "2022-03-07T15:49:05.337830",
     "exception": false,
     "start_time": "2022-03-07T15:49:05.168592",
     "status": "completed"
    },
    "tags": []
   },
   "outputs": [],
   "source": [
    "# Note that, by default, we tend to work in the DayMet CRS because this allows us to avoid\n",
    "# reprojecting meteorological forcing datasets.\n",
    "crs = watershed_workflow.crs.daymet_crs()"
   ]
  },
  {
   "cell_type": "markdown",
   "id": "a6569dcd",
   "metadata": {
    "papermill": {
     "duration": 0.152278,
     "end_time": "2022-03-07T15:49:05.936761",
     "exception": false,
     "start_time": "2022-03-07T15:49:05.784483",
     "status": "completed"
    },
    "tags": []
   },
   "source": [
    "Next we set up the source watershed and coordinate system and all data sources for our mesh.  We will use the CRS that is included in the shapefile. A wide range of data sources are available; here we use the defaults except for using NHD Plus for watershed boundaries and hydrography (the default is NHD, which is lower resolution and therefore smaller download sizes)."
   ]
  },
  {
   "cell_type": "code",
   "execution_count": 7,
   "id": "17feb6e0",
   "metadata": {
    "papermill": {
     "duration": 0.181137,
     "end_time": "2022-03-07T15:49:06.850648",
     "exception": false,
     "start_time": "2022-03-07T15:49:06.669511",
     "status": "completed"
    },
    "scrolled": true,
    "tags": []
   },
   "outputs": [
    {
     "name": "stderr",
     "output_type": "stream",
     "text": [
      "2024-05-07 14:39:27,283 - root - INFO: Using sources:\n",
      "2024-05-07 14:39:27,283 - root - INFO: --------------\n",
      "2024-05-07 14:39:27,284 - root - INFO: HUC: National Hydrography Dataset Plus High Resolution (NHDPlus HR)\n",
      "2024-05-07 14:39:27,284 - root - INFO: hydrography: National Hydrography Dataset Plus High Resolution (NHDPlus HR)\n",
      "2024-05-07 14:39:27,284 - root - INFO: DEM: National Elevation Dataset (NED)\n",
      "2024-05-07 14:39:27,284 - root - INFO: soil structure: National Resources Conservation Service Soil Survey (NRCS Soils)\n",
      "2024-05-07 14:39:27,284 - root - INFO: geologic structure: input_data/GLHYMPS/GLHYMPS.shp\n",
      "2024-05-07 14:39:27,284 - root - INFO: land cover: raster\n",
      "2024-05-07 14:39:27,284 - root - INFO: lai: MODIS\n",
      "2024-05-07 14:39:27,285 - root - INFO: soil thickness: None\n",
      "2024-05-07 14:39:27,285 - root - INFO: meteorology: DayMet 1km\n",
      "2024-05-07 14:39:27,285 - root - INFO: depth to bedrock: raster\n"
     ]
    }
   ],
   "source": [
    "# set up a dictionary of source objects\n",
    "sources = watershed_workflow.source_list.get_default_sources()\n",
    "sources['hydrography'] = watershed_workflow.source_list.hydrography_sources['NHD Plus']\n",
    "\n",
    "#\n",
    "# This demo uses a few datasets that have been clipped out of larger, national\n",
    "# datasets and are distributed with the code.  This is simply to save download\n",
    "# time for this simple problem and to lower the barrier for trying out\n",
    "# Watershed Workflow.  A more typical workflow would delete these lines (as \n",
    "# these files would not exist for other watersheds).\n",
    "#\n",
    "# The default versions of these download large raster and shapefile files that\n",
    "# are defined over a very large region (globally or the entire US).\n",
    "#\n",
    "# Note we also prepopulate some data for MODIS data as well.\n",
    "#\n",
    "sources['land cover'] = watershed_workflow.source_list.FileManagerRaster(os.path.join('input_data', 'land_cover', 'land_cover.tif'))\n",
    "sources['geologic structure'] = watershed_workflow.source_list.FileManagerGLHYMPS(os.path.join('input_data', 'GLHYMPS', 'GLHYMPS.shp'))\n",
    "sources['depth to bedrock'] = watershed_workflow.source_list.FileManagerRaster(os.path.join('input_data', 'DTB', 'DTB.tif'))\n",
    "watershed_workflow.source_list.log_sources(sources)\n"
   ]
  },
  {
   "cell_type": "markdown",
   "id": "2cf9cb0b",
   "metadata": {
    "papermill": {
     "duration": 0.158265,
     "end_time": "2022-03-07T15:49:08.362498",
     "exception": false,
     "start_time": "2022-03-07T15:49:08.204233",
     "status": "completed"
    },
    "tags": []
   },
   "source": [
    "## Generate the surface mesh\n",
    "\n",
    "First we'll generate the flattened, 2D triangulation, which builds on hydrography data.  Then we download a digital elevation map from the National Elevation Dataset, and extrude that 2D triangulation to a 3D surface mesh based on interpolation between pixels of the DEM."
   ]
  },
  {
   "cell_type": "markdown",
   "id": "3c64ab13",
   "metadata": {
    "papermill": {
     "duration": 0.158192,
     "end_time": "2022-03-07T15:49:08.671476",
     "exception": false,
     "start_time": "2022-03-07T15:49:08.513284",
     "status": "completed"
    },
    "tags": []
   },
   "source": [
    "### Acquire the input data\n",
    "\n",
    "Here we load the watershed, provided by the user as a shapefile, and download the river network within that shape from the NHD Plus database, and simplify the network, constructing a tree-like data structure."
   ]
  },
  {
   "cell_type": "code",
   "execution_count": 8,
   "id": "d9dc8052",
   "metadata": {
    "papermill": {
     "duration": 1.062941,
     "end_time": "2022-03-07T15:49:08.052493",
     "exception": false,
     "start_time": "2022-03-07T15:49:06.989552",
     "status": "completed"
    },
    "tags": []
   },
   "outputs": [
    {
     "name": "stderr",
     "output_type": "stream",
     "text": [
      "2024-05-07 14:39:27,293 - root - INFO: \n",
      "2024-05-07 14:39:27,294 - root - INFO: Loading shapes\n",
      "2024-05-07 14:39:27,294 - root - INFO: ------------------------------\n",
      "2024-05-07 14:39:27,294 - root - INFO: Loading file: 'input_data/coweeta_basin.shp'\n",
      "2024-05-07 14:39:27,303 - root - INFO: ... found 1 shapes\n",
      "2024-05-07 14:39:27,304 - root - INFO: Converting to shapely\n",
      "2024-05-07 14:39:27,304 - root - INFO:  ... done\n",
      "2024-05-07 14:39:27,305 - root - INFO: Converting to requested CRS\n",
      "2024-05-07 14:39:27,309 - root - INFO:  ... done\n",
      "2024-05-07 14:39:27,310 - root - INFO: Removing holes on 1 polygons\n",
      "2024-05-07 14:39:27,310 - root - INFO:   -- removed interior\n",
      "2024-05-07 14:39:27,310 - root - INFO:   -- union\n",
      "2024-05-07 14:39:27,310 - root - INFO: Parsing 1 components for holes\n",
      "2024-05-07 14:39:27,310 - root - INFO:   -- complete\n"
     ]
    }
   ],
   "source": [
    "# load the watershed from shapefile\n",
    "coweeta_shapefile = os.path.join('input_data', 'coweeta_basin.shp')\n",
    "_, watershed = watershed_workflow.get_split_form_shapes(coweeta_shapefile, out_crs=crs)"
   ]
  },
  {
   "cell_type": "code",
   "execution_count": 9,
   "id": "0a029c68",
   "metadata": {
    "papermill": {
     "duration": 17.12139,
     "end_time": "2022-03-07T15:49:25.973662",
     "exception": false,
     "start_time": "2022-03-07T15:49:08.852272",
     "status": "completed"
    },
    "tags": []
   },
   "outputs": [
    {
     "name": "stderr",
     "output_type": "stream",
     "text": [
      "2024-05-07 14:39:27,320 - root - INFO: \n",
      "2024-05-07 14:39:27,320 - root - INFO: Loading Hydrography\n",
      "2024-05-07 14:39:27,321 - root - INFO: ------------------------------\n",
      "2024-05-07 14:39:27,321 - root - INFO: Loading streams in HUC 0601\n",
      "2024-05-07 14:39:27,321 - root - INFO:          and/or bounds (1442132.8431974081, -650282.0481837074, 1447117.7928619597, -645090.2638397979)\n",
      "2024-05-07 14:39:27,322 - root - INFO:   Using Hydrography file \"/home/ecoon/code/watershed_workflow/data/hydrography/NHDPlus_H_0601_GDB/NHDPlus_H_0601.gdb\"\n",
      "2024-05-07 14:39:27,322 - root - INFO:   National Hydrography Dataset Plus High Resolution (NHDPlus HR): opening '/home/ecoon/code/watershed_workflow/data/hydrography/NHDPlus_H_0601_GDB/NHDPlus_H_0601.gdb' layer 'NHDFlowline' for streams in '(1442132.8431974081, -650282.0481837074, 1447117.7928619597, -645090.2638397979)'\n",
      "2024-05-07 14:39:27,410 - root - INFO:   Found total of 43 in bounds.\n",
      "2024-05-07 14:39:27,410 - root - INFO: Filtering reaches not in-network\n",
      "2024-05-07 14:39:37,437 - root - INFO: ... found 43 reaches\n",
      "2024-05-07 14:39:37,438 - root - INFO: Converting to shapely\n",
      "2024-05-07 14:39:37,442 - root - INFO:  ... done\n",
      "2024-05-07 14:39:37,442 - root - INFO: Converting to out_crs\n",
      "2024-05-07 14:39:37,443 - root - INFO:   EPSG:4269\n",
      "2024-05-07 14:39:37,443 - root - INFO:   +proj=lcc +lat_1=25 +lat_2=60 +lat_0=42.5 +lon_0=-100 +x_0=0 +y_0=0 +ellps=WGS84 +units=m +no_defs +type=crs\n",
      "2024-05-07 14:39:37,450 - root - INFO: (1439906.8307705333, -652545.1005917601, 1448686.0302763365, -643360.2891030579)\n",
      "2024-05-07 14:39:37,450 - root - INFO:  ... done\n",
      "2024-05-07 14:39:37,452 - root - INFO: Removed 22 of 43 reaches not in shape\n",
      "2024-05-07 14:39:37,453 - root - INFO: \n",
      "2024-05-07 14:39:37,453 - root - INFO: Constructing river network\n",
      "2024-05-07 14:39:37,453 - root - INFO: ------------------------------\n",
      "2024-05-07 14:39:37,453 - root - INFO: Generating the river tree\n",
      "2024-05-07 14:39:37,454 - root - INFO:  ... generated 1 rivers\n",
      "2024-05-07 14:39:37,454 - root - INFO: Removing rivers with fewer than 2 reaches.\n",
      "2024-05-07 14:39:37,454 - root - INFO: ... removed 0 rivers\n",
      "2024-05-07 14:39:37,454 - root - INFO: Removing rivers with area < 0.15077295398495133\n",
      "2024-05-07 14:39:37,454 - root - INFO: Removing divergent sections...\n",
      "2024-05-07 14:39:37,454 - root - INFO:   ... removed 0 divergence tributaries with 0 total reaches.\n",
      "2024-05-07 14:39:37,454 - root - INFO: Pruning by total contributing area < 0.15077295398495133\n",
      "2024-05-07 14:39:37,455 - root - INFO: ... pruned 0\n",
      "2024-05-07 14:39:37,455 - root - INFO: Removing rivers with fewer than 2 reaches.\n",
      "2024-05-07 14:39:37,455 - root - INFO: ... removed 0 rivers\n"
     ]
    }
   ],
   "source": [
    "# download/collect the river network within that shape's bounds\n",
    "_, reaches = watershed_workflow.get_reaches(sources['hydrography'], hint, \n",
    "                                            watershed.exterior(), crs, crs,\n",
    "                                            in_network=True, properties=True)\n",
    "\n",
    "# construct the dendritic tree of the river\n",
    "rivers = watershed_workflow.construct_rivers(reaches, method='hydroseq',\n",
    "                                             ignore_small_rivers=ignore_small_rivers,\n",
    "                                             prune_by_area=prune_by_area_fraction * watershed.exterior().area * 1.e-6,\n",
    "                                             remove_diversions=True,\n",
    "                                             remove_braided_divergences=True)\n",
    "\n",
    "# keep a copy of the originals for plotting\n",
    "rivers_orig = [river.deepcopy() for river in rivers]\n",
    "watershed_orig = copy.deepcopy(watershed) \n"
   ]
  },
  {
   "cell_type": "markdown",
   "id": "edc066c3-e1d7-4e12-b3cc-1ed85cdfb3dd",
   "metadata": {},
   "source": [
    "### Resample both the River Network and Watershed\n",
    "\n",
    "The raw line segments that form both watersheds and rivers can have subsequent coordinates that are both very close (to capture high resolution features) and very far away (when features are very straight).  To turn these into a mesh, we want all edges to be about the same length, as these edges will form the key length scale of our unstructured mesh resolution.  Therefore, we first simplify the river and watershed, which relaxes features that are too high resolution and therefore removes edges that are too short, then densify, which fills in edges that are too long.\n"
   ]
  },
  {
   "cell_type": "code",
   "execution_count": 10,
   "id": "131e83cf-261c-4ad0-9317-e9c25f7d326c",
   "metadata": {},
   "outputs": [
    {
     "name": "stderr",
     "output_type": "stream",
     "text": [
      "2024-05-07 14:39:37,467 - root - INFO: \n",
      "2024-05-07 14:39:37,467 - root - INFO: Simplifying\n",
      "2024-05-07 14:39:37,467 - root - INFO: ------------------------------\n",
      "2024-05-07 14:39:37,468 - root - INFO: Simplifying rivers\n",
      "2024-05-07 14:39:37,471 - root - INFO: Simplifying HUCs\n",
      "2024-05-07 14:39:37,472 - root - INFO: Snapping river and HUC (nearly) coincident nodes\n",
      "2024-05-07 14:39:37,472 - root - INFO:   snapping polygon segment boundaries to river endpoints\n",
      "2024-05-07 14:39:37,473 - root - INFO:   snapping river endpoints to the polygon\n",
      "2024-05-07 14:39:37,478 - root - INFO:   cutting at crossings\n",
      "2024-05-07 14:39:37,479 - root - INFO: intersection found\n",
      "2024-05-07 14:39:37,480 - root - INFO:   - cutting reach at external boundary of HUCs:\n",
      "2024-05-07 14:39:37,480 - root - INFO:       split HUC boundary seg into 2 pieces\n",
      "2024-05-07 14:39:37,480 - root - INFO:       split reach seg into 2 pieces\n",
      "2024-05-07 14:39:37,483 - root - INFO: Cutting crossings and removing external segments\n",
      "2024-05-07 14:39:37,484 - root - INFO:   cutting at crossings\n",
      "2024-05-07 14:39:37,484 - root - INFO: intersection found\n",
      "2024-05-07 14:39:37,484 - root - INFO:   - cutting reach at external boundary of HUCs:\n",
      "2024-05-07 14:39:37,485 - root - INFO:       split HUC boundary seg into 1 pieces\n",
      "2024-05-07 14:39:37,485 - root - INFO:       split reach seg into 1 pieces\n",
      "2024-05-07 14:39:37,486 - root - INFO: \n",
      "2024-05-07 14:39:37,486 - root - INFO: Simplification Diagnostics\n",
      "2024-05-07 14:39:37,486 - root - INFO: ------------------------------\n",
      "2024-05-07 14:39:37,487 - root - INFO:   river min seg length: 125.37694809143338\n",
      "2024-05-07 14:39:37,487 - root - INFO:   river median seg length: 356.68315119633115\n",
      "2024-05-07 14:39:37,488 - root - INFO:   HUC min seg length: 135.49952821829552\n",
      "2024-05-07 14:39:37,488 - root - INFO:   HUC median seg length: 152.2468246560089\n"
     ]
    }
   ],
   "source": [
    "# simplify\n",
    "rivers = watershed_workflow.simplify(watershed, rivers, simplify_hucs=simplify, simplify_rivers=simplify,\n",
    "                           snap_tol=0.75*simplify, cut_intersections=True)\n",
    "\n",
    "# for plotting purpose only\n",
    "rivers_simplified = [river.deepcopy() for river in rivers] \n",
    "watershed_simplified = copy.deepcopy(watershed) "
   ]
  },
  {
   "cell_type": "code",
   "execution_count": 11,
   "id": "407fcdfc-70b8-4aaf-8797-97d22fe6dfa8",
   "metadata": {},
   "outputs": [
    {
     "name": "stderr",
     "output_type": "stream",
     "text": [
      "2024-05-07 14:39:37,521 - root - INFO:   river min seg length: 49.491716006188156\n",
      "2024-05-07 14:39:37,521 - root - INFO:   river median seg length: 57.86231438772043\n",
      "2024-05-07 14:39:37,553 - root - INFO: removing sharp angle between river and huc: 6.385078051472874 for node 25000400358462\n"
     ]
    }
   ],
   "source": [
    "# densify\n",
    "d0 = refine_d0; d1 = refine_d1\n",
    "L0 = refine_L0; L1 = refine_L1 \n",
    "\n",
    "# densify the watershed\n",
    "#\n",
    "# Note that the watershed boundary is densified with a variable length scale, with shorter edges near the rivers and longer edges\n",
    "# away from the rivers.  This corresponds with how triangles will be refined near the river and coarser away from the river.\n",
    "watershed_workflow.densification.densify_hucs(watershed, watershed_orig, rivers, limit_scales=[d0,L0,d1,L1]) \n",
    "\n",
    "# densify the river\n",
    "watershed_workflow.densification.densify_rivers(rivers, rivers_orig, limit=70)\n",
    "\n",
    "# nudge apart sharp angles, which otherwise introduce very small triangles\n",
    "watershed_workflow.densification.remove_sharp_angles(rivers, watershed, angle_limit=10, junction_angle_limit=10, huc_seg_river_angle_limit=10, limit=70)"
   ]
  },
  {
   "cell_type": "code",
   "execution_count": 12,
   "id": "34c3e26f-5aae-4d42-a073-51793121eff2",
   "metadata": {},
   "outputs": [
    {
     "name": "stderr",
     "output_type": "stream",
     "text": [
      "/home/ecoon/code/miniforge3/envs/watershed-workflow-master-20240424/lib/python3.10/site-packages/pyproj/crs/crs.py:1286: UserWarning: You will likely lose important projection information when converting to a PROJ string from another format. See: https://proj.org/faq.html#what-is-the-best-format-for-describing-coordinate-reference-systems\n",
      "  proj = self._crs.to_proj4(version=version)\n",
      "/home/ecoon/code/miniforge3/envs/watershed-workflow-master-20240424/lib/python3.10/site-packages/pyproj/crs/crs.py:1286: UserWarning: You will likely lose important projection information when converting to a PROJ string from another format. See: https://proj.org/faq.html#what-is-the-best-format-for-describing-coordinate-reference-systems\n",
      "  proj = self._crs.to_proj4(version=version)\n",
      "/home/ecoon/code/miniforge3/envs/watershed-workflow-master-20240424/lib/python3.10/site-packages/pyproj/crs/crs.py:1286: UserWarning: You will likely lose important projection information when converting to a PROJ string from another format. See: https://proj.org/faq.html#what-is-the-best-format-for-describing-coordinate-reference-systems\n",
      "  proj = self._crs.to_proj4(version=version)\n",
      "/home/ecoon/code/miniforge3/envs/watershed-workflow-master-20240424/lib/python3.10/site-packages/pyproj/crs/crs.py:1286: UserWarning: You will likely lose important projection information when converting to a PROJ string from another format. See: https://proj.org/faq.html#what-is-the-best-format-for-describing-coordinate-reference-systems\n",
      "  proj = self._crs.to_proj4(version=version)\n",
      "/home/ecoon/code/miniforge3/envs/watershed-workflow-master-20240424/lib/python3.10/site-packages/pyproj/crs/crs.py:1286: UserWarning: You will likely lose important projection information when converting to a PROJ string from another format. See: https://proj.org/faq.html#what-is-the-best-format-for-describing-coordinate-reference-systems\n",
      "  proj = self._crs.to_proj4(version=version)\n",
      "/home/ecoon/code/miniforge3/envs/watershed-workflow-master-20240424/lib/python3.10/site-packages/pyproj/crs/crs.py:1286: UserWarning: You will likely lose important projection information when converting to a PROJ string from another format. See: https://proj.org/faq.html#what-is-the-best-format-for-describing-coordinate-reference-systems\n",
      "  proj = self._crs.to_proj4(version=version)\n",
      "/home/ecoon/code/miniforge3/envs/watershed-workflow-master-20240424/lib/python3.10/site-packages/pyproj/crs/crs.py:1286: UserWarning: You will likely lose important projection information when converting to a PROJ string from another format. See: https://proj.org/faq.html#what-is-the-best-format-for-describing-coordinate-reference-systems\n",
      "  proj = self._crs.to_proj4(version=version)\n",
      "/home/ecoon/code/miniforge3/envs/watershed-workflow-master-20240424/lib/python3.10/site-packages/pyproj/crs/crs.py:1286: UserWarning: You will likely lose important projection information when converting to a PROJ string from another format. See: https://proj.org/faq.html#what-is-the-best-format-for-describing-coordinate-reference-systems\n",
      "  proj = self._crs.to_proj4(version=version)\n",
      "/home/ecoon/code/miniforge3/envs/watershed-workflow-master-20240424/lib/python3.10/site-packages/pyproj/crs/crs.py:1286: UserWarning: You will likely lose important projection information when converting to a PROJ string from another format. See: https://proj.org/faq.html#what-is-the-best-format-for-describing-coordinate-reference-systems\n",
      "  proj = self._crs.to_proj4(version=version)\n"
     ]
    },
    {
     "data": {
      "text/plain": [
       "Text(0.5, 1.0, 'after densify')"
      ]
     },
     "execution_count": 12,
     "metadata": {},
     "output_type": "execute_result"
    },
    {
     "data": {
      "image/png": "[encoded data removed]",
      "text/plain": [
       "<Figure size 1500x1000 with 3 Axes>"
      ]
     },
     "metadata": {},
     "output_type": "display_data"
    }
   ],
   "source": [
    "# visually compare the original, simplified and re-densified huc and river\n",
    "fig, axs = watershed_workflow.plot.get_ax(crs, nrow=1, ncol=3)\n",
    "\n",
    "watershed_workflow.plot.hucs(watershed_orig, crs, 'k', axs[0], marker='x')\n",
    "watershed_workflow.plot.shplys(list(rivers_orig[0]), crs, ax=axs[0], marker='x')\n",
    "axs[0].set_title('original river network and hucs',fontsize=16)\n",
    "\n",
    "watershed_workflow.plot.hucs(watershed_simplified, crs, 'k', axs[1], marker='x')\n",
    "watershed_workflow.plot.shplys(list(rivers_simplified[0]), crs, ax=axs[1], marker='x')\n",
    "axs[1].set_title('after simplify',fontsize=16)\n",
    "\n",
    "watershed_workflow.plot.hucs(watershed, crs, 'k', axs[2], marker='x')\n",
    "watershed_workflow.plot.shplys(list(rivers[0]), crs, ax=axs[2], marker='x')\n",
    "axs[2].set_title('after densify',fontsize=16)\n"
   ]
  },
  {
   "cell_type": "markdown",
   "id": "d7550ba9",
   "metadata": {
    "papermill": {
     "duration": 0.897897,
     "end_time": "2022-03-07T15:49:34.778833",
     "exception": false,
     "start_time": "2022-03-07T15:49:33.880936",
     "status": "completed"
    },
    "tags": []
   },
   "source": [
    "### Generate the mesh\n",
    "\n",
    "We next tessalate the basin, introducing quads, pentagons, and other polygons as needed along the stream corridor, and triangles away from the stream corridor.\n",
    "\n",
    "Triangles are refined if their area (in m^2) is greater than A(d), where d is the \n",
    "distance from the triangle centroid to the nearest stream.  A(d) is a piecewise linear function -- A = A0 if d <= d0, A = A1 if d >= d1, and linearly interpolates between the two endpoints."
   ]
  },
  {
   "cell_type": "code",
   "execution_count": 13,
   "id": "6d72ecff",
   "metadata": {
    "papermill": {
     "duration": 65.908291,
     "end_time": "2022-03-07T15:50:41.576026",
     "exception": false,
     "start_time": "2022-03-07T15:49:35.667735",
     "status": "completed"
    },
    "tags": []
   },
   "outputs": [
    {
     "name": "stderr",
     "output_type": "stream",
     "text": [
      "2024-05-07 14:39:37,861 - root - INFO: \n",
      "2024-05-07 14:39:37,862 - root - INFO: Stream-aligned Meshing\n",
      "2024-05-07 14:39:37,862 - root - INFO: ------------------------------\n",
      "2024-05-07 14:39:37,862 - root - INFO: Creating stream-aligned mesh...\n",
      "2024-05-07 14:39:37,862 - root - INFO: River 0\n",
      "2024-05-07 14:39:37,862 - root - INFO: ... generating initial polygon through dilation (4 m)\n",
      "2024-05-07 14:39:37,863 - root - INFO:   -- treating collinearity\n",
      "2024-05-07 14:39:37,865 - root - INFO:   -- river min seg length: 49.491716006188156\n",
      "2024-05-07 14:39:37,865 - root - INFO:   -- merging points closer than 33.491716006188156 m along the river corridor\n",
      "2024-05-07 14:39:37,868 - root - INFO: ... defining river-mesh topology (quad elements)\n",
      "2024-05-07 14:39:37,877 - root - INFO: ... setting width of quad elements\n",
      "2024-05-07 14:39:37,880 - root - INFO: ... enforcing convexity\n",
      "2024-05-07 14:39:37,882 - root - INFO: Adjusting rivers at the watershed boundaries...\n",
      "2024-05-07 14:39:37,882 - root - INFO:   adjusting HUC boundary to include the river outlet segments\n",
      "2024-05-07 14:39:37,883 - root - INFO:   ... found an intersection of river and huc seg\n",
      "2024-05-07 14:39:37,883 - root - INFO:   ... it is an unadjusted outlet!\n",
      "2024-05-07 14:39:37,883 - root - INFO:   ... is there a parent to this? None\n",
      "2024-05-07 14:39:37,883 - root - INFO:   found outlet junction\n",
      "2024-05-07 14:39:37,884 - root - INFO:   modifying HUC segment 1\n",
      "2024-05-07 14:39:37,884 - root - INFO:   modifying HUC segment 0\n",
      "2024-05-07 14:39:37,885 - root - INFO: \n",
      "2024-05-07 14:39:37,885 - root - INFO: Triangulation\n",
      "2024-05-07 14:39:37,885 - root - INFO: ------------------------------\n",
      "2024-05-07 14:39:37,887 - root - INFO: Triangulating...\n",
      "2024-05-07 14:39:37,888 - root - INFO:    749 points and 750 facets\n",
      "2024-05-07 14:39:37,888 - root - INFO:  checking graph consistency\n",
      "2024-05-07 14:39:37,888 - root - INFO:  tolerance is set to 1\n",
      "2024-05-07 14:39:37,890 - root - INFO:  building graph data structures\n",
      "2024-05-07 14:39:37,892 - root - INFO: defining hole..\n",
      "2024-05-07 14:39:37,893 - root - INFO:  triangle.build...\n",
      "2024-05-07 14:39:37,901 - root - INFO:   ...built: 1753 mesh points and 2755 triangles\n",
      "2024-05-07 14:39:37,902 - root - INFO: Plotting triangulation diagnostics\n",
      "2024-05-07 14:39:37,940 - root - INFO:   min area = 982.9887084960938\n",
      "2024-05-07 14:39:37,941 - root - INFO:   max area = 29956.468627929688\n"
     ]
    },
    {
     "data": {
      "image/png": "[encoded data removed]",
      "text/plain": [
       "<Figure size 1500x1000 with 2 Axes>"
      ]
     },
     "metadata": {},
     "output_type": "display_data"
    }
   ],
   "source": [
    "## Triangulation\n",
    "\n",
    "# Refine triangles if they get too acute\n",
    "min_angle = 32 # degrees\n",
    "\n",
    "# width of reach by stream order (order:width)\n",
    "widths = dict({1:8,2:12,3:16})\n",
    "\n",
    "mesh_points2, conn_list, areas, dists = watershed_workflow.tessalate_river_aligned(watershed,rivers, river_width=widths,\n",
    "                                              refine_min_angle=min_angle, refine_max_area=30000,\n",
    "                                              diagnostics=True)"
   ]
  },
  {
   "cell_type": "code",
   "execution_count": 14,
   "id": "f67fe127-4b6d-459b-866c-58c9404bae69",
   "metadata": {},
   "outputs": [
    {
     "name": "stderr",
     "output_type": "stream",
     "text": [
      "2024-05-07 14:39:38,095 - root - INFO: \n",
      "2024-05-07 14:39:38,095 - root - INFO: Loading Raster\n",
      "2024-05-07 14:39:38,095 - root - INFO: ------------------------------\n",
      "2024-05-07 14:39:38,096 - root - INFO: Collecting raster\n",
      "2024-05-07 14:39:38,101 - root - INFO: Collecting DEMs to tile bounds: [-83.48845037186388, 35.01734099944037, -83.41165773504302, 35.08381933600275]\n",
      "2024-05-07 14:39:38,101 - root - INFO:   Need:\n",
      "2024-05-07 14:39:38,101 - root - INFO:     /home/ecoon/code/watershed_workflow/data/dem/USGS_NED_1as_n36_w084.tif\n",
      "2024-05-07 14:39:38,102 - root - INFO: source files already exist!\n",
      "2024-05-07 14:39:38,112 - root - INFO: ... got raster of shape: (239, 276)\n",
      "2024-05-07 14:39:38,113 - root - INFO: ... got raster bounds: (-83.48845037186388, 35.08381933600275, -83.41178370519467, 35.01743044711165)\n"
     ]
    }
   ],
   "source": [
    "# get a raster for the elevation map, based on NED\n",
    "dem_profile, dem = watershed_workflow.get_raster_on_shape(sources['DEM'], watershed.exterior(), crs)\n",
    "\n",
    "# elevate the triangle nodes to the dem\n",
    "mesh_points3 = watershed_workflow.elevate(mesh_points2, crs, dem, dem_profile)"
   ]
  },
  {
   "cell_type": "code",
   "execution_count": 15,
   "id": "884e2a73-b159-4bf3-8eef-d0b019b832be",
   "metadata": {},
   "outputs": [],
   "source": [
    "# construct the 2D surface mesh\n",
    "m2 = watershed_workflow.mesh.Mesh2D(mesh_points3.copy(), conn_list)"
   ]
  },
  {
   "cell_type": "markdown",
   "id": "655ed205-8cd5-4baa-9f13-ead1596f5267",
   "metadata": {},
   "source": [
    "### Mesh conditioning and improvement\n",
    "\n",
    "Hydrologic conditioning is not technically necessary for a diffusion wave overland flow model, but it makes for better predictions of\n",
    "inundation fraction, etc.  Furthermore, if the mesh isn't perfectly resolving the DEM, sub-grid variations in the DEM can make the mesh\n",
    "dependent upon where exactly nodes fall on the DEM, which isn't desirable.  Therefore we both fill pits (away from waterbodies/lakes)\n",
    "and make sure that the river elements \"flow downhill.\""
   ]
  },
  {
   "cell_type": "code",
   "execution_count": 16,
   "id": "e4719013-1eec-49e7-b2aa-15c6be7d0f10",
   "metadata": {},
   "outputs": [],
   "source": [
    "# hydrologically condition the mesh, removing pits\n",
    "river_mask = np.zeros((len(m2.conn)))\n",
    "for i, elem in enumerate(m2.conn):\n",
    "    if not len(elem)==3:\n",
    "        river_mask[i]=1     \n",
    "watershed_workflow.condition.fill_pits_dual(m2, is_waterbody=river_mask)\n"
   ]
  },
  {
   "cell_type": "code",
   "execution_count": 17,
   "id": "8a818743-06b8-403e-953e-eba88844f829",
   "metadata": {},
   "outputs": [
    {
     "ename": "NameError",
     "evalue": "name 'river' is not defined",
     "output_type": "error",
     "traceback": [
      "\u001b[0;31m---------------------------------------------------------------------------\u001b[0m",
      "\u001b[0;31mNameError\u001b[0m                                 Traceback (most recent call last)",
      "Cell \u001b[0;32mIn[17], line 7\u001b[0m\n\u001b[1;32m      4\u001b[0m watershed_workflow\u001b[38;5;241m.\u001b[39mcondition\u001b[38;5;241m.\u001b[39melevate_rivers(rivers, crs, dem, dem_profile)\n\u001b[1;32m      6\u001b[0m \u001b[38;5;66;03m# condition the river mesh using NHD elevations\u001b[39;00m\n\u001b[0;32m----> 7\u001b[0m watershed_workflow\u001b[38;5;241m.\u001b[39mcondition\u001b[38;5;241m.\u001b[39mcondition_river_mesh(m2, \u001b[43mriver\u001b[49m)\n",
      "\u001b[0;31mNameError\u001b[0m: name 'river' is not defined"
     ]
    }
   ],
   "source": [
    "# hydrologically condition the river network elements\n",
    "#\n",
    "# add elevations to the river tree for stream bed conditioning\n",
    "watershed_workflow.condition.elevate_rivers(rivers, crs, dem, dem_profile)\n",
    "\n",
    "# condition the river mesh using NHD elevations\n",
    "watershed_workflow.condition.condition_river_mesh(m2, river)"
   ]
  },
  {
   "cell_type": "code",
   "execution_count": null,
   "id": "db92b11d-e7ef-471c-aad2-74b47adb193b",
   "metadata": {},
   "outputs": [],
   "source": [
    "# plot the surface mesh with elevations\n",
    "start = min(m2.centroids[:,2])\n",
    "step = (max(m2.centroids[:,2]) - (min(m2.centroids[:,2]))) / 40\n",
    "stop = max(m2.centroids[:,2]) + step\n",
    "legend_values = np.arange(start,stop,step)\n",
    "indices, cmap, norm, ticks, labels = watershed_workflow.colors.generate_indexed_colormap(legend_values, cmap='jet')\n",
    "\n",
    "\n",
    "fig, ax = watershed_workflow.plot.get_ax(crs, window=[0.05,0.1,0.9,0.8])\n",
    "ax2 = ax.inset_axes([0.65,0.05,0.3,0.5])\n",
    "cbax = fig.add_axes([0.05,0.05,0.9,0.05])\n",
    "\n",
    "mp = watershed_workflow.plot.mesh(m2, crs, ax=ax, \n",
    "                        linewidth=0.5 ,color=m2.centroids[:,2], \n",
    "                        cmap=cmap, norm = norm, edgecolor='k', facecolor='color')\n",
    "cbar = fig.colorbar(mp, orientation=\"horizontal\", cax=cbax)\n",
    "ax.set_title('surface mesh with elevations')\n",
    "ax.set_aspect('equal', 'datalim')\n",
    "\n",
    "mp2 = watershed_workflow.plot.mesh(m2, crs, ax=ax2, \n",
    "                        linewidth=0.5 ,color=m2.centroids[:,2], \n",
    "                        cmap=cmap, norm = norm, edgecolor='k', facecolor='color')\n",
    "ax2.set_aspect('equal', 'datalim')\n",
    "\n",
    "xlim = (1.4433e6, 1.4438e6)\n",
    "ylim = (-647000, -647500)\n",
    "\n",
    "ax2.set_xlim(xlim)\n",
    "ax2.set_ylim(ylim)\n",
    "ax2.set_xticks([])\n",
    "ax2.set_yticks([])\n",
    "\n",
    "ax.indicate_inset_zoom(ax2, edgecolor='k')\n",
    "cbar.ax.set_title('elevation [m]')\n",
    "plt.show()"
   ]
  },
  {
   "cell_type": "code",
   "execution_count": null,
   "id": "9bf24aa1-83f6-4397-82ea-24034831eee1",
   "metadata": {
    "papermill": {
     "duration": 1.157352,
     "end_time": "2022-03-07T15:51:23.958930",
     "exception": false,
     "start_time": "2022-03-07T15:51:22.801578",
     "status": "completed"
    },
    "tags": []
   },
   "outputs": [],
   "source": [
    "# identify outlets using the hydrosequence from NHDPlus\n",
    "rivers = sorted(rivers, key=len)\n",
    "watershed_workflow.split_hucs.find_outlets_by_hydroseq(watershed, rivers[-1])\n",
    "\n",
    "if generate_plots:\n",
    "    fig, ax = watershed_workflow.plot.get_ax(crs, figsize=(12,10))\n",
    "    colors = watershed_workflow.colors.enumerated_colors(len(watershed), palette=4)\n",
    "    watershed_workflow.plot.hucs(watershed, crs, ax=ax, color=colors, linewidth=1, facecolor='color', alpha=0.4)\n",
    "    watershed_workflow.plot.rivers(rivers, crs, ax=ax, colors='b', linewidth=0.5)\n",
    "    watershed_workflow.plot.shplys(watershed.polygon_outlets, crs, ax=ax, color=colors, marker='o', markersize=200)"
   ]
  },
  {
   "cell_type": "code",
   "execution_count": null,
   "id": "d11d2d35-6a09-4be9-8ee1-9498eaf288f0",
   "metadata": {},
   "outputs": [],
   "source": [
    "# add regions:\n",
    "# - regions for watershed and watershed outlet.\n",
    "#  Note that one would not normally provide labels, but instead use the HUC ID, but Coweeta si from a shape not a HUC\n",
    "watershed_workflow.regions.add_watershed_regions_and_outlets(m2, watershed, outlet_width=500, labels=['Coweeta',])\n",
    "\n",
    "# add a label for the corridor\n",
    "watershed_workflow.regions.add_river_corridor_regions(m2, rivers)\n",
    "\n",
    "# note there are other useful options here, e.g. labeling by stream order (for different Manning's coefficient by stream order), etc."
   ]
  },
  {
   "cell_type": "code",
   "execution_count": null,
   "id": "f43d8c02-5587-40d4-a444-f426016fb254",
   "metadata": {},
   "outputs": [],
   "source": [
    "# print out the regions formed\n",
    "for ls in m2.labeled_sets:\n",
    "    print(f'{ls.setid} : {ls.entity} : \"{ls.name}\", size = {len(ls.ent_ids)}')"
   ]
  },
  {
   "cell_type": "markdown",
   "id": "bfcb8aa0",
   "metadata": {
    "papermill": {
     "duration": 1.033127,
     "end_time": "2022-03-07T15:51:43.089383",
     "exception": false,
     "start_time": "2022-03-07T15:51:42.056256",
     "status": "completed"
    },
    "tags": []
   },
   "source": [
    "## Surface properties and labeled sets\n",
    "\n",
    "Meshes interact with data to provide forcing, parameters, and more in the actual simulation.  Specifically, we need vegetation type and quantity on the surface to provide information about transpiration.  We want both temporal change (seasonal variation) in LAI and high spatial resolution in land use.  To get this, we download MODIS data for LAI and Land Use.  But MODIS is relatively coarse (250m), so we would prefer to use NLCD (30m) for the spatial patterns.  This leads to our strategy -- use MODIS to generate LAI as a function of time for each land use type.  Then use NLCD to define where each land use type is on the mesh.  This requires a crosswalk between the two indices, which we generate by considering the correlation of their spatial patterns.\n"
   ]
  },
  {
   "cell_type": "markdown",
   "id": "5caffe70-ae95-470c-ab68-c6edc77aa36c",
   "metadata": {},
   "source": [
    "### Leaf Area Index (MODIS)\n",
    "First download both LAI and Land Use from the MODIS database through the NASA AppEEARS API.  This requires a login and password, which one can register for at the DAAC site: https://lpdaac.usgs.gov/tools/appeears/\n",
    "\n",
    "Then, place that login information in your `~/.watershed_workflowrc` file:\n",
    "\n",
    "```\n",
    "[AppEEARS]\n",
    "username : USERNAME\n",
    "password : PASSWORD\n",
    "```\n",
    "\n",
    "Note that this API is not immediate -- you request the data and receive a task ID, then later can query to see if your data is ready. It usually takes a few minutes to process the request (~5)."
   ]
  },
  {
   "cell_type": "code",
   "execution_count": null,
   "id": "81791f82-8abc-4715-a6b8-9152daa9204a",
   "metadata": {
    "scrolled": true
   },
   "outputs": [],
   "source": [
    "startdate = f\"{start_year}-1-1\"\n",
    "enddate = f\"{end_year+1}-1-1\"\n",
    "\n",
    "# launch the request, then wait for the response.  Note that this can be done asynchronously, \n",
    "# in the sense that you could get the task, then do other work, then only call wait once\n",
    "# you are done with all other work that can be done without this data.  Here we just wait\n",
    "# immediately to make for cleaner, sequential instruction.\n",
    "modis_task = sources['lai'].get_data(watershed.exterior().bounds, crs, startdate, enddate) "
   ]
  },
  {
   "cell_type": "code",
   "execution_count": null,
   "id": "d500553d-cfa0-416c-a986-06671f230781",
   "metadata": {},
   "outputs": [],
   "source": [
    "# note that occassionally the bundle is found, but then when we try to download we get a 404 error for the actual data.  In this case,\n",
    "# simply try again -- usually the bundle thinks it is ready but the AWS server isn't updated yet or something...\n",
    "if isinstance(modis_task, watershed_workflow.sources.manager_modis_appeears.Task):\n",
    "    modis_data = sources['lai'].wait(modis_task)\n",
    "else:\n",
    "    modis_data = modis_task\n"
   ]
  },
  {
   "cell_type": "code",
   "execution_count": null,
   "id": "716f695a-e527-48a6-9fdf-444d186c4cdf",
   "metadata": {},
   "outputs": [],
   "source": [
    "# drop data on leap day -- MODIS is real data, but we work with data on a noleap calendar.  This drops Dec 31\n",
    "for dset in modis_data.collections:\n",
    "    watershed_workflow.datasets.removeLeapDay(dset)\n",
    "\n",
    "# need new start and end dates in the new calendar\n",
    "startdate = cftime.datetime(start_year, 1, 1, calendar='noleap')\n",
    "enddate = cftime.datetime(end_year, 12, 31, calendar='noleap')\n",
    "\n",
    "# compute the dynamic time series\n",
    "lai_df = watershed_workflow.land_cover_properties.compute_time_series(modis_data['LAI'], modis_data['LULC'], \n",
    "                                                                      polygon=watershed.exterior(), polygon_crs=crs)\n"
   ]
  },
  {
   "cell_type": "code",
   "execution_count": null,
   "id": "eeb912b2-7781-40c0-ac20-e17107603dc3",
   "metadata": {},
   "outputs": [],
   "source": [
    "# plot the dynamic data\n",
    "fig = plt.figure()\n",
    "ax = fig.add_subplot(111)\n",
    "\n",
    "lai_date = np.array([datetime.datetime(t.year, t.month, t.day) for t in lai_df['time [datetime]']])\n",
    "for column in lai_df:\n",
    "    if column != 'time [datetime]':\n",
    "        ax.plot(lai_date, lai_df[column], label=column)\n",
    "ax.set_ylabel('Leaf Area Index [-]')\n",
    "ax.set_xlabel('time')\n",
    "ax.legend()\n",
    "plt.show()\n"
   ]
  },
  {
   "cell_type": "code",
   "execution_count": null,
   "id": "1c04b633-f600-4e7e-9b4e-c0a1803bf871",
   "metadata": {},
   "outputs": [],
   "source": [
    "print(lai_df.keys())\n"
   ]
  },
  {
   "cell_type": "code",
   "execution_count": null,
   "id": "5105d009-b0a7-47e8-8aed-23407dadeac9",
   "metadata": {},
   "outputs": [],
   "source": [
    "# Save that to disk\n",
    "filename = os.path.join('output_data', f'{name}_modis_lai-{start_year}-{end_year}.h5')\n",
    "watershed_workflow.io.write_timeseries_to_hdf5(filename, lai_df, time0=startdate)\n",
    "outputs[f'{name}_modis_lai_dynamic'] = filename"
   ]
  },
  {
   "cell_type": "code",
   "execution_count": null,
   "id": "fb2ef81b-e1ab-4fc1-a240-58b0ffe68352",
   "metadata": {},
   "outputs": [],
   "source": [
    "# compute a typical year for use in spinup, saving 10 years of repeated data\n",
    "#\n",
    "# note that the start_year doesn't really matter for this, but it should match the Met data start date\n",
    "lai_typical_df = watershed_workflow.timeseries.computeAverageYear(lai_df, output_nyears=nyears_cyclic_steadystate, \n",
    "                                                                  start_year=2010, smooth=True)"
   ]
  },
  {
   "cell_type": "code",
   "execution_count": null,
   "id": "a8afeb03-db9a-4b16-96e7-b1474f883b28",
   "metadata": {},
   "outputs": [],
   "source": [
    "# plot the typical data\n",
    "fig = plt.figure()\n",
    "ax = fig.add_subplot(111)\n",
    "\n",
    "date = np.array([datetime.datetime(t.year, t.month, t.day) for t in lai_typical_df['time [datetime]']])\n",
    "for column in lai_typical_df:\n",
    "    if column != 'time [datetime]':\n",
    "        ax.plot(date, lai_typical_df[column], label=column)\n",
    "ax.set_ylabel('Leaf Area Index [-]')\n",
    "ax.set_xlabel('time')\n",
    "ax.legend()\n",
    "plt.show()"
   ]
  },
  {
   "cell_type": "code",
   "execution_count": null,
   "id": "a4266c1c-f66a-4743-a00f-0f9dbbca54d3",
   "metadata": {},
   "outputs": [],
   "source": [
    "# write the typical year to disk\n",
    "filename = os.path.join('output_data', f'{name}_modis_lai-typical.h5')\n",
    "watershed_workflow.io.write_timeseries_to_hdf5(filename, lai_typical_df, time0=lai_typical_df['time [datetime]'][0])\n",
    "outputs[f'{name}_modis_lai_typical'] = filename"
   ]
  },
  {
   "cell_type": "code",
   "execution_count": null,
   "id": "48f9bd9d-e65c-4e37-9d9a-ec5006e33f2e",
   "metadata": {},
   "outputs": [],
   "source": [
    "print(list(lai_typical_df.keys()))"
   ]
  },
  {
   "cell_type": "markdown",
   "id": "2f99caeb-9c85-48aa-a6fe-d8e46083f4b5",
   "metadata": {},
   "source": [
    "### Land Cover (NLCD)\n",
    "\n",
    "Next download land cover from the NLCD dataset, and generate sets for each land cover type that cover the surface.  Likely these will be some combination of grass, deciduous forest, coniferous forest, and mixed forest."
   ]
  },
  {
   "cell_type": "code",
   "execution_count": null,
   "id": "99d8cee0",
   "metadata": {
    "papermill": {
     "duration": 2.991374,
     "end_time": "2022-03-07T15:51:47.200112",
     "exception": false,
     "start_time": "2022-03-07T15:51:44.208738",
     "status": "completed"
    },
    "tags": []
   },
   "outputs": [],
   "source": [
    "# download the NLCD raster\n",
    "lc_profile, lc_raster = watershed_workflow.get_raster_on_shape(sources['land cover'], \n",
    "                                                     watershed.exterior(), crs)\n",
    "\n",
    "# resample the raster to the mesh\n",
    "lc = watershed_workflow.values_from_raster(m2.centroids, crs, lc_raster, lc_profile)\n",
    "\n",
    "# what land cover types did we get?\n",
    "logging.info('Found land cover dtypes: {}'.format(lc.dtype))\n",
    "logging.info('Found land cover types: {}'.format(set(lc)))\n"
   ]
  },
  {
   "cell_type": "code",
   "execution_count": null,
   "id": "ea788ead",
   "metadata": {
    "papermill": {
     "duration": 28.188611,
     "end_time": "2022-03-07T15:52:16.435059",
     "exception": false,
     "start_time": "2022-03-07T15:51:48.246448",
     "status": "completed"
    },
    "tags": []
   },
   "outputs": [],
   "source": [
    "if generate_plots:  \n",
    "    # -- get the NLCD colormap which uses official NLCD colors and labels\n",
    "    nlcd_indices, nlcd_cmap, nlcd_norm, nlcd_ticks, nlcd_labels = \\\n",
    "                watershed_workflow.colors.generate_nlcd_colormap(lc)\n",
    "\n",
    "    fig, ax = watershed_workflow.plot.get_ax(crs)\n",
    "    polys = watershed_workflow.plot.mesh(m2, crs, ax=ax, color=lc, cmap=nlcd_cmap, norm=nlcd_norm, edgecolor='none', \n",
    "                                     facecolor='color', linewidth=0.5)\n",
    "\n",
    "    watershed_workflow.colors.colorbar_index(ncolors=len(np.unique(lc)), cmap=nlcd_cmap, labels=nlcd_labels, ax=ax) \n",
    "\n",
    "    ax.set_title(\"Land Cover Index\")\n",
    "    ext = ax.axis('off')\n",
    "    fig.savefig(os.path.join('output_data', f'{name}_land_cover_raw'))"
   ]
  },
  {
   "cell_type": "markdown",
   "id": "e1c7ef96-e902-4627-a63b-da60830c0e95",
   "metadata": {},
   "source": [
    "### Form the crosswalk\n",
    "\n",
    "Now that we have MODIS Land Use, we need to figure out what NLCD indices correspond to what MODIS indices.  This could be done via expert opinion,\n",
    "but we automate this by computing the cross correlation of the two rasters.  This forms what we call the crosswalk -- the mapping from an NLCD index to what is the most likely MODIS LU/LC index."
   ]
  },
  {
   "cell_type": "code",
   "execution_count": null,
   "id": "8d6ab1fb-b773-426d-b0e2-1ad80f78df15",
   "metadata": {},
   "outputs": [],
   "source": [
    "# plot both NLCD and MODIS to form the image cross-correlation\n",
    "if generate_plots:\n",
    "    axs = []\n",
    "    fig, a0 = watershed_workflow.plot.get_ax(lc_profile['crs'], nrow=1, ncol=2, index=1, figsize=(15,5))\n",
    "    axs.append(a0) \n",
    "    \n",
    "    # plot the image\n",
    "    # -- get the NLCD colormap which uses official NLCD colors and labels\n",
    "    nlcd_indices, nlcd_cmap, nlcd_norm, nlcd_ticks, nlcd_labels = \\\n",
    "                watershed_workflow.colors.generate_nlcd_colormap(np.unique(lc_raster))\n",
    "    \n",
    "    im = watershed_workflow.plot.raster(lc_profile, lc_raster, ax=axs[0], cmap=nlcd_cmap, norm=nlcd_norm)\n",
    "    watershed_workflow.plot.shply(watershed_workflow.warp.shply(watershed.exterior(), crs, lc_profile['crs']), lc_profile['crs'], 'k', axs[0])\n",
    "    watershed_workflow.colors.colorbar_index(ncolors=len(np.unique(lc_raster)), cmap=nlcd_cmap, labels=nlcd_labels, ax=axs[0]) \n",
    "    axs[0].set_title(\"NLCD Index\")\n",
    "    \n",
    "    \n",
    "    modis_raster = modis_data['LULC'].data[-1]\n",
    "    modis_profile = modis_data['LULC'].profile\n",
    "    \n",
    "    a1 = watershed_workflow.plot.get_ax(modis_profile['crs'], nrow=1, ncol=2, index=2, fig=fig)\n",
    "    axs.append(a1)\n",
    "    \n",
    "    modis_indices, modis_cmap, modis_norm, modis_ticks, modis_labels = \\\n",
    "                watershed_workflow.colors.generate_modis_colormap(np.unique(modis_raster))\n",
    "    print(modis_indices, modis_labels)\n",
    "    print(modis_cmap(8))\n",
    "    print(modis_cmap(4))\n",
    "    im = watershed_workflow.plot.raster(modis_profile, modis_raster, ax=axs[1], cmap=modis_cmap, norm=modis_norm)\n",
    "    watershed_workflow.plot.shply(watershed_workflow.warp.shply(watershed.exterior(), crs, modis_profile['crs']), modis_profile['crs'], 'k', axs[1])\n",
    "    watershed_workflow.colors.colorbar_index(ncolors=len(np.unique(modis_raster)), cmap=modis_cmap, labels=modis_labels, ax=axs[1]) \n",
    "    axs[1].set_title(\"MODIS LULC Index\")"
   ]
  },
  {
   "cell_type": "code",
   "execution_count": null,
   "id": "fda40803-20ed-4a6a-88fd-0b1c03e945cf",
   "metadata": {},
   "outputs": [],
   "source": [
    "# form the crosswalk and plot a correlation matrix\n",
    "#\n",
    "# note that for Coweeta, it is fairly simple because MODIS identifieds everthing as 4 (Broad leaf deciduous)\n",
    "crosswalk = watershed_workflow.land_cover_properties.compute_crosswalk_correlation(modis_data['LULC'].profile, modis_data['LULC'].data[-1],\n",
    "                                                                                   lc_profile, lc_raster)\n",
    "\n",
    "print(crosswalk)"
   ]
  },
  {
   "cell_type": "code",
   "execution_count": null,
   "id": "94164938",
   "metadata": {
    "papermill": {
     "duration": 1.196701,
     "end_time": "2022-03-07T15:52:18.681362",
     "exception": false,
     "start_time": "2022-03-07T15:52:17.484661",
     "status": "completed"
    },
    "tags": []
   },
   "outputs": [],
   "source": [
    "# we now have to choose how to map from these NLCD indices to the MODIS LAI\n",
    "#\n",
    "# first, the bare ground, 0 LAI indices.  Note we could choose to treat some of these \n",
    "# differently (particularly developed land) but don't here.\n",
    "others = [0, 11, 12, 21, 22, 23, 24, 31]\n",
    "\n",
    "nlcd_color_new =  99 * np.ones_like(lc)\n",
    "\n",
    "# we are also going to choose to downsample NLCD to just two types -- forest and other\n",
    "for index in np.unique(lc):\n",
    "    if index not in others:\n",
    "        nlcd_color_new[np.where(lc == index)] = watershed_workflow.source_list.FileManagerNLCD.indices['Deciduous Forest']\n",
    "    \n",
    "# then we manually set the crosswalk:\n",
    "nlcd_crosswalk_modis = {'Deciduous Forest' : watershed_workflow.source_list.FileManagerMODISAppEEARS.colors[4][0]}\n",
    "print(nlcd_crosswalk_modis)                       "
   ]
  },
  {
   "cell_type": "code",
   "execution_count": null,
   "id": "faf19cf1",
   "metadata": {
    "papermill": {
     "duration": 28.257443,
     "end_time": "2022-03-07T15:52:48.057596",
     "exception": false,
     "start_time": "2022-03-07T15:52:19.800153",
     "status": "completed"
    },
    "tags": []
   },
   "outputs": [],
   "source": [
    "# plot the updated image, adding \"other\", which mostly picks up roads and the barren land around them\n",
    "nlcd_color_new_other_as_water = np.where(nlcd_color_new == 99, 11, nlcd_color_new)\n",
    "\n",
    "# -- get the NLCD colormap which uses official NLCD colors and labels\n",
    "nlcd_indices, nlcd_cmap, nlcd_norm, nlcd_ticks, nlcd_labels = \\\n",
    "            watershed_workflow.colors.generate_nlcd_colormap(nlcd_color_new_other_as_water)\n",
    "\n",
    "# make (water, 11) into (other, 99)\n",
    "nlcd_labels[0] = 'Other'\n",
    "nlcd_indices[0] = 99\n",
    "\n",
    "if generate_plots:\n",
    "    fig, ax = watershed_workflow.plot.get_ax(crs)\n",
    "\n",
    "\n",
    "    polys = watershed_workflow.plot.mesh(m2, crs, ax=ax, color=nlcd_color_new_other_as_water, \n",
    "                           cmap=nlcd_cmap, norm=nlcd_norm, edgecolor='none', \n",
    "                           facecolor='color', linewidth=0.5)\n",
    "\n",
    "    watershed_workflow.colors.colorbar_index(ncolors=len(np.unique(nlcd_color_new_other_as_water)), \n",
    "                               cmap=nlcd_cmap, labels=nlcd_labels, ax=ax) \n",
    "\n",
    "    ax.set_title(\"Land Cover Index\")\n",
    "    ext = ax.axis('off')\n",
    "\n"
   ]
  },
  {
   "cell_type": "markdown",
   "id": "e9a3fcc0-5d3d-412c-8c03-327d498a8852",
   "metadata": {},
   "source": [
    "### Add surface land cover type labeled sets to the mesh\n",
    "\n",
    "Lastly, we can add these two land use types to the mesh, so that we can refer to them for LAI as a function of time in the ATS run."
   ]
  },
  {
   "cell_type": "code",
   "execution_count": null,
   "id": "8cd7e470",
   "metadata": {
    "papermill": {
     "duration": 1.126505,
     "end_time": "2022-03-07T15:52:50.239332",
     "exception": false,
     "start_time": "2022-03-07T15:52:49.112827",
     "status": "completed"
    },
    "tags": []
   },
   "outputs": [],
   "source": [
    "# add labeled sets to the mesh for NLCD\n",
    "nlcd_labels_dict = dict(zip(nlcd_indices, nlcd_labels))\n",
    "watershed_workflow.regions.add_nlcd_labeled_sets(m2, nlcd_color_new, nlcd_labels_dict)"
   ]
  },
  {
   "cell_type": "code",
   "execution_count": null,
   "id": "d05d7a8e",
   "metadata": {
    "papermill": {
     "duration": 1.037737,
     "end_time": "2022-03-07T15:52:52.413372",
     "exception": false,
     "start_time": "2022-03-07T15:52:51.375635",
     "status": "completed"
    },
    "tags": []
   },
   "outputs": [],
   "source": [
    "for ls in m2.labeled_sets:\n",
    "    print(f'{ls.setid} : {ls.entity} : \"{ls.name}\"')"
   ]
  },
  {
   "cell_type": "markdown",
   "id": "5899cf16",
   "metadata": {
    "papermill": {
     "duration": 0.957973,
     "end_time": "2022-03-07T15:52:54.368051",
     "exception": false,
     "start_time": "2022-03-07T15:52:53.410078",
     "status": "completed"
    },
    "tags": []
   },
   "source": [
    "## Subsurface properties\n",
    "\n",
    "Next we develop the subsurface structure model. We use a three-layer model: soil, on top of geologic material, on top of bedrock.  The soil layer is informed by the NRCS-Soils database, which only goes to 2m deep.  The geologic layer is informed by the GLHYMPs database, which is used from the bottom of the soil (2m or less) to the top of the bedrock, which is determined by the SoilGrids database's depth to bedrock product.\n",
    "\n",
    "We download all three need data products, integrated vertically as needed, and apply them horizontally.\n",
    "\n",
    "### Soil data"
   ]
  },
  {
   "cell_type": "code",
   "execution_count": null,
   "id": "052397f1",
   "metadata": {
    "papermill": {
     "duration": 28.731775,
     "end_time": "2022-03-07T15:53:24.121614",
     "exception": false,
     "start_time": "2022-03-07T15:52:55.389839",
     "status": "completed"
    },
    "tags": []
   },
   "outputs": [],
   "source": [
    "# download the NRCS soils data as shapes and project it onto the mesh\n",
    "#\n",
    "soil_profile, soil_survey, soil_survey_props = \\\n",
    "        watershed_workflow.get_shapes(sources['soil structure'], list(watershed.polygons()), crs, \n",
    "                                                     crs, properties=True)\n",
    "\n",
    "# -- determine the NRCS mukey for each soil unit; this uniquely identifies soil \n",
    "#    properties\n",
    "soil_ids = list(soil_survey_props['mukey'][:])\n",
    "soil_survey_props.set_index('mukey', inplace=True)\n",
    "\n",
    "# -- color a raster by the polygons (this makes identifying a triangle's value much \n",
    "#    more efficient)\n",
    "soil_color_profile, soil_color_raster = watershed_workflow.color_raster_from_shapes(soil_survey, crs, soil_ids,\n",
    "                                                                                    watershed.exterior().bounds, 10, crs, -1)\n",
    "\n",
    "# -- resample the raster to the triangles\n",
    "soil_color = watershed_workflow.values_from_raster(m2.centroids, crs, \n",
    "                                         soil_color_raster, soil_color_profile)\n"
   ]
  },
  {
   "cell_type": "code",
   "execution_count": null,
   "id": "b1dadaac-8b77-4c3e-9c6b-1cd77eca7aad",
   "metadata": {
    "papermill": {
     "duration": 1.256817,
     "end_time": "2022-03-07T15:53:26.443571",
     "exception": false,
     "start_time": "2022-03-07T15:53:25.186754",
     "status": "completed"
    },
    "tags": []
   },
   "outputs": [],
   "source": [
    "soil_survey_props\n"
   ]
  },
  {
   "cell_type": "code",
   "execution_count": null,
   "id": "9781369f",
   "metadata": {
    "papermill": {
     "duration": 28.661676,
     "end_time": "2022-03-07T15:53:56.229150",
     "exception": false,
     "start_time": "2022-03-07T15:53:27.567474",
     "status": "completed"
    },
    "tags": []
   },
   "outputs": [],
   "source": [
    "if generate_plots:\n",
    "    # plot the soil mukey\n",
    "    indices, cmap, norm, ticks, labels = watershed_workflow.colors.generate_indexed_colormap(soil_color, cmap='tab20c')\n",
    "    fig, ax = watershed_workflow.plot.get_ax(crs)\n",
    "\n",
    "    mp = watershed_workflow.plot.mesh(m2, crs, ax=ax, facecolor='color',\n",
    "                            linewidth=0, color=soil_color, \n",
    "                            cmap=cmap, norm = norm\n",
    "                           )\n",
    "\n",
    "    watershed_workflow.colors.colorbar_index(ncolors=len(np.unique(soil_color)), cmap=cmap, labels=labels, ax=ax) \n",
    "\n",
    "    ax.set_title('soil type index')\n",
    "    ax.axis('off')\n"
   ]
  },
  {
   "cell_type": "code",
   "execution_count": null,
   "id": "3295eab0",
   "metadata": {
    "papermill": {
     "duration": 2.325084,
     "end_time": "2022-03-07T15:53:59.604303",
     "exception": false,
     "start_time": "2022-03-07T15:53:57.279219",
     "status": "completed"
    },
    "tags": []
   },
   "outputs": [],
   "source": [
    "# what does soil thickness look like?  Note it will always be 2m or less.\n",
    "soil_thickness = np.nan * np.ones(soil_color.shape, 'd')\n",
    "for mukey in soil_survey_props.index:\n",
    "    soil_thickness[soil_color == mukey] = soil_survey_props.loc[mukey,'thickness [cm]']\n",
    "\n",
    "soil_thickness = soil_thickness / 100.0\n",
    "soil_thickness = np.where(np.isnan(soil_thickness), 2.0, soil_thickness)\n",
    "print(soil_thickness.max(), soil_thickness.min())\n",
    "\n",
    "if generate_plots:\n",
    "    fig, ax = watershed_workflow.plot.get_ax(crs)\n",
    "    mp = watershed_workflow.plot.mesh(m2, crs, ax=ax, facecolor='color',\n",
    "                            linewidth=0, color=soil_thickness)\n",
    "    ax.set_title('soil thickness [m]')\n",
    "    cb = fig.colorbar(mp, fraction=0.04, pad=0.04)\n",
    "    ax.axis('off')\n",
    "\n",
    "print('Median soil thickness [-] = ', np.median(soil_thickness))\n",
    "\n"
   ]
  },
  {
   "cell_type": "code",
   "execution_count": null,
   "id": "a24c30d4",
   "metadata": {
    "papermill": {
     "duration": 2.628727,
     "end_time": "2022-03-07T15:54:03.336996",
     "exception": false,
     "start_time": "2022-03-07T15:54:00.708269",
     "status": "completed"
    },
    "tags": []
   },
   "outputs": [],
   "source": [
    "if generate_plots:\n",
    "    # plot of porosity from SSURGO\n",
    "    iprop = np.empty(soil_color.shape, 'd')\n",
    "    for mukey in soil_survey_props.index:\n",
    "        iprop[soil_color == mukey] = soil_survey_props.loc[ mukey,'porosity [-]']\n",
    "\n",
    "    fig, ax = watershed_workflow.plot.get_ax(crs)\n",
    "    mp = watershed_workflow.plot.mesh(m2, crs, ax=ax, facecolor='color',\n",
    "                            linewidth=0, color=iprop, cmap='jet')\n",
    "\n",
    "    ax.set_title('soil porosity [-]')\n",
    "    cb = fig.colorbar(mp, fraction=0.04, pad=0.04, extend=\"both\", shrink=0.6)\n",
    "    ax.axis('off')\n",
    "\n",
    "    print('Median porosity [-] = ', np.nanmedian(iprop))\n"
   ]
  },
  {
   "cell_type": "code",
   "execution_count": null,
   "id": "500c2b45",
   "metadata": {
    "papermill": {
     "duration": 2.963723,
     "end_time": "2022-03-07T15:54:07.362070",
     "exception": false,
     "start_time": "2022-03-07T15:54:04.398347",
     "status": "completed"
    },
    "tags": []
   },
   "outputs": [],
   "source": [
    "if generate_plots:\n",
    "    # plot of permeability\n",
    "    iprop = np.empty(soil_color.shape, 'd')\n",
    "    for mukey in soil_survey_props.index:\n",
    "        iprop[soil_color == mukey] = soil_survey_props.loc[ mukey,'permeability [m^2]']\n",
    "\n",
    "    fig, ax = watershed_workflow.plot.get_ax(crs)\n",
    "    mp = watershed_workflow.plot.mesh(m2, crs, ax=ax, facecolor='color',\n",
    "                            linewidth=0, color=iprop, cmap='jet')\n",
    "    ax.set_title('soil permeability [-]')\n",
    "    cb = fig.colorbar(mp, fraction=0.04, pad=0.04, extend=\"both\", shrink=0.6)\n",
    "    cb.ax.set_title('log K')\n",
    "    ax.axis('off')\n",
    "\n",
    "    print('Min k [m^2] = ', np.nanmin(iprop))\n"
   ]
  },
  {
   "cell_type": "code",
   "execution_count": null,
   "id": "58d92d69",
   "metadata": {
    "papermill": {
     "duration": 1.247578,
     "end_time": "2022-03-07T15:54:09.727154",
     "exception": false,
     "start_time": "2022-03-07T15:54:08.479576",
     "status": "completed"
    },
    "tags": []
   },
   "outputs": [],
   "source": [
    "# Note there is potential for missing data (white).  This is because some SSURGO map units have no formation with complete \n",
    "# information.  So we merge the above available data, filling where possible and dropping regions that\n",
    "# do not have a complete set of properties.\n",
    "soil_survey_props_clean = soil_survey_props.reset_index()\n",
    "\n",
    "# later scripts expect 'native_index' as a standard name of holding onto the original IDs\n",
    "soil_survey_props_clean.rename_axis('native_index', inplace=True)\n",
    "soil_survey_props_clean.rename(columns={'mukey':'native_index'}, inplace=True)\n",
    "\n",
    "# need thickness in m\n",
    "soil_survey_props_clean['thickness [cm]'] = soil_survey_props_clean['thickness [cm]']/100.\n",
    "soil_survey_props_clean.rename(columns={'thickness [cm]':'thickness [m]'}, inplace=True)\n",
    "\n",
    "\n",
    "def replace_column_nans(df, col_nan, col_replacement):\n",
    "    \"\"\"In a df, replace col_nan entries by col_replacement if is nan.  In Place!\"\"\"\n",
    "    row_indexer = df[col_nan].isna()\n",
    "    df.loc[row_indexer, col_nan] = df.loc[row_indexer, col_replacement]\n",
    "    return\n",
    "\n",
    "# where poro or perm is nan, put Rosetta poro\n",
    "replace_column_nans(soil_survey_props_clean, 'porosity [-]', 'Rosetta porosity [-]')\n",
    "replace_column_nans(soil_survey_props_clean, 'permeability [m^2]', 'Rosetta permeability [m^2]')\n",
    "\n",
    "# drop unnecessary columns\n",
    "for col in ['Rosetta porosity [-]', 'Rosetta permeability [m^2]', 'bulk density [g/cm^3]', 'total sand pct [%]',\n",
    "            'total silt pct [%]', 'total clay pct [%]']:\n",
    "    soil_survey_props_clean.pop(col)\n",
    "    \n",
    "# drop nans\n",
    "soil_survey_props_clean.dropna(inplace=True)\n",
    "soil_survey_props_clean.reset_index(drop=True, inplace=True)\n",
    "\n",
    "assert soil_survey_props_clean['porosity [-]'][:].min() >= min_porosity\n",
    "assert soil_survey_props_clean['permeability [m^2]'][:].max() <= max_permeability\n",
    "soil_survey_props_clean\n"
   ]
  },
  {
   "cell_type": "code",
   "execution_count": null,
   "id": "5ac9aff3",
   "metadata": {
    "papermill": {
     "duration": 28.104515,
     "end_time": "2022-03-07T15:54:39.007834",
     "exception": false,
     "start_time": "2022-03-07T15:54:10.903319",
     "status": "completed"
    },
    "tags": []
   },
   "outputs": [],
   "source": [
    "# create a new soil_color, keeping on those that are kept here and re-indexing to ATS indices\n",
    "soil_color_new = -np.ones_like(soil_color)\n",
    "for new_id, mukey in enumerate(soil_survey_props_clean['native_index']):\n",
    "    soil_color_new[np.where(soil_color == mukey)] = 1000+new_id\n",
    " \n",
    "generate_plots = True\n",
    "if generate_plots:\n",
    "    # image the new soil_color\n",
    "    indices, cmap, norm, ticks, labels = watershed_workflow.colors.generate_indexed_colormap(soil_color_new, cmap='tab20c')\n",
    "    fig, ax = watershed_workflow.plot.get_ax(crs)\n",
    "\n",
    "    mp = watershed_workflow.plot.mesh(m2, crs, ax=ax, facecolor='color',\n",
    "                        linewidth=0, color=soil_color_new, \n",
    "                        cmap=cmap, norm=norm)\n",
    "\n",
    "    watershed_workflow.colors.colorbar_index(ncolors=len(np.unique(soil_color_new)), cmap=cmap, labels=labels, ax=ax) \n",
    "\n",
    "    ax.set_title('soil type index')\n",
    "    ax.axis('off')\n"
   ]
  },
  {
   "cell_type": "markdown",
   "id": "04cca31a",
   "metadata": {
    "papermill": {
     "duration": 1.107888,
     "end_time": "2022-03-07T15:54:41.191684",
     "exception": false,
     "start_time": "2022-03-07T15:54:40.083796",
     "status": "completed"
    },
    "tags": []
   },
   "source": [
    "### GLYHMPS geologic layer\n",
    "\n",
    "GLYHMPS is complete in that it does not appear to have missing data, but does not have texture properties needed for Water Retention Models.  Instead we rely on scaling laws to fill the data."
   ]
  },
  {
   "cell_type": "code",
   "execution_count": null,
   "id": "c05ba23d",
   "metadata": {
    "papermill": {
     "duration": 46.520709,
     "end_time": "2022-03-07T15:55:28.814477",
     "exception": false,
     "start_time": "2022-03-07T15:54:42.293768",
     "status": "completed"
    },
    "tags": []
   },
   "outputs": [],
   "source": [
    "# extract the GLYHMPS geologic structure data as shapes and project it onto the mesh\n",
    "target_bounds = watershed.exterior().bounds\n",
    "logging.info('target bounds: {}'.format(target_bounds))\n",
    "\n",
    "_, geo_survey, geo_survey_props = watershed_workflow.get_shapes(sources['geologic structure'], \n",
    "                                                      target_bounds, crs, crs, properties=True,\n",
    "                                                      min_porosity=min_porosity, \n",
    "                                                      max_permeability=max_permeability,\n",
    "                                                      max_vg_alpha=max_vg_alpha)\n",
    "\n",
    "# -- log the bounds targeted and found\n",
    "logging.info('shape union bounds: {}'.format(\n",
    "    shapely.ops.cascaded_union(geo_survey).bounds))\n",
    "\n",
    "# -- determine the ID for each soil unit; this uniquely identifies formation\n",
    "#    properties\n",
    "geo_ids = np.array([shp.properties['id'] for shp in geo_survey], np.int32)\n",
    "\n",
    "# -- color a raster by the polygons (this makes identifying a triangle's value much \n",
    "#    more efficient)\n",
    "geo_color_profile, geo_color_raster = \\\n",
    "            watershed_workflow.color_raster_from_shapes(geo_survey, crs, geo_ids,\n",
    "                                                        target_bounds, 10, crs, -1)\n",
    "\n",
    "# -- resample the raster to the triangles\n",
    "geo_color = watershed_workflow.values_from_raster(m2.centroids, crs, \n",
    "                                         geo_color_raster, geo_color_profile)\n"
   ]
  },
  {
   "cell_type": "code",
   "execution_count": null,
   "id": "a35cb8ed",
   "metadata": {
    "papermill": {
     "duration": 1.222491,
     "end_time": "2022-03-07T15:55:31.141733",
     "exception": false,
     "start_time": "2022-03-07T15:55:29.919242",
     "status": "completed"
    },
    "tags": []
   },
   "outputs": [],
   "source": [
    "# select the properties that appear in the mesh\n",
    "geo_survey_props.set_index('id', inplace=True, drop=False)\n",
    "geo_survey_props = geo_survey_props.loc[np.unique(geo_color), :]"
   ]
  },
  {
   "cell_type": "code",
   "execution_count": null,
   "id": "aaeca781",
   "metadata": {
    "papermill": {
     "duration": 29.961381,
     "end_time": "2022-03-07T15:56:02.259514",
     "exception": false,
     "start_time": "2022-03-07T15:55:32.298133",
     "status": "completed"
    },
    "tags": []
   },
   "outputs": [],
   "source": [
    "if generate_plots:\n",
    "    # plot the geologic formation id\n",
    "    indices, cmap, norm, ticks, labels = watershed_workflow.colors.generate_indexed_colormap(geo_color, cmap='tab20b')\n",
    "\n",
    "    fig, ax = watershed_workflow.plot.get_ax(crs)\n",
    "\n",
    "    mp = watershed_workflow.plot.mesh(m2, crs, ax=ax, facecolor='color',\n",
    "                        linewidth=0, color=geo_color, \n",
    "                        cmap=cmap, norm=norm)\n",
    "\n",
    "    watershed_workflow.colors.colorbar_index(ncolors=len(np.unique(geo_color)), cmap=cmap, labels=labels, ax=ax) \n",
    "\n",
    "    ax.set_title('geol type index')\n",
    "    ax.axis('off')\n"
   ]
  },
  {
   "cell_type": "code",
   "execution_count": null,
   "id": "c215c704",
   "metadata": {
    "papermill": {
     "duration": 2.629043,
     "end_time": "2022-03-07T15:56:06.036609",
     "exception": false,
     "start_time": "2022-03-07T15:56:03.407566",
     "status": "completed"
    },
    "tags": []
   },
   "outputs": [],
   "source": [
    "if generate_plots:\n",
    "    # plot permeability of the underlying geologic layer\n",
    "    iprop = np.empty(geo_color.shape, 'd')\n",
    "    for i in geo_survey_props.index:\n",
    "        iprop[geo_color == i] = geo_survey_props.loc[i, 'permeability [m^2]']\n",
    "    \n",
    "    fig, ax = watershed_workflow.plot.get_ax(crs)\n",
    "    mp = watershed_workflow.plot.mesh(m2, crs, ax=ax, facecolor='color',\n",
    "                            linewidth=0, color=iprop, cmap='jet')\n",
    "    cbar = fig.colorbar(mp, shrink=0.5)\n",
    "    ax.set_title('geology log permeability [m^2]')\n",
    "    ax.axis('off')\n",
    "\n"
   ]
  },
  {
   "cell_type": "code",
   "execution_count": null,
   "id": "1b3e3b5b",
   "metadata": {
    "papermill": {
     "duration": 3.129187,
     "end_time": "2022-03-07T15:56:10.338409",
     "exception": false,
     "start_time": "2022-03-07T15:56:07.209222",
     "status": "completed"
    },
    "tags": []
   },
   "outputs": [],
   "source": [
    "if generate_plots:\n",
    "    # plot porosity of the geologic layer\n",
    "    iprop = np.empty(geo_color.shape, 'd')\n",
    "    for i in geo_survey_props.index:\n",
    "        iprop[geo_color == i] = geo_survey_props.loc[i, 'porosity [-]']\n",
    "\n",
    "    fig, ax = watershed_workflow.plot.get_ax(crs)\n",
    "    mp = watershed_workflow.plot.mesh(m2, crs, ax=ax, facecolor='color',\n",
    "                            linewidth=0, color=iprop, cmap='jet')\n",
    "    cbar = fig.colorbar(mp, shrink=0.5)\n",
    "    ax.set_title('geology porosity [-]')\n",
    "    ax.axis('off')\n"
   ]
  },
  {
   "cell_type": "code",
   "execution_count": null,
   "id": "a4f38c8c",
   "metadata": {
    "papermill": {
     "duration": 1.20091,
     "end_time": "2022-03-07T15:56:12.714949",
     "exception": false,
     "start_time": "2022-03-07T15:56:11.514039",
     "status": "completed"
    },
    "tags": []
   },
   "outputs": [],
   "source": [
    "# note that for larger areas there are often common regions -- two labels with the same properties -- no need to duplicate those with identical values.\n",
    "geo_survey_props_clean = geo_survey_props.copy()\n",
    "geo_survey_props_clean.pop('logk_stdev [-]')\n",
    "geo_survey_props_clean.rename(columns={'id':'native_index'}, inplace=True)\n",
    "\n",
    "\n",
    "def reindex_remove_duplicates(df, index=None):\n",
    "    \"\"\"Removes duplicates, creating a new index and saving the old index as tuples of duplicate values. In place!\"\"\"\n",
    "    if index is not None:\n",
    "        if index in df:\n",
    "            df.set_index(index, drop=True, inplace=True)\n",
    "    \n",
    "    index_name = df.index.name\n",
    "\n",
    "    # identify duplicate rows\n",
    "    duplicates = list(df.groupby(list(df)).apply(lambda x: tuple(x.index)))\n",
    "\n",
    "    # order is preserved\n",
    "    df.drop_duplicates(inplace=True)\n",
    "    df.reset_index(inplace=True)\n",
    "    df[index_name] = duplicates\n",
    "    return\n",
    "\n",
    "reindex_remove_duplicates(geo_survey_props_clean, 'native_index')\n",
    "assert geo_survey_props_clean['porosity [-]'][:].min() >= min_porosity\n",
    "assert geo_survey_props_clean['permeability [m^2]'][:].max() <= max_permeability\n",
    "assert geo_survey_props_clean['van Genuchten alpha [Pa^-1]'][:].max() <= max_vg_alpha\n",
    "\n",
    "geo_survey_props_clean"
   ]
  },
  {
   "cell_type": "code",
   "execution_count": null,
   "id": "082fc395",
   "metadata": {
    "papermill": {
     "duration": 27.215427,
     "end_time": "2022-03-07T15:56:41.057122",
     "exception": false,
     "start_time": "2022-03-07T15:56:13.841695",
     "status": "completed"
    },
    "tags": []
   },
   "outputs": [],
   "source": [
    "# create a new geologic layer color, keeping on those that are kept here and re-indexing to ATS indices\n",
    "geo_color_new = -np.ones_like(geo_color)\n",
    "for new_id, old_id_dups in enumerate(geo_survey_props_clean['native_index']):\n",
    "    for old_id in old_id_dups:\n",
    "        geo_color_new[np.where(geo_color == old_id)] = 100+new_id\n",
    "    \n",
    "if generate_plots:\n",
    "    # image the new geo_color\n",
    "    indices, cmap, norm, ticks, labels = watershed_workflow.colors.generate_indexed_colormap(geo_color_new, cmap='tab20c')\n",
    "    fig, ax = watershed_workflow.plot.get_ax(crs)\n",
    "\n",
    "    mp = watershed_workflow.plot.mesh(m2, crs, ax=ax, facecolor='color',\n",
    "                        linewidth=0, color=geo_color_new, \n",
    "                        cmap=cmap, norm=norm)\n",
    "\n",
    "    watershed_workflow.colors.colorbar_index(ncolors=len(np.unique(geo_color_new)), cmap=cmap, labels=labels, ax=ax) \n",
    "\n",
    "    ax.set_title('geologic type index')\n",
    "    ax.axis('off')\n"
   ]
  },
  {
   "cell_type": "code",
   "execution_count": null,
   "id": "e127af1c-8b31-4640-a0bd-7843d687042d",
   "metadata": {
    "papermill": {
     "duration": 1.069526,
     "end_time": "2022-03-07T15:56:43.148086",
     "exception": false,
     "start_time": "2022-03-07T15:56:42.078560",
     "status": "completed"
    },
    "tags": []
   },
   "outputs": [],
   "source": [
    "assert(geo_color_new.min() > 0)"
   ]
  },
  {
   "cell_type": "markdown",
   "id": "4ce5a1ff",
   "metadata": {
    "papermill": {
     "duration": 1.009188,
     "end_time": "2022-03-07T15:56:45.205006",
     "exception": false,
     "start_time": "2022-03-07T15:56:44.195818",
     "status": "completed"
    },
    "tags": []
   },
   "source": [
    "### Depth-to-bedrock"
   ]
  },
  {
   "cell_type": "markdown",
   "id": "bc112023",
   "metadata": {
    "papermill": {
     "duration": 1.031012,
     "end_time": "2022-03-07T15:56:47.247612",
     "exception": false,
     "start_time": "2022-03-07T15:56:46.216600",
     "status": "completed"
    },
    "tags": []
   },
   "source": [
    "Depth to bedrock is taken from the [SoilGrids](http://globalchange.bnu.edu.cn/research/dtb.jsp) product.  Here we download a US-based, clipped version of this global product, as file sizes are quite large (all products potentially used total over 100GB)."
   ]
  },
  {
   "cell_type": "code",
   "execution_count": null,
   "id": "e08e74e8",
   "metadata": {
    "papermill": {
     "duration": 1.694086,
     "end_time": "2022-03-07T15:56:49.956905",
     "exception": false,
     "start_time": "2022-03-07T15:56:48.262819",
     "status": "completed"
    },
    "tags": []
   },
   "outputs": [],
   "source": [
    "DTB_profile, DTB_raster = watershed_workflow.get_raster_on_shape(sources['depth to bedrock'], watershed.exterior(), crs, \n",
    "                                                       nodata=-99999)\n",
    "\n",
    "# resample the raster to the triangles\n",
    "DTB_raster = DTB_raster / 100 # convert cm --> m\n",
    "DTB = watershed_workflow.values_from_raster(m2.centroids, crs, DTB_raster, DTB_profile, algorithm='piecewise bilinear')\n",
    "DTB = np.where(DTB >= 0, DTB, np.nan)"
   ]
  },
  {
   "cell_type": "code",
   "execution_count": null,
   "id": "6bb9721c",
   "metadata": {
    "papermill": {
     "duration": 2.453984,
     "end_time": "2022-03-07T15:56:53.458748",
     "exception": false,
     "start_time": "2022-03-07T15:56:51.004764",
     "status": "completed"
    },
    "tags": []
   },
   "outputs": [],
   "source": [
    "if generate_plots:\n",
    "    # plot the resulting surface mesh\n",
    "    fig, ax = watershed_workflow.plot.get_ax(crs, window=[0.05,0.1,0.9,0.8])\n",
    "    cbax = fig.add_axes([.95,0.1,0.05,0.8])\n",
    "\n",
    "    mp = watershed_workflow.plot.mesh(m2, crs, ax=ax, facecolor='color',\n",
    "                            linewidth=0, color=DTB, cmap='jet')\n",
    "    cbar = fig.colorbar(mp, orientation=\"vertical\", cax=cbax)\n",
    "    watershed_workflow.plot.hucs(watershed, crs, ax=ax, color='k', linewidth=1)\n",
    "\n",
    "    ax.set_aspect('equal', 'datalim')\n",
    "    ax.axis('off')\n",
    "\n",
    "    cbar.ax.set_title('DTB [m]')"
   ]
  },
  {
   "cell_type": "markdown",
   "id": "4b8bd525",
   "metadata": {
    "papermill": {
     "duration": 1.026793,
     "end_time": "2022-03-07T15:56:55.487876",
     "exception": false,
     "start_time": "2022-03-07T15:56:54.461083",
     "status": "completed"
    },
    "tags": []
   },
   "source": [
    "### A combined, complete product\n",
    "\n",
    "As a default, we would like a material-driven (e.g. not fields for porosity, perm, etc, but soil classes, each with a common porosity/permeability/vG curve) default that is valid everywhere.  That makes it clear that we must rely on GLHYMPS as the only material-based product that is valid everywhere.  Other products may be layered on top of this, replacing GLHYMPS values, but the underlying layer should be based on GLHYMPS.  To fill in the van Genuchten properties, we relate alpha to permeability and choose a single common n and s_r.\n",
    "\n",
    "Where available, we then choose to use SSURGO as a layer on top of GLHYMPS.  So start by using all GLHYMPS values, then override ones where SSURGO is valid with those values.  This will be the second model, and has then three layers -- a bedrock layer, a soil layer from 0 to 2m, and a geologic layer, using GLHYMPS values.  SoilGrids depth-to-bedrock will be used to provide the transition between bedrock and (where > 2m) the GLHYMPS \"geologic\" layer or (where < 2m) the SSURGO \"soil\" layer.  Where SSURGO has no values, the underlying GLHYMPS values will be used even in the top 2m.\n"
   ]
  },
  {
   "cell_type": "markdown",
   "id": "38df9e85",
   "metadata": {
    "papermill": {
     "duration": 1.02823,
     "end_time": "2022-03-07T15:56:57.564466",
     "exception": false,
     "start_time": "2022-03-07T15:56:56.536236",
     "status": "completed"
    },
    "tags": []
   },
   "source": [
    "Note, all integer IDs in mesh files must be unique.  This includes Material IDs, side sets, etc.  We create the Material ID map and data frame.  This is used to standardize IDs from multiple data sources.  Traditionally, ATS numbers Material IDs/Side Sets as:\n",
    "\n",
    "* 0-9 : reserved for boundaries, surface/bottom, etc\n",
    "* 10-99 : Land Cover side sets, typically NLCD IDs are used\n",
    "* 100-999 : geologic layer material IDs. 999 is reserved for bedrock.\n",
    "* 1000-9999 : soil layer material IDs\n",
    "\n",
    "\n"
   ]
  },
  {
   "cell_type": "code",
   "execution_count": null,
   "id": "631185df",
   "metadata": {
    "papermill": {
     "duration": 1.171749,
     "end_time": "2022-03-07T15:56:59.736081",
     "exception": false,
     "start_time": "2022-03-07T15:56:58.564332",
     "status": "completed"
    },
    "tags": []
   },
   "outputs": [],
   "source": [
    "# map SSURGO mukey to ATS_ID\n",
    "soil_survey_props_clean['ats_id'] = range(1000, 1000+len(soil_survey_props_clean))\n",
    "soil_survey_props_clean.set_index('ats_id', inplace=True)\n",
    "\n",
    "# map GLHYMPS id to ATS_ID\n",
    "geo_survey_props_clean['ats_id'] = range(100, 100+len(geo_survey_props_clean))\n",
    "geo_survey_props_clean.set_index('ats_id', inplace=True)\n",
    "\n",
    "bedrock_props = watershed_workflow.soil_properties.get_bedrock_properties()\n",
    "\n",
    "# merge the properties databases\n",
    "subsurface_props = pandas.concat([geo_survey_props_clean,\n",
    "                                  soil_survey_props_clean,\n",
    "                                  bedrock_props])\n",
    "\n",
    "# save the properties to disk for use in generating input file\n",
    "outputs['subsurface_properties_filename'] = os.path.join('output_data', f'{name}_subsurface_properties.csv')\n",
    "subsurface_props.to_csv(outputs['subsurface_properties_filename'])\n",
    "subsurface_props\n"
   ]
  },
  {
   "cell_type": "markdown",
   "id": "b63c702f",
   "metadata": {
    "papermill": {
     "duration": 1.020719,
     "end_time": "2022-03-07T15:57:05.058716",
     "exception": false,
     "start_time": "2022-03-07T15:57:04.037997",
     "status": "completed"
    },
    "tags": []
   },
   "source": [
    "## Mesh extrusion\n",
    "\n",
    "Given the surface mesh and material IDs on both the surface and subsurface, we can extrude the surface mesh in the vertical to make a 3D mesh.\n",
    "\n",
    "The most difficult aspect of extrusion is creating meshes that:\n",
    "1. aren't huge numbers of cells\n",
    "2. aren't huge cell thicknesses, especially near the surface\n",
    "3. follow implied interfaces, e.g. bottom of soil and bottom of geologic layer\n",
    "\n",
    "This is an iterative process that requires some care and some art."
   ]
  },
  {
   "cell_type": "code",
   "execution_count": null,
   "id": "c50bfcad",
   "metadata": {
    "papermill": {
     "duration": 1.063862,
     "end_time": "2022-03-07T15:57:07.148955",
     "exception": false,
     "start_time": "2022-03-07T15:57:06.085093",
     "status": "completed"
    },
    "tags": []
   },
   "outputs": [],
   "source": [
    "# here we choose the bottom of the domain to be the maximum of the depth to bedrock.  \n",
    "# This is really up to the user, but we are hard-coding this for this watershed_workflow.\n",
    "dtb_max = np.nanmax(DTB)\n",
    "DTB = np.where(np.isnan(DTB), dtb_max, DTB)\n",
    "\n",
    "total_thickness = np.ceil(DTB.max())\n",
    "print(f'total thickness: {total_thickness} m')\n",
    "\n",
    "total_thickness = 41.0"
   ]
  },
  {
   "cell_type": "code",
   "execution_count": null,
   "id": "f4c224f5",
   "metadata": {
    "papermill": {
     "duration": 1.113003,
     "end_time": "2022-03-07T15:57:09.335913",
     "exception": false,
     "start_time": "2022-03-07T15:57:08.222910",
     "status": "completed"
    },
    "tags": []
   },
   "outputs": [],
   "source": [
    "# Generate a dz structure for the top 2m of soil\n",
    "#\n",
    "# here we try for 10 cells, starting at 5cm at the top and going to 50cm at the bottom of the 2m thick soil\n",
    "dzs, res = watershed_workflow.mesh.optimize_dzs(0.05, 0.5, 2, 10)\n",
    "print(dzs)\n",
    "print(sum(dzs))"
   ]
  },
  {
   "cell_type": "code",
   "execution_count": null,
   "id": "6ad19ef9",
   "metadata": {
    "papermill": {
     "duration": 1.121514,
     "end_time": "2022-03-07T15:57:11.488880",
     "exception": false,
     "start_time": "2022-03-07T15:57:10.367366",
     "status": "completed"
    },
    "tags": []
   },
   "outputs": [],
   "source": [
    "# this looks like it would work out, with rounder numbers:\n",
    "dzs_soil = [0.05, 0.05, 0.05, 0.12, 0.23, 0.5, 0.5, 0.5]\n",
    "print(sum(dzs_soil))"
   ]
  },
  {
   "cell_type": "code",
   "execution_count": null,
   "id": "ca577847",
   "metadata": {
    "papermill": {
     "duration": 1.117611,
     "end_time": "2022-03-07T15:57:13.645759",
     "exception": false,
     "start_time": "2022-03-07T15:57:12.528148",
     "status": "completed"
    },
    "tags": []
   },
   "outputs": [],
   "source": [
    "# 41m total thickness, minus 2m soil thickness, leaves us with 39 meters to make up.\n",
    "# optimize again...\n",
    "dzs2, res2 = watershed_workflow.mesh.optimize_dzs(1, 10, 39, 8)\n",
    "print(dzs2)\n",
    "print(sum(dzs2))\n",
    "\n",
    "# how about...\n",
    "dzs_geo = [1.0, 3.0, 5.0,] + 3*[10.0,]\n",
    "print(dzs_geo)\n",
    "print(sum(dzs_geo))"
   ]
  },
  {
   "cell_type": "code",
   "execution_count": null,
   "id": "e8928efc",
   "metadata": {
    "papermill": {
     "duration": 1.157548,
     "end_time": "2022-03-07T15:57:15.796623",
     "exception": false,
     "start_time": "2022-03-07T15:57:14.639075",
     "status": "completed"
    },
    "tags": []
   },
   "outputs": [],
   "source": [
    "# layer extrusion\n",
    "# -- data structures needed for extrusion\n",
    "layer_types = []\n",
    "layer_data = []\n",
    "layer_ncells = []\n",
    "layer_mat_ids = []\n",
    "\n",
    "# -- soil layer --\n",
    "depth = 0\n",
    "for dz in dzs_soil:\n",
    "    depth += 0.5 * dz\n",
    "    layer_types.append('constant')\n",
    "    layer_data.append(dz)\n",
    "    layer_ncells.append(1)\n",
    "    \n",
    "    if use_geologic_layer:\n",
    "        # use glhymps params\n",
    "        br_or_geo = np.where(depth < DTB, geo_color_new, 999)\n",
    "        soil_or_br_or_geo = np.where(np.bitwise_and(soil_color_new > 0, depth < soil_thickness),\n",
    "                                 soil_color_new,\n",
    "                                 br_or_geo)\n",
    "    else:\n",
    "        # use ssurgo down to DTB if it exists\n",
    "        soil_or_geo = np.where(soil_color_new > 0, soil_color_new, geo_color_new)\n",
    "        soil_or_br_or_geo = np.where(depth < DTB, soil_or_geo, 999)\n",
    "    layer_mat_ids.append(soil_or_br_or_geo)\n",
    "    depth += 0.5 * dz\n",
    "    \n",
    "# -- geologic layer --\n",
    "for dz in dzs_geo:\n",
    "    depth += 0.5 * dz\n",
    "    layer_types.append('constant')\n",
    "    layer_data.append(dz)\n",
    "    layer_ncells.append(1)\n",
    "    \n",
    "    if use_geologic_layer:\n",
    "        geo_or_br = np.where(depth < DTB, geo_color_new, 999)\n",
    "    else:\n",
    "        # only soil, no geo\n",
    "        soil_or_geo = np.where(soil_color_new > 0, soil_color_new, geo_color_new)\n",
    "        geo_or_br = np.where(depth < DTB, soil_or_geo, 999)\n",
    "        \n",
    "    layer_mat_ids.append(geo_or_br)\n",
    "    depth += 0.5 * dz\n",
    "\n",
    "# print the summary\n",
    "watershed_workflow.mesh.Mesh3D.summarize_extrusion(layer_types, layer_data, \n",
    "                                            layer_ncells, layer_mat_ids)\n",
    "\n",
    "# downselect subsurface properties to only those that are used\n",
    "layer_mat_id_used = list(np.unique(np.array(layer_mat_ids)))\n",
    "subsurface_props_used = subsurface_props.loc[layer_mat_id_used]\n",
    "len(subsurface_props_used)\n"
   ]
  },
  {
   "cell_type": "code",
   "execution_count": null,
   "id": "fe7f0f6b",
   "metadata": {
    "papermill": {
     "duration": 21.616117,
     "end_time": "2022-03-07T15:57:38.489841",
     "exception": false,
     "start_time": "2022-03-07T15:57:16.873724",
     "status": "completed"
    },
    "tags": []
   },
   "outputs": [],
   "source": [
    "# extrude\n",
    "m3 = watershed_workflow.mesh.Mesh3D.extruded_Mesh2D(m2, layer_types, layer_data, \n",
    "                                             layer_ncells, layer_mat_ids)"
   ]
  },
  {
   "cell_type": "code",
   "execution_count": null,
   "id": "0a01ecbb",
   "metadata": {
    "papermill": {
     "duration": 1.082414,
     "end_time": "2022-03-07T15:57:40.657014",
     "exception": false,
     "start_time": "2022-03-07T15:57:39.574600",
     "status": "completed"
    },
    "tags": []
   },
   "outputs": [],
   "source": [
    "print('2D labeled sets')\n",
    "print('---------------')\n",
    "for ls in m2.labeled_sets:\n",
    "    print(f'{ls.setid} : {ls.entity} : {len(ls.ent_ids)} : \"{ls.name}\"')\n",
    "\n",
    "print('')\n",
    "print('Extruded 3D labeled sets')\n",
    "print('------------------------')\n",
    "for ls in m3.labeled_sets:\n",
    "    print(f'{ls.setid} : {ls.entity} : {len(ls.ent_ids)} : \"{ls.name}\"')\n",
    "\n",
    "print('')\n",
    "print('Extruded 3D side sets')\n",
    "print('---------------------')\n",
    "for ls in m3.side_sets:\n",
    "    print(f'{ls.setid} : FACE : {len(ls.cell_list)} : \"{ls.name}\"')\n",
    "    \n"
   ]
  },
  {
   "cell_type": "code",
   "execution_count": null,
   "id": "58e5faed",
   "metadata": {
    "papermill": {
     "duration": 59.451977,
     "end_time": "2022-03-07T15:58:41.156196",
     "exception": false,
     "start_time": "2022-03-07T15:57:41.704219",
     "status": "completed"
    },
    "scrolled": true,
    "tags": []
   },
   "outputs": [],
   "source": [
    "# save the mesh to disk\n",
    "outputs['mesh_filename'] = os.path.join('output_data',f'{name}.exo')\n",
    "try:\n",
    "    os.remove(outputs['mesh_filename'])\n",
    "except FileNotFoundError:\n",
    "    pass\n",
    "m3.write_exodus(outputs['mesh_filename'])\n"
   ]
  },
  {
   "cell_type": "markdown",
   "id": "059ca31d",
   "metadata": {
    "papermill": {
     "duration": 1.151248,
     "end_time": "2022-03-07T15:58:43.409223",
     "exception": false,
     "start_time": "2022-03-07T15:58:42.257975",
     "status": "completed"
    },
    "tags": []
   },
   "source": [
    "## Meteorological forcing dataset\n",
    "\n",
    "In addition to the LAI covered above, ATS is driven by meteorological forcing data.  We need two forcing datasets -- the actual time series and a typical year for use in spinup.\n"
   ]
  },
  {
   "cell_type": "code",
   "execution_count": null,
   "id": "d5cbf210",
   "metadata": {
    "papermill": {
     "duration": 1.14458,
     "end_time": "2022-03-07T15:58:45.661096",
     "exception": false,
     "start_time": "2022-03-07T15:58:44.516516",
     "status": "completed"
    },
    "scrolled": true,
    "tags": []
   },
   "outputs": [],
   "source": [
    "startdate = f\"{start_year}-1-1\"\n",
    "enddate = f\"{end_year}-1-1\"\n",
    "bounds = watershed.exterior().bounds\n",
    "\n",
    "# download the data\n",
    "met_data_raw = sources['meteorology'].get_data(bounds, crs, startdate, enddate)\n",
    "\n",
    "# write raw data to HDF5\n",
    "filename = os.path.join('output_data', f'{name}_daymet-raw.h5')\n",
    "outputs['meteorology_raw'] = filename\n",
    "watershed_workflow.io.write_dataset_to_hdf5(\n",
    "    filename,\n",
    "    met_data_raw, \n",
    "    watershed_workflow.daymet.getAttributes(bounds, startdate, enddate))\n"
   ]
  },
  {
   "cell_type": "code",
   "execution_count": null,
   "id": "bad9e372-51a2-40fb-bcdb-765a9c6705bb",
   "metadata": {},
   "outputs": [],
   "source": [
    "# convert and write ATS format for transient run\n",
    "met_data_transient = watershed_workflow.daymet.convertToATS(met_data_raw)\n"
   ]
  },
  {
   "cell_type": "code",
   "execution_count": null,
   "id": "f89a7af0-a47f-4c7a-926c-a0cb103523e7",
   "metadata": {},
   "outputs": [],
   "source": [
    "# plot a few of the met data -- does it look reasonable?\n",
    "date = np.array([datetime.datetime(t.year, t.month, t.day) for t in met_data_transient.times])\n",
    "            \n",
    "fig, axs = plt.subplots(1,2)\n",
    "axs[0].plot(date, met_data_transient['precipitation rain [m s^-1]'].data[:,5,5])\n",
    "axs[0].set_ylabel('rain [m d^-1]')\n",
    "\n",
    "axs[1].plot(date, met_data_transient['incoming shortwave radiation [W m^-2]'].data[:,5,5], 'r')\n",
    "axs[1].set_ylabel('incoming shortwave radiation [W m^-2]')"
   ]
  },
  {
   "cell_type": "code",
   "execution_count": null,
   "id": "467ed0a9-3b3b-4b3f-be45-96004e5bd169",
   "metadata": {},
   "outputs": [],
   "source": [
    "# write transient data to disk\n",
    "filename = os.path.join('output_data', f'{name}_daymet-{start_year}-{end_year}.h5')\n",
    "outputs['transient meteorology'] = filename\n",
    "watershed_workflow.io.write_dataset_to_hdf5(\n",
    "    filename,\n",
    "    met_data_transient,\n",
    "    watershed_workflow.daymet.getAttributes(bounds, startdate, enddate))"
   ]
  },
  {
   "cell_type": "code",
   "execution_count": null,
   "id": "760ec1e2-8a12-4117-9821-21715d79d918",
   "metadata": {},
   "outputs": [],
   "source": [
    "# compute the typical year of the _raw_ data\n",
    "# note that we set interpolate to False, since met_data is already daily on a noleap calendar\n",
    "met_data_raw_avg = watershed_workflow.datasets.computeAverageYear(met_data_raw, nyears_cyclic_steadystate, smooth=False, \n",
    "                                                                  smooth_kwargs=dict(window_length=181, polyorder=2),\n",
    "                                                                  interpolate=False)\n",
    "\n",
    "# smoothing precipitation doesn't work -- even averaging precip doesn't work because both result in more events of lower\n",
    "# intensity.  Instead, we pick the median year and repeat that nyears_cyclic_steadystate times\n",
    "precip_raw = met_data_raw['prcp'].data\n",
    "shape_xy = precip_raw.shape[1:]\n",
    "precip_raw = precip_raw.reshape((-1, 365,)+shape_xy)\n",
    "annual_precip_raw = precip_raw.sum(axis=(1,2,3))\n",
    "\n",
    "# note -- don't use np.median here... for even number of years it will not appear.  Instead, sort and talk the halfway point\n",
    "median_i = sorted(((i,v) for (i,v) in enumerate(annual_precip_raw)), key=lambda x : x[1])[len(annual_precip_raw)//2][0]\n",
    "typical_precip_raw = precip_raw[median_i]\n",
    "met_data_raw_avg['prcp'] = np.tile(typical_precip_raw, (nyears_cyclic_steadystate,1,1))\n"
   ]
  },
  {
   "cell_type": "code",
   "execution_count": null,
   "id": "c6fc9e7e-7c14-441b-88aa-b25547d2875e",
   "metadata": {},
   "outputs": [],
   "source": [
    "# convert the typical year to ATS\n",
    "met_data_avg = watershed_workflow.daymet.convertToATS(met_data_raw_avg)"
   ]
  },
  {
   "cell_type": "code",
   "execution_count": null,
   "id": "b52805c2-5256-413f-8fc9-d28da9dc7393",
   "metadata": {},
   "outputs": [],
   "source": [
    "# plot a few of the met data -- does it look reasonable?\n",
    "fig, axs = plt.subplots(1,2)\n",
    "date = np.array([datetime.datetime(t.year, t.month, t.day) for t in met_data_avg.times])\n",
    "\n",
    "axs[0].plot(date, met_data_avg['precipitation rain [m s^-1]'].data[:,5,5], label='rain')\n",
    "axs[0].plot(date, met_data_avg['precipitation snow [m SWE s^-1]'].data[:,5,5], label='snow')\n",
    "axs[0].legend()\n",
    "axs[0].set_ylabel('precip [m d^-1]')\n",
    "\n",
    "axs[1].plot(date, met_data_avg['incoming shortwave radiation [W m^-2]'].data[:,5,5], 'r')\n",
    "axs[1].set_ylabel('incoming shortwave radiation [W m^-2]')"
   ]
  },
  {
   "cell_type": "code",
   "execution_count": null,
   "id": "9638c44f-ddde-4b13-9040-dcf438497ed7",
   "metadata": {},
   "outputs": [],
   "source": [
    "# write cyclic steadystate data to disk\n",
    "filename = os.path.join('output_data', f'{name}_daymet-typical.h5')\n",
    "outputs['cyclic steadystate meteorology'] = filename\n",
    "watershed_workflow.io.write_dataset_to_hdf5(\n",
    "    filename,\n",
    "    met_data_avg,\n",
    "    watershed_workflow.daymet.getAttributes(bounds, startdate, enddate))\n"
   ]
  },
  {
   "cell_type": "code",
   "execution_count": null,
   "id": "f580a4d9-fb76-43d0-a17d-176d77938db1",
   "metadata": {},
   "outputs": [],
   "source": [
    "# compute the average precip rate for steadystate solution\n",
    "precip_mean = (met_data_transient['precipitation rain [m s^-1]'].data + met_data_transient['precipitation snow [m SWE s^-1]'].data).mean()\n",
    "logging.info(f'Mean precip value = {precip_mean}')\n"
   ]
  },
  {
   "cell_type": "markdown",
   "id": "07d93651-1885-40de-b7d4-49448ffc2756",
   "metadata": {},
   "source": [
    "## Write ATS input files"
   ]
  },
  {
   "cell_type": "code",
   "execution_count": null,
   "id": "ad766d0c",
   "metadata": {
    "papermill": {
     "duration": 1.143055,
     "end_time": "2022-03-07T15:59:14.911795",
     "exception": false,
     "start_time": "2022-03-07T15:59:13.768740",
     "status": "completed"
    },
    "tags": []
   },
   "outputs": [],
   "source": [
    "# Note that each of these are defined as functions so we can reuse them for all three input files.\n",
    "\n",
    "# add the subsurface and surface domains\n",
    "#\n",
    "# Note this also adds a \"computational domain\" region to the region list, and a vis spec \n",
    "# for \"domain\"\n",
    "def add_domains(main_list, mesh_filename, surface_region='surface', snow=True, canopy=True):\n",
    "    ats_input_spec.public.add_domain(main_list, \n",
    "                                 domain_name='domain', \n",
    "                                 dimension=3, \n",
    "                                 mesh_type='read mesh file',\n",
    "                                 mesh_args={'file':mesh_filename})\n",
    "    if surface_region:\n",
    "        main_list['mesh']['domain']['build columns from set'] = surface_region    \n",
    "    \n",
    "        # Note this also adds a \"surface domain\" region to the region list and a vis spec for \n",
    "        # \"surface\"\n",
    "        ats_input_spec.public.add_domain(main_list,\n",
    "                                domain_name='surface',\n",
    "                                dimension=2,\n",
    "                                mesh_type='surface',\n",
    "                                mesh_args={'surface sideset name':'surface'})\n",
    "    if snow:\n",
    "        # Add the snow and canopy domains, which are aliases to the surface\n",
    "        ats_input_spec.public.add_domain(main_list,\n",
    "                                domain_name='snow',\n",
    "                                dimension=2,\n",
    "                                mesh_type='aliased',\n",
    "                                mesh_args={'target':'surface'})\n",
    "    if canopy:\n",
    "        ats_input_spec.public.add_domain(main_list,\n",
    "                                domain_name='canopy',\n",
    "                                dimension=2,\n",
    "                                mesh_type='aliased',\n",
    "                                mesh_args={'target':'surface'})\n"
   ]
  },
  {
   "cell_type": "code",
   "execution_count": null,
   "id": "dace57f3",
   "metadata": {
    "papermill": {
     "duration": 1.135431,
     "end_time": "2022-03-07T15:59:17.151867",
     "exception": false,
     "start_time": "2022-03-07T15:59:16.016436",
     "status": "completed"
    },
    "tags": []
   },
   "outputs": [],
   "source": [
    "def add_land_cover(main_list):\n",
    "    # next write a land-cover section for each NLCD type\n",
    "    for index, nlcd_name in zip(nlcd_indices, nlcd_labels):\n",
    "        ats_input_spec.public.set_land_cover_default_constants(main_list, nlcd_name)\n",
    "\n",
    "    land_cover_list = main_list['state']['initial conditions']['land cover types']\n",
    "    # update some defaults for\n",
    "    # ['Other', 'Deciduous Forest']\n",
    "    # note, these are from the CLM Technical Note v4.5\n",
    "    #\n",
    "    # Rooting depth curves from CLM TN 4.5 table 8.3\n",
    "    #\n",
    "    # Note, the mafic potential values are likely pretty bad for the types of van Genuchten \n",
    "    # curves we are using (ETC -- add paper citation about this topic).  Likely they need\n",
    "    # to be modified.  Note that these values are in [mm] from CLM TN 4.5 table 8.1, so the \n",
    "    # factor of 10 converts to [Pa]\n",
    "    #\n",
    "    # Note, albedo of canopy taken from CLM TN 4.5 table 3.1\n",
    "    land_cover_list['Deciduous Forest']['rooting profile alpha [-]'] = 6.0\n",
    "    land_cover_list['Deciduous Forest']['rooting profile beta [-]'] = 2.0\n",
    "    land_cover_list['Deciduous Forest']['rooting depth max [m]'] = 10.0\n",
    "    land_cover_list['Deciduous Forest']['capillary pressure at fully closed stomata [Pa]'] = 224000\n",
    "    land_cover_list['Deciduous Forest']['capillary pressure at fully open stomata [Pa]'] = 35000 * .10\n",
    "    land_cover_list['Deciduous Forest']['albedo of canopy [-]'] = 0.1\n",
    "\n"
   ]
  },
  {
   "cell_type": "code",
   "execution_count": null,
   "id": "8ede914b",
   "metadata": {
    "papermill": {
     "duration": 1.421863,
     "end_time": "2022-03-07T15:59:19.669461",
     "exception": false,
     "start_time": "2022-03-07T15:59:18.247598",
     "status": "completed"
    },
    "tags": []
   },
   "outputs": [],
   "source": [
    "# add soil sets: note we need a way to name the set, so we use, e.g. SSURGO-MUKEY.\n",
    "def soil_set_name(ats_id):\n",
    "    if ats_id == 999:\n",
    "        return 'bedrock'\n",
    "    source = subsurface_props_used.loc[ats_id]['source']\n",
    "    native_id = subsurface_props_used.loc[ats_id]['native_index']\n",
    "    if type(native_id) in [tuple,list]:\n",
    "        native_id = native_id[0]\n",
    "    return f\"{source}-{native_id}\"\n",
    "\n",
    "\n",
    "# get an ATS \"main\" input spec list -- note, this is a dummy and is not used to write any files yet\n",
    "def get_main():\n",
    "    main_list = ats_input_spec.public.get_main()\n",
    "\n",
    "    # add the mesh and all domains\n",
    "    mesh_filename = os.path.join('..', outputs['mesh_filename'])\n",
    "    add_domains(main_list, mesh_filename)\n",
    "\n",
    "    # add labeled sets\n",
    "    for ls in m3.labeled_sets:\n",
    "        ats_input_spec.public.add_region_labeled_set(main_list, ls.name, ls.setid, mesh_filename, ls.entity)\n",
    "    for ss in m3.side_sets:\n",
    "        ats_input_spec.public.add_region_labeled_set(main_list, ss.name, ss.setid, mesh_filename, 'FACE')\n",
    "    \n",
    "    # add land cover\n",
    "    add_land_cover(main_list)\n",
    "\n",
    "    # add soil material ID regions, porosity, permeability, and WRMs\n",
    "    for ats_id in subsurface_props_used.index:\n",
    "        props = subsurface_props_used.loc[ats_id]\n",
    "        set_name = soil_set_name(ats_id)\n",
    "        \n",
    "        if props['van Genuchten n [-]'] < 1.5:\n",
    "            smoothing_interval = 0.01\n",
    "        else:\n",
    "            smoothing_interval = 0.0\n",
    "        \n",
    "        ats_input_spec.public.add_soil_type(main_list, set_name, ats_id, mesh_filename,\n",
    "                                            float(props['porosity [-]']),\n",
    "                                            float(props['permeability [m^2]']), 1.e-7,\n",
    "                                            float(props['van Genuchten alpha [Pa^-1]']),\n",
    "                                            float(props['van Genuchten n [-]']),\n",
    "                                            float(props['residual saturation [-]']),\n",
    "                                            float(smoothing_interval))\n",
    "        \n",
    "    # add observations for each subcatchment for transient runs\n",
    "    ats_input_spec.public.add_observations_water_balance(main_list, \"computational domain\", \n",
    "                                                         \"surface domain\", \"external_sides\")\n",
    "\n",
    "    return main_list\n"
   ]
  },
  {
   "cell_type": "code",
   "execution_count": null,
   "id": "6c2d6e87",
   "metadata": {
    "papermill": {
     "duration": 1.152786,
     "end_time": "2022-03-07T15:59:21.928795",
     "exception": false,
     "start_time": "2022-03-07T15:59:20.776009",
     "status": "completed"
    },
    "tags": []
   },
   "outputs": [],
   "source": [
    "def populate_basic_properties(xml, main_xml):\n",
    "    \"\"\"This function updates an xml object with the above properties for mesh, regions, soil props, and lc props\"\"\"\n",
    "    # find and replace the mesh list\n",
    "    xml.replace('mesh', asearch.child_by_name(main_xml, 'mesh'))\n",
    "\n",
    "    # find and replace the regions list\n",
    "    xml.replace('regions', asearch.child_by_name(main_xml, 'regions'))\n",
    "    \n",
    "    # update all model parameters lists\n",
    "    xml_parlist = asearch.find_path(xml, ['state', 'model parameters'], no_skip=True)\n",
    "    for parlist in asearch.find_path(main_xml, ['state', 'model parameters'], no_skip=True):\n",
    "        try:\n",
    "            xml_parlist.replace(parlist.getName(), parlist)\n",
    "        except aerrors.MissingXMLError:\n",
    "            xml_parlist.append(parlist)\n",
    "\n",
    "    # update all evaluator lists\n",
    "    xml_elist = asearch.find_path(xml, ['state', 'evaluators'], no_skip=True)\n",
    "    for elist in asearch.find_path(main_xml, ['state', 'evaluators'], no_skip=True):\n",
    "        try:\n",
    "            xml_elist.replace(elist.getName(), elist)\n",
    "        except aerrors.MissingXMLError:\n",
    "            xml_elist.append(elist)    \n",
    "    \n",
    "    # find and replace land cover\n",
    "    consts_list = asearch.find_path(xml, ['state', 'initial conditions'])\n",
    "    lc_list = asearch.find_path(main_xml, ['state', 'initial conditions', 'land cover types'], no_skip=True)\n",
    "    \n",
    "    try:\n",
    "        consts_list.replace('land cover types', lc_list)\n",
    "    except aerrors.MissingXMLError:\n",
    "        consts_list.append(lc_list)\n"
   ]
  },
  {
   "cell_type": "markdown",
   "id": "a374e7a7",
   "metadata": {
    "papermill": {
     "duration": 1.076236,
     "end_time": "2022-03-07T15:59:24.162869",
     "exception": false,
     "start_time": "2022-03-07T15:59:23.086633",
     "status": "completed"
    },
    "tags": []
   },
   "source": [
    "For the first file, we load a spinup template and write the needed quantities into that file, saving it to the appropriate run directory.  Note there is no DayMet or land cover or LAI properties needed for this run.  The only property that is needed is the domain-averaged, mean annual rainfall rate.  We then take off some for ET (note too wet spins up faster than too dry, so don't take off too much...)."
   ]
  },
  {
   "cell_type": "code",
   "execution_count": null,
   "id": "d8c6d63a",
   "metadata": {
    "papermill": {
     "duration": 1.368452,
     "end_time": "2022-03-07T16:00:03.262110",
     "exception": false,
     "start_time": "2022-03-07T16:00:01.893658",
     "status": "completed"
    },
    "tags": []
   },
   "outputs": [],
   "source": [
    "def write_spinup_steadystate(name, precip_mean, **kwargs):\n",
    "    # create the main list\n",
    "    main = get_main()\n",
    "\n",
    "    # set precip to 0.6 * the mean precip value\n",
    "    precip = main['state']['evaluators'].append_empty('surface-precipitation')\n",
    "    precip.set_type('independent evaluator constant', ats_input_spec.public.known_specs['independent-variable-constant-evaluator-spec'])\n",
    "    precip['value'] = float(precip_mean * .6)\n",
    "\n",
    "    \n",
    "    # load the template file\n",
    "    prefix = 'steadystate'\n",
    "    xml = aio.fromFile(os.path.join('input_data', f'{prefix}-template.xml'))\n",
    "    \n",
    "    # update the template xml with the main xml generated here\n",
    "    main_xml = ats_input_spec.io.to_xml(main)\n",
    "    populate_basic_properties(xml, main_xml, **kwargs)\n",
    "\n",
    "    # write to disk\n",
    "    outputs[f'{prefix}_{name}_filename'] = f'{name}-{prefix}.xml'\n",
    "    filename = outputs[f'{prefix}_{name}_filename']\n",
    "    aio.toFile(xml, filename)\n",
    "\n",
    "    # create a run directory\n",
    "    outputs[f'{prefix}_{name}_rundir'] = f'{name}-{prefix}'\n",
    "    rundir = outputs[f'{prefix}_{name}_rundir']\n",
    "    os.makedirs(rundir, exist_ok=True)\n"
   ]
  },
  {
   "cell_type": "markdown",
   "id": "826f5a99",
   "metadata": {
    "papermill": {
     "duration": 1.115332,
     "end_time": "2022-03-07T16:00:05.524409",
     "exception": false,
     "start_time": "2022-03-07T16:00:04.409077",
     "status": "completed"
    },
    "tags": []
   },
   "source": [
    "For the second file, we load a transient run template.  This file needs the basics, plus DayMet and LAI as the \"typical year data\".  Also we set the run directory that will be used for the steadystate run."
   ]
  },
  {
   "cell_type": "markdown",
   "id": "fe3d6e3c",
   "metadata": {
    "papermill": {
     "duration": 1.116433,
     "end_time": "2022-03-07T16:00:07.782884",
     "exception": false,
     "start_time": "2022-03-07T16:00:06.666451",
     "status": "completed"
    },
    "tags": []
   },
   "source": [
    "For the third file, we load a transient run template as well.  This file needs the basics, DayMet with the actual data, and we choose for this run to use the MODIS typical year.  MODIS is only available for 2002 on, so if we didn't need 1980-2002 we could use the real data, but for this run we want a longer record."
   ]
  },
  {
   "cell_type": "code",
   "execution_count": null,
   "id": "54b76cb6-096c-4673-b32f-85843e12ac46",
   "metadata": {
    "papermill": {
     "duration": 1.155846,
     "end_time": "2022-03-07T16:00:10.035975",
     "exception": false,
     "start_time": "2022-03-07T16:00:08.880129",
     "status": "completed"
    },
    "tags": []
   },
   "outputs": [],
   "source": [
    "def write_transient(name, cyclic_steadystate=False, **kwargs):\n",
    "    # make a unique name based on options\n",
    "    logging.info(f'Writing transient: {name}')\n",
    "\n",
    "    if cyclic_steadystate:\n",
    "        prefix = 'cyclic_steadystate'\n",
    "        previous = 'steadystate'\n",
    "    else:\n",
    "        prefix = 'transient'\n",
    "        previous = 'cyclic_steadystate'\n",
    "\n",
    "    main = get_main()\n",
    "\n",
    "    # add the DayMet evaluators\n",
    "    if cyclic_steadystate:\n",
    "        daymet_filename = outputs['cyclic steadystate meteorology']\n",
    "    else:\n",
    "        daymet_filename = outputs['transient meteorology']\n",
    "    ats_input_spec.public.add_daymet_box_evaluators(main, os.path.join('..', daymet_filename), True)\n",
    "\n",
    "    # add the LAI filenames\n",
    "    if cyclic_steadystate:\n",
    "        lai_filename = outputs[f'{name}_modis_lai_typical']\n",
    "    else:\n",
    "        lai_filename = outputs[f'{name}_modis_lai_dynamic']\n",
    "    ats_input_spec.public.add_lai_point_evaluators(main, os.path.join('..', lai_filename), \n",
    "                                                   list(nlcd_labels_dict.values()), nlcd_crosswalk_modis)\n",
    "    \n",
    "    # load the template file\n",
    "    template_filename = os.path.join('input_data', f'{prefix}-template.xml')\n",
    "    xml = aio.fromFile(template_filename)\n",
    "\n",
    "    # update the template xml with the main xml generated here\n",
    "    main_xml = ats_input_spec.io.to_xml(main)\n",
    "    populate_basic_properties(xml, main_xml, **kwargs)\n",
    "    \n",
    "    # update the start and end time -- would be nice to set these in main, but it would be \n",
    "    # confusing as to when to copy them in populate_basic_properties and when not to do so.\n",
    "    start_day = 274\n",
    "    if cyclic_steadystate:\n",
    "        end_day = 274 + (nyears_cyclic_steadystate - 1) * 365 \n",
    "    else:\n",
    "        end_day = 274 + (end_year - start_year) * 365 \n",
    "        \n",
    "    par = asearch.find_path(xml, ['cycle driver', 'start time'])\n",
    "    par.setValue(start_day)\n",
    "\n",
    "    par = asearch.find_path(xml, ['cycle driver', 'end time'])\n",
    "    par.setValue(end_day)\n",
    "    \n",
    "    # update the restart filenames\n",
    "    for var in asearch.findall_path(xml, ['initial condition', 'restart file']):\n",
    "        var.setValue(os.path.join('..', outputs[f'{previous}_{name}_rundir'], 'checkpoint_final.h5'))\n",
    "\n",
    "    # update the observations list\n",
    "    obs = next(i for (i,el) in enumerate(xml) if el.get('name') == 'observations')\n",
    "    xml[obs] = asearch.child_by_name(main_xml, 'observations')\n",
    "   \n",
    "    # write to disk and make a directory for running the run\n",
    "    outputs[f'{prefix}_{name}_filename'] = f'{name}-{prefix}.xml'\n",
    "    filename = outputs[f'{prefix}_{name}_filename']\n",
    "\n",
    "    outputs[f'{prefix}_{name}_rundir'] = os.path.join(f'{name}-{prefix}')\n",
    "    rundir = outputs[f'{prefix}_{name}_rundir']\n",
    "\n",
    "    aio.toFile(xml, filename)\n",
    "    os.makedirs(rundir, exist_ok=True)"
   ]
  },
  {
   "cell_type": "code",
   "execution_count": null,
   "id": "fdf75414-0ed3-4257-b3af-621ff5853904",
   "metadata": {},
   "outputs": [],
   "source": [
    "write_spinup_steadystate(name, precip_mean)\n",
    "write_transient(name, True)\n",
    "write_transient(name, False)"
   ]
  },
  {
   "cell_type": "code",
   "execution_count": null,
   "id": "d19d3cb8",
   "metadata": {
    "papermill": {
     "duration": 1.175505,
     "end_time": "2022-03-07T16:00:14.959351",
     "exception": false,
     "start_time": "2022-03-07T16:00:13.783846",
     "status": "completed"
    },
    "tags": []
   },
   "outputs": [],
   "source": [
    "logging.info('this workflow is a total success!')"
   ]
  },
  {
   "cell_type": "code",
   "execution_count": null,
   "id": "d3272391-fb54-4cb7-85ea-76bab8cb3c60",
   "metadata": {},
   "outputs": [],
   "source": []
  }
 ],
 "metadata": {
  "celltoolbar": "Tags",
  "kernelspec": {
   "display_name": "Python [conda env:watershed-workflow-master-20240424]",
   "language": "python",
   "name": "conda-env-watershed-workflow-master-20240424-py"
  },
  "language_info": {
   "codemirror_mode": {
    "name": "ipython",
    "version": 3
   },
   "file_extension": ".py",
   "mimetype": "text/x-python",
   "name": "python",
   "nbconvert_exporter": "python",
   "pygments_lexer": "ipython3",
   "version": "3.10.13"
  },
  "papermill": {
   "default_parameters": {},
   "duration": 685.28134,
   "end_time": "2022-03-07T16:00:23.770205",
   "environment_variables": {},
   "exception": true,
   "input_path": "full_workflow_master.ipynb",
   "output_path": "full_workflow_EastTaylor.ipynb",
   "parameters": {
    "hucs": "[14020001,]",
    "name": "EastTaylor",
    "prune_by_area_fraction": 0.005
   },
   "start_time": "2022-03-07T15:48:58.488865",
   "version": "2.3.3"
  }
 },
 "nbformat": 4,
 "nbformat_minor": 5
}
