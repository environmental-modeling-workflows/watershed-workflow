{
 "cells": [
  {
   "cell_type": "markdown",
   "metadata": {},
   "source": [
    "# Working with MODIS for Land Cover and LAI data\n",
    "\n",
    "## Download MODIS data from AppEARS"
   ]
  },
  {
   "cell_type": "markdown",
   "metadata": {},
   "source": [
    "MODIS provides satellite image data including ET, LAI and etc."
   ]
  },
  {
   "cell_type": "code",
   "execution_count": 1,
   "metadata": {},
   "outputs": [],
   "source": [
    "%load_ext autoreload\n",
    "%autoreload 2"
   ]
  },
  {
   "cell_type": "code",
   "execution_count": 2,
   "metadata": {},
   "outputs": [],
   "source": [
    "import watershed_workflow.ui\n",
    "watershed_workflow.ui.setup_logging(1)"
   ]
  },
  {
   "cell_type": "code",
   "execution_count": 3,
   "metadata": {},
   "outputs": [],
   "source": [
    "import logging\n",
    "import os\n",
    "import numpy as np\n",
    "from matplotlib import pyplot as plt\n",
    "import cftime, datetime\n",
    "\n",
    "import watershed_workflow\n",
    "import watershed_workflow.sources\n",
    "import watershed_workflow.land_cover_properties\n",
    "import watershed_workflow.io\n",
    "import watershed_workflow.data\n",
    "\n"
   ]
  },
  {
   "cell_type": "code",
   "execution_count": 4,
   "metadata": {},
   "outputs": [],
   "source": [
    "watershed_shapefile = 'Coweeta/input_data/coweeta_basin.shp'\n",
    "crs = watershed_workflow.crs.default_crs"
   ]
  },
  {
   "cell_type": "markdown",
   "metadata": {},
   "source": [
    "### Get the watershed"
   ]
  },
  {
   "cell_type": "code",
   "execution_count": 5,
   "metadata": {},
   "outputs": [
    {
     "name": "stderr",
     "output_type": "stream",
     "text": [
      "2025-08-29 14:11:48,704 - root - INFO: fixing column: geometry\n",
      "2025-08-29 14:11:48,709 - root - INFO: Removing holes on 1 polygons\n",
      "2025-08-29 14:11:48,709 - root - INFO:   -- removed interior\n",
      "2025-08-29 14:11:48,710 - root - INFO:   -- union\n",
      "2025-08-29 14:11:48,710 - root - INFO: Parsing 1 components for holes\n",
      "2025-08-29 14:11:48,710 - root - INFO:   -- complete\n"
     ]
    },
    {
     "name": "stdout",
     "output_type": "stream",
     "text": [
      "(1129295.2795668324, 1404623.589635828, 1134445.5249643093, 1410000.8473600943)\n",
      "5150.245397476945 5377.257724266266\n"
     ]
    }
   ],
   "source": [
    "watershed_shapes = watershed_workflow.sources.ManagerShapefile(watershed_shapefile).getShapes(out_crs=crs)\n",
    "watershed = watershed_workflow.SplitHUCs(watershed_shapes)\n",
    "watershed_workflow.split_hucs.simplify(watershed, 60)\n",
    "\n",
    "bounds = watershed.exterior.bounds\n",
    "print(bounds)\n",
    "print(bounds[2] - bounds[0], bounds[3] - bounds[1])"
   ]
  },
  {
   "cell_type": "markdown",
   "metadata": {},
   "source": [
    "### Download the data"
   ]
  },
  {
   "cell_type": "code",
   "execution_count": 6,
   "metadata": {},
   "outputs": [],
   "source": [
    "source = watershed_workflow.sources.ManagerMODISAppEEARS()"
   ]
  },
  {
   "cell_type": "code",
   "execution_count": 7,
   "metadata": {},
   "outputs": [
    {
     "name": "stderr",
     "output_type": "stream",
     "text": [
      "2025-08-29 14:11:48,736 - root - INFO: calling preprocess\n",
      "2025-08-29 14:11:48,736 - root - INFO: prepocess called!\n",
      "2025-08-29 14:11:48,737 - root - INFO: incoming shape area = 0.0035508368181677618\n",
      "2025-08-29 14:11:48,738 - root - INFO: buffering incoming shape by = 0.0045000000000000005\n",
      "2025-08-29 14:11:48,738 - root - INFO: buffered shape area = 0.004621760927923991\n",
      "2025-08-29 14:11:48,740 - root - INFO: Building request for bounds: [np.float64(-83.494), np.float64(35.0139), np.float64(-83.4061), np.float64(35.0873)]\n",
      "2025-08-29 14:11:48,740 - root - INFO: Requires files:\n",
      "2025-08-29 14:11:48,740 - root - INFO:  ... /home/ecoon/code/watershed_workflow/data/land_cover/MODIS/modis_LAI_01-01-2010_12-31-2020_35.0873x-83.4940_35.0139x-83.4061.nc\n",
      "2025-08-29 14:11:48,740 - root - INFO:  ... /home/ecoon/code/watershed_workflow/data/land_cover/MODIS/modis_LULC_01-01-2010_12-31-2020_35.0873x-83.4940_35.0139x-83.4061.nc\n",
      "2025-08-29 14:11:48,741 - root - INFO: building request.\n",
      "2025-08-29 14:11:49,522 - root - INFO: Constructing Task:\n",
      "2025-08-29 14:11:49,524 - root - INFO: -------------------\n",
      "2025-08-29 14:11:49,525 - root - INFO: JSON:\n",
      "2025-08-29 14:11:49,526 - root - INFO: https://appeears.earthdatacloud.nasa.gov/api/task\n",
      "2025-08-29 14:11:49,528 - root - INFO: {'task_type': 'area', 'task_name': 'Area LAI', 'params': {'dates': [{'startDate': '01-01-2010', 'endDate': '12-31-2020'}], 'layers': [{'layer': 'Lai_500m', 'product': 'MCD15A3H.061'}, {'layer': 'LC_Type1', 'product': 'MCD12Q1.061'}], 'output': {'format': {'type': 'netcdf4'}, 'projection': 'geographic'}, 'geo': {'type': 'FeatureCollection', 'fileName': 'User-Drawn-Polygon', 'features': [{'type': 'Feature', 'properties': {}, 'geometry': {'type': 'Polygon', 'coordinates': [[[np.float64(-83.494), np.float64(35.0139)], [np.float64(-83.494), np.float64(35.0873)], [np.float64(-83.4061), np.float64(35.0873)], [np.float64(-83.4061), np.float64(35.0139)], [np.float64(-83.494), np.float64(35.0139)]]]}}]}}}\n",
      "2025-08-29 14:11:51,383 - root - INFO: Requesting dataset on [np.float64(-83.494), np.float64(35.0139), np.float64(-83.4061), np.float64(35.0873)] response task_id 713e0136-e6d4-4b79-a605-6f5db9f7b694\n"
     ]
    }
   ],
   "source": [
    "start_year = 2010\n",
    "end_year = 2020\n",
    "\n",
    "startdate = f\"{start_year}-1-1\"\n",
    "enddate = f\"{end_year}-12-31\"\n",
    "\n",
    "# note that AppEEARS typically takes a few minutes to prepare your data.  Therefore we return a task, which can be re-checked later.  \n",
    "# So you could launch this call more-or-less immediately upon entering your workflow, continue the workflow, then call wait after\n",
    "# all your other work is done.  Here we just immediately call wait, which checks every few minutes to see if AppEEARs is ready.\n",
    "task = source.requestDataset(watershed.exterior.buffer(1000), watershed.crs, startdate, enddate) "
   ]
  },
  {
   "cell_type": "code",
   "execution_count": 11,
   "metadata": {},
   "outputs": [
    {
     "name": "stdout",
     "output_type": "stream",
     "text": [
      "713e0136-e6d4-4b79-a605-6f5db9f7b694\n"
     ]
    }
   ],
   "source": [
    "# This task_id is the magic key used to identify with AppEEARs what job you're referring to.  It gets used to check the status of the job, and download the result when it is ready.\n",
    "# Note that AppEEARs will send you an email when the job is done!\n",
    "print(task.task_id)"
   ]
  },
  {
   "cell_type": "code",
   "execution_count": 12,
   "metadata": {},
   "outputs": [
    {
     "name": "stderr",
     "output_type": "stream",
     "text": [
      "2025-08-29 14:15:23,083 - root - INFO: Checking status of task: 713e0136-e6d4-4b79-a605-6f5db9f7b694\n",
      "2025-08-29 14:15:23,389 - root - INFO: ... http error\n",
      "2025-08-29 14:15:23,391 - root - INFO: Checking for bundle of task: 713e0136-e6d4-4b79-a605-6f5db9f7b694\n",
      "2025-08-29 14:15:23,618 - root - INFO: ... HTTPError checking for bundle:\n",
      "2025-08-29 14:15:23,619 - root - INFO: 404 Client Error: NOT FOUND for url: https://appeears.earthdatacloud.nasa.gov/api/bundle/713e0136-e6d4-4b79-a605-6f5db9f7b694\n"
     ]
    }
   ],
   "source": [
    "# Do other stuff...\n",
    "#\n",
    "\n",
    "# check whether the request is done\n",
    "if source.isReady(task):\n",
    "    # fetch the request\n",
    "    data = source.fetchDataset(task)\n"
   ]
  },
  {
   "cell_type": "code",
   "execution_count": 13,
   "metadata": {},
   "outputs": [
    {
     "name": "stderr",
     "output_type": "stream",
     "text": [
      "2025-08-29 14:15:39,357 - root - INFO: Checking status of task: 713e0136-e6d4-4b79-a605-6f5db9f7b694\n",
      "2025-08-29 14:15:39,620 - root - INFO: ... http error\n",
      "2025-08-29 14:15:39,622 - root - INFO: Checking for bundle of task: 713e0136-e6d4-4b79-a605-6f5db9f7b694\n",
      "2025-08-29 14:15:39,852 - root - INFO: ... HTTPError checking for bundle:\n",
      "2025-08-29 14:15:39,853 - root - INFO: 404 Client Error: NOT FOUND for url: https://appeears.earthdatacloud.nasa.gov/api/bundle/713e0136-e6d4-4b79-a605-6f5db9f7b694\n"
     ]
    }
   ],
   "source": [
    "# call this as many times as you want until it works!\n",
    "if source.isReady(task):\n",
    "    # fetch the request\n",
    "    data = source.fetchDataset(task)"
   ]
  },
  {
   "cell_type": "code",
   "execution_count": null,
   "metadata": {},
   "outputs": [
    {
     "name": "stderr",
     "output_type": "stream",
     "text": [
      "2025-08-29 14:16:27,287 - root - INFO: Checking status of task: 713e0136-e6d4-4b79-a605-6f5db9f7b694\n",
      "2025-08-29 14:16:27,562 - root - INFO: ... http error\n",
      "2025-08-29 14:16:27,565 - root - INFO: Checking for bundle of task: 713e0136-e6d4-4b79-a605-6f5db9f7b694\n",
      "2025-08-29 14:16:27,818 - root - INFO: ... HTTPError checking for bundle:\n",
      "2025-08-29 14:16:27,819 - root - INFO: 404 Client Error: NOT FOUND for url: https://appeears.earthdatacloud.nasa.gov/api/bundle/713e0136-e6d4-4b79-a605-6f5db9f7b694\n",
      "2025-08-29 14:16:27,821 - root - INFO: MODIS request not ready, sleeping 120s...\n"
     ]
    }
   ],
   "source": [
    "# then when you really need the data, you can just wait.  This simply calls isReady then sleeps, in a loop, until isReady returns true.\n",
    "data = source.waitForDataset(task)"
   ]
  },
  {
   "cell_type": "markdown",
   "metadata": {},
   "source": [
    "Check for outliers in the data, and fix if needed."
   ]
  },
  {
   "cell_type": "code",
   "execution_count": null,
   "metadata": {},
   "outputs": [],
   "source": [
    "# LAI extent\n",
    "print('LAI:', data['LAI'].min(), data['LAI'].max())\n",
    "\n",
    "# LULC extent\n",
    "print('LULC:', data['LULC'].min(), data['LULC'].max())\n"
   ]
  },
  {
   "cell_type": "markdown",
   "metadata": {},
   "source": [
    "## Compute time series of LAI"
   ]
  },
  {
   "cell_type": "markdown",
   "metadata": {},
   "source": [
    "First, MODIS is \"real\" data, and so has leap year.  Our runs do not include leap year, so we first convert to a noleap calendar by dropping leap day data."
   ]
  },
  {
   "cell_type": "code",
   "execution_count": null,
   "metadata": {},
   "outputs": [],
   "source": [
    "# MODIS data comes with time-dependent LAI AND time-dependent LULC -- just take the mode to find the most common LULC\n",
    "modis_data['LULC'] = watershed_workflow.data.computeMode(modis_data['LULC'], 'time_LULC')\n",
    "\n",
    "# now it is safe to have only one time\n",
    "modis_data = modis_data.rename({'time_LAI':'time'})\n",
    "\n",
    "# remove leap day (366th day of any leap year) to match our Noleap Calendar\n",
    "modis_data = watershed_workflow.data.filterLeapDay(modis_data)"
   ]
  },
  {
   "cell_type": "markdown",
   "metadata": {},
   "source": [
    "### Form the dynamic time-series.\n",
    "\n",
    "The raw data is integrated in space by intersecting each LULC index with the LAI raster and summing over that mask.  This is done for each time of LAI observation to form a time series."
   ]
  },
  {
   "cell_type": "code",
   "execution_count": null,
   "metadata": {},
   "outputs": [],
   "source": [
    "# compute the dynamic time series\n",
    "lai_df = watershed_workflow.land_cover_properties.computeTimeSeries(modis_data['LAI'], modis_data['LULC'], \n",
    "                                                                      polygon=watershed.exterior, polygon_crs=watershed.crs)\n",
    "lai_df"
   ]
  },
  {
   "cell_type": "code",
   "execution_count": null,
   "metadata": {},
   "outputs": [],
   "source": [
    "# plot the dynamic data\n",
    "fig = plt.figure()\n",
    "ax = fig.add_subplot(111)\n",
    "\n",
    "for column in lai_df:\n",
    "    if column != 'time':\n",
    "        ax.plot(lai_df['time'], lai_df[column], label=column)\n",
    "ax.set_ylabel('Leaf Area Index [-]')\n",
    "ax.set_xlabel('time')\n",
    "ax.legend()\n",
    "plt.show()\n"
   ]
  },
  {
   "cell_type": "markdown",
   "metadata": {},
   "source": [
    "### Form data for a typical year\n",
    "\n",
    "In addition to the dynamic data, we need a typical year for cyclic steadystate spinup purposes."
   ]
  },
  {
   "cell_type": "code",
   "execution_count": null,
   "metadata": {},
   "outputs": [],
   "source": [
    "# also compute a typical year of LAI\n",
    "typical_df = watershed_workflow.data.computeAverageYear(lai_df, 'time', output_nyears=10, \n",
    "                                                                  start_year=2000)\n"
   ]
  },
  {
   "cell_type": "code",
   "execution_count": null,
   "metadata": {},
   "outputs": [],
   "source": [
    "# plot the dynamic data\n",
    "fig = plt.figure()\n",
    "ax = fig.add_subplot(111)\n",
    "\n",
    "for column in typical_df:\n",
    "    if column != 'time':\n",
    "        ax.plot(typical_df['time'], typical_df[column], label=column)\n",
    "ax.set_ylabel('Leaf Area Index [-]')\n",
    "ax.set_xlabel('time')\n",
    "ax.legend()\n",
    "plt.show()"
   ]
  }
 ],
 "metadata": {
  "kernelspec": {
   "display_name": "Python [conda env:ww-geopandas-20250725]",
   "language": "python",
   "name": "conda-env-ww-geopandas-20250725-py"
  },
  "language_info": {
   "codemirror_mode": {
    "name": "ipython",
    "version": 3
   },
   "file_extension": ".py",
   "mimetype": "text/x-python",
   "name": "python",
   "nbconvert_exporter": "python",
   "pygments_lexer": "ipython3",
   "version": "3.13.5"
  },
  "toc-autonumbering": true
 },
 "nbformat": 4,
 "nbformat_minor": 4
}
