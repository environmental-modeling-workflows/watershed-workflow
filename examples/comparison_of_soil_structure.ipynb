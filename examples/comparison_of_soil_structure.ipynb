{
 "cells": [
  {
   "cell_type": "markdown",
   "id": "ce96eb40",
   "metadata": {},
   "source": [
    "# Soil Structural Data Comparison\n",
    "\n",
    "This notebook simply compares several different sets of soil structural data, clarifying how they can be used and noting their imperfections.\n",
    "\n",
    "To run an integrated hydrology simulation, we need at least:\n",
    "\n",
    "* porosity\n",
    "* permeability\n",
    "* van Genuchten or other WRM, typically generated from Rosetta from texture data + bulk density\n",
    "* soil structural model (e.g. formations + horizons or other layering strategy)\n",
    "\n",
    "For a structural model, we typically define two or three layers:  bedrock, a geologic layer, and (sometimes) a soil layer.  For the horizontal component, it is most convenient to work with formations -- horizontal shapes whose bodies are assumed to be homogeneous within the shape and layer.  We can work with fields of porosity and permeability, but currently ATS does not support fields of van Genuchten parameters, and running Rosetta at every pixel seems excessive anyway.  So we prefer to avoid doing that.\n"
   ]
  },
  {
   "cell_type": "code",
   "execution_count": 1,
   "id": "9ce4ff55",
   "metadata": {},
   "outputs": [],
   "source": [
    "%matplotlib inline"
   ]
  },
  {
   "cell_type": "code",
   "execution_count": 2,
   "id": "138eadb3",
   "metadata": {},
   "outputs": [],
   "source": [
    "import numpy as np\n",
    "from matplotlib import pyplot as plt\n",
    "import shapely\n",
    "import fiona\n",
    "\n",
    "import watershed_workflow\n",
    "import watershed_workflow.plot\n",
    "import watershed_workflow.crs\n",
    "import watershed_workflow.ui\n",
    "import watershed_workflow.condition\n",
    "\n",
    "from watershed_workflow.sources.manager_nhd import FileManagerNHDPlus\n",
    "from watershed_workflow.sources.manager_glhymps import FileManagerGLHYMPS\n",
    "from watershed_workflow.sources.manager_soilgrids_2017 import FileManagerSoilGrids2017\n",
    "from watershed_workflow.sources.manager_nrcs import FileManagerNRCS\n",
    "\n",
    "watershed_workflow.ui.setup_logging(1)\n"
   ]
  },
  {
   "cell_type": "code",
   "execution_count": 3,
   "id": "24f7ba92",
   "metadata": {},
   "outputs": [],
   "source": [
    "# user input -- choose the HUC to work on\n",
    "huc = '140200010204'\n",
    "crs = watershed_workflow.crs.default_crs()"
   ]
  },
  {
   "cell_type": "code",
   "execution_count": 4,
   "id": "ee801853",
   "metadata": {},
   "outputs": [
    {
     "name": "stderr",
     "output_type": "stream",
     "text": [
      "2023-08-07 16:32:45,583 - root - INFO: \n",
      "2023-08-07 16:32:45,584 - root - INFO: Loading HUC 140200010204\n",
      "2023-08-07 16:32:45,584 - root - INFO: ------------------------------\n",
      "2023-08-07 16:32:45,584 - root - INFO: \n",
      "2023-08-07 16:32:45,584 - root - INFO: Loading level 12 HUCs in 140200010204\n",
      "2023-08-07 16:32:45,585 - root - INFO: ------------------------------\n",
      "2023-08-07 16:32:45,585 - root - INFO: Using HUC file \"/Users/Shared/ornldev/code/watershed_workflow/data_dir/hydrography/NHDPlus_H_1402_GDB/NHDPlus_H_1402.gdb\"\n",
      "2023-08-07 16:32:45,636 - root - INFO: ... found 1 HUCs\n",
      "2023-08-07 16:32:45,637 - root - INFO:   -- 140200010204\n",
      "2023-08-07 16:32:45,637 - root - INFO: Converting to out_crs\n",
      "2023-08-07 16:32:45,639 - root - INFO: Converting to shapely\n",
      "2023-08-07 16:32:45,639 - root - INFO: ... found 1\n"
     ]
    },
    {
     "name": "stdout",
     "output_type": "stream",
     "text": [
      "(-952551.1064785909, 1811083.338138942, -941371.5911273701, 1818385.7852522843)\n"
     ]
    }
   ],
   "source": [
    "# collect the HUC from NHDPlus\n",
    "_, watershed = watershed_workflow.get_huc(FileManagerNHDPlus(), huc, crs)\n",
    "print(watershed.bounds)"
   ]
  },
  {
   "cell_type": "code",
   "execution_count": 5,
   "id": "6f84c01f",
   "metadata": {},
   "outputs": [
    {
     "name": "stderr",
     "output_type": "stream",
     "text": [
      "/Users/Shared/ornldev/code/mambaforge/envs/watershed-workflow-dev-20230724/lib/python3.10/site-packages/pyproj/crs/crs.py:1296: UserWarning: You will likely lose important projection information when converting to a PROJ string from another format. See: https://proj.org/faq.html#what-is-the-best-format-for-describing-coordinate-reference-systems\n",
      "  proj = self._crs.to_proj4(version=version)\n"
     ]
    },
    {
     "data": {
      "text/plain": [
       "<matplotlib.patches.PathPatch at 0x1433b87f0>"
      ]
     },
     "execution_count": 5,
     "metadata": {},
     "output_type": "execute_result"
    },
    {
     "data": {
      "image/png": "[encoded data removed]",
      "text/plain": [
       "<Figure size 640x480 with 1 Axes>"
      ]
     },
     "metadata": {},
     "output_type": "display_data"
    }
   ],
   "source": [
    "# plot what we have so far -- an image of the HUC\n",
    "fig, ax = watershed_workflow.plot.get_ax(crs)\n",
    "watershed_workflow.plot.shply(watershed, crs, ax=ax, color='k', linewidth=1)"
   ]
  },
  {
   "cell_type": "markdown",
   "id": "abf39a52",
   "metadata": {},
   "source": [
    "## Available Products\n",
    "\n",
    "The following products are routinely available across the US (or globally)."
   ]
  },
  {
   "cell_type": "markdown",
   "id": "34c41ff2",
   "metadata": {},
   "source": [
    "### GLHYMPS\n",
    "\n",
    "The Global Hydrogeology Maps product provides data by shapefile/formation, and provides:\n",
    "\n",
    "* porosity\n",
    "* permeability\n",
    "* depth-to-bedrock\n",
    "\n",
    "This dataset is fairly complete, but there are some oddities -- most notably much of the DTB field seems to be 0, and a significant subset of the porosity are 0 (mostly clays, we threshold at 1% to avoid this).  But the data is pretty good and complete.  However, it is missing WRM parameters (or equivalently, texture information)."
   ]
  },
  {
   "cell_type": "code",
   "execution_count": 6,
   "id": "61fdff3c",
   "metadata": {},
   "outputs": [
    {
     "name": "stderr",
     "output_type": "stream",
     "text": [
      "2023-08-07 16:32:45,756 - root - INFO: \n",
      "2023-08-07 16:32:45,756 - root - INFO: Loading shapes\n",
      "2023-08-07 16:32:45,757 - root - INFO: ------------------------------\n",
      "2023-08-07 16:32:45,757 - root - INFO: Getting shapes of GLHYMPS on bounds: (-952551.1064785909, 1811083.338138942, -941371.5911273701, 1818385.7852522843)\n",
      "2023-08-07 16:32:45,757 - root - INFO:   from file: /Users/Shared/ornldev/code/watershed_workflow/data_dir/soil_structure/GLHYMPS/GLHYMPS.shp\n",
      "2023-08-07 16:32:56,283 - root - INFO: ... found 19 shapes\n",
      "2023-08-07 16:32:56,284 - root - INFO: Converting to shapely\n",
      "2023-08-07 16:32:56,291 - root - INFO: Converting to requested CRS\n"
     ]
    },
    {
     "name": "stdout",
     "output_type": "stream",
     "text": [
      "[715383 715639 715707 715766 715779 715796 715833 726508 726604 726608\n",
      " 726639 726642 726650 726664 726667 726671 726678 726681 730801]\n"
     ]
    },
    {
     "ename": "AssertionError",
     "evalue": "",
     "output_type": "error",
     "traceback": [
      "\u001b[0;31m---------------------------------------------------------------------------\u001b[0m",
      "\u001b[0;31mAssertionError\u001b[0m                            Traceback (most recent call last)",
      "Cell \u001b[0;32mIn[6], line 13\u001b[0m\n\u001b[1;32m      8\u001b[0m \u001b[38;5;28mprint\u001b[39m(gl_ids)\n\u001b[1;32m     10\u001b[0m \u001b[38;5;66;03m# -- color a raster by the polygons (this makes identifying a triangle's value much \u001b[39;00m\n\u001b[1;32m     11\u001b[0m \u001b[38;5;66;03m#    more efficient)\u001b[39;00m\n\u001b[1;32m     12\u001b[0m gl_color_profile, gl_color_raster \u001b[38;5;241m=\u001b[39m \\\n\u001b[0;32m---> 13\u001b[0m             \u001b[43mwatershed_workflow\u001b[49m\u001b[38;5;241;43m.\u001b[39;49m\u001b[43mcolor_raster_from_shapes\u001b[49m\u001b[43m(\u001b[49m\u001b[43mwatershed\u001b[49m\u001b[38;5;241;43m.\u001b[39;49m\u001b[43mbounds\u001b[49m\u001b[43m,\u001b[49m\u001b[43m \u001b[49m\u001b[38;5;241;43m10\u001b[39;49m\u001b[43m,\u001b[49m\u001b[43m \u001b[49m\u001b[43mgl_shps\u001b[49m\u001b[43m,\u001b[49m\n\u001b[1;32m     14\u001b[0m \u001b[43m                                              \u001b[49m\u001b[43mgl_ids\u001b[49m\u001b[43m,\u001b[49m\u001b[43m \u001b[49m\u001b[43mcrs\u001b[49m\u001b[43m)\u001b[49m\n\u001b[1;32m     16\u001b[0m \u001b[38;5;66;03m# -- print extent of properties\u001b[39;00m\n\u001b[1;32m     17\u001b[0m gl_logK \u001b[38;5;241m=\u001b[39m np\u001b[38;5;241m.\u001b[39mlog10(gl_props[\u001b[38;5;124m'\u001b[39m\u001b[38;5;124mpermeability [m^2]\u001b[39m\u001b[38;5;124m'\u001b[39m][:])\n",
      "File \u001b[0;32m/Users/Shared/ornldev/code/watershed_workflow/repos/master/watershed_workflow/hilev.py:1425\u001b[0m, in \u001b[0;36mcolor_raster_from_shapes\u001b[0;34m(shapes, shapes_crs, shape_colors, raster_bounds, raster_dx, raster_crs, nodata)\u001b[0m\n\u001b[1;32m   1383\u001b[0m \u001b[38;5;28;01mdef\u001b[39;00m \u001b[38;5;21mcolor_raster_from_shapes\u001b[39m(shapes,\n\u001b[1;32m   1384\u001b[0m                              shapes_crs,\n\u001b[1;32m   1385\u001b[0m                              shape_colors,\n\u001b[0;32m   (...)\u001b[0m\n\u001b[1;32m   1388\u001b[0m                              raster_crs\u001b[38;5;241m=\u001b[39m\u001b[38;5;28;01mNone\u001b[39;00m,\n\u001b[1;32m   1389\u001b[0m                              nodata\u001b[38;5;241m=\u001b[39m\u001b[38;5;28;01mNone\u001b[39;00m):\n\u001b[1;32m   1390\u001b[0m \u001b[38;5;250m    \u001b[39m\u001b[38;5;124;03m\"\"\"Color in a raster by filling in a collection of shapes.\u001b[39;00m\n\u001b[1;32m   1391\u001b[0m \n\u001b[1;32m   1392\u001b[0m \u001b[38;5;124;03m    Given a canvas specified by bounds and pixel size, color a raster by, for\u001b[39;00m\n\u001b[0;32m   (...)\u001b[0m\n\u001b[1;32m   1423\u001b[0m \n\u001b[1;32m   1424\u001b[0m \u001b[38;5;124;03m    \"\"\"\u001b[39;00m\n\u001b[0;32m-> 1425\u001b[0m     \u001b[38;5;28;01massert\u001b[39;00m (\u001b[38;5;28mlen\u001b[39m(shapes) \u001b[38;5;241m==\u001b[39m \u001b[38;5;28mlen\u001b[39m(shape_colors))\n\u001b[1;32m   1426\u001b[0m     \u001b[38;5;28;01mif\u001b[39;00m \u001b[38;5;28mlen\u001b[39m(shapes) \u001b[38;5;241m==\u001b[39m \u001b[38;5;241m0\u001b[39m:\n\u001b[1;32m   1427\u001b[0m         \u001b[38;5;28;01mraise\u001b[39;00m \u001b[38;5;167;01mValueError\u001b[39;00m(\u001b[38;5;124m\"\u001b[39m\u001b[38;5;124mCannot generate raster for empty set of shapes\u001b[39m\u001b[38;5;124m\"\u001b[39m)\n",
      "\u001b[0;31mAssertionError\u001b[0m: "
     ]
    }
   ],
   "source": [
    "# first let's look at GLYHMPS\n",
    "# -- get the data\n",
    "gl = FileManagerGLHYMPS()\n",
    "gl_crs, gl_shps, gl_props = watershed_workflow.get_shapes(gl, watershed.bounds, crs, crs, properties=True)\n",
    "\n",
    "gl_props.set_index('id', inplace=True, drop=False)\n",
    "gl_ids = np.array([shp.properties['id'] for shp in gl_shps], np.int32)\n",
    "print(gl_ids)\n",
    "\n",
    "# -- color a raster by the polygons (this makes identifying a triangle's value much \n",
    "#    more efficient)\n",
    "gl_color_profile, gl_color_raster = \\\n",
    "            watershed_workflow.color_raster_from_shapes(watershed.bounds, 10, gl_shps,\n",
    "                                              gl_ids, crs)\n",
    "\n",
    "# -- print extent of properties\n",
    "gl_logK = np.log10(gl_props['permeability [m^2]'][:])\n",
    "print('logK', gl_logK.min(), gl_logK.max())\n",
    "\n",
    "poro = gl_props['porosity [-]']\n",
    "print('poro', poro.min(), poro.max())\n"
   ]
  },
  {
   "cell_type": "code",
   "execution_count": null,
   "id": "4ac04971",
   "metadata": {},
   "outputs": [],
   "source": [
    "# plot the formations\n",
    "plt.figure()\n",
    "unique_inds, gl_cmap, gl_norm, gl_ticks, gl_labels = \\\n",
    "       watershed_workflow.colors.generate_indexed_colormap(gl_ids)\n",
    "\n",
    "\n",
    "plt.imshow(gl_color_raster, cmap=gl_cmap, norm=gl_norm)\n",
    "plt.title(\"GLHMPS\")"
   ]
  },
  {
   "cell_type": "code",
   "execution_count": null,
   "id": "2b21cf0a",
   "metadata": {},
   "outputs": [],
   "source": [
    "# generate glhymps porosity, permeability fields\n",
    "# -- create a profile\n",
    "gl_profile = gl_color_profile.copy()\n",
    "gl_profile['nodata'] = np.nan\n",
    "gl_profile['dtype'] = 'double'\n",
    "\n",
    "# -- porosity\n",
    "gl_poro = np.nan * np.ones_like(gl_color_raster)\n",
    "for str_id in gl_props.index:\n",
    "    gl_poro[gl_color_raster == str_id] = gl_props.loc[str_id,'porosity [-]']\n",
    "    \n",
    "# -- permeability\n",
    "gl_perm = np.nan * np.ones_like(gl_color_raster)\n",
    "for str_id in gl_props.index:\n",
    "    gl_perm[gl_color_raster == str_id] = gl_props.loc[str_id,'permeability [m^2]']\n"
   ]
  },
  {
   "cell_type": "code",
   "execution_count": null,
   "id": "9a685b15",
   "metadata": {},
   "outputs": [],
   "source": [
    "# plot porosity and perm for glhymps\n",
    "fig, ax = watershed_workflow.plot.get_ax(crs, nrow=1, ncol=2, index=1, figsize=(10,6))\n",
    "cb = watershed_workflow.plot.raster(gl_profile, gl_poro, ax)\n",
    "watershed_workflow.plot.shply(watershed, crs, 'w', ax)\n",
    "fig.colorbar(cb, ax=ax)\n",
    "ax.set_title('porosity [-]')\n",
    "\n",
    "ax = watershed_workflow.plot.get_ax(crs, fig=fig, nrow=1, ncol=2, index=2)\n",
    "cb = watershed_workflow.plot.raster(gl_profile, np.log10(gl_perm), ax)\n",
    "watershed_workflow.plot.shply(watershed, crs, 'w', ax)\n",
    "fig.colorbar(cb, ax=ax)\n",
    "ax.set_title('log permeability [m^2]')"
   ]
  },
  {
   "cell_type": "markdown",
   "id": "8beef5c6",
   "metadata": {},
   "source": [
    "### SoilGrids (2017)\n",
    "\n",
    "SoilGrids is a great product -- 250m, global rasters of:\n",
    "\n",
    "* depth to bedrock\n",
    "* bulk density\n",
    "* texture via percent sand/silt/clay\n",
    "* and more...\n",
    "\n",
    "Effectively everything is available that is needed to run Rosetta to get a full suite of parameters.  Vertically, bulk density and texture information are provided at 7 layers, the deepest starting at 2m.  Data is complete globally, and doesn't seem to have much missing data except under water bodies.  The only downside is the raster nature of the data -- to use this directly we would have to run every pixel through Rosetta and provide fields of Van Genuchten parameters.  We could conceivably use the rasters of porosity and permeability, but it seems more convenient to work by formation instead of as a raster.\n",
    "\n",
    "Note that here we use the 2017 product instead of the 2020 product as that has yet to include depth-to-bedrock."
   ]
  },
  {
   "cell_type": "code",
   "execution_count": null,
   "id": "4eb6e84d",
   "metadata": {},
   "outputs": [],
   "source": [
    "# SoilGrids\n",
    "sg = FileManagerSoilGrids2017('US')\n",
    "sg_profile, sg_raster = watershed_workflow.get_raster_on_shape(sg, watershed, crs, crs, \n",
    "                            mask=True, nodata=-1, variable='BDTICM')\n",
    "\n",
    "# for some reason soilgrid's nodata doesn't match the actual value in the raster?\n",
    "print(sg_profile['nodata'], sg_raster.min())\n",
    "sg_profile['nodata'] = -32769\n",
    "\n",
    "# note we have two nodata values now, the one from the fill value outside of the watershed (-1) \n",
    "# and the one from the missing gaps (sg_profile['nodata'])\n",
    "print(sg_raster)"
   ]
  },
  {
   "cell_type": "markdown",
   "id": "ded5f082",
   "metadata": {},
   "source": [
    "SoilGrids has holes where there is standing water, but we still need soil in these places.  Fill these using a nearest neighbor algorithm."
   ]
  },
  {
   "cell_type": "code",
   "execution_count": null,
   "id": "ab450f37",
   "metadata": {
    "scrolled": true
   },
   "outputs": [],
   "source": [
    "# plot SoilGrids DTB\n",
    "# -- get a temp raster to make external (-1) and nodata the same color\n",
    "sg_raster2 = sg_raster.copy()\n",
    "sg_raster2[sg_raster == -1] = sg_profile['nodata']\n",
    "\n",
    "fig, ax = watershed_workflow.plot.get_ax(crs, nrow=1, ncol=2, index=1)\n",
    "cb = watershed_workflow.plot.raster(sg_profile, sg_raster2, ax)\n",
    "watershed_workflow.plot.shply(watershed, crs, 'w', ax)\n",
    "fig.colorbar(cb, ax=ax)\n",
    "\n",
    "sg_raster2 = watershed_workflow.condition.fill_gaps(sg_raster, nodata=sg_profile['nodata'])\n",
    "\n",
    "sg_profile['nodata'] = -1\n",
    "ax = watershed_workflow.plot.get_ax(crs, fig, nrow=1, ncol=2, index=2)\n",
    "cb = watershed_workflow.plot.raster(sg_profile, sg_raster2, ax)\n",
    "watershed_workflow.plot.shply(watershed, crs, 'w', ax)\n",
    "fig.colorbar(cb, ax=ax)\n"
   ]
  },
  {
   "cell_type": "markdown",
   "id": "659ada33",
   "metadata": {},
   "source": [
    "### SSURGO\n",
    "\n",
    "The NRCS's SSURGO/STATSGO products provide shape-based information about the top 2m of soil.  This data is provided by formation, and includes multiple formations (map-units), in which each map unit has (potentially) multiple components and each component has (potentially) multiple horizons.  Short of taking the most prevelant component, we must average, so we tend to average horizons and components and just apply this uniformly in the top 2m.  Provided include a complete set of parameters:\n",
    "\n",
    "* porosity\n",
    "* permeability\n",
    "* bulk density\n",
    "* texture\n",
    "* and more...\n",
    "\n",
    "Unfortunately, while map units seem to cover the area of interest, they don't all have at least one horizon with valid data, so some formations end up with NaN values.  So while SSURGO can be used as an \"overlay\" with good soil layer information, it cannot be used alone without a gap-filling plan."
   ]
  },
  {
   "cell_type": "code",
   "execution_count": null,
   "id": "2d4ec74b",
   "metadata": {},
   "outputs": [],
   "source": [
    "# ssurgo\n",
    "ss = FileManagerNRCS()\n",
    "ss_crs, ss_shps, ss_props = watershed_workflow.get_shapes(ss, watershed.bounds, crs, crs, properties=True)\n"
   ]
  },
  {
   "cell_type": "code",
   "execution_count": null,
   "id": "792d5523",
   "metadata": {},
   "outputs": [],
   "source": [
    "# porosity\n",
    "poro = np.array([ss_props[ss_props['mukey']==shp.properties['mukey']]['porosity [-]'] for shp in ss_shps])[:,0]\n",
    "rosetta_poro = np.array([ss_props[ss_props['mukey']==shp.properties['mukey']]['Rosetta porosity [-]'] for shp in ss_shps])[:,0]"
   ]
  },
  {
   "cell_type": "code",
   "execution_count": null,
   "id": "22b1eede",
   "metadata": {},
   "outputs": [],
   "source": [
    "# plot ssurgo porosity, note white inside the domain is NaN values\n",
    "fig, ax = watershed_workflow.plot.get_ax(crs)\n",
    "\n",
    "cb = watershed_workflow.plot.shplys(ss_shps, crs, poro, ax, facecolor='color')\n",
    "#watershed_workflow.plot.shplys(ss_shps, crs, 'r', ax)\n",
    "watershed_workflow.plot.shply(watershed, crs, 'k', ax)\n",
    "fig.colorbar(cb)\n",
    "ax.relim()\n",
    "\n",
    "fig, ax = watershed_workflow.plot.get_ax(crs)\n",
    "\n",
    "cb = watershed_workflow.plot.shplys(ss_shps, crs, rosetta_poro, ax, facecolor='color')\n",
    "#watershed_workflow.plot.shplys(ss_shps, crs, 'r', ax)\n",
    "watershed_workflow.plot.shply(watershed, crs, 'k', ax)\n",
    "fig.colorbar(cb)\n",
    "ax.relim()\n"
   ]
  },
  {
   "cell_type": "code",
   "execution_count": null,
   "id": "82fe651d",
   "metadata": {},
   "outputs": [],
   "source": [
    "# permeability\n",
    "perm = np.array([ss_props[ss_props['mukey']==shp.properties['mukey']]['permeability [m^2]'] for shp in ss_shps])[:,0]\n",
    "rosetta_perm = np.array([ss_props[ss_props['mukey']==shp.properties['mukey']]['Rosetta permeability [m^2]'] for shp in ss_shps])[:,0]"
   ]
  },
  {
   "cell_type": "code",
   "execution_count": null,
   "id": "472aeaec",
   "metadata": {},
   "outputs": [],
   "source": [
    "# plot ssurgo perm, note white inside the domain is NaN values\n",
    "fig, ax = watershed_workflow.plot.get_ax(crs)\n",
    "\n",
    "cb = watershed_workflow.plot.shplys(ss_shps, crs, np.log10(perm), ax, facecolor='color')\n",
    "#watershed_workflow.plot.shplys(ss_shps, crs, 'r', ax)\n",
    "watershed_workflow.plot.shply(watershed, crs, 'k', ax)\n",
    "fig.colorbar(cb)\n",
    "ax.relim()\n",
    "\n",
    "fig, ax = watershed_workflow.plot.get_ax(crs)\n",
    "\n",
    "cb = watershed_workflow.plot.shplys(ss_shps, crs, np.log10(rosetta_perm), ax, facecolor='color')\n",
    "#watershed_workflow.plot.shplys(ss_shps, crs, 'r', ax)\n",
    "watershed_workflow.plot.shply(watershed, crs, 'k', ax)\n",
    "fig.colorbar(cb)\n",
    "ax.relim()\n"
   ]
  },
  {
   "cell_type": "code",
   "execution_count": null,
   "id": "1942f2f6-822b-47d5-a584-f62114b55c15",
   "metadata": {},
   "outputs": [],
   "source": []
  }
 ],
 "metadata": {
  "kernelspec": {
   "display_name": "Python [conda env:mambaforge-watershed-workflow-dev-20230724]",
   "language": "python",
   "name": "conda-env-mambaforge-watershed-workflow-dev-20230724-py"
  },
  "language_info": {
   "codemirror_mode": {
    "name": "ipython",
    "version": 3
   },
   "file_extension": ".py",
   "mimetype": "text/x-python",
   "name": "python",
   "nbconvert_exporter": "python",
   "pygments_lexer": "ipython3",
   "version": "3.10.12"
  }
 },
 "nbformat": 4,
 "nbformat_minor": 5
}
