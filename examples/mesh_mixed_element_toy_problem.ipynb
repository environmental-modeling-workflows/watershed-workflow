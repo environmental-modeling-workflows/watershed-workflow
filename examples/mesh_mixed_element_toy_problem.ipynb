{
 "cells": [
  {
   "cell_type": "markdown",
   "metadata": {},
   "source": [
    "## Mixed-element Meshing - Toy Problem\n",
    "\n",
    "This workflow provides a testbed for testing features of mixed-element mesh wotkflow. The objects of river tree and huc boundary are a created to mimic what we get from NHDPlus. This example tests the case of two rivers, which is rare but still needs to be considered to make the workflow general"
   ]
  },
  {
   "cell_type": "code",
   "execution_count": 1,
   "metadata": {},
   "outputs": [],
   "source": [
    "%matplotlib ipympl"
   ]
  },
  {
   "cell_type": "code",
   "execution_count": 2,
   "metadata": {},
   "outputs": [],
   "source": [
    "## Importing all the package needed to run the workflow\n",
    "\n",
    "import numpy as np\n",
    "from matplotlib import pyplot as plt\n",
    "import shapely\n",
    "import logging\n",
    "import copy\n",
    "import geopandas as gpd"
   ]
  },
  {
   "cell_type": "code",
   "execution_count": 3,
   "metadata": {},
   "outputs": [],
   "source": [
    "import watershed_workflow \n",
    "import watershed_workflow.source_list\n",
    "import watershed_workflow.ui\n",
    "import watershed_workflow.utils\n",
    "import watershed_workflow.plot\n",
    "import watershed_workflow.mesh\n",
    "import watershed_workflow.resampling\n",
    "import watershed_workflow.condition\n",
    "watershed_workflow.ui.setup_logging(1,None)\n",
    "crs = None"
   ]
  },
  {
   "cell_type": "code",
   "execution_count": 4,
   "metadata": {},
   "outputs": [],
   "source": [
    "## NHDPlus input type objects\n",
    "\n",
    "# creating watershed polygon\n",
    "ws1 = shapely.geometry.Polygon(100*np.array([[0,0],[1,0],[2,0],[3,0],[4,0],[4,1],[4,2],[4,3],[4,4],[3,4.5],[2,5],[1,4.5], [0,4], [0,3], [0,2] ,[0,1]], 'd'))\n",
    "my_hucs = gpd.GeoDataFrame()\n",
    "my_hucs['geometry'] = [ws1,]\n",
    "\n",
    "# creating reaches miminc NHDPlus flowlines\n",
    "reach1=shapely.geometry.LineString([(200,200),(200,0)])\n",
    "reach2=shapely.geometry.LineString([ (50,300), (100,300), (100,200),(200,200)])\n",
    "reach3=shapely.geometry.LineString([ (350,400),(350,300),(300,300),(300,200),(200,200)])\n",
    "reach4=shapely.geometry.LineString([(100,400), (200,300)])\n",
    "reaches = gpd.GeoDataFrame()\n",
    "reaches.geometry = [reach1, reach2, reach3, reach4]"
   ]
  },
  {
   "cell_type": "code",
   "execution_count": 5,
   "metadata": {},
   "outputs": [],
   "source": [
    "def createCopy(watershed, rivers):\n",
    "    \"\"\"To compare before/after, we often want to create copies.  Note in real workflows most things are done in-place without copies.\"\"\"\n",
    "    return watershed.deepcopy(), [r.deepcopy() for r in rivers]"
   ]
  },
  {
   "cell_type": "code",
   "execution_count": 6,
   "metadata": {},
   "outputs": [
    {
     "name": "stderr",
     "output_type": "stream",
     "text": [
      "2024-12-17 16:34:41,061 - root - INFO: Removing holes on 1 polygons\n",
      "2024-12-17 16:34:41,062 - root - INFO:   -- removed interior\n",
      "2024-12-17 16:34:41,062 - root - INFO:   -- union\n",
      "2024-12-17 16:34:41,062 - root - INFO: Parsing 1 components for holes\n",
      "2024-12-17 16:34:41,063 - root - INFO:   -- complete\n"
     ]
    }
   ],
   "source": [
    "# creating watershed_workflow.split_hucs.SplitHUCs object for demo watershed\n",
    "watershed = watershed_workflow.split_hucs.SplitHUCs(my_hucs)"
   ]
  },
  {
   "cell_type": "code",
   "execution_count": 7,
   "metadata": {},
   "outputs": [],
   "source": [
    "rivers = watershed_workflow.river_tree.createRivers(reaches, method='geometry')"
   ]
  },
  {
   "cell_type": "code",
   "execution_count": 8,
   "metadata": {},
   "outputs": [],
   "source": [
    "# copy the originals\n",
    "watershed_orig, rivers_orig = watershed, rivers"
   ]
  },
  {
   "cell_type": "code",
   "execution_count": 9,
   "metadata": {},
   "outputs": [
    {
     "name": "stderr",
     "output_type": "stream",
     "text": [
      "2024-12-17 16:34:41,146 - root - INFO: \n",
      "2024-12-17 16:34:41,146 - root - INFO: Simplifying\n",
      "2024-12-17 16:34:41,146 - root - INFO: ------------------------------\n",
      "2024-12-17 16:34:41,146 - root - INFO: Presimplify to remove colinear, coincident points.\n",
      "2024-12-17 16:34:41,147 - root - INFO: Pruning leaf reaches < 10\n",
      "2024-12-17 16:34:41,147 - root - INFO: Merging internal reaches < 10\n",
      "2024-12-17 16:34:41,148 - root - INFO:   reach: min seg length: \t   50.0000000000 \tmin geom length: \t  141.4213562373\n",
      "2024-12-17 16:34:41,148 - root - INFO:   reach: med seg length: \t  100.0000000000 \tmed geom length: \t  225.0000000000\n",
      "2024-12-17 16:34:41,148 - root - INFO:   reach: max seg length: \t  200.0000000000 \tmax geom length: \t  350.0000000000\n",
      "2024-12-17 16:34:41,148 - root - INFO: \n",
      "2024-12-17 16:34:41,149 - root - INFO:   HUC  : min seg length: \t  223.6067977500 \tmin geom length: \t 1647.2135955000\n",
      "2024-12-17 16:34:41,149 - root - INFO:   HUC  : med seg length: \t  400.0000000000 \tmed geom length: \t 1647.2135955000\n",
      "2024-12-17 16:34:41,149 - root - INFO:   HUC  : max seg length: \t  400.0000000000 \tmax geom length: \t 1647.2135955000\n",
      "2024-12-17 16:34:41,149 - root - INFO: \n",
      "2024-12-17 16:34:41,149 - root - INFO: Snapping discrete points to make rivers and HUCs discretely consistent.\n",
      "2024-12-17 16:34:41,149 - root - INFO:  -- snapping HUC triple junctions to reaches\n",
      "2024-12-17 16:34:41,150 - root - INFO:   reach: min seg length: \t   50.0000000000 \tmin geom length: \t  141.4213562373\n",
      "2024-12-17 16:34:41,150 - root - INFO:   reach: med seg length: \t  100.0000000000 \tmed geom length: \t  225.0000000000\n",
      "2024-12-17 16:34:41,150 - root - INFO:   reach: max seg length: \t  200.0000000000 \tmax geom length: \t  350.0000000000\n",
      "2024-12-17 16:34:41,151 - root - INFO: \n",
      "2024-12-17 16:34:41,151 - root - INFO:   HUC  : min seg length: \t  223.6067977500 \tmin geom length: \t 1647.2135955000\n",
      "2024-12-17 16:34:41,151 - root - INFO:   HUC  : med seg length: \t  400.0000000000 \tmed geom length: \t 1647.2135955000\n",
      "2024-12-17 16:34:41,151 - root - INFO:   HUC  : max seg length: \t  400.0000000000 \tmax geom length: \t 1647.2135955000\n",
      "2024-12-17 16:34:41,151 - root - INFO: \n",
      "2024-12-17 16:34:41,151 - root - INFO:  -- snapping reach endpoints to HUC boundaries\n",
      "2024-12-17 16:34:41,153 - root - INFO:   new_lss: min seg length: \t  200.0000000000 \tmin geom length: \t 1647.2135955000\n",
      "2024-12-17 16:34:41,153 - root - INFO:   new_lss: med seg length: \t  223.6067977500 \tmed geom length: \t 1647.2135955000\n",
      "2024-12-17 16:34:41,153 - root - INFO:   new_lss: max seg length: \t  400.0000000000 \tmax geom length: \t 1647.2135955000\n",
      "2024-12-17 16:34:41,153 - root - INFO: \n",
      "2024-12-17 16:34:41,154 - root - INFO:   reach: min seg length: \t   50.0000000000 \tmin geom length: \t  141.4213562373\n",
      "2024-12-17 16:34:41,154 - root - INFO:   reach: med seg length: \t  100.0000000000 \tmed geom length: \t  225.0000000000\n",
      "2024-12-17 16:34:41,154 - root - INFO:   reach: max seg length: \t  200.0000000000 \tmax geom length: \t  350.0000000000\n",
      "2024-12-17 16:34:41,154 - root - INFO: \n",
      "2024-12-17 16:34:41,154 - root - INFO:   HUC  : min seg length: \t  200.0000000000 \tmin geom length: \t 1647.2135955000\n",
      "2024-12-17 16:34:41,155 - root - INFO:   HUC  : med seg length: \t  223.6067977500 \tmed geom length: \t 1647.2135955000\n",
      "2024-12-17 16:34:41,155 - root - INFO:   HUC  : max seg length: \t  400.0000000000 \tmax geom length: \t 1647.2135955000\n",
      "2024-12-17 16:34:41,155 - root - INFO: \n",
      "2024-12-17 16:34:41,155 - root - INFO:  -- cutting reaches at HUC boundaries\n",
      "2024-12-17 16:34:41,155 - root - INFO: intersection found\n",
      "2024-12-17 16:34:41,155 - root - INFO:   - cutting reach at external boundary of HUCs:\n",
      "2024-12-17 16:34:41,156 - root - INFO:       split HUC boundary ls into 1 pieces\n",
      "2024-12-17 16:34:41,156 - root - INFO:       split reach ls into 1 pieces\n",
      "2024-12-17 16:34:41,156 - root - INFO:   reach: min seg length: \t   50.0000000000 \tmin geom length: \t  141.4213562373\n",
      "2024-12-17 16:34:41,157 - root - INFO:   reach: med seg length: \t  100.0000000000 \tmed geom length: \t  225.0000000000\n",
      "2024-12-17 16:34:41,157 - root - INFO:   reach: max seg length: \t  200.0000000000 \tmax geom length: \t  350.0000000000\n",
      "2024-12-17 16:34:41,157 - root - INFO: \n",
      "2024-12-17 16:34:41,157 - root - INFO:   HUC  : min seg length: \t  200.0000000000 \tmin geom length: \t 1647.2135955000\n",
      "2024-12-17 16:34:41,157 - root - INFO:   HUC  : med seg length: \t  223.6067977500 \tmed geom length: \t 1647.2135955000\n",
      "2024-12-17 16:34:41,157 - root - INFO:   HUC  : max seg length: \t  400.0000000000 \tmax geom length: \t 1647.2135955000\n",
      "2024-12-17 16:34:41,157 - root - INFO: \n",
      "2024-12-17 16:34:41,157 - root - INFO: \n",
      "2024-12-17 16:34:41,158 - root - INFO: Simplification Diagnostics\n",
      "2024-12-17 16:34:41,158 - root - INFO: ------------------------------\n",
      "2024-12-17 16:34:41,158 - root - INFO:   reach: min seg length: \t   50.0000000000 \tmin geom length: \t  141.4213562373\n",
      "2024-12-17 16:34:41,158 - root - INFO:   reach: med seg length: \t  100.0000000000 \tmed geom length: \t  225.0000000000\n",
      "2024-12-17 16:34:41,158 - root - INFO:   reach: max seg length: \t  200.0000000000 \tmax geom length: \t  350.0000000000\n",
      "2024-12-17 16:34:41,158 - root - INFO: \n",
      "2024-12-17 16:34:41,159 - root - INFO:   HUC  : min seg length: \t  200.0000000000 \tmin geom length: \t 1647.2135955000\n",
      "2024-12-17 16:34:41,159 - root - INFO:   HUC  : med seg length: \t  223.6067977500 \tmed geom length: \t 1647.2135955000\n",
      "2024-12-17 16:34:41,159 - root - INFO:   HUC  : max seg length: \t  400.0000000000 \tmax geom length: \t 1647.2135955000\n",
      "2024-12-17 16:34:41,159 - root - INFO: \n",
      "2024-12-17 16:34:41,159 - root - INFO: \n",
      "2024-12-17 16:34:41,159 - root - INFO: Resampling HUC and river\n",
      "2024-12-17 16:34:41,159 - root - INFO: ------------------------------\n",
      "2024-12-17 16:34:41,160 - root - INFO:  -- resampling HUCs based on uniform target 10\n",
      "2024-12-17 16:34:41,161 - root - INFO:  -- resampling reaches based on uniform target 10\n",
      "2024-12-17 16:34:41,162 - root - INFO: \n",
      "2024-12-17 16:34:41,163 - root - INFO: Resampling Diagnostics\n",
      "2024-12-17 16:34:41,163 - root - INFO: ------------------------------\n",
      "2024-12-17 16:34:41,163 - root - INFO:   reach: min seg length: \t    9.4280904158 \tmin geom length: \t  141.4213562373\n",
      "2024-12-17 16:34:41,163 - root - INFO:   reach: med seg length: \t   10.0000000000 \tmed geom length: \t  225.0000000000\n",
      "2024-12-17 16:34:41,163 - root - INFO:   reach: max seg length: \t   10.0000000000 \tmax geom length: \t  350.0000000000\n",
      "2024-12-17 16:34:41,163 - root - INFO: \n",
      "2024-12-17 16:34:41,164 - root - INFO:   HUC  : min seg length: \t    9.7220346848 \tmin geom length: \t 1647.2135955000\n",
      "2024-12-17 16:34:41,164 - root - INFO:   HUC  : med seg length: \t   10.0000000000 \tmed geom length: \t 1647.2135955000\n",
      "2024-12-17 16:34:41,164 - root - INFO:   HUC  : max seg length: \t   10.0000000000 \tmax geom length: \t 1647.2135955000\n",
      "2024-12-17 16:34:41,164 - root - INFO: \n",
      "2024-12-17 16:34:41,164 - root - INFO: \n",
      "2024-12-17 16:34:41,164 - root - INFO: Clean up sharp angles, both internally and at junctions.\n",
      "2024-12-17 16:34:41,164 - root - INFO: ------------------------------\n",
      "2024-12-17 16:34:41,171 - root - INFO: Cleaned up 0 sharp angles.\n",
      "2024-12-17 16:34:41,175 - root - INFO:   reach: min seg length: \t    9.4280904158 \tmin geom length: \t  141.4213562373\n",
      "2024-12-17 16:34:41,175 - root - INFO:   reach: med seg length: \t   10.0000000000 \tmed geom length: \t  225.0000000000\n",
      "2024-12-17 16:34:41,176 - root - INFO:   reach: max seg length: \t   10.0000000000 \tmax geom length: \t  350.0000000000\n",
      "2024-12-17 16:34:41,176 - root - INFO: \n",
      "2024-12-17 16:34:41,176 - root - INFO:   HUC  : min seg length: \t    9.7220346848 \tmin geom length: \t 1647.2135955000\n",
      "2024-12-17 16:34:41,180 - root - INFO:   HUC  : med seg length: \t   10.0000000000 \tmed geom length: \t 1647.2135955000\n",
      "2024-12-17 16:34:41,180 - root - INFO:   HUC  : max seg length: \t   10.0000000000 \tmax geom length: \t 1647.2135955000\n",
      "2024-12-17 16:34:41,180 - root - INFO: \n"
     ]
    }
   ],
   "source": [
    "# simplify the geometry for a \"nicer\" discrete object, using a uniform sampling strategy\n",
    "watershed1, rivers1 = createCopy(watershed_orig, rivers_orig)\n",
    "watershed_workflow.simplify(watershed1, rivers1, 10, keep_points=True)"
   ]
  },
  {
   "cell_type": "code",
   "execution_count": 10,
   "metadata": {},
   "outputs": [
    {
     "name": "stderr",
     "output_type": "stream",
     "text": [
      "2024-12-17 16:34:41,185 - root - INFO: \n",
      "2024-12-17 16:34:41,186 - root - INFO: Simplifying\n",
      "2024-12-17 16:34:41,186 - root - INFO: ------------------------------\n",
      "2024-12-17 16:34:41,186 - root - INFO: Presimplify to remove colinear, coincident points.\n",
      "2024-12-17 16:34:41,187 - root - INFO: Pruning leaf reaches < 10\n",
      "2024-12-17 16:34:41,187 - root - INFO: Merging internal reaches < 10\n",
      "2024-12-17 16:34:41,188 - root - INFO:   reach: min seg length: \t   50.0000000000 \tmin geom length: \t  141.4213562373\n",
      "2024-12-17 16:34:41,188 - root - INFO:   reach: med seg length: \t  100.0000000000 \tmed geom length: \t  225.0000000000\n",
      "2024-12-17 16:34:41,188 - root - INFO:   reach: max seg length: \t  200.0000000000 \tmax geom length: \t  350.0000000000\n",
      "2024-12-17 16:34:41,188 - root - INFO: \n",
      "2024-12-17 16:34:41,188 - root - INFO:   HUC  : min seg length: \t  223.6067977500 \tmin geom length: \t 1647.2135955000\n",
      "2024-12-17 16:34:41,188 - root - INFO:   HUC  : med seg length: \t  400.0000000000 \tmed geom length: \t 1647.2135955000\n",
      "2024-12-17 16:34:41,188 - root - INFO:   HUC  : max seg length: \t  400.0000000000 \tmax geom length: \t 1647.2135955000\n",
      "2024-12-17 16:34:41,188 - root - INFO: \n",
      "2024-12-17 16:34:41,189 - root - INFO: Snapping discrete points to make rivers and HUCs discretely consistent.\n",
      "2024-12-17 16:34:41,189 - root - INFO:  -- snapping HUC triple junctions to reaches\n",
      "2024-12-17 16:34:41,189 - root - INFO:   reach: min seg length: \t   50.0000000000 \tmin geom length: \t  141.4213562373\n",
      "2024-12-17 16:34:41,189 - root - INFO:   reach: med seg length: \t  100.0000000000 \tmed geom length: \t  225.0000000000\n",
      "2024-12-17 16:34:41,190 - root - INFO:   reach: max seg length: \t  200.0000000000 \tmax geom length: \t  350.0000000000\n",
      "2024-12-17 16:34:41,190 - root - INFO: \n",
      "2024-12-17 16:34:41,190 - root - INFO:   HUC  : min seg length: \t  223.6067977500 \tmin geom length: \t 1647.2135955000\n",
      "2024-12-17 16:34:41,190 - root - INFO:   HUC  : med seg length: \t  400.0000000000 \tmed geom length: \t 1647.2135955000\n",
      "2024-12-17 16:34:41,190 - root - INFO:   HUC  : max seg length: \t  400.0000000000 \tmax geom length: \t 1647.2135955000\n",
      "2024-12-17 16:34:41,191 - root - INFO: \n",
      "2024-12-17 16:34:41,191 - root - INFO:  -- snapping reach endpoints to HUC boundaries\n",
      "2024-12-17 16:34:41,193 - root - INFO:   new_lss: min seg length: \t  200.0000000000 \tmin geom length: \t 1647.2135955000\n",
      "2024-12-17 16:34:41,193 - root - INFO:   new_lss: med seg length: \t  223.6067977500 \tmed geom length: \t 1647.2135955000\n",
      "2024-12-17 16:34:41,193 - root - INFO:   new_lss: max seg length: \t  400.0000000000 \tmax geom length: \t 1647.2135955000\n",
      "2024-12-17 16:34:41,193 - root - INFO: \n",
      "2024-12-17 16:34:41,194 - root - INFO:   reach: min seg length: \t   50.0000000000 \tmin geom length: \t  141.4213562373\n",
      "2024-12-17 16:34:41,194 - root - INFO:   reach: med seg length: \t  100.0000000000 \tmed geom length: \t  225.0000000000\n",
      "2024-12-17 16:34:41,194 - root - INFO:   reach: max seg length: \t  200.0000000000 \tmax geom length: \t  350.0000000000\n",
      "2024-12-17 16:34:41,194 - root - INFO: \n",
      "2024-12-17 16:34:41,195 - root - INFO:   HUC  : min seg length: \t  200.0000000000 \tmin geom length: \t 1647.2135955000\n",
      "2024-12-17 16:34:41,195 - root - INFO:   HUC  : med seg length: \t  223.6067977500 \tmed geom length: \t 1647.2135955000\n",
      "2024-12-17 16:34:41,195 - root - INFO:   HUC  : max seg length: \t  400.0000000000 \tmax geom length: \t 1647.2135955000\n",
      "2024-12-17 16:34:41,196 - root - INFO: \n",
      "2024-12-17 16:34:41,196 - root - INFO:  -- cutting reaches at HUC boundaries\n",
      "2024-12-17 16:34:41,196 - root - INFO: intersection found\n",
      "2024-12-17 16:34:41,197 - root - INFO:   - cutting reach at external boundary of HUCs:\n",
      "2024-12-17 16:34:41,197 - root - INFO:       split HUC boundary ls into 1 pieces\n",
      "2024-12-17 16:34:41,197 - root - INFO:       split reach ls into 1 pieces\n",
      "2024-12-17 16:34:41,198 - root - INFO:   reach: min seg length: \t   50.0000000000 \tmin geom length: \t  141.4213562373\n",
      "2024-12-17 16:34:41,198 - root - INFO:   reach: med seg length: \t  100.0000000000 \tmed geom length: \t  225.0000000000\n",
      "2024-12-17 16:34:41,198 - root - INFO:   reach: max seg length: \t  200.0000000000 \tmax geom length: \t  350.0000000000\n",
      "2024-12-17 16:34:41,198 - root - INFO: \n",
      "2024-12-17 16:34:41,199 - root - INFO:   HUC  : min seg length: \t  200.0000000000 \tmin geom length: \t 1647.2135955000\n",
      "2024-12-17 16:34:41,199 - root - INFO:   HUC  : med seg length: \t  223.6067977500 \tmed geom length: \t 1647.2135955000\n",
      "2024-12-17 16:34:41,199 - root - INFO:   HUC  : max seg length: \t  400.0000000000 \tmax geom length: \t 1647.2135955000\n",
      "2024-12-17 16:34:41,199 - root - INFO: \n",
      "2024-12-17 16:34:41,199 - root - INFO: \n",
      "2024-12-17 16:34:41,200 - root - INFO: Simplification Diagnostics\n",
      "2024-12-17 16:34:41,200 - root - INFO: ------------------------------\n",
      "2024-12-17 16:34:41,200 - root - INFO:   reach: min seg length: \t   50.0000000000 \tmin geom length: \t  141.4213562373\n",
      "2024-12-17 16:34:41,200 - root - INFO:   reach: med seg length: \t  100.0000000000 \tmed geom length: \t  225.0000000000\n",
      "2024-12-17 16:34:41,201 - root - INFO:   reach: max seg length: \t  200.0000000000 \tmax geom length: \t  350.0000000000\n",
      "2024-12-17 16:34:41,201 - root - INFO: \n",
      "2024-12-17 16:34:41,201 - root - INFO:   HUC  : min seg length: \t  200.0000000000 \tmin geom length: \t 1647.2135955000\n",
      "2024-12-17 16:34:41,202 - root - INFO:   HUC  : med seg length: \t  223.6067977500 \tmed geom length: \t 1647.2135955000\n",
      "2024-12-17 16:34:41,202 - root - INFO:   HUC  : max seg length: \t  400.0000000000 \tmax geom length: \t 1647.2135955000\n",
      "2024-12-17 16:34:41,202 - root - INFO: \n",
      "2024-12-17 16:34:41,202 - root - INFO: \n",
      "2024-12-17 16:34:41,203 - root - INFO: Resampling HUC and river\n",
      "2024-12-17 16:34:41,203 - root - INFO: ------------------------------\n",
      "2024-12-17 16:34:41,203 - root - INFO:  -- resampling HUCs based on distance function (50, 10, 150, 50)\n",
      "2024-12-17 16:34:41,272 - root - INFO:  -- resampling reaches based on uniform target 10\n",
      "2024-12-17 16:34:41,274 - root - INFO: \n",
      "2024-12-17 16:34:41,274 - root - INFO: Resampling Diagnostics\n",
      "2024-12-17 16:34:41,274 - root - INFO: ------------------------------\n",
      "2024-12-17 16:34:41,275 - root - INFO:   reach: min seg length: \t    9.4280904158 \tmin geom length: \t  141.4213562373\n",
      "2024-12-17 16:34:41,275 - root - INFO:   reach: med seg length: \t   10.0000000000 \tmed geom length: \t  225.0000000000\n",
      "2024-12-17 16:34:41,275 - root - INFO:   reach: max seg length: \t   10.0000000000 \tmax geom length: \t  350.0000000000\n",
      "2024-12-17 16:34:41,275 - root - INFO: \n",
      "2024-12-17 16:34:41,275 - root - INFO:   HUC  : min seg length: \t    9.2023159404 \tmin geom length: \t 1647.2135955000\n",
      "2024-12-17 16:34:41,276 - root - INFO:   HUC  : med seg length: \t   12.0793869794 \tmed geom length: \t 1647.2135955000\n",
      "2024-12-17 16:34:41,276 - root - INFO:   HUC  : max seg length: \t   49.9229443249 \tmax geom length: \t 1647.2135955000\n",
      "2024-12-17 16:34:41,276 - root - INFO: \n",
      "2024-12-17 16:34:41,276 - root - INFO: \n",
      "2024-12-17 16:34:41,276 - root - INFO: Clean up sharp angles, both internally and at junctions.\n",
      "2024-12-17 16:34:41,277 - root - INFO: ------------------------------\n",
      "2024-12-17 16:34:41,281 - root - INFO: Cleaned up 0 sharp angles.\n",
      "2024-12-17 16:34:41,281 - root - INFO:   reach: min seg length: \t    9.4280904158 \tmin geom length: \t  141.4213562373\n",
      "2024-12-17 16:34:41,282 - root - INFO:   reach: med seg length: \t   10.0000000000 \tmed geom length: \t  225.0000000000\n",
      "2024-12-17 16:34:41,282 - root - INFO:   reach: max seg length: \t   10.0000000000 \tmax geom length: \t  350.0000000000\n",
      "2024-12-17 16:34:41,282 - root - INFO: \n",
      "2024-12-17 16:34:41,282 - root - INFO:   HUC  : min seg length: \t    9.2023159404 \tmin geom length: \t 1647.2135955000\n",
      "2024-12-17 16:34:41,282 - root - INFO:   HUC  : med seg length: \t   12.0793869794 \tmed geom length: \t 1647.2135955000\n",
      "2024-12-17 16:34:41,282 - root - INFO:   HUC  : max seg length: \t   49.9229443249 \tmax geom length: \t 1647.2135955000\n",
      "2024-12-17 16:34:41,283 - root - INFO: \n"
     ]
    }
   ],
   "source": [
    "# simplify the geometry using a distance-function based resampling\n",
    "watershed2, rivers2 = createCopy(watershed_orig, rivers_orig)\n",
    "watershed_workflow.simplify(watershed2, rivers2, 10, 50, 50, 150, keep_points=True)"
   ]
  },
  {
   "cell_type": "code",
   "execution_count": 11,
   "metadata": {},
   "outputs": [
    {
     "data": {
      "text/plain": [
       "Text(0.5, 1.0, 'dist-based resampling')"
      ]
     },
     "execution_count": 11,
     "metadata": {},
     "output_type": "execute_result"
    },
    {
     "data": {
      "application/vnd.jupyter.widget-view+json": {
       "model_id": "970f48b7151849979e40e016767d8af6",
       "version_major": 2,
       "version_minor": 0
      },
      "image/png": "[encoded data removed]",
      "text/html": [
       "\n",
       "            <div style=\"display: inline-block;\">\n",
       "                <div class=\"jupyter-widgets widget-label\" style=\"text-align: center;\">\n",
       "                    Figure\n",
       "                </div>\n",
       "                <img src='data:image/png;base64,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' width=640.0/>\n",
       "            </div>\n",
       "        "
      ],
      "text/plain": [
       "Canvas(toolbar=Toolbar(toolitems=[('Home', 'Reset original view', 'home', 'home'), ('Back', 'Back to previous …"
      ]
     },
     "metadata": {},
     "output_type": "display_data"
    }
   ],
   "source": [
    "# plot the results\n",
    "def plot(ws, rivs, ax=None):\n",
    "    if ax is None:\n",
    "        fig, ax = plt.subplots(1, 1, figsize=figsize)\n",
    "    ws.plot(color='k', marker='+', markersize=20, ax=ax)\n",
    "    for river in rivs:\n",
    "        river.plot(marker='x', markersize=20, ax=ax)\n",
    "\n",
    "fig, axs = plt.subplots(1,3)\n",
    "plot(watershed_orig, rivers_orig, axs[0])\n",
    "axs[0].set_title('original')\n",
    "\n",
    "plot(watershed1, rivers1, axs[1])\n",
    "axs[1].set_title('uniform resampling')\n",
    "\n",
    "plot(watershed2, rivers2, axs[2])\n",
    "axs[2].set_title('dist-based resampling')\n"
   ]
  },
  {
   "cell_type": "markdown",
   "metadata": {},
   "source": [
    "# Meshing"
   ]
  },
  {
   "cell_type": "code",
   "execution_count": 12,
   "metadata": {},
   "outputs": [
    {
     "name": "stderr",
     "output_type": "stream",
     "text": [
      "2024-12-17 16:34:41,404 - root - INFO: \n",
      "2024-12-17 16:34:41,404 - root - INFO: Stream-aligned Meshing\n",
      "2024-12-17 16:34:41,404 - root - INFO: ------------------------------\n",
      "2024-12-17 16:34:41,404 - root - INFO: Creating stream-aligned mesh...\n"
     ]
    },
    {
     "ename": "AttributeError",
     "evalue": "'NoneType' object has no attribute 'linestring'",
     "output_type": "error",
     "traceback": [
      "\u001b[0;31m---------------------------------------------------------------------------\u001b[0m",
      "\u001b[0;31mAttributeError\u001b[0m                            Traceback (most recent call last)",
      "Cell \u001b[0;32mIn[12], line 20\u001b[0m\n\u001b[1;32m     16\u001b[0m watershed, rivers \u001b[38;5;241m=\u001b[39m createCopy(watershed2, rivers2)\n\u001b[1;32m     18\u001b[0m \u001b[38;5;66;03m#info = watershed_workflow.tessalateRiverAligned(watershed, rivers, river_width=widths, diagnostics=True)\u001b[39;00m\n\u001b[0;32m---> 20\u001b[0m mesh_points2, conn_list, areas, dists \u001b[38;5;241m=\u001b[39m \u001b[43mwatershed_workflow\u001b[49m\u001b[38;5;241;43m.\u001b[39;49m\u001b[43mtessalateRiverAligned\u001b[49m\u001b[43m(\u001b[49m\u001b[43mwatershed\u001b[49m\u001b[43m,\u001b[49m\u001b[43m \u001b[49m\u001b[43mrivers\u001b[49m\u001b[43m,\u001b[49m\u001b[43m \u001b[49m\u001b[43mriver_width\u001b[49m\u001b[38;5;241;43m=\u001b[39;49m\u001b[43mwidths\u001b[49m\u001b[43m,\u001b[49m\n\u001b[1;32m     21\u001b[0m \u001b[43m                                              \u001b[49m\u001b[43mrefine_min_angle\u001b[49m\u001b[38;5;241;43m=\u001b[39;49m\u001b[43mmin_angle\u001b[49m\u001b[43m,\u001b[49m\u001b[43m \u001b[49m\u001b[43mrefine_distance\u001b[49m\u001b[38;5;241;43m=\u001b[39;49m\u001b[43m[\u001b[49m\u001b[43md0\u001b[49m\u001b[43m,\u001b[49m\u001b[43mA0\u001b[49m\u001b[43m,\u001b[49m\u001b[43md1\u001b[49m\u001b[43m,\u001b[49m\u001b[43mA1\u001b[49m\u001b[43m]\u001b[49m\u001b[43m,\u001b[49m\n\u001b[1;32m     22\u001b[0m \u001b[43m                                              \u001b[49m\u001b[43mtol\u001b[49m\u001b[38;5;241;43m=\u001b[39;49m\u001b[38;5;241;43m0.1\u001b[39;49m\u001b[43m,\u001b[49m\u001b[43m \u001b[49m\u001b[43mdiagnostics\u001b[49m\u001b[38;5;241;43m=\u001b[39;49m\u001b[38;5;28;43;01mTrue\u001b[39;49;00m\u001b[43m)\u001b[49m\n",
      "File \u001b[0;32m~/code/watershed_workflow/repos/geopandas-xarray/watershed_workflow/__init__.py:670\u001b[0m, in \u001b[0;36mtessalateRiverAligned\u001b[0;34m(hucs, rivers, river_width, internal_boundaries, debug, **kwargs)\u001b[0m\n\u001b[1;32m    667\u001b[0m \u001b[38;5;28;01melse\u001b[39;00m:\n\u001b[1;32m    668\u001b[0m     ax \u001b[38;5;241m=\u001b[39m \u001b[38;5;28;01mNone\u001b[39;00m\n\u001b[0;32m--> 670\u001b[0m river_coords, river_elems, river_corridors, hole_points \u001b[38;5;241m=\u001b[39m \u001b[43mwatershed_workflow\u001b[49m\u001b[38;5;241;43m.\u001b[39;49m\u001b[43mriver_mesh\u001b[49m\u001b[38;5;241;43m.\u001b[39;49m\u001b[43mcreateRiversMesh\u001b[49m\u001b[43m(\u001b[49m\u001b[43mhucs\u001b[49m\u001b[43m,\u001b[49m\u001b[43m \u001b[49m\u001b[43mrivers\u001b[49m\u001b[43m,\u001b[49m\u001b[43m \u001b[49m\u001b[43mcomputeWidth\u001b[49m\u001b[43m,\u001b[49m\u001b[43m \u001b[49m\u001b[43max\u001b[49m\u001b[38;5;241;43m=\u001b[39;49m\u001b[43max\u001b[49m\u001b[43m)\u001b[49m\n\u001b[1;32m    671\u001b[0m \u001b[38;5;28;01mif\u001b[39;00m debug:\n\u001b[1;32m    672\u001b[0m     plt\u001b[38;5;241m.\u001b[39mshow()\n",
      "File \u001b[0;32m~/code/watershed_workflow/repos/geopandas-xarray/watershed_workflow/river_mesh.py:74\u001b[0m, in \u001b[0;36mcreateRiversMesh\u001b[0;34m(hucs, rivers, computeWidth, ax)\u001b[0m\n\u001b[1;32m     71\u001b[0m i \u001b[38;5;241m=\u001b[39m \u001b[38;5;241m0\u001b[39m\n\u001b[1;32m     72\u001b[0m \u001b[38;5;28;01mfor\u001b[39;00m river \u001b[38;5;129;01min\u001b[39;00m rivers:\n\u001b[1;32m     73\u001b[0m     \u001b[38;5;66;03m# create the mesh\u001b[39;00m\n\u001b[0;32m---> 74\u001b[0m     lcoords, lelems \u001b[38;5;241m=\u001b[39m \u001b[43mcreateRiverMesh\u001b[49m\u001b[43m(\u001b[49m\u001b[43mriver\u001b[49m\u001b[43m,\u001b[49m\u001b[43m \u001b[49m\u001b[43mcomputeWidth\u001b[49m\u001b[43m)\u001b[49m\n\u001b[1;32m     76\u001b[0m     \u001b[38;5;66;03m# adjust the HUC linestrings to include the small cross-stream\u001b[39;00m\n\u001b[1;32m     77\u001b[0m     \u001b[38;5;66;03m# segment\u001b[39;00m\n\u001b[1;32m     78\u001b[0m     adjustHUCsToRiverMesh(hucs, river, lcoords)\n",
      "File \u001b[0;32m~/code/watershed_workflow/repos/geopandas-xarray/watershed_workflow/river_mesh.py:147\u001b[0m, in \u001b[0;36mcreateRiverMesh\u001b[0;34m(river, computeWidth)\u001b[0m\n\u001b[1;32m    145\u001b[0m debug \u001b[38;5;241m=\u001b[39m \u001b[38;5;124m'\u001b[39m\u001b[38;5;124m1332698\u001b[39m\u001b[38;5;124m'\u001b[39m, \u001b[38;5;241m0\u001b[39m  \u001b[38;5;66;03m# reach index, coordinate index\u001b[39;00m\n\u001b[1;32m    146\u001b[0m \u001b[38;5;28;01mif\u001b[39;00m debug \u001b[38;5;241m!=\u001b[39m (\u001b[38;5;28;01mNone\u001b[39;00m, \u001b[38;5;28;01mNone\u001b[39;00m):\n\u001b[0;32m--> 147\u001b[0m     logging\u001b[38;5;241m.\u001b[39minfo(\u001b[38;5;124mf\u001b[39m\u001b[38;5;124m\"\u001b[39m\u001b[38;5;124mDebugging reach \u001b[39m\u001b[38;5;132;01m{\u001b[39;00mdebug[\u001b[38;5;241m0\u001b[39m]\u001b[38;5;132;01m}\u001b[39;00m\u001b[38;5;124m, coordinate \u001b[39m\u001b[38;5;132;01m{\u001b[39;00mdebug[\u001b[38;5;241m1\u001b[39m]\u001b[38;5;132;01m}\u001b[39;00m\u001b[38;5;124m, at \u001b[39m\u001b[38;5;132;01m{\u001b[39;00m\u001b[43mriver\u001b[49m\u001b[38;5;241;43m.\u001b[39;49m\u001b[43mgetNode\u001b[49m\u001b[43m(\u001b[49m\u001b[43mdebug\u001b[49m\u001b[43m[\u001b[49m\u001b[38;5;241;43m0\u001b[39;49m\u001b[43m]\u001b[49m\u001b[43m)\u001b[49m\u001b[38;5;241;43m.\u001b[39;49m\u001b[43mlinestring\u001b[49m\u001b[38;5;241m.\u001b[39mcoords[debug[\u001b[38;5;241m1\u001b[39m]]\u001b[38;5;132;01m}\u001b[39;00m\u001b[38;5;124m\"\u001b[39m)\n\u001b[1;32m    149\u001b[0m \u001b[38;5;28;01mfor\u001b[39;00m touch, reach \u001b[38;5;129;01min\u001b[39;00m river\u001b[38;5;241m.\u001b[39mprePostInBetweenOrder():\n\u001b[1;32m    150\u001b[0m     halfwidth \u001b[38;5;241m=\u001b[39m computeWidth(reach) \u001b[38;5;241m/\u001b[39m \u001b[38;5;241m2.\u001b[39m\n",
      "\u001b[0;31mAttributeError\u001b[0m: 'NoneType' object has no attribute 'linestring'"
     ]
    }
   ],
   "source": [
    "## Triangulation\n",
    "refine_d0 = 12\n",
    "refine_d1 = 18\n",
    "refine_A0 = 82\n",
    "refine_A1 = 500\n",
    "d0 = refine_d0; d1 = refine_d1\n",
    "A0 = refine_A0; A1 = refine_A1 \n",
    "\n",
    "# Refine triangles if they get too acute\n",
    "min_angle = 32 # degrees\n",
    "\n",
    "# width of reach by stream order (order:width) or integer\n",
    "widths = 5.0\n",
    "\n",
    "# created two versions of the discrete watershed and rivers -- let's use the second one\n",
    "watershed, rivers = createCopy(watershed2, rivers2)\n",
    "\n",
    "#info = watershed_workflow.tessalateRiverAligned(watershed, rivers, river_width=widths, diagnostics=True)\n",
    "\n",
    "mesh_points2, conn_list, areas, dists = watershed_workflow.tessalateRiverAligned(watershed, rivers, river_width=widths,\n",
    "                                              refine_min_angle=min_angle, refine_distance=[d0,A0,d1,A1],\n",
    "                                              tol=0.1, diagnostics=True)"
   ]
  },
  {
   "cell_type": "code",
   "execution_count": null,
   "metadata": {},
   "outputs": [],
   "source": [
    "# provide elevations to each point of the mesh (in the real case this would come from DEMs)\n",
    "points3 = np.zeros((len(mesh_points2), 3))\n",
    "points3[:,:2] = mesh_points2\n",
    "\n",
    "# apply an elevation gradient downward towards the outlet \n",
    "points3[:,2] = 9 + abs(mesh_points2[:,0] - 200) / 800 + mesh_points2[:,1] / 500 "
   ]
  },
  {
   "cell_type": "code",
   "execution_count": null,
   "metadata": {},
   "outputs": [],
   "source": [
    "# construct the 2D mesh\n",
    "m2 = watershed_workflow.mesh.Mesh2D(points3.copy(), conn_list)"
   ]
  },
  {
   "cell_type": "code",
   "execution_count": null,
   "metadata": {},
   "outputs": [],
   "source": [
    "# plot the mesh\n",
    "fig, ax = plt.subplots(1,1)\n",
    "plot(watershed, rivers, ax=ax)\n",
    "\n",
    "df_mesh = gpd.GeoDataFrame(geometry=[shapely.geometry.Polygon(m2.coords[c, :]) for c in m2.conn])\n",
    "df_mesh.boundary.plot(ax=ax, color='grey')\n",
    "        \n",
    "\n"
   ]
  },
  {
   "cell_type": "code",
   "execution_count": null,
   "metadata": {},
   "outputs": [],
   "source": [
    "# depress the river corridor to burn in streams\n",
    "def conditionRiverMesh(m2, river, depress_by):\n",
    "    m2_copy = copy.deepcopy(m2)\n",
    "    for reach in river:\n",
    "        for i, elem in enumerate(reach['elems']):\n",
    "            for j in range(len(elem)):\n",
    "                m2.coords[elem[j]][2] = m2_copy.coords[elem[j]][2] - depress_by\n",
    "\n",
    "for river in rivers:\n",
    "    conditionRiverMesh(m2, river, 1)"
   ]
  },
  {
   "cell_type": "code",
   "execution_count": null,
   "metadata": {},
   "outputs": [],
   "source": [
    "# plotting surface mesh with elevations\n",
    "fig, ax = plt.subplots(1,1)\n",
    "watershed_workflow.plot.mesh(m2, ax=ax, \n",
    "                        linewidth=0.8, color='elevation', legend=True)\n",
    "\n",
    "plt.title('Surface Mesh with Elevations')\n",
    "plt.show()"
   ]
  },
  {
   "cell_type": "markdown",
   "metadata": {},
   "source": [
    "### Mesh Extrusion"
   ]
  },
  {
   "cell_type": "code",
   "execution_count": null,
   "metadata": {},
   "outputs": [],
   "source": [
    "## **** Creating a 3D mesh\n",
    "\n",
    "# this is oversimplified case where we wille xtrude this mesh in 3D with 10 layers of prescribed thicknesses\n",
    "\n",
    "total_thickness = 10\n",
    "dzs=[0.1,0.2, 0.2, 0.25,0.25,0.25,0.25,1,1.25,1.25,2,3]\n",
    "print(sum(dzs))\n",
    "assert(sum(dzs)==total_thickness)\n",
    "\n",
    "# layer extrusion\n",
    "# -- data structures needed for extrusion\n",
    "layer_types = []\n",
    "layer_data = []\n",
    "layer_ncells = []\n",
    "layer_mat_ids = []\n",
    "\n",
    "depth = 0\n",
    "for dz in dzs:\n",
    "    depth += 0.5 * dz\n",
    "    layer_types.append('constant')\n",
    "    layer_data.append(dz)\n",
    "    layer_ncells.append(1)\n",
    "    layer_mat_ids.append(1000)\n",
    "  \n",
    "    depth += 0.5 * dz\n",
    "\n",
    "# print the summary\n",
    "watershed_workflow.mesh.Mesh3D.summarizeExtrusion(layer_types, layer_data, \n",
    "                                            layer_ncells, layer_mat_ids)"
   ]
  },
  {
   "cell_type": "code",
   "execution_count": null,
   "metadata": {},
   "outputs": [],
   "source": [
    "# # extrude\n",
    "# m3 = watershed_workflow.mesh.Mesh3D.extruded_Mesh2D(m2,layer_types, layer_data, \n",
    "#                                              layer_ncells, layer_mat_ids)\n",
    "\n",
    "# # saving mesh as exodus file\n",
    "# m3.write_exodus('demo_mixed_element_mesh.exo')"
   ]
  }
 ],
 "metadata": {
  "kernelspec": {
   "display_name": "Python [conda env:ww-geopandas-20241102]",
   "language": "python",
   "name": "conda-env-ww-geopandas-20241102-py"
  },
  "language_info": {
   "codemirror_mode": {
    "name": "ipython",
    "version": 3
   },
   "file_extension": ".py",
   "mimetype": "text/x-python",
   "name": "python",
   "nbconvert_exporter": "python",
   "pygments_lexer": "ipython3",
   "version": "3.12.7"
  }
 },
 "nbformat": 4,
 "nbformat_minor": 4
}
