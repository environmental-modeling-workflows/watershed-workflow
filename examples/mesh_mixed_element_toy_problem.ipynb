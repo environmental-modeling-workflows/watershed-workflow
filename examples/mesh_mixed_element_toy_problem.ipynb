{
 "cells": [
  {
   "cell_type": "markdown",
   "metadata": {},
   "source": [
    "## Mixed-element Meshing - Toy Problem\n",
    "\n",
    "This workflow provides a testbed for testing features of mixed-element mesh wotkflow. The objects of river tree and huc boundary are a created to mimic what we get from NHDPlus. This example tests the case of two rivers, which is rare but still needs to be considered to make the workflow general"
   ]
  },
  {
   "cell_type": "code",
   "execution_count": 1,
   "metadata": {},
   "outputs": [],
   "source": [
    "## Importing all the package needed to run teh watershed workflow\n",
    "\n",
    "import numpy as np\n",
    "from matplotlib import pyplot as plt\n",
    "import shapely\n",
    "import logging\n",
    "import copy\n",
    "import geopandas as gpd"
   ]
  },
  {
   "cell_type": "code",
   "execution_count": 2,
   "metadata": {},
   "outputs": [],
   "source": [
    "import watershed_workflow \n",
    "import watershed_workflow.source_list\n",
    "import watershed_workflow.ui\n",
    "import watershed_workflow.utils\n",
    "import watershed_workflow.plot\n",
    "import watershed_workflow.mesh\n",
    "import watershed_workflow.resampling\n",
    "import watershed_workflow.condition\n",
    "watershed_workflow.ui.setup_logging(1,None)\n",
    "crs=None"
   ]
  },
  {
   "cell_type": "code",
   "execution_count": 3,
   "metadata": {},
   "outputs": [],
   "source": [
    "## NHDPlus input type objects\n",
    "\n",
    "# creating watershed polygon\n",
    "ws1 = shapely.geometry.Polygon(100*np.array([[0,0],[1,0],[2,0],[3,0],[4,0],[4,1],[4,2],[4,3],[4,4],[3,4.5],[2,5],[1,4.5], [0,4], [0,3], [0,2] ,[0,1]], 'd'))\n",
    "my_hucs = gpd.GeoDataFrame()\n",
    "my_hucs['geometry'] = [ws1,]\n",
    "\n",
    "# creating reaches miminc NHDPlus flowlines\n",
    "reach1=shapely.geometry.LineString([(200,200),(200,0)])\n",
    "reach2=shapely.geometry.LineString([ (50,300), (100,300), (100,200),(200,200)])\n",
    "reach3=shapely.geometry.LineString([ (350,400),(350,300),(300,300),(300,200),(200,200)])\n",
    "reach4=shapely.geometry.LineString([(100,400), (200,300)])\n",
    "reaches = gpd.GeoDataFrame()\n",
    "reaches.geometry = [reach1, reach2, reach3, reach4]"
   ]
  },
  {
   "cell_type": "code",
   "execution_count": 4,
   "metadata": {},
   "outputs": [
    {
     "name": "stderr",
     "output_type": "stream",
     "text": [
      "2024-11-21 15:48:50,667 - root - INFO: Removing holes on 1 polygons\n",
      "2024-11-21 15:48:50,667 - root - INFO:   -- removed interior\n",
      "2024-11-21 15:48:50,668 - root - INFO:   -- union\n",
      "2024-11-21 15:48:50,668 - root - INFO: Parsing 1 components for holes\n",
      "2024-11-21 15:48:50,668 - root - INFO:   -- complete\n"
     ]
    }
   ],
   "source": [
    "# creating watershed_workflow.split_hucs.SplitHUCs object for demo watershed\n",
    "watershed = watershed_workflow.split_hucs.SplitHUCs(my_hucs)"
   ]
  },
  {
   "cell_type": "code",
   "execution_count": 5,
   "metadata": {},
   "outputs": [
    {
     "name": "stderr",
     "output_type": "stream",
     "text": [
      "2024-11-21 15:48:50,970 - root - INFO: \n",
      "2024-11-21 15:48:50,971 - root - INFO: Simplifying\n",
      "2024-11-21 15:48:50,972 - root - INFO: ------------------------------\n",
      "2024-11-21 15:48:50,972 - root - INFO: Simplifying rivers\n",
      "2024-11-21 15:48:50,974 - root - INFO: Snapping river and HUC (nearly) coincident nodes\n",
      "2024-11-21 15:48:50,975 - root - INFO:   snapping polygon linestring boundaries to river endpoints\n",
      "2024-11-21 15:48:50,976 - root - INFO:   snapping river endpoints to the polygon\n",
      "2024-11-21 15:48:50,978 - root - INFO:   cutting at crossings\n",
      "2024-11-21 15:48:50,978 - root - INFO: intersection found\n",
      "2024-11-21 15:48:50,979 - root - INFO:   - cutting reach at external boundary of HUCs:\n",
      "2024-11-21 15:48:50,979 - root - INFO:       split HUC boundary seg into 2 pieces\n",
      "2024-11-21 15:48:50,979 - root - INFO:       split reach seg into 1 pieces\n",
      "2024-11-21 15:48:50,980 - root - INFO: Cutting crossings and removing external linestrings\n",
      "2024-11-21 15:48:50,980 - root - INFO:   cutting at crossings\n",
      "2024-11-21 15:48:50,980 - root - INFO: intersection found\n",
      "2024-11-21 15:48:50,980 - root - INFO:   - cutting reach at external boundary of HUCs:\n",
      "2024-11-21 15:48:50,980 - root - INFO:       split HUC boundary seg into 1 pieces\n",
      "2024-11-21 15:48:50,981 - root - INFO:       split reach seg into 1 pieces\n",
      "2024-11-21 15:48:50,981 - root - INFO: \n",
      "2024-11-21 15:48:50,981 - root - INFO: Simplification Diagnostics\n",
      "2024-11-21 15:48:50,982 - root - INFO: ------------------------------\n",
      "2024-11-21 15:48:50,982 - root - INFO:   river min seg length: 50.0\n",
      "2024-11-21 15:48:50,983 - root - INFO:   river median seg length: 95.71067811865476\n",
      "2024-11-21 15:48:50,983 - root - INFO:   HUC min seg length: 200.0\n",
      "2024-11-21 15:48:50,983 - root - INFO:   HUC median seg length: 200.0\n"
     ]
    }
   ],
   "source": [
    "rivers = watershed_workflow.river_tree.createRiverTrees(reaches, method='geometry')\n",
    "\n",
    "rivers_orig=[river.deepcopy() for river in rivers] # mimicking the original\n",
    "watershed_orig=copy.deepcopy(watershed) # keeping the original\n",
    "\n",
    "# simplify the geometry for a \"nicer\" discrete object\n",
    "watershed_workflow.simplify(watershed, rivers, simplify_rivers=10, cut_intersections=True)\n",
    "\n",
    "# for plotting purpose\n",
    "rivers_simplified=[river.deepcopy() for river in rivers] \n",
    "watershed_simplified=copy.deepcopy(watershed) "
   ]
  },
  {
   "cell_type": "code",
   "execution_count": 6,
   "metadata": {},
   "outputs": [
    {
     "data": {
      "image/png": "[encoded data removed]",
      "text/plain": [
       "<Figure size 640x480 with 1 Axes>"
      ]
     },
     "metadata": {},
     "output_type": "display_data"
    }
   ],
   "source": [
    "# quick glance at the problem\n",
    "ax = watershed_simplified.plot(color='k', marker='x')\n",
    "ax.set_title('after simplify and prune',fontsize=16)\n",
    "\n",
    "for river in rivers_simplified:\n",
    "    river.plot(marker='o',markersize=10, ax=ax)\n",
    "\n"
   ]
  },
  {
   "cell_type": "code",
   "execution_count": 8,
   "metadata": {},
   "outputs": [],
   "source": [
    "# resample the watershed\n",
    "river_mls = shapely.ops.unary_union([r.to_mls() for r in rivers])\n",
    "strategy = watershed_workflow.resampling.createStrategyByDistance([0,25,100,50], river_mls)\n",
    "watershed_workflow.resampling.resampleHUCs(watershed, strategy)\n",
    "                                           \n",
    "\n",
    "# resample the river\n",
    "strategy2 = watershed_workflow.resampling.createStrategyFixed(14)\n",
    "watershed_workflow.resampling.resampleRivers(rivers, strategy2)\n"
   ]
  },
  {
   "cell_type": "code",
   "execution_count": 9,
   "metadata": {
    "scrolled": true
   },
   "outputs": [
    {
     "name": "stderr",
     "output_type": "stream",
     "text": [
      "2024-11-21 15:51:38,975 - root - INFO: Crossings by Polygon:\n",
      "2024-11-21 15:51:38,975 - root - INFO:   Polygon 0\n",
      "2024-11-21 15:51:38,975 - root - INFO:     crossing: [200.   0.]\n",
      "2024-11-21 15:51:38,975 - root - INFO: Constructing outlet list\n",
      "2024-11-21 15:51:38,976 - root - INFO: Iteration = 0\n",
      "2024-11-21 15:51:38,976 - root - INFO: -----------------\n",
      "2024-11-21 15:51:38,976 - root - INFO:  poly outlet 0 : 0, [200.   0.]\n",
      "2024-11-21 15:51:38,976 - root - INFO: last outlet is 0 in polygon 0 at [200.   0.]\n"
     ]
    }
   ],
   "source": [
    "# finding the outlet\n",
    "watershed_workflow.hydrography.findOutletsByCrossings(watershed, rivers[0])"
   ]
  },
  {
   "cell_type": "code",
   "execution_count": 10,
   "metadata": {
    "scrolled": true
   },
   "outputs": [
    {
     "data": {
      "text/plain": [
       "Text(0.5, 1.0, 're-densified')"
      ]
     },
     "execution_count": 10,
     "metadata": {},
     "output_type": "execute_result"
    },
    {
     "data": {
      "image/png": "[encoded data removed]",
      "text/plain": [
       "<Figure size 1000x600 with 2 Axes>"
      ]
     },
     "metadata": {},
     "output_type": "display_data"
    }
   ],
   "source": [
    "# plotting results\n",
    "plt.rcParams['figure.figsize'] = [10, 6]\n",
    "fig, axs = plt.subplots(1,2)\n",
    "\n",
    "watershed_simplified.plot(color='k', marker='x', ax=axs[0])\n",
    "for river in rivers_simplified:\n",
    "    river.plot(marker='o', markersize=5, ax=axs[0])\n",
    "axs[0].set_title('after simplify and prune',fontsize=16)\n",
    "\n",
    "\n",
    "watershed.plot(color='k', marker='x', ax=axs[1])\n",
    "for river in rivers:\n",
    "    river.plot(marker='o', markersize=5, ax=axs[1])\n",
    "axs[1].set_title('re-densified',fontsize=16)\n"
   ]
  },
  {
   "cell_type": "markdown",
   "metadata": {},
   "source": [
    "# Meshing"
   ]
  },
  {
   "cell_type": "code",
   "execution_count": 10,
   "metadata": {},
   "outputs": [
    {
     "ename": "AttributeError",
     "evalue": "module 'watershed_workflow' has no attribute 'tessalate_river_aligned'",
     "output_type": "error",
     "traceback": [
      "\u001b[0;31m---------------------------------------------------------------------------\u001b[0m",
      "\u001b[0;31mAttributeError\u001b[0m                            Traceback (most recent call last)",
      "Cell \u001b[0;32mIn[10], line 15\u001b[0m\n\u001b[1;32m     12\u001b[0m \u001b[38;5;66;03m# width of reach by stream order (order:width) or integer\u001b[39;00m\n\u001b[1;32m     13\u001b[0m widths\u001b[38;5;241m=\u001b[39m\u001b[38;5;241m5\u001b[39m\n\u001b[0;32m---> 15\u001b[0m mesh_points2, conn_list, areas, dists \u001b[38;5;241m=\u001b[39m \u001b[43mwatershed_workflow\u001b[49m\u001b[38;5;241;43m.\u001b[39;49m\u001b[43mtessalate_river_aligned\u001b[49m(watershed,rivers, river_width\u001b[38;5;241m=\u001b[39mwidths,\n\u001b[1;32m     16\u001b[0m                                               refine_min_angle\u001b[38;5;241m=\u001b[39mmin_angle,refine_distance\u001b[38;5;241m=\u001b[39m[d0,A0,d1,A1],\n\u001b[1;32m     17\u001b[0m                                               diagnostics\u001b[38;5;241m=\u001b[39m\u001b[38;5;28;01mTrue\u001b[39;00m)\n",
      "\u001b[0;31mAttributeError\u001b[0m: module 'watershed_workflow' has no attribute 'tessalate_river_aligned'"
     ]
    }
   ],
   "source": [
    "## Triangulation\n",
    "refine_d0 = 12\n",
    "refine_d1 = 18\n",
    "refine_A0 = 82\n",
    "refine_A1 = 500\n",
    "d0 = refine_d0; d1 = refine_d1\n",
    "A0 = refine_A0; A1 = refine_A1 \n",
    "\n",
    "# Refine triangles if they get too acute\n",
    "min_angle = 32 # degrees\n",
    "\n",
    "# width of reach by stream order (order:width) or integer\n",
    "widths=5\n",
    "\n",
    "mesh_points2, conn_list, areas, dists = watershed_workflow.tessalate_river_aligned(watershed,rivers, river_width=widths,\n",
    "                                              refine_min_angle=min_angle,refine_distance=[d0,A0,d1,A1],\n",
    "                                              diagnostics=True)"
   ]
  },
  {
   "cell_type": "code",
   "execution_count": null,
   "metadata": {},
   "outputs": [],
   "source": [
    "# providing elevations to each point of the mesh (real case this would come from DEMs)\n",
    "points3=np.zeros((len(mesh_points2),3))\n",
    "points3[:,:2]=mesh_points2\n",
    "points3[:,2]=9+abs(mesh_points2[:,0]-200)/800+mesh_points2[:,1]/500 # gradient towards the outlet "
   ]
  },
  {
   "cell_type": "code",
   "execution_count": null,
   "metadata": {},
   "outputs": [],
   "source": [
    "# construct the 2D mesh\n",
    "m2 = watershed_workflow.mesh.Mesh2D(points3.copy(), conn_list)"
   ]
  },
  {
   "cell_type": "code",
   "execution_count": null,
   "metadata": {},
   "outputs": [],
   "source": [
    "# depressing river corridor\n",
    "def condition_river_mesh(m2, river, depress_by):\n",
    "    m2_copy=copy.deepcopy(m2)\n",
    "    for node in river.preOrder():\n",
    "        for i, elem in enumerate(node.elements):\n",
    "            for j in range(len(elem)):\n",
    "                m2.coords[elem[j]][2]=m2_copy.coords[elem[j]][2]-depress_by"
   ]
  },
  {
   "cell_type": "code",
   "execution_count": null,
   "metadata": {},
   "outputs": [],
   "source": [
    "# adding depressions for the river\n",
    "for river in rivers:\n",
    "    condition_river_mesh(m2, river, 1)"
   ]
  },
  {
   "cell_type": "code",
   "execution_count": null,
   "metadata": {},
   "outputs": [],
   "source": [
    "# plotting surface mesh with elevations\n",
    "plt.rcParams['figure.figsize'] = [12, 15]\n",
    "crs=None\n",
    "start=min(m2.centroids[:,2])\n",
    "step=(max(m2.centroids[:,2])-(min(m2.centroids[:,2])))/40\n",
    "stop=max(m2.centroids[:,2])+step\n",
    "legend_values=np.arange(start,stop,step)\n",
    "indices, cmap, norm, ticks, labels = watershed_workflow.colors.generate_indexed_colormap(legend_values, cmap='jet')\n",
    "fig, ax = watershed_workflow.plot.get_ax(crs)\n",
    "\n",
    "mp = watershed_workflow.plot.mesh(m2, crs, ax=ax, \n",
    "                        linewidth=0.8 ,color=m2.centroids[:,2], \n",
    "                        cmap=cmap, norm = norm, edgecolor='k',facecolor='color')\n",
    "\n",
    "watershed_workflow.colors.colorbar_index(ncolors=len(legend_values), cmap=cmap, labels=labels, ax=ax) \n",
    "plt.title('Surface Mesh with Elevations')\n",
    "plt.show()"
   ]
  },
  {
   "cell_type": "markdown",
   "metadata": {},
   "source": [
    "### Mesh Extrusion"
   ]
  },
  {
   "cell_type": "code",
   "execution_count": null,
   "metadata": {},
   "outputs": [],
   "source": [
    "## **** Creating a 3D mesh\n",
    "\n",
    "# this is oversimplified case where we wille xtrude this mesh in 3D with 10 layers of prescribed thicknesses\n",
    "\n",
    "total_thickness = 10\n",
    "dzs=[0.1,0.2, 0.2, 0.25,0.25,0.25,0.25,1,1.25,1.25,2,3]\n",
    "print(sum(dzs))\n",
    "assert(sum(dzs)==total_thickness)\n",
    "\n",
    "# layer extrusion\n",
    "# -- data structures needed for extrusion\n",
    "layer_types = []\n",
    "layer_data = []\n",
    "layer_ncells = []\n",
    "layer_mat_ids = []\n",
    "\n",
    "depth = 0\n",
    "for dz in dzs:\n",
    "    depth += 0.5 * dz\n",
    "    layer_types.append('constant')\n",
    "    layer_data.append(dz)\n",
    "    layer_ncells.append(1)\n",
    "    layer_mat_ids.append(1000)\n",
    "  \n",
    "    depth += 0.5 * dz\n",
    "\n",
    "# print the summary\n",
    "watershed_workflow.mesh.Mesh3D.summarize_extrusion(layer_types, layer_data, \n",
    "                                            layer_ncells, layer_mat_ids)"
   ]
  },
  {
   "cell_type": "code",
   "execution_count": null,
   "metadata": {},
   "outputs": [],
   "source": [
    "# # extrude\n",
    "# m3 = watershed_workflow.mesh.Mesh3D.extruded_Mesh2D(m2,layer_types, layer_data, \n",
    "#                                              layer_ncells, layer_mat_ids)\n",
    "\n",
    "# # saving mesh as exodus file\n",
    "# m3.write_exodus('demo_mixed_element_mesh.exo')"
   ]
  }
 ],
 "metadata": {
  "kernelspec": {
   "display_name": "Python [conda env:ww-geopandas-20241102]",
   "language": "python",
   "name": "conda-env-ww-geopandas-20241102-py"
  },
  "language_info": {
   "codemirror_mode": {
    "name": "ipython",
    "version": 3
   },
   "file_extension": ".py",
   "mimetype": "text/x-python",
   "name": "python",
   "nbconvert_exporter": "python",
   "pygments_lexer": "ipython3",
   "version": "3.12.7"
  }
 },
 "nbformat": 4,
 "nbformat_minor": 4
}
