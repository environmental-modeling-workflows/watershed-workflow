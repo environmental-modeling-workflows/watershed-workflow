{
 "cells": [
  {
   "cell_type": "markdown",
   "metadata": {},
   "source": [
    "## Mixed-element Meshing - Toy Problem\n",
    "\n",
    "This workflow provides a testbed for testing features of mixed-element mesh wotkflow. The objects of river tree and huc boundary are a created to mimic what we get from NHDPlus. This example tests the case of two rivers, which is rare but still needs to be considered to make the workflow general"
   ]
  },
  {
   "cell_type": "code",
   "execution_count": 1,
   "metadata": {},
   "outputs": [],
   "source": [
    "%matplotlib ipympl"
   ]
  },
  {
   "cell_type": "code",
   "execution_count": 2,
   "metadata": {},
   "outputs": [],
   "source": [
    "## Importing all the package needed to run the workflow\n",
    "\n",
    "import numpy as np\n",
    "from matplotlib import pyplot as plt\n",
    "import shapely\n",
    "import logging\n",
    "import copy\n",
    "import geopandas as gpd"
   ]
  },
  {
   "cell_type": "code",
   "execution_count": 3,
   "metadata": {},
   "outputs": [],
   "source": [
    "import watershed_workflow \n",
    "import watershed_workflow.source_list\n",
    "import watershed_workflow.ui\n",
    "import watershed_workflow.utils\n",
    "import watershed_workflow.plot\n",
    "import watershed_workflow.mesh\n",
    "import watershed_workflow.resampling\n",
    "import watershed_workflow.condition\n",
    "watershed_workflow.ui.setup_logging(1,None)\n",
    "crs = None"
   ]
  },
  {
   "cell_type": "code",
   "execution_count": 4,
   "metadata": {},
   "outputs": [],
   "source": [
    "## NHDPlus input type objects\n",
    "\n",
    "# creating watershed polygon\n",
    "ws1 = shapely.geometry.Polygon(100*np.array([[0,0],[1,0],[2,0],[3,0],[4,0],[4,1],[4,2],[4,3],[4,4],[3,4.5],[2,5],[1,4.5], [0,4], [0,3], [0,2] ,[0,1]], 'd'))\n",
    "my_hucs = gpd.GeoDataFrame()\n",
    "my_hucs['geometry'] = [ws1,]\n",
    "\n",
    "# creating reaches miminc NHDPlus flowlines\n",
    "reach1=shapely.geometry.LineString([(200,200),(200,0)])\n",
    "reach2=shapely.geometry.LineString([ (50,300), (100,300), (100,200),(200,200)])\n",
    "reach3=shapely.geometry.LineString([ (350,400),(350,300),(300,300),(300,200),(200,200)])\n",
    "reach4=shapely.geometry.LineString([(100,400), (200,300)])\n",
    "reaches = gpd.GeoDataFrame()\n",
    "reaches.geometry = [reach1, reach2, reach3, reach4]"
   ]
  },
  {
   "cell_type": "code",
   "execution_count": 5,
   "metadata": {},
   "outputs": [],
   "source": [
    "def createCopy(watershed, rivers):\n",
    "    \"\"\"To compare before/after, we often want to create copies.  Note in real workflows most things are done in-place without copies.\"\"\"\n",
    "    return watershed.deepcopy(), [r.deepcopy() for r in rivers]"
   ]
  },
  {
   "cell_type": "code",
   "execution_count": 6,
   "metadata": {},
   "outputs": [
    {
     "name": "stderr",
     "output_type": "stream",
     "text": [
      "2024-12-10 17:28:59,188 - root - INFO: Removing holes on 1 polygons\n",
      "2024-12-10 17:28:59,188 - root - INFO:   -- removed interior\n",
      "2024-12-10 17:28:59,188 - root - INFO:   -- union\n",
      "2024-12-10 17:28:59,189 - root - INFO: Parsing 1 components for holes\n",
      "2024-12-10 17:28:59,189 - root - INFO:   -- complete\n"
     ]
    }
   ],
   "source": [
    "# creating watershed_workflow.split_hucs.SplitHUCs object for demo watershed\n",
    "watershed = watershed_workflow.split_hucs.SplitHUCs(my_hucs)"
   ]
  },
  {
   "cell_type": "code",
   "execution_count": 7,
   "metadata": {},
   "outputs": [],
   "source": [
    "rivers = watershed_workflow.river_tree.createRivers(reaches, method='geometry')"
   ]
  },
  {
   "cell_type": "code",
   "execution_count": 8,
   "metadata": {},
   "outputs": [],
   "source": [
    "# copy the originals\n",
    "watershed_orig, rivers_orig = watershed, rivers"
   ]
  },
  {
   "cell_type": "code",
   "execution_count": 9,
   "metadata": {},
   "outputs": [
    {
     "name": "stderr",
     "output_type": "stream",
     "text": [
      "2024-12-10 17:28:59,199 - root - INFO: \n",
      "2024-12-10 17:28:59,199 - root - INFO: Simplifying\n",
      "2024-12-10 17:28:59,200 - root - INFO: ------------------------------\n",
      "2024-12-10 17:28:59,200 - root - INFO: Presimplify to remove colinear, coincident points.\n",
      "2024-12-10 17:28:59,201 - root - INFO: Pruning leaf reaches < 10\n",
      "2024-12-10 17:28:59,201 - root - INFO: Merging internal reaches < 10\n",
      "2024-12-10 17:28:59,202 - root - INFO:   reach: min seg length: \t   50.0000000000 \tmin geom length: \t  141.4213562373\n",
      "2024-12-10 17:28:59,207 - root - INFO:   reach: med seg length: \t  100.0000000000 \tmed geom length: \t  225.0000000000\n",
      "2024-12-10 17:28:59,207 - root - INFO:   reach: max seg length: \t  200.0000000000 \tmax geom length: \t  350.0000000000\n",
      "2024-12-10 17:28:59,207 - root - INFO: \n",
      "2024-12-10 17:28:59,208 - root - INFO:   HUC  : min seg length: \t  223.6067977500 \tmin geom length: \t 1647.2135955000\n",
      "2024-12-10 17:28:59,208 - root - INFO:   HUC  : med seg length: \t  400.0000000000 \tmed geom length: \t 1647.2135955000\n",
      "2024-12-10 17:28:59,208 - root - INFO:   HUC  : max seg length: \t  400.0000000000 \tmax geom length: \t 1647.2135955000\n",
      "2024-12-10 17:28:59,212 - root - INFO: \n",
      "2024-12-10 17:28:59,213 - root - INFO: Snapping discrete points to make rivers and HUCs discretely consistent.\n",
      "2024-12-10 17:28:59,213 - root - INFO:  -- snapping HUC triple junctions to reaches\n",
      "2024-12-10 17:28:59,216 - root - INFO:   reach: min seg length: \t   50.0000000000 \tmin geom length: \t  141.4213562373\n",
      "2024-12-10 17:28:59,216 - root - INFO:   reach: med seg length: \t  100.0000000000 \tmed geom length: \t  225.0000000000\n",
      "2024-12-10 17:28:59,217 - root - INFO:   reach: max seg length: \t  200.0000000000 \tmax geom length: \t  350.0000000000\n",
      "2024-12-10 17:28:59,217 - root - INFO: \n",
      "2024-12-10 17:28:59,218 - root - INFO:   HUC  : min seg length: \t  223.6067977500 \tmin geom length: \t 1647.2135955000\n",
      "2024-12-10 17:28:59,218 - root - INFO:   HUC  : med seg length: \t  400.0000000000 \tmed geom length: \t 1647.2135955000\n",
      "2024-12-10 17:28:59,218 - root - INFO:   HUC  : max seg length: \t  400.0000000000 \tmax geom length: \t 1647.2135955000\n",
      "2024-12-10 17:28:59,218 - root - INFO: \n",
      "2024-12-10 17:28:59,219 - root - INFO:  -- snapping HUC boundaries to reach endpoints\n"
     ]
    },
    {
     "ename": "NameError",
     "evalue": "name 'tol' is not defined",
     "output_type": "error",
     "traceback": [
      "\u001b[0;31m---------------------------------------------------------------------------\u001b[0m",
      "\u001b[0;31mNameError\u001b[0m                                 Traceback (most recent call last)",
      "Cell \u001b[0;32mIn[9], line 3\u001b[0m\n\u001b[1;32m      1\u001b[0m \u001b[38;5;66;03m# simplify the geometry for a \"nicer\" discrete object, using a uniform sampling strategy\u001b[39;00m\n\u001b[1;32m      2\u001b[0m watershed1, rivers1 \u001b[38;5;241m=\u001b[39m createCopy(watershed_orig, rivers_orig)\n\u001b[0;32m----> 3\u001b[0m \u001b[43mwatershed_workflow\u001b[49m\u001b[38;5;241;43m.\u001b[39;49m\u001b[43msimplify\u001b[49m\u001b[43m(\u001b[49m\u001b[43mwatershed1\u001b[49m\u001b[43m,\u001b[49m\u001b[43m \u001b[49m\u001b[43mrivers1\u001b[49m\u001b[43m,\u001b[49m\u001b[43m \u001b[49m\u001b[38;5;241;43m10\u001b[39;49m\u001b[43m,\u001b[49m\u001b[43m \u001b[49m\u001b[43mkeep_points\u001b[49m\u001b[38;5;241;43m=\u001b[39;49m\u001b[38;5;28;43;01mTrue\u001b[39;49;00m\u001b[43m)\u001b[49m\n",
      "File \u001b[0;32m~/code/watershed_workflow/repos/geopandas-xarray/watershed_workflow/__init__.py:370\u001b[0m, in \u001b[0;36msimplify\u001b[0;34m(hucs, rivers, reach_segment_target_length, huc_segment_target_length, river_close_distance, river_far_distance, resample_by_reach_property, min_angle, junction_min_angle, keep_points)\u001b[0m\n\u001b[1;32m    368\u001b[0m logging\u001b[38;5;241m.\u001b[39minfo(\u001b[38;5;124m\"\u001b[39m\u001b[38;5;124m -- snapping HUC boundaries to reach endpoints\u001b[39m\u001b[38;5;124m\"\u001b[39m)\n\u001b[1;32m    369\u001b[0m \u001b[38;5;28;01mfor\u001b[39;00m river \u001b[38;5;129;01min\u001b[39;00m rivers:\n\u001b[0;32m--> 370\u001b[0m     river\u001b[38;5;241m.\u001b[39mlinestring \u001b[38;5;241m=\u001b[39m watershed_workflow\u001b[38;5;241m.\u001b[39mhydrography\u001b[38;5;241m.\u001b[39msnapBoundaryToLineString(hucs, river\u001b[38;5;241m.\u001b[39mlinestring, \u001b[43mtol\u001b[49m)\n\u001b[1;32m    371\u001b[0m \u001b[38;5;28;01mfor\u001b[39;00m river \u001b[38;5;129;01min\u001b[39;00m rivers:\n\u001b[1;32m    372\u001b[0m     \u001b[38;5;28;01mfor\u001b[39;00m leaf \u001b[38;5;129;01min\u001b[39;00m river\u001b[38;5;241m.\u001b[39mleaf_nodes:\n",
      "\u001b[0;31mNameError\u001b[0m: name 'tol' is not defined"
     ]
    }
   ],
   "source": [
    "# simplify the geometry for a \"nicer\" discrete object, using a uniform sampling strategy\n",
    "watershed1, rivers1 = createCopy(watershed_orig, rivers_orig)\n",
    "watershed_workflow.simplify(watershed1, rivers1, 10, keep_points=True)"
   ]
  },
  {
   "cell_type": "code",
   "execution_count": null,
   "metadata": {},
   "outputs": [],
   "source": [
    "# simplify the geometry using a distance-function based resampling\n",
    "watershed2, rivers2 = createCopy(watershed_orig, rivers_orig)\n",
    "watershed_workflow.simplify(watershed2, rivers2, 10, 50, 50, 150, keep_points=True)"
   ]
  },
  {
   "cell_type": "code",
   "execution_count": null,
   "metadata": {},
   "outputs": [],
   "source": [
    "# plot the results\n",
    "def plot(ws, rivs, ax=None):\n",
    "    if ax is None:\n",
    "        fig, ax = plt.subplots(1, 1, figsize=figsize)\n",
    "    ws.plot(color='k', marker='+', markersize=20, ax=ax)\n",
    "    for river in rivs:\n",
    "        river.plot(marker='x', markersize=20, ax=ax)\n",
    "\n",
    "fig, axs = plt.subplots(1,3)\n",
    "plot(watershed_orig, rivers_orig, axs[0])\n",
    "axs[0].set_title('original')\n",
    "\n",
    "plot(watershed1, rivers1, axs[1])\n",
    "axs[1].set_title('uniform resampling')\n",
    "\n",
    "plot(watershed2, rivers2, axs[2])\n",
    "axs[2].set_title('dist-based resampling')\n"
   ]
  },
  {
   "cell_type": "markdown",
   "metadata": {},
   "source": [
    "# Meshing"
   ]
  },
  {
   "cell_type": "code",
   "execution_count": null,
   "metadata": {},
   "outputs": [],
   "source": [
    "## Triangulation\n",
    "refine_d0 = 12\n",
    "refine_d1 = 18\n",
    "refine_A0 = 82\n",
    "refine_A1 = 500\n",
    "d0 = refine_d0; d1 = refine_d1\n",
    "A0 = refine_A0; A1 = refine_A1 \n",
    "\n",
    "# Refine triangles if they get too acute\n",
    "min_angle = 32 # degrees\n",
    "\n",
    "# width of reach by stream order (order:width) or integer\n",
    "widths=5\n",
    "\n",
    "mesh_points2, conn_list, areas, dists = watershed_workflow.tessalate_river_aligned(watershed,rivers, river_width=widths,\n",
    "                                              refine_min_angle=min_angle,refine_distance=[d0,A0,d1,A1],\n",
    "                                              diagnostics=True)"
   ]
  },
  {
   "cell_type": "code",
   "execution_count": null,
   "metadata": {},
   "outputs": [],
   "source": [
    "# providing elevations to each point of the mesh (real case this would come from DEMs)\n",
    "points3=np.zeros((len(mesh_points2),3))\n",
    "points3[:,:2]=mesh_points2\n",
    "points3[:,2]=9+abs(mesh_points2[:,0]-200)/800+mesh_points2[:,1]/500 # gradient towards the outlet "
   ]
  },
  {
   "cell_type": "code",
   "execution_count": null,
   "metadata": {},
   "outputs": [],
   "source": [
    "# construct the 2D mesh\n",
    "m2 = watershed_workflow.mesh.Mesh2D(points3.copy(), conn_list)"
   ]
  },
  {
   "cell_type": "code",
   "execution_count": null,
   "metadata": {},
   "outputs": [],
   "source": [
    "# depressing river corridor\n",
    "def condition_river_mesh(m2, river, depress_by):\n",
    "    m2_copy=copy.deepcopy(m2)\n",
    "    for node in river.preOrder():\n",
    "        for i, elem in enumerate(node.elements):\n",
    "            for j in range(len(elem)):\n",
    "                m2.coords[elem[j]][2]=m2_copy.coords[elem[j]][2]-depress_by"
   ]
  },
  {
   "cell_type": "code",
   "execution_count": null,
   "metadata": {},
   "outputs": [],
   "source": [
    "# adding depressions for the river\n",
    "for river in rivers:\n",
    "    condition_river_mesh(m2, river, 1)"
   ]
  },
  {
   "cell_type": "code",
   "execution_count": null,
   "metadata": {},
   "outputs": [],
   "source": [
    "# plotting surface mesh with elevations\n",
    "plt.rcParams['figure.figsize'] = [12, 15]\n",
    "crs=None\n",
    "start=min(m2.centroids[:,2])\n",
    "step=(max(m2.centroids[:,2])-(min(m2.centroids[:,2])))/40\n",
    "stop=max(m2.centroids[:,2])+step\n",
    "legend_values=np.arange(start,stop,step)\n",
    "indices, cmap, norm, ticks, labels = watershed_workflow.colors.generate_indexed_colormap(legend_values, cmap='jet')\n",
    "fig, ax = watershed_workflow.plot.get_ax(crs)\n",
    "\n",
    "mp = watershed_workflow.plot.mesh(m2, crs, ax=ax, \n",
    "                        linewidth=0.8 ,color=m2.centroids[:,2], \n",
    "                        cmap=cmap, norm = norm, edgecolor='k',facecolor='color')\n",
    "\n",
    "watershed_workflow.colors.colorbar_index(ncolors=len(legend_values), cmap=cmap, labels=labels, ax=ax) \n",
    "plt.title('Surface Mesh with Elevations')\n",
    "plt.show()"
   ]
  },
  {
   "cell_type": "markdown",
   "metadata": {},
   "source": [
    "### Mesh Extrusion"
   ]
  },
  {
   "cell_type": "code",
   "execution_count": null,
   "metadata": {},
   "outputs": [],
   "source": [
    "## **** Creating a 3D mesh\n",
    "\n",
    "# this is oversimplified case where we wille xtrude this mesh in 3D with 10 layers of prescribed thicknesses\n",
    "\n",
    "total_thickness = 10\n",
    "dzs=[0.1,0.2, 0.2, 0.25,0.25,0.25,0.25,1,1.25,1.25,2,3]\n",
    "print(sum(dzs))\n",
    "assert(sum(dzs)==total_thickness)\n",
    "\n",
    "# layer extrusion\n",
    "# -- data structures needed for extrusion\n",
    "layer_types = []\n",
    "layer_data = []\n",
    "layer_ncells = []\n",
    "layer_mat_ids = []\n",
    "\n",
    "depth = 0\n",
    "for dz in dzs:\n",
    "    depth += 0.5 * dz\n",
    "    layer_types.append('constant')\n",
    "    layer_data.append(dz)\n",
    "    layer_ncells.append(1)\n",
    "    layer_mat_ids.append(1000)\n",
    "  \n",
    "    depth += 0.5 * dz\n",
    "\n",
    "# print the summary\n",
    "watershed_workflow.mesh.Mesh3D.summarize_extrusion(layer_types, layer_data, \n",
    "                                            layer_ncells, layer_mat_ids)"
   ]
  },
  {
   "cell_type": "code",
   "execution_count": null,
   "metadata": {},
   "outputs": [],
   "source": [
    "# # extrude\n",
    "# m3 = watershed_workflow.mesh.Mesh3D.extruded_Mesh2D(m2,layer_types, layer_data, \n",
    "#                                              layer_ncells, layer_mat_ids)\n",
    "\n",
    "# # saving mesh as exodus file\n",
    "# m3.write_exodus('demo_mixed_element_mesh.exo')"
   ]
  }
 ],
 "metadata": {
  "kernelspec": {
   "display_name": "Python [conda env:ww-geopandas-20241102]",
   "language": "python",
   "name": "conda-env-ww-geopandas-20241102-py"
  },
  "language_info": {
   "codemirror_mode": {
    "name": "ipython",
    "version": 3
   },
   "file_extension": ".py",
   "mimetype": "text/x-python",
   "name": "python",
   "nbconvert_exporter": "python",
   "pygments_lexer": "ipython3",
   "version": "3.12.7"
  }
 },
 "nbformat": 4,
 "nbformat_minor": 4
}
