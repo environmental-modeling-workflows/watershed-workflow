{
 "cells": [
  {
   "cell_type": "markdown",
   "metadata": {},
   "source": [
    "## Mixed-element Meshing - Toy Problem\n",
    "\n",
    "This workflow provides a testbed for testing features of mixed-element mesh wotkflow. The objects of river tree and huc boundary are a created to mimic what we get from NHDPlus. This example tests the case of two rivers, which is rare but still needs to be considered to make the workflow general"
   ]
  },
  {
   "cell_type": "code",
   "execution_count": 1,
   "metadata": {},
   "outputs": [],
   "source": [
    "## Importing all the package needed to run teh watershed workflow\n",
    "\n",
    "import numpy as np\n",
    "from matplotlib import pyplot as plt\n",
    "import shapely\n",
    "import logging\n",
    "import copy\n",
    "import geopandas as gpd"
   ]
  },
  {
   "cell_type": "code",
   "execution_count": 2,
   "metadata": {},
   "outputs": [],
   "source": [
    "import watershed_workflow \n",
    "import watershed_workflow.source_list\n",
    "import watershed_workflow.ui\n",
    "import watershed_workflow.utils\n",
    "import watershed_workflow.plot\n",
    "import watershed_workflow.mesh\n",
    "import watershed_workflow.densification\n",
    "import watershed_workflow.condition\n",
    "watershed_workflow.ui.setup_logging(1,None)\n",
    "crs=None"
   ]
  },
  {
   "cell_type": "code",
   "execution_count": 3,
   "metadata": {},
   "outputs": [],
   "source": [
    "## NHDPlus input type objects\n",
    "\n",
    "# creating watershed polygon\n",
    "ws1 = shapely.geometry.Polygon(100*np.array([[0,0],[1,0],[2,0],[3,0],[4,0],[4,1],[4,2],[4,3],[4,4],[3,4.5],[2,5],[1,4.5], [0,4], [0,3], [0,2] ,[0,1]], 'd'))\n",
    "my_hucs = gpd.GeoDataFrame()\n",
    "my_hucs['geometry'] = [ws1,]\n",
    "\n",
    "# creating reaches miminc NHDPlus flowlines\n",
    "reach1=shapely.geometry.LineString([(200,200),(200,0)])\n",
    "reach2=shapely.geometry.LineString([ (50,300), (100,300), (100,200),(200,200)])\n",
    "reach3=shapely.geometry.LineString([ (350,400),(350,300),(300,300),(300,200),(200,200)])\n",
    "reach4=shapely.geometry.LineString([(100,400), (200,300)])\n",
    "reaches = gpd.GeoDataFrame()\n",
    "reaches.geometry = [reach1, reach2, reach3, reach4]"
   ]
  },
  {
   "cell_type": "code",
   "execution_count": 4,
   "metadata": {},
   "outputs": [
    {
     "name": "stderr",
     "output_type": "stream",
     "text": [
      "2024-11-08 08:10:36,134 - root - INFO: Removing holes on 1 polygons\n",
      "2024-11-08 08:10:36,135 - root - INFO:   -- removed interior\n",
      "2024-11-08 08:10:36,135 - root - INFO:   -- union\n",
      "2024-11-08 08:10:36,136 - root - INFO: Parsing 1 components for holes\n",
      "2024-11-08 08:10:36,136 - root - INFO:   -- complete\n"
     ]
    }
   ],
   "source": [
    "# creating watershed_workflow.split_hucs.SplitHUCs object for demo watershed\n",
    "watershed = watershed_workflow.split_hucs.SplitHUCs(my_hucs)"
   ]
  },
  {
   "cell_type": "code",
   "execution_count": 5,
   "metadata": {},
   "outputs": [
    {
     "name": "stderr",
     "output_type": "stream",
     "text": [
      "2024-11-08 08:10:36,474 - root - INFO: \n",
      "2024-11-08 08:10:36,475 - root - INFO: Simplifying\n",
      "2024-11-08 08:10:36,475 - root - INFO: ------------------------------\n",
      "2024-11-08 08:10:36,475 - root - INFO: Simplifying rivers\n",
      "2024-11-08 08:10:36,477 - root - INFO: Snapping river and HUC (nearly) coincident nodes\n",
      "2024-11-08 08:10:36,478 - root - INFO:   snapping polygon segment boundaries to river endpoints\n",
      "2024-11-08 08:10:36,479 - root - INFO:   snapping river endpoints to the polygon\n",
      "2024-11-08 08:10:36,481 - root - INFO:   cutting at crossings\n",
      "2024-11-08 08:10:36,481 - root - INFO: intersection found\n",
      "2024-11-08 08:10:36,482 - root - INFO:   - cutting reach at external boundary of HUCs:\n",
      "2024-11-08 08:10:36,482 - root - INFO:       split HUC boundary seg into 2 pieces\n",
      "2024-11-08 08:10:36,482 - root - INFO:       split reach seg into 1 pieces\n",
      "2024-11-08 08:10:36,483 - root - INFO: Cutting crossings and removing external segments\n",
      "2024-11-08 08:10:36,484 - root - INFO:   cutting at crossings\n",
      "2024-11-08 08:10:36,484 - root - INFO: intersection found\n",
      "2024-11-08 08:10:36,484 - root - INFO:   - cutting reach at external boundary of HUCs:\n",
      "2024-11-08 08:10:36,484 - root - INFO:       split HUC boundary seg into 1 pieces\n",
      "2024-11-08 08:10:36,484 - root - INFO:       split reach seg into 1 pieces\n",
      "2024-11-08 08:10:36,485 - root - INFO: \n",
      "2024-11-08 08:10:36,485 - root - INFO: Simplification Diagnostics\n",
      "2024-11-08 08:10:36,485 - root - INFO: ------------------------------\n",
      "2024-11-08 08:10:36,486 - root - INFO:   river min seg length: 50.0\n",
      "2024-11-08 08:10:36,486 - root - INFO:   river median seg length: 95.71067811865476\n",
      "2024-11-08 08:10:36,486 - root - INFO:   HUC min seg length: 200.0\n",
      "2024-11-08 08:10:36,486 - root - INFO:   HUC median seg length: 200.0\n"
     ]
    }
   ],
   "source": [
    "rivers = watershed_workflow.river_tree.createRiverTrees(reaches, method='geometry')\n",
    "\n",
    "rivers_orig=[river.deepcopy() for river in rivers] # mimicking the original\n",
    "watershed_orig=copy.deepcopy(watershed) # keeping the original\n",
    "\n",
    "# simplify the geometry for a \"nicer\" discrete object\n",
    "watershed_workflow.simplify(watershed, rivers, simplify_rivers=10, cut_intersections=True)\n",
    "\n",
    "# for plotting purpose\n",
    "rivers_simplified=[river.deepcopy() for river in rivers] \n",
    "watershed_simplified=copy.deepcopy(watershed) "
   ]
  },
  {
   "cell_type": "code",
   "execution_count": 6,
   "metadata": {},
   "outputs": [
    {
     "data": {
      "image/png": "[encoded data removed]",
      "text/plain": [
       "<Figure size 640x480 with 1 Axes>"
      ]
     },
     "metadata": {},
     "output_type": "display_data"
    }
   ],
   "source": [
    "# quick glance at the problem\n",
    "ax = watershed_simplified.plot(color='k', marker='x')\n",
    "ax.set_title('after simplify and prune',fontsize=16)\n",
    "\n",
    "for river in rivers_simplified:\n",
    "    river.plot(marker='o',markersize=10, ax=ax)\n",
    "\n"
   ]
  },
  {
   "cell_type": "code",
   "execution_count": 7,
   "metadata": {},
   "outputs": [
    {
     "name": "stderr",
     "output_type": "stream",
     "text": [
      "2024-11-08 08:10:38,686 - root - INFO:   river min seg length: 12.5\n",
      "2024-11-08 08:10:38,686 - root - INFO:   river median seg length: 12.678243465332233\n"
     ]
    }
   ],
   "source": [
    "# densify_watershed\n",
    "watershed_workflow.densification.densifyHUCs(watershed, [0,25,100,50], watershed_orig, rivers) \n",
    "\n",
    "#densify_river\n",
    "watershed_workflow.densification.densifyRivers(rivers, 14, rivers_orig)"
   ]
  },
  {
   "cell_type": "code",
   "execution_count": 9,
   "metadata": {
    "scrolled": true
   },
   "outputs": [
    {
     "name": "stderr",
     "output_type": "stream",
     "text": [
      "2024-11-08 08:10:57,704 - root - INFO: Crossings by Polygon:\n",
      "2024-11-08 08:10:57,705 - root - INFO:   Polygon 0\n",
      "2024-11-08 08:10:57,706 - root - INFO:     crossing: [200.   0.]\n",
      "2024-11-08 08:10:57,707 - root - INFO: Constructing outlet list\n",
      "2024-11-08 08:10:57,707 - root - INFO: Iteration = 0\n",
      "2024-11-08 08:10:57,707 - root - INFO: -----------------\n",
      "2024-11-08 08:10:57,708 - root - INFO:  poly outlet 0 : 0, [200.   0.]\n",
      "2024-11-08 08:10:57,708 - root - INFO: last outlet is 0 in polygon 0 at [200.   0.]\n"
     ]
    },
    {
     "data": {
      "text/html": [
       "<div>\n",
       "<style scoped>\n",
       "    .dataframe tbody tr th:only-of-type {\n",
       "        vertical-align: middle;\n",
       "    }\n",
       "\n",
       "    .dataframe tbody tr th {\n",
       "        vertical-align: top;\n",
       "    }\n",
       "\n",
       "    .dataframe thead th {\n",
       "        text-align: right;\n",
       "    }\n",
       "</style>\n",
       "<table border=\"1\" class=\"dataframe\">\n",
       "  <thead>\n",
       "    <tr style=\"text-align: right;\">\n",
       "      <th></th>\n",
       "      <th>geometry</th>\n",
       "      <th>outlet</th>\n",
       "    </tr>\n",
       "  </thead>\n",
       "  <tbody>\n",
       "    <tr>\n",
       "      <th>0</th>\n",
       "      <td>POLYGON ((0 0, 22.222 0, 44.444 0, 66.667 0, 8...</td>\n",
       "      <td>POINT (200 0)</td>\n",
       "    </tr>\n",
       "  </tbody>\n",
       "</table>\n",
       "</div>"
      ],
      "text/plain": [
       "                                            geometry         outlet\n",
       "0  POLYGON ((0 0, 22.222 0, 44.444 0, 66.667 0, 8...  POINT (200 0)"
      ]
     },
     "execution_count": 9,
     "metadata": {},
     "output_type": "execute_result"
    }
   ],
   "source": [
    "# finding the outlet\n",
    "watershed_workflow.hydrography.findOutletsByCrossings(watershed, rivers[0])"
   ]
  },
  {
   "cell_type": "code",
   "execution_count": 13,
   "metadata": {
    "scrolled": true
   },
   "outputs": [
    {
     "data": {
      "text/plain": [
       "Text(0.5, 1.0, 're-densified')"
      ]
     },
     "execution_count": 13,
     "metadata": {},
     "output_type": "execute_result"
    },
    {
     "data": {
      "image/png": "[encoded data removed]",
      "text/plain": [
       "<Figure size 1000x600 with 2 Axes>"
      ]
     },
     "metadata": {},
     "output_type": "display_data"
    }
   ],
   "source": [
    "# plotting results\n",
    "plt.rcParams['figure.figsize'] = [10, 6]\n",
    "fig, axs = plt.subplots(1,2)\n",
    "\n",
    "watershed_simplified.plot(color='k', marker='x', ax=axs[0])\n",
    "for river in rivers_simplified:\n",
    "    river.plot(marker='o', markersize=5, ax=axs[0])\n",
    "axs[0].set_title('after simplify and prune',fontsize=16)\n",
    "\n",
    "\n",
    "watershed.plot(color='k', marker='x', ax=axs[1])\n",
    "for river in rivers:\n",
    "    river.plot(marker='o', markersize=5, ax=axs[1])\n",
    "axs[1].set_title('re-densified',fontsize=16)\n"
   ]
  },
  {
   "cell_type": "markdown",
   "metadata": {},
   "source": [
    "# Meshing"
   ]
  },
  {
   "cell_type": "code",
   "execution_count": null,
   "metadata": {},
   "outputs": [],
   "source": [
    "## Triangulation\n",
    "refine_d0 = 12\n",
    "refine_d1 = 18\n",
    "refine_A0 = 82\n",
    "refine_A1 = 500\n",
    "d0 = refine_d0; d1 = refine_d1\n",
    "A0 = refine_A0; A1 = refine_A1 \n",
    "\n",
    "# Refine triangles if they get too acute\n",
    "min_angle = 32 # degrees\n",
    "\n",
    "# width of reach by stream order (order:width) or integer\n",
    "widths=5\n",
    "\n",
    "mesh_points2, conn_list, areas, dists = watershed_workflow.tessalate_river_aligned(watershed,rivers, river_width=widths,\n",
    "                                              refine_min_angle=min_angle,refine_distance=[d0,A0,d1,A1],\n",
    "                                              diagnostics=True)"
   ]
  },
  {
   "cell_type": "code",
   "execution_count": null,
   "metadata": {},
   "outputs": [],
   "source": [
    "# providing elevations to each point of the mesh (real case this would come from DEMs)\n",
    "points3=np.zeros((len(mesh_points2),3))\n",
    "points3[:,:2]=mesh_points2\n",
    "points3[:,2]=9+abs(mesh_points2[:,0]-200)/800+mesh_points2[:,1]/500 # gradient towards the outlet "
   ]
  },
  {
   "cell_type": "code",
   "execution_count": null,
   "metadata": {},
   "outputs": [],
   "source": [
    "# construct the 2D mesh\n",
    "m2 = watershed_workflow.mesh.Mesh2D(points3.copy(), conn_list)"
   ]
  },
  {
   "cell_type": "code",
   "execution_count": null,
   "metadata": {},
   "outputs": [],
   "source": [
    "# depressing river corridor\n",
    "def condition_river_mesh(m2, river, depress_by):\n",
    "    m2_copy=copy.deepcopy(m2)\n",
    "    for node in river.preOrder():\n",
    "        for i, elem in enumerate(node.elements):\n",
    "            for j in range(len(elem)):\n",
    "                m2.coords[elem[j]][2]=m2_copy.coords[elem[j]][2]-depress_by"
   ]
  },
  {
   "cell_type": "code",
   "execution_count": null,
   "metadata": {},
   "outputs": [],
   "source": [
    "# adding depressions for the river\n",
    "for river in rivers:\n",
    "    condition_river_mesh(m2, river, 1)"
   ]
  },
  {
   "cell_type": "code",
   "execution_count": null,
   "metadata": {},
   "outputs": [],
   "source": [
    "# plotting surface mesh with elevations\n",
    "plt.rcParams['figure.figsize'] = [12, 15]\n",
    "crs=None\n",
    "start=min(m2.centroids[:,2])\n",
    "step=(max(m2.centroids[:,2])-(min(m2.centroids[:,2])))/40\n",
    "stop=max(m2.centroids[:,2])+step\n",
    "legend_values=np.arange(start,stop,step)\n",
    "indices, cmap, norm, ticks, labels = watershed_workflow.colors.generate_indexed_colormap(legend_values, cmap='jet')\n",
    "fig, ax = watershed_workflow.plot.get_ax(crs)\n",
    "\n",
    "mp = watershed_workflow.plot.mesh(m2, crs, ax=ax, \n",
    "                        linewidth=0.8 ,color=m2.centroids[:,2], \n",
    "                        cmap=cmap, norm = norm, edgecolor='k',facecolor='color')\n",
    "\n",
    "watershed_workflow.colors.colorbar_index(ncolors=len(legend_values), cmap=cmap, labels=labels, ax=ax) \n",
    "plt.title('Surface Mesh with Elevations')\n",
    "plt.show()"
   ]
  },
  {
   "cell_type": "markdown",
   "metadata": {},
   "source": [
    "### Mesh Extrusion"
   ]
  },
  {
   "cell_type": "code",
   "execution_count": null,
   "metadata": {},
   "outputs": [],
   "source": [
    "## **** Creating a 3D mesh\n",
    "\n",
    "# this is oversimplified case where we wille xtrude this mesh in 3D with 10 layers of prescribed thicknesses\n",
    "\n",
    "total_thickness = 10\n",
    "dzs=[0.1,0.2, 0.2, 0.25,0.25,0.25,0.25,1,1.25,1.25,2,3]\n",
    "print(sum(dzs))\n",
    "assert(sum(dzs)==total_thickness)\n",
    "\n",
    "# layer extrusion\n",
    "# -- data structures needed for extrusion\n",
    "layer_types = []\n",
    "layer_data = []\n",
    "layer_ncells = []\n",
    "layer_mat_ids = []\n",
    "\n",
    "depth = 0\n",
    "for dz in dzs:\n",
    "    depth += 0.5 * dz\n",
    "    layer_types.append('constant')\n",
    "    layer_data.append(dz)\n",
    "    layer_ncells.append(1)\n",
    "    layer_mat_ids.append(1000)\n",
    "  \n",
    "    depth += 0.5 * dz\n",
    "\n",
    "# print the summary\n",
    "watershed_workflow.mesh.Mesh3D.summarize_extrusion(layer_types, layer_data, \n",
    "                                            layer_ncells, layer_mat_ids)"
   ]
  },
  {
   "cell_type": "code",
   "execution_count": null,
   "metadata": {},
   "outputs": [],
   "source": [
    "# # extrude\n",
    "# m3 = watershed_workflow.mesh.Mesh3D.extruded_Mesh2D(m2,layer_types, layer_data, \n",
    "#                                              layer_ncells, layer_mat_ids)\n",
    "\n",
    "# # saving mesh as exodus file\n",
    "# m3.write_exodus('demo_mixed_element_mesh.exo')"
   ]
  }
 ],
 "metadata": {
  "kernelspec": {
   "display_name": "Python [conda env:ww-geopandas-20241102]",
   "language": "python",
   "name": "conda-env-ww-geopandas-20241102-py"
  },
  "language_info": {
   "codemirror_mode": {
    "name": "ipython",
    "version": 3
   },
   "file_extension": ".py",
   "mimetype": "text/x-python",
   "name": "python",
   "nbconvert_exporter": "python",
   "pygments_lexer": "ipython3",
   "version": "3.12.7"
  }
 },
 "nbformat": 4,
 "nbformat_minor": 4
}
