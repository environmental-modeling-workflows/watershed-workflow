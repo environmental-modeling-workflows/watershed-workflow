{
 "cells": [
  {
   "cell_type": "markdown",
   "metadata": {
    "tags": []
   },
   "source": [
    "# Download Daymet"
   ]
  },
  {
   "cell_type": "code",
   "execution_count": 1,
   "metadata": {},
   "outputs": [],
   "source": [
    "%load_ext autoreload\n",
    "%autoreload 2"
   ]
  },
  {
   "cell_type": "markdown",
   "metadata": {},
   "source": [
    "Daymet provides gridded meteorological data for North American at 1km spatial resolution with daily timestep from 1980 ~ present. [website](https://daac.ornl.gov/cgi-bin/dsviewer.pl?ds_id=1328) and [user guide](https://daac.ornl.gov/DAYMET/guides/Daymet_V3_CFMosaics.html)\n",
    "\n",
    "Available variables:\n",
    "\n",
    "| Variable | Description (units) |\n",
    "| ---- | ---- |\n",
    "| tmax | Daily maximum 2-meter air temperature (°C) |\n",
    "| tmin | Daily minimum 2-meter air temperature (°C) |\n",
    "| prcp | Daily total precipitation (mm/day) |\n",
    "| srad | Incident shortwave radiation flux density (W/m2) |\n",
    "| vp   | Water vapor pressure (Pa) |\n",
    "| swe  | Snow water equivalent (kg/m2) |\n",
    "| dayl | Duration of the daylight period (seconds) |\n",
    "\n",
    "Notes:\n",
    " - The Daymet calendar is based on a standard calendar year. All Daymet years, including leap years, have 1 - 365 days. For leap years, the Daymet database includes leap day (February 29) and values for December 31 are discarded from leap years to maintain a 365-day year.\n",
    " \n",
    " - DayMet's incident shortwave radiation is the \"daylit\" radiation.  To get the daily average radiation, one must multiply by daylit fraction, given by dayl / 86400."
   ]
  },
  {
   "cell_type": "code",
   "execution_count": 2,
   "metadata": {},
   "outputs": [],
   "source": [
    "%matplotlib inline\n",
    "import matplotlib.pyplot as plt\n",
    "import matplotlib as mpl\n",
    "mpl.rcParams['figure.dpi'] = 150"
   ]
  },
  {
   "cell_type": "code",
   "execution_count": 3,
   "metadata": {},
   "outputs": [],
   "source": [
    "import logging\n",
    "import numpy as np\n",
    "import rasterio\n",
    "import fiona\n",
    "import os\n",
    "\n",
    "import watershed_workflow\n",
    "import watershed_workflow.ui\n",
    "import watershed_workflow.sources.manager_daymet\n",
    "import watershed_workflow.daymet\n",
    "import watershed_workflow.io\n",
    "\n",
    "watershed_workflow.ui.setup_logging(1,None)"
   ]
  },
  {
   "cell_type": "code",
   "execution_count": 4,
   "metadata": {},
   "outputs": [],
   "source": [
    "watershed_shapefile = 'Coweeta/input_data/coweeta_basin.shp'"
   ]
  },
  {
   "cell_type": "markdown",
   "metadata": {},
   "source": [
    "## import watershed"
   ]
  },
  {
   "cell_type": "code",
   "execution_count": 5,
   "metadata": {},
   "outputs": [
    {
     "name": "stderr",
     "output_type": "stream",
     "text": [
      "2023-08-07 16:17:59,671 - root - INFO: \n",
      "2023-08-07 16:17:59,672 - root - INFO: Loading shapes\n",
      "2023-08-07 16:17:59,672 - root - INFO: ------------------------------\n",
      "2023-08-07 16:17:59,672 - root - INFO: Loading file: 'Coweeta/input_data/coweeta_basin.shp'\n",
      "2023-08-07 16:17:59,689 - root - INFO: ... found 1 shapes\n",
      "2023-08-07 16:17:59,690 - root - INFO: Converting to shapely\n",
      "2023-08-07 16:17:59,694 - root - INFO: crs: EPSG:26917\n"
     ]
    },
    {
     "name": "stdout",
     "output_type": "stream",
     "text": [
      "(273971.0911328099, 3878839.636107322, 279140.9151049435, 3883953.785323434)\n",
      "5169.823972133629 5114.149216112215\n"
     ]
    }
   ],
   "source": [
    "crs, watershed = watershed_workflow.get_split_form_shapes(watershed_shapefile)\n",
    "logging.info(f'crs: {crs}')\n",
    "\n",
    "bounds = watershed.exterior().bounds\n",
    "print(bounds)\n",
    "print(bounds[2] - bounds[0], bounds[3] - bounds[1])"
   ]
  },
  {
   "cell_type": "markdown",
   "metadata": {},
   "source": [
    "## Download"
   ]
  },
  {
   "cell_type": "markdown",
   "metadata": {},
   "source": [
    "returned raw data has `dim(nband, ncol, nrow)`"
   ]
  },
  {
   "cell_type": "code",
   "execution_count": 6,
   "metadata": {},
   "outputs": [],
   "source": [
    "startdate = \"1980-1-1\"\n",
    "enddate = \"1981-1-1\""
   ]
  },
  {
   "cell_type": "code",
   "execution_count": 7,
   "metadata": {
    "scrolled": true
   },
   "outputs": [
    {
     "name": "stderr",
     "output_type": "stream",
     "text": [
      "2023-08-07 16:17:59,757 - root - INFO: Collecting DayMet file to tile bounds: [-83.4889, 35.017, -83.4109, 35.0842]\n",
      "2023-08-07 16:17:59,757 - root - INFO:   Downloading: http://thredds.daac.ornl.gov/thredds/ncss/grid/ornldaac/2129/daymet_v4_daily_na_tmin_1980.nc\n",
      "2023-08-07 16:17:59,758 - root - INFO:       to file: /Users/Shared/ornldev/code/watershed_workflow/data_dir/meteorology/daymet/daymet_tmin_1980_35.0842x-83.4889_35.0170x-83.4109.nc\n",
      "/Users/Shared/ornldev/code/mambaforge/envs/watershed-workflow-dev-20230724/lib/python3.10/site-packages/urllib3/connectionpool.py:1095: InsecureRequestWarning: Unverified HTTPS request is being made to host 'thredds.daac.ornl.gov'. Adding certificate verification is strongly advised. See: https://urllib3.readthedocs.io/en/latest/advanced-usage.html#tls-warnings\n",
      "  warnings.warn(\n",
      "2023-08-07 16:18:10,504 - root - INFO: Collecting DayMet file to tile bounds: [-83.4889, 35.017, -83.4109, 35.0842]\n",
      "2023-08-07 16:18:10,507 - root - INFO:   Downloading: http://thredds.daac.ornl.gov/thredds/ncss/grid/ornldaac/2129/daymet_v4_daily_na_tmax_1980.nc\n",
      "2023-08-07 16:18:10,508 - root - INFO:       to file: /Users/Shared/ornldev/code/watershed_workflow/data_dir/meteorology/daymet/daymet_tmax_1980_35.0842x-83.4889_35.0170x-83.4109.nc\n",
      "/Users/Shared/ornldev/code/mambaforge/envs/watershed-workflow-dev-20230724/lib/python3.10/site-packages/urllib3/connectionpool.py:1095: InsecureRequestWarning: Unverified HTTPS request is being made to host 'thredds.daac.ornl.gov'. Adding certificate verification is strongly advised. See: https://urllib3.readthedocs.io/en/latest/advanced-usage.html#tls-warnings\n",
      "  warnings.warn(\n",
      "2023-08-07 16:18:21,844 - root - INFO: Collecting DayMet file to tile bounds: [-83.4889, 35.017, -83.4109, 35.0842]\n",
      "2023-08-07 16:18:21,846 - root - INFO:   Downloading: http://thredds.daac.ornl.gov/thredds/ncss/grid/ornldaac/2129/daymet_v4_daily_na_prcp_1980.nc\n",
      "2023-08-07 16:18:21,847 - root - INFO:       to file: /Users/Shared/ornldev/code/watershed_workflow/data_dir/meteorology/daymet/daymet_prcp_1980_35.0842x-83.4889_35.0170x-83.4109.nc\n",
      "/Users/Shared/ornldev/code/mambaforge/envs/watershed-workflow-dev-20230724/lib/python3.10/site-packages/urllib3/connectionpool.py:1095: InsecureRequestWarning: Unverified HTTPS request is being made to host 'thredds.daac.ornl.gov'. Adding certificate verification is strongly advised. See: https://urllib3.readthedocs.io/en/latest/advanced-usage.html#tls-warnings\n",
      "  warnings.warn(\n",
      "2023-08-07 16:18:26,884 - root - INFO: Collecting DayMet file to tile bounds: [-83.4889, 35.017, -83.4109, 35.0842]\n",
      "2023-08-07 16:18:26,887 - root - INFO:   Downloading: http://thredds.daac.ornl.gov/thredds/ncss/grid/ornldaac/2129/daymet_v4_daily_na_srad_1980.nc\n",
      "2023-08-07 16:18:26,888 - root - INFO:       to file: /Users/Shared/ornldev/code/watershed_workflow/data_dir/meteorology/daymet/daymet_srad_1980_35.0842x-83.4889_35.0170x-83.4109.nc\n",
      "/Users/Shared/ornldev/code/mambaforge/envs/watershed-workflow-dev-20230724/lib/python3.10/site-packages/urllib3/connectionpool.py:1095: InsecureRequestWarning: Unverified HTTPS request is being made to host 'thredds.daac.ornl.gov'. Adding certificate verification is strongly advised. See: https://urllib3.readthedocs.io/en/latest/advanced-usage.html#tls-warnings\n",
      "  warnings.warn(\n",
      "2023-08-07 16:18:39,634 - root - INFO: Collecting DayMet file to tile bounds: [-83.4889, 35.017, -83.4109, 35.0842]\n",
      "2023-08-07 16:18:39,636 - root - INFO:   Downloading: http://thredds.daac.ornl.gov/thredds/ncss/grid/ornldaac/2129/daymet_v4_daily_na_vp_1980.nc\n",
      "2023-08-07 16:18:39,637 - root - INFO:       to file: /Users/Shared/ornldev/code/watershed_workflow/data_dir/meteorology/daymet/daymet_vp_1980_35.0842x-83.4889_35.0170x-83.4109.nc\n",
      "/Users/Shared/ornldev/code/mambaforge/envs/watershed-workflow-dev-20230724/lib/python3.10/site-packages/urllib3/connectionpool.py:1095: InsecureRequestWarning: Unverified HTTPS request is being made to host 'thredds.daac.ornl.gov'. Adding certificate verification is strongly advised. See: https://urllib3.readthedocs.io/en/latest/advanced-usage.html#tls-warnings\n",
      "  warnings.warn(\n",
      "2023-08-07 16:18:55,519 - root - INFO: Collecting DayMet file to tile bounds: [-83.4889, 35.017, -83.4109, 35.0842]\n",
      "2023-08-07 16:18:55,522 - root - INFO:   Downloading: http://thredds.daac.ornl.gov/thredds/ncss/grid/ornldaac/2129/daymet_v4_daily_na_dayl_1980.nc\n",
      "2023-08-07 16:18:55,523 - root - INFO:       to file: /Users/Shared/ornldev/code/watershed_workflow/data_dir/meteorology/daymet/daymet_dayl_1980_35.0842x-83.4889_35.0170x-83.4109.nc\n",
      "/Users/Shared/ornldev/code/mambaforge/envs/watershed-workflow-dev-20230724/lib/python3.10/site-packages/urllib3/connectionpool.py:1095: InsecureRequestWarning: Unverified HTTPS request is being made to host 'thredds.daac.ornl.gov'. Adding certificate verification is strongly advised. See: https://urllib3.readthedocs.io/en/latest/advanced-usage.html#tls-warnings\n",
      "  warnings.warn(\n"
     ]
    }
   ],
   "source": [
    "# setting vars = None to download all available variables\n",
    "source = watershed_workflow.sources.manager_daymet.FileManagerDaymet()\n",
    "data = source.get_data(bounds, crs, startdate, enddate)"
   ]
  },
  {
   "cell_type": "markdown",
   "metadata": {},
   "source": [
    "## Reproject Daymet CRS\n",
    "\n",
    "Reproject daymet CRS to the same as the watershed. This is necessary if watershed meshes are using watershed CRS."
   ]
  },
  {
   "cell_type": "code",
   "execution_count": 8,
   "metadata": {},
   "outputs": [],
   "source": [
    "data_new = watershed_workflow.warp.state(data, dst_crs=crs)"
   ]
  },
  {
   "cell_type": "markdown",
   "metadata": {},
   "source": [
    "## plot Daymet"
   ]
  },
  {
   "cell_type": "code",
   "execution_count": 9,
   "metadata": {},
   "outputs": [
    {
     "name": "stderr",
     "output_type": "stream",
     "text": [
      "/Users/Shared/ornldev/code/mambaforge/envs/watershed-workflow-dev-20230724/lib/python3.10/site-packages/pyproj/crs/crs.py:1296: UserWarning: You will likely lose important projection information when converting to a PROJ string from another format. See: https://proj.org/faq.html#what-is-the-best-format-for-describing-coordinate-reference-systems\n",
      "  proj = self._crs.to_proj4(version=version)\n",
      "2023-08-07 16:19:01,498 - root - INFO: BOUNDS: (1440750.0, -652000.0, 1448750.0, -643000.0)\n",
      "2023-08-07 16:19:01,517 - root - INFO: BOUNDS: (271527.7143081544, 3875905.081088365, 281752.1159530131, 3887058.9737918475)\n"
     ]
    },
    {
     "data": {
      "text/plain": [
       "Text(0.5, 1.0, 'Reprojected Daymet')"
      ]
     },
     "execution_count": 9,
     "metadata": {},
     "output_type": "execute_result"
    },
    {
     "data": {
      "image/png": "[encoded data removed]",
      "text/plain": [
       "<Figure size 960x720 with 2 Axes>"
      ]
     },
     "metadata": {},
     "output_type": "display_data"
    }
   ],
   "source": [
    "ivar = 'tmax'\n",
    "islice = 100\n",
    "daymet_crs = watershed_workflow.crs.daymet_crs()\n",
    "\n",
    "fig = plt.figure()\n",
    "ax1 = watershed_workflow.plot.get_ax(daymet_crs, fig, 1, 2, 1)\n",
    "ax2 = watershed_workflow.plot.get_ax(crs, fig, 1, 2, 2)\n",
    "\n",
    "watershed_ext_daymet = watershed_workflow.warp.shply(watershed.exterior(),\n",
    "                                                     crs, daymet_crs)\n",
    "watershed_workflow.plot.raster(data[ivar].profile, data[ivar].data[islice,:,:], ax1)\n",
    "watershed_workflow.plot.shply(watershed_ext_daymet, daymet_crs, ax=ax1, color='r')\n",
    "\n",
    "watershed_workflow.plot.raster(data_new[ivar].profile, data_new[ivar].data[islice,:,:], ax2)\n",
    "watershed_workflow.plot.hucs(watershed, crs, ax=ax2, color='r')\n",
    "\n",
    "ax1.set_title(\"Raw Daymet\")\n",
    "ax2.set_title(\"Reprojected Daymet\")\n",
    "\n"
   ]
  },
  {
   "cell_type": "markdown",
   "metadata": {},
   "source": [
    "# save daymet"
   ]
  },
  {
   "cell_type": "markdown",
   "metadata": {},
   "source": [
    "## Write to HDF5\n",
    "\n",
    "Write raw daymet data to a single HDF5 file."
   ]
  },
  {
   "cell_type": "code",
   "execution_count": 10,
   "metadata": {},
   "outputs": [
    {
     "name": "stderr",
     "output_type": "stream",
     "text": [
      "2023-08-07 16:19:01,604 - root - INFO: Writing HDF5 file: Coweeta/output_data/watershed_daymet-raw.h5\n"
     ]
    }
   ],
   "source": [
    "assert(len(data_new.collections) == 1)\n",
    "met_data = data_new.collections[0]\n",
    "\n",
    "filename = os.path.join('Coweeta','output_data', 'watershed_daymet-raw.h5')\n",
    "watershed_workflow.io.write_dataset_to_hdf5(\n",
    "    filename,\n",
    "    met_data, \n",
    "    watershed_workflow.daymet.getAttributes(bounds, startdate, enddate))"
   ]
  },
  {
   "cell_type": "markdown",
   "metadata": {},
   "source": [
    "## Write to ATS format\n",
    "\n",
    "This will write daymet in a format that ATS can read. E.g., this will partition precipitation into rain and snow, convert vapor pressure to relative humidity, get mean air temperature and so on.\n",
    "\n",
    "- dout has dims of `(ntime, nrow, ncol)` or `(ntime, ny, nx)`"
   ]
  },
  {
   "cell_type": "code",
   "execution_count": 11,
   "metadata": {},
   "outputs": [
    {
     "name": "stderr",
     "output_type": "stream",
     "text": [
      "2023-08-07 16:19:01,804 - root - INFO: Converting to ATS met input\n",
      "2023-08-07 16:19:01,805 - root - INFO: Writing HDF5 file: Coweeta/output_data/watershed_daymet-ats.h5\n"
     ]
    }
   ],
   "source": [
    "met_data_ats = watershed_workflow.daymet.daymet_to_daily_averages(met_data)\n",
    "\n",
    "filename = os.path.join('Coweeta', 'output_data', 'watershed_daymet-ats.h5')\n",
    "watershed_workflow.io.write_dataset_to_hdf5(\n",
    "    filename,\n",
    "    met_data_ats.collections[0],\n",
    "    watershed_workflow.daymet.getAttributes(bounds, startdate, enddate))\n",
    "    "
   ]
  },
  {
   "cell_type": "code",
   "execution_count": null,
   "metadata": {},
   "outputs": [],
   "source": []
  }
 ],
 "metadata": {
  "kernelspec": {
   "display_name": "Python [conda env:mambaforge-watershed-workflow-dev-20230724]",
   "language": "python",
   "name": "conda-env-mambaforge-watershed-workflow-dev-20230724-py"
  },
  "language_info": {
   "codemirror_mode": {
    "name": "ipython",
    "version": 3
   },
   "file_extension": ".py",
   "mimetype": "text/x-python",
   "name": "python",
   "nbconvert_exporter": "python",
   "pygments_lexer": "ipython3",
   "version": "3.10.12"
  },
  "toc-autonumbering": true
 },
 "nbformat": 4,
 "nbformat_minor": 4
}
