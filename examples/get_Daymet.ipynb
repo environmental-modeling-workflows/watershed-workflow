{
 "cells": [
  {
   "cell_type": "markdown",
   "metadata": {
    "tags": []
   },
   "source": [
    "# Download Daymet"
   ]
  },
  {
   "cell_type": "code",
   "execution_count": 1,
   "metadata": {},
   "outputs": [],
   "source": [
    "%load_ext autoreload\n",
    "%autoreload 2"
   ]
  },
  {
   "cell_type": "markdown",
   "metadata": {},
   "source": [
    "Daymet provides gridded meteorological data for North American at 1km spatial resolution with daily timestep from 1980 ~ present. [website](https://daac.ornl.gov/cgi-bin/dsviewer.pl?ds_id=1328) and [user guide](https://daac.ornl.gov/DAYMET/guides/Daymet_V3_CFMosaics.html)\n",
    "\n",
    "Available variables:\n",
    "\n",
    "| Variable | Description (units) |\n",
    "| ---- | ---- |\n",
    "| tmax | Daily maximum 2-meter air temperature (°C) |\n",
    "| tmin | Daily minimum 2-meter air temperature (°C) |\n",
    "| prcp | Daily total precipitation (mm/day) |\n",
    "| srad | Incident shortwave radiation flux density (W/m2) |\n",
    "| vp   | Water vapor pressure (Pa) |\n",
    "| swe  | Snow water equivalent (kg/m2) |\n",
    "| dayl | Duration of the daylight period (seconds) |\n",
    "\n",
    "Notes:\n",
    " - The Daymet calendar is based on a standard calendar year. All Daymet years, including leap years, have 1 - 365 days. For leap years, the Daymet database includes leap day (February 29) and values for December 31 are discarded from leap years to maintain a 365-day year.\n",
    " \n",
    " - DayMet's incident shortwave radiation is the \"daylit\" radiation.  To get the daily average radiation, one must multiply by daylit fraction, given by dayl / 86400."
   ]
  },
  {
   "cell_type": "code",
   "execution_count": 2,
   "metadata": {},
   "outputs": [],
   "source": [
    "%matplotlib inline\n",
    "import matplotlib.pyplot as plt\n",
    "import matplotlib as mpl\n",
    "mpl.rcParams['figure.dpi'] = 150"
   ]
  },
  {
   "cell_type": "code",
   "execution_count": 3,
   "metadata": {},
   "outputs": [],
   "source": [
    "import logging\n",
    "import numpy as np\n",
    "import rasterio\n",
    "import fiona\n",
    "import os\n",
    "\n",
    "import watershed_workflow\n",
    "import watershed_workflow.ui\n",
    "import watershed_workflow.sources.manager_daymet\n",
    "import watershed_workflow.daymet\n",
    "import watershed_workflow.io\n",
    "\n",
    "watershed_workflow.ui.setup_logging(1,None)"
   ]
  },
  {
   "cell_type": "code",
   "execution_count": 4,
   "metadata": {},
   "outputs": [],
   "source": [
    "watershed_shapefile = 'Coweeta/input_data/coweeta_basin.shp'"
   ]
  },
  {
   "cell_type": "markdown",
   "metadata": {},
   "source": [
    "## import watershed"
   ]
  },
  {
   "cell_type": "code",
   "execution_count": 5,
   "metadata": {},
   "outputs": [
    {
     "name": "stderr",
     "output_type": "stream",
     "text": [
      "2022-12-13 17:22:35,457 - root - INFO: \n",
      "2022-12-13 17:22:35,458 - root - INFO: Loading shapes\n",
      "2022-12-13 17:22:35,459 - root - INFO: ------------------------------\n",
      "2022-12-13 17:22:35,460 - root - INFO: Loading file: 'Coweeta/input_data/coweeta_basin.shp'\n",
      "2022-12-13 17:22:35,474 - root - INFO: ... found 1 shapes\n",
      "2022-12-13 17:22:35,475 - root - INFO: Converting to shapely\n",
      "2022-12-13 17:22:35,481 - root - INFO: crs: epsg:26917\n"
     ]
    },
    {
     "name": "stdout",
     "output_type": "stream",
     "text": [
      "(273971.0911428096, 3878839.6361173145, 279140.9150949494, 3883953.7853134344)\n",
      "5169.823952139821 5114.149196119979\n"
     ]
    }
   ],
   "source": [
    "crs, watershed = watershed_workflow.get_split_form_shapes(watershed_shapefile)\n",
    "logging.info(f'crs: {crs}')\n",
    "\n",
    "bounds = watershed.exterior().bounds\n",
    "print(bounds)\n",
    "print(bounds[2] - bounds[0], bounds[3] - bounds[1])"
   ]
  },
  {
   "cell_type": "markdown",
   "metadata": {},
   "source": [
    "## Download"
   ]
  },
  {
   "cell_type": "markdown",
   "metadata": {},
   "source": [
    "returned raw data has `dim(nband, ncol, nrow)`"
   ]
  },
  {
   "cell_type": "code",
   "execution_count": 6,
   "metadata": {},
   "outputs": [],
   "source": [
    "startdate = \"1980-1-1\"\n",
    "enddate = \"1981-1-1\""
   ]
  },
  {
   "cell_type": "code",
   "execution_count": 7,
   "metadata": {
    "scrolled": true
   },
   "outputs": [
    {
     "name": "stderr",
     "output_type": "stream",
     "text": [
      "2022-12-13 17:22:35,563 - root - INFO: Collecting DayMet file to tile bounds: [-83.4889, 35.017, -83.4109, 35.0842]\n",
      "2022-12-13 17:22:35,565 - root - INFO:   Using existing: /Users/uec/code/watershed_workflow/data-library/meteorology/daymet/daymet_tmin_1980_35.0842x-83.4889_35.0170x-83.4109.nc\n",
      "2022-12-13 17:22:35,566 - root - INFO: Collecting DayMet file to tile bounds: [-83.4889, 35.017, -83.4109, 35.0842]\n",
      "2022-12-13 17:22:35,567 - root - INFO:   Using existing: /Users/uec/code/watershed_workflow/data-library/meteorology/daymet/daymet_tmax_1980_35.0842x-83.4889_35.0170x-83.4109.nc\n",
      "2022-12-13 17:22:35,568 - root - INFO: Collecting DayMet file to tile bounds: [-83.4889, 35.017, -83.4109, 35.0842]\n",
      "2022-12-13 17:22:35,570 - root - INFO:   Using existing: /Users/uec/code/watershed_workflow/data-library/meteorology/daymet/daymet_prcp_1980_35.0842x-83.4889_35.0170x-83.4109.nc\n",
      "2022-12-13 17:22:35,571 - root - INFO: Collecting DayMet file to tile bounds: [-83.4889, 35.017, -83.4109, 35.0842]\n",
      "2022-12-13 17:22:35,573 - root - INFO:   Using existing: /Users/uec/code/watershed_workflow/data-library/meteorology/daymet/daymet_srad_1980_35.0842x-83.4889_35.0170x-83.4109.nc\n",
      "2022-12-13 17:22:35,574 - root - INFO: Collecting DayMet file to tile bounds: [-83.4889, 35.017, -83.4109, 35.0842]\n",
      "2022-12-13 17:22:35,576 - root - INFO:   Using existing: /Users/uec/code/watershed_workflow/data-library/meteorology/daymet/daymet_vp_1980_35.0842x-83.4889_35.0170x-83.4109.nc\n",
      "2022-12-13 17:22:35,577 - root - INFO: Collecting DayMet file to tile bounds: [-83.4889, 35.017, -83.4109, 35.0842]\n",
      "2022-12-13 17:22:35,578 - root - INFO:   Using existing: /Users/uec/code/watershed_workflow/data-library/meteorology/daymet/daymet_dayl_1980_35.0842x-83.4889_35.0170x-83.4109.nc\n"
     ]
    }
   ],
   "source": [
    "# setting vars = None to download all available variables\n",
    "source = watershed_workflow.sources.manager_daymet.FileManagerDaymet()\n",
    "data = source.get_data(bounds, crs, startdate, enddate)"
   ]
  },
  {
   "cell_type": "markdown",
   "metadata": {},
   "source": [
    "## Reproject Daymet CRS\n",
    "\n",
    "Reproject daymet CRS to the same as the watershed. This is necessary if watershed meshes are using watershed CRS."
   ]
  },
  {
   "cell_type": "code",
   "execution_count": 8,
   "metadata": {},
   "outputs": [],
   "source": [
    "data_new = watershed_workflow.warp.state(data, dst_crs=crs)"
   ]
  },
  {
   "cell_type": "markdown",
   "metadata": {},
   "source": [
    "## plot Daymet"
   ]
  },
  {
   "cell_type": "code",
   "execution_count": 9,
   "metadata": {},
   "outputs": [
    {
     "name": "stderr",
     "output_type": "stream",
     "text": [
      "/Users/Shared/ornldev/code/miniconda3/envs/watershed_workflow_DEV-2022-08-29-lai/lib/python3.10/site-packages/pyproj/crs/crs.py:1282: UserWarning: You will likely lose important projection information when converting to a PROJ string from another format. See: https://proj.org/faq.html#what-is-the-best-format-for-describing-coordinate-reference-systems\n",
      "  proj = self._crs.to_proj4(version=version)\n",
      "2022-12-13 17:22:36,092 - root - INFO: BOUNDS: (1440750.0, -652000.0, 1448750.0, -643000.0)\n",
      "2022-12-13 17:22:36,103 - root - INFO: BOUNDS: (271527.7143081544, 3875905.0810883655, 281752.1159530128, 3887058.9737918475)\n"
     ]
    },
    {
     "data": {
      "text/plain": [
       "Text(0.5, 1.0, 'Reprojected Daymet')"
      ]
     },
     "execution_count": 9,
     "metadata": {},
     "output_type": "execute_result"
    },
    {
     "data": {
      "image/png": "[encoded data removed]",
      "text/plain": [
       "<Figure size 960x720 with 2 Axes>"
      ]
     },
     "metadata": {},
     "output_type": "display_data"
    }
   ],
   "source": [
    "ivar = 'tmax'\n",
    "islice = 100\n",
    "daymet_crs = watershed_workflow.crs.daymet_crs()\n",
    "\n",
    "fig = plt.figure()\n",
    "ax1 = watershed_workflow.plot.get_ax(daymet_crs, fig, 1, 2, 1)\n",
    "ax2 = watershed_workflow.plot.get_ax(crs, fig, 1, 2, 2)\n",
    "\n",
    "watershed_ext_daymet = watershed_workflow.warp.shply(watershed.exterior(),\n",
    "                                                     crs, daymet_crs)\n",
    "watershed_workflow.plot.raster(data[ivar].profile, data[ivar].data[islice,:,:], ax1)\n",
    "watershed_workflow.plot.shply(watershed_ext_daymet, daymet_crs, ax=ax1, color='r')\n",
    "\n",
    "watershed_workflow.plot.raster(data_new[ivar].profile, data_new[ivar].data[islice,:,:], ax2)\n",
    "watershed_workflow.plot.hucs(watershed, crs, ax=ax2, color='r')\n",
    "\n",
    "ax1.set_title(\"Raw Daymet\")\n",
    "ax2.set_title(\"Reprojected Daymet\")\n",
    "\n"
   ]
  },
  {
   "cell_type": "markdown",
   "metadata": {},
   "source": [
    "# save daymet"
   ]
  },
  {
   "cell_type": "markdown",
   "metadata": {},
   "source": [
    "## Write to HDF5\n",
    "\n",
    "Write raw daymet data to a single HDF5 file."
   ]
  },
  {
   "cell_type": "code",
   "execution_count": 10,
   "metadata": {},
   "outputs": [
    {
     "name": "stderr",
     "output_type": "stream",
     "text": [
      "2022-12-13 17:22:36,318 - root - INFO: Writing HDF5 file: Coweeta/output_data/watershed_daymet-raw.h5\n"
     ]
    }
   ],
   "source": [
    "assert(len(data_new.collections) == 1)\n",
    "met_data = data_new.collections[0]\n",
    "\n",
    "filename = os.path.join('Coweeta','output_data', 'watershed_daymet-raw.h5')\n",
    "watershed_workflow.io.write_dataset_to_hdf5(\n",
    "    filename,\n",
    "    met_data, \n",
    "    watershed_workflow.daymet.getAttributes(bounds, startdate, enddate))"
   ]
  },
  {
   "cell_type": "markdown",
   "metadata": {},
   "source": [
    "## Write to ATS format\n",
    "\n",
    "This will write daymet in a format that ATS can read. E.g., this will partition precipitation into rain and snow, convert vapor pressure to relative humidity, get mean air temperature and so on.\n",
    "\n",
    "- dout has dims of `(ntime, nrow, ncol)` or `(ntime, ny, nx)`"
   ]
  },
  {
   "cell_type": "code",
   "execution_count": 11,
   "metadata": {},
   "outputs": [
    {
     "name": "stderr",
     "output_type": "stream",
     "text": [
      "2022-12-13 17:22:37,011 - root - INFO: Converting to ATS met input\n",
      "2022-12-13 17:22:37,014 - root - INFO: Writing HDF5 file: Coweeta/output_data/watershed_daymet-ats.h5\n"
     ]
    }
   ],
   "source": [
    "met_data_ats = watershed_workflow.daymet.daymet_to_daily_averages(met_data)\n",
    "\n",
    "filename = os.path.join('Coweeta', 'output_data', 'watershed_daymet-ats.h5')\n",
    "watershed_workflow.io.write_dataset_to_hdf5(\n",
    "    filename,\n",
    "    met_data_ats,\n",
    "    watershed_workflow.daymet.getAttributes(bounds, startdate, enddate))\n",
    "    "
   ]
  },
  {
   "cell_type": "code",
   "execution_count": null,
   "metadata": {},
   "outputs": [],
   "source": []
  }
 ],
 "metadata": {
  "kernelspec": {
   "display_name": "Python [conda env:watershed_workflow_DEV-2022-08-29-lai]",
   "language": "python",
   "name": "conda-env-watershed_workflow_DEV-2022-08-29-lai-py"
  },
  "language_info": {
   "codemirror_mode": {
    "name": "ipython",
    "version": 3
   },
   "file_extension": ".py",
   "mimetype": "text/x-python",
   "name": "python",
   "nbconvert_exporter": "python",
   "pygments_lexer": "ipython3",
   "version": "3.10.6"
  },
  "toc-autonumbering": true
 },
 "nbformat": 4,
 "nbformat_minor": 4
}
